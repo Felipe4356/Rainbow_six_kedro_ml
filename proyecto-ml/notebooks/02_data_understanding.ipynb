{
 "cells": [
  {
   "cell_type": "code",
   "execution_count": 14,
   "id": "0a12859b",
   "metadata": {},
   "outputs": [],
   "source": [
    "#librerias\n",
    "import pandas as pd"
   ]
  },
  {
   "cell_type": "code",
   "execution_count": 1,
   "id": "f077d6e1",
   "metadata": {},
   "outputs": [
    {
     "data": {
      "text/html": [
       "<pre style=\"white-space:pre;overflow-x:auto;line-height:normal;font-family:Menlo,'DejaVu Sans Mono',consolas,'Courier New',monospace\"><span style=\"color: #7fbfbf; text-decoration-color: #7fbfbf\">[09/01/25 18:19:34] </span><span style=\"color: #000080; text-decoration-color: #000080\">INFO    </span> Using                                                                  <a href=\"file://c:\\Users\\droid\\Desktop\\Rainbow_six_kedro\\venv\\Lib\\site-packages\\kedro\\framework\\project\\__init__.py\" target=\"_blank\"><span style=\"color: #7f7f7f; text-decoration-color: #7f7f7f\">__init__.py</span></a><span style=\"color: #7f7f7f; text-decoration-color: #7f7f7f\">:</span><a href=\"file://c:\\Users\\droid\\Desktop\\Rainbow_six_kedro\\venv\\Lib\\site-packages\\kedro\\framework\\project\\__init__.py#270\" target=\"_blank\"><span style=\"color: #7f7f7f; text-decoration-color: #7f7f7f\">270</span></a>\n",
       "<span style=\"color: #7fbfbf; text-decoration-color: #7fbfbf\">                    </span>         <span style=\"color: #008000; text-decoration-color: #008000\">'c:\\Users\\droid\\Desktop\\Rainbow_six_kedro\\venv\\Lib\\site-packages\\kedro</span> <span style=\"color: #7f7f7f; text-decoration-color: #7f7f7f\">               </span>\n",
       "<span style=\"color: #7fbfbf; text-decoration-color: #7fbfbf\">                    </span>         <span style=\"color: #008000; text-decoration-color: #008000\">\\framework\\project\\rich_logging.yml'</span> as logging configuration.         <span style=\"color: #7f7f7f; text-decoration-color: #7f7f7f\">               </span>\n",
       "</pre>\n"
      ],
      "text/plain": [
       "\u001b[2;36m[09/01/25 18:19:34]\u001b[0m\u001b[2;36m \u001b[0m\u001b[34mINFO    \u001b[0m Using                                                                  \u001b]8;id=97716;file://c:\\Users\\droid\\Desktop\\Rainbow_six_kedro\\venv\\Lib\\site-packages\\kedro\\framework\\project\\__init__.py\u001b\\\u001b[2m__init__.py\u001b[0m\u001b]8;;\u001b\\\u001b[2m:\u001b[0m\u001b]8;id=190641;file://c:\\Users\\droid\\Desktop\\Rainbow_six_kedro\\venv\\Lib\\site-packages\\kedro\\framework\\project\\__init__.py#270\u001b\\\u001b[2m270\u001b[0m\u001b]8;;\u001b\\\n",
       "\u001b[2;36m                    \u001b[0m         \u001b[32m'c:\\Users\\droid\\Desktop\\Rainbow_six_kedro\\venv\\Lib\\site-packages\\kedro\u001b[0m \u001b[2m               \u001b[0m\n",
       "\u001b[2;36m                    \u001b[0m         \u001b[32m\\framework\\project\\rich_logging.yml'\u001b[0m as logging configuration.         \u001b[2m               \u001b[0m\n"
      ]
     },
     "metadata": {},
     "output_type": "display_data"
    },
    {
     "data": {
      "text/html": [
       "<pre style=\"white-space:pre;overflow-x:auto;line-height:normal;font-family:Menlo,'DejaVu Sans Mono',consolas,'Courier New',monospace\"><span style=\"color: #7fbfbf; text-decoration-color: #7fbfbf\">[09/01/25 18:19:35] </span><span style=\"color: #000080; text-decoration-color: #000080\">INFO    </span> Registered line magic <span style=\"color: #008000; text-decoration-color: #008000\">'%reload_kedro'</span>                                   <a href=\"file://c:\\Users\\droid\\Desktop\\Rainbow_six_kedro\\venv\\Lib\\site-packages\\kedro\\ipython\\__init__.py\" target=\"_blank\"><span style=\"color: #7f7f7f; text-decoration-color: #7f7f7f\">__init__.py</span></a><span style=\"color: #7f7f7f; text-decoration-color: #7f7f7f\">:</span><a href=\"file://c:\\Users\\droid\\Desktop\\Rainbow_six_kedro\\venv\\Lib\\site-packages\\kedro\\ipython\\__init__.py#63\" target=\"_blank\"><span style=\"color: #7f7f7f; text-decoration-color: #7f7f7f\">63</span></a>\n",
       "</pre>\n"
      ],
      "text/plain": [
       "\u001b[2;36m[09/01/25 18:19:35]\u001b[0m\u001b[2;36m \u001b[0m\u001b[34mINFO    \u001b[0m Registered line magic \u001b[32m'%reload_kedro'\u001b[0m                                   \u001b]8;id=399414;file://c:\\Users\\droid\\Desktop\\Rainbow_six_kedro\\venv\\Lib\\site-packages\\kedro\\ipython\\__init__.py\u001b\\\u001b[2m__init__.py\u001b[0m\u001b]8;;\u001b\\\u001b[2m:\u001b[0m\u001b]8;id=280168;file://c:\\Users\\droid\\Desktop\\Rainbow_six_kedro\\venv\\Lib\\site-packages\\kedro\\ipython\\__init__.py#63\u001b\\\u001b[2m63\u001b[0m\u001b]8;;\u001b\\\n"
      ]
     },
     "metadata": {},
     "output_type": "display_data"
    },
    {
     "data": {
      "text/html": [
       "<pre style=\"white-space:pre;overflow-x:auto;line-height:normal;font-family:Menlo,'DejaVu Sans Mono',consolas,'Courier New',monospace\"><span style=\"color: #7fbfbf; text-decoration-color: #7fbfbf\">                    </span><span style=\"color: #000080; text-decoration-color: #000080\">INFO    </span> Registered line magic <span style=\"color: #008000; text-decoration-color: #008000\">'%load_node'</span>                                      <a href=\"file://c:\\Users\\droid\\Desktop\\Rainbow_six_kedro\\venv\\Lib\\site-packages\\kedro\\ipython\\__init__.py\" target=\"_blank\"><span style=\"color: #7f7f7f; text-decoration-color: #7f7f7f\">__init__.py</span></a><span style=\"color: #7f7f7f; text-decoration-color: #7f7f7f\">:</span><a href=\"file://c:\\Users\\droid\\Desktop\\Rainbow_six_kedro\\venv\\Lib\\site-packages\\kedro\\ipython\\__init__.py#65\" target=\"_blank\"><span style=\"color: #7f7f7f; text-decoration-color: #7f7f7f\">65</span></a>\n",
       "</pre>\n"
      ],
      "text/plain": [
       "\u001b[2;36m                   \u001b[0m\u001b[2;36m \u001b[0m\u001b[34mINFO    \u001b[0m Registered line magic \u001b[32m'%load_node'\u001b[0m                                      \u001b]8;id=358114;file://c:\\Users\\droid\\Desktop\\Rainbow_six_kedro\\venv\\Lib\\site-packages\\kedro\\ipython\\__init__.py\u001b\\\u001b[2m__init__.py\u001b[0m\u001b]8;;\u001b\\\u001b[2m:\u001b[0m\u001b]8;id=698717;file://c:\\Users\\droid\\Desktop\\Rainbow_six_kedro\\venv\\Lib\\site-packages\\kedro\\ipython\\__init__.py#65\u001b\\\u001b[2m65\u001b[0m\u001b]8;;\u001b\\\n"
      ]
     },
     "metadata": {},
     "output_type": "display_data"
    },
    {
     "data": {
      "text/html": [
       "<pre style=\"white-space:pre;overflow-x:auto;line-height:normal;font-family:Menlo,'DejaVu Sans Mono',consolas,'Courier New',monospace\"><span style=\"color: #7fbfbf; text-decoration-color: #7fbfbf\">                    </span><span style=\"color: #000080; text-decoration-color: #000080\">INFO    </span> Resolved project path as:                                              <a href=\"file://c:\\Users\\droid\\Desktop\\Rainbow_six_kedro\\venv\\Lib\\site-packages\\kedro\\ipython\\__init__.py\" target=\"_blank\"><span style=\"color: #7f7f7f; text-decoration-color: #7f7f7f\">__init__.py</span></a><span style=\"color: #7f7f7f; text-decoration-color: #7f7f7f\">:</span><a href=\"file://c:\\Users\\droid\\Desktop\\Rainbow_six_kedro\\venv\\Lib\\site-packages\\kedro\\ipython\\__init__.py#180\" target=\"_blank\"><span style=\"color: #7f7f7f; text-decoration-color: #7f7f7f\">180</span></a>\n",
       "<span style=\"color: #7fbfbf; text-decoration-color: #7fbfbf\">                    </span>         c:\\Users\\droid\\Desktop\\Rainbow_six_kedro\\proyecto-ml.                  <span style=\"color: #7f7f7f; text-decoration-color: #7f7f7f\">               </span>\n",
       "<span style=\"color: #7fbfbf; text-decoration-color: #7fbfbf\">                    </span>         To set a different path, run <span style=\"color: #008000; text-decoration-color: #008000\">'%reload_kedro &lt;project_root&gt;'</span>            <span style=\"color: #7f7f7f; text-decoration-color: #7f7f7f\">               </span>\n",
       "</pre>\n"
      ],
      "text/plain": [
       "\u001b[2;36m                   \u001b[0m\u001b[2;36m \u001b[0m\u001b[34mINFO    \u001b[0m Resolved project path as:                                              \u001b]8;id=849188;file://c:\\Users\\droid\\Desktop\\Rainbow_six_kedro\\venv\\Lib\\site-packages\\kedro\\ipython\\__init__.py\u001b\\\u001b[2m__init__.py\u001b[0m\u001b]8;;\u001b\\\u001b[2m:\u001b[0m\u001b]8;id=856739;file://c:\\Users\\droid\\Desktop\\Rainbow_six_kedro\\venv\\Lib\\site-packages\\kedro\\ipython\\__init__.py#180\u001b\\\u001b[2m180\u001b[0m\u001b]8;;\u001b\\\n",
       "\u001b[2;36m                    \u001b[0m         c:\\Users\\droid\\Desktop\\Rainbow_six_kedro\\proyecto-ml.                  \u001b[2m               \u001b[0m\n",
       "\u001b[2;36m                    \u001b[0m         To set a different path, run \u001b[32m'%reload_kedro \u001b[0m\u001b[32m<\u001b[0m\u001b[32mproject_root\u001b[0m\u001b[32m>\u001b[0m\u001b[32m'\u001b[0m            \u001b[2m               \u001b[0m\n"
      ]
     },
     "metadata": {},
     "output_type": "display_data"
    },
    {
     "data": {
      "text/html": [
       "<pre style=\"white-space:pre;overflow-x:auto;line-height:normal;font-family:Menlo,'DejaVu Sans Mono',consolas,'Courier New',monospace\"><span style=\"color: #7fbfbf; text-decoration-color: #7fbfbf\">[09/01/25 18:19:44] </span><span style=\"color: #000080; text-decoration-color: #000080\">INFO    </span> Kedro is sending anonymous usage data with the sole purpose of improving <a href=\"file://c:\\Users\\droid\\Desktop\\Rainbow_six_kedro\\venv\\Lib\\site-packages\\kedro_telemetry\\plugin.py\" target=\"_blank\"><span style=\"color: #7f7f7f; text-decoration-color: #7f7f7f\">plugin.py</span></a><span style=\"color: #7f7f7f; text-decoration-color: #7f7f7f\">:</span><a href=\"file://c:\\Users\\droid\\Desktop\\Rainbow_six_kedro\\venv\\Lib\\site-packages\\kedro_telemetry\\plugin.py#243\" target=\"_blank\"><span style=\"color: #7f7f7f; text-decoration-color: #7f7f7f\">243</span></a>\n",
       "<span style=\"color: #7fbfbf; text-decoration-color: #7fbfbf\">                    </span>         the product. No personal data or IP addresses are stored on our side. To <span style=\"color: #7f7f7f; text-decoration-color: #7f7f7f\">             </span>\n",
       "<span style=\"color: #7fbfbf; text-decoration-color: #7fbfbf\">                    </span>         opt out, set the `KEDRO_DISABLE_TELEMETRY` or `DO_NOT_TRACK` environment <span style=\"color: #7f7f7f; text-decoration-color: #7f7f7f\">             </span>\n",
       "<span style=\"color: #7fbfbf; text-decoration-color: #7fbfbf\">                    </span>         variables, or create a `.telemetry` file in the current working          <span style=\"color: #7f7f7f; text-decoration-color: #7f7f7f\">             </span>\n",
       "<span style=\"color: #7fbfbf; text-decoration-color: #7fbfbf\">                    </span>         directory with the contents `consent: false`. To hide this message,      <span style=\"color: #7f7f7f; text-decoration-color: #7f7f7f\">             </span>\n",
       "<span style=\"color: #7fbfbf; text-decoration-color: #7fbfbf\">                    </span>         explicitly grant or deny consent. Read more at                           <span style=\"color: #7f7f7f; text-decoration-color: #7f7f7f\">             </span>\n",
       "<span style=\"color: #7fbfbf; text-decoration-color: #7fbfbf\">                    </span>         <span style=\"color: #0000ff; text-decoration-color: #0000ff; text-decoration: underline\">https://docs.kedro.org/en/stable/configuration/telemetry.html</span>            <span style=\"color: #7f7f7f; text-decoration-color: #7f7f7f\">             </span>\n",
       "</pre>\n"
      ],
      "text/plain": [
       "\u001b[2;36m[09/01/25 18:19:44]\u001b[0m\u001b[2;36m \u001b[0m\u001b[34mINFO    \u001b[0m Kedro is sending anonymous usage data with the sole purpose of improving \u001b]8;id=26887;file://c:\\Users\\droid\\Desktop\\Rainbow_six_kedro\\venv\\Lib\\site-packages\\kedro_telemetry\\plugin.py\u001b\\\u001b[2mplugin.py\u001b[0m\u001b]8;;\u001b\\\u001b[2m:\u001b[0m\u001b]8;id=969878;file://c:\\Users\\droid\\Desktop\\Rainbow_six_kedro\\venv\\Lib\\site-packages\\kedro_telemetry\\plugin.py#243\u001b\\\u001b[2m243\u001b[0m\u001b]8;;\u001b\\\n",
       "\u001b[2;36m                    \u001b[0m         the product. No personal data or IP addresses are stored on our side. To \u001b[2m             \u001b[0m\n",
       "\u001b[2;36m                    \u001b[0m         opt out, set the `KEDRO_DISABLE_TELEMETRY` or `DO_NOT_TRACK` environment \u001b[2m             \u001b[0m\n",
       "\u001b[2;36m                    \u001b[0m         variables, or create a `.telemetry` file in the current working          \u001b[2m             \u001b[0m\n",
       "\u001b[2;36m                    \u001b[0m         directory with the contents `consent: false`. To hide this message,      \u001b[2m             \u001b[0m\n",
       "\u001b[2;36m                    \u001b[0m         explicitly grant or deny consent. Read more at                           \u001b[2m             \u001b[0m\n",
       "\u001b[2;36m                    \u001b[0m         \u001b[4;94mhttps://docs.kedro.org/en/stable/configuration/telemetry.html\u001b[0m            \u001b[2m             \u001b[0m\n"
      ]
     },
     "metadata": {},
     "output_type": "display_data"
    },
    {
     "data": {
      "text/html": [
       "<pre style=\"white-space:pre;overflow-x:auto;line-height:normal;font-family:Menlo,'DejaVu Sans Mono',consolas,'Courier New',monospace\"><span style=\"color: #7fbfbf; text-decoration-color: #7fbfbf\">[09/01/25 18:19:45] </span><span style=\"color: #000080; text-decoration-color: #000080\">INFO    </span> Kedro project proteyecto-ml                                            <a href=\"file://c:\\Users\\droid\\Desktop\\Rainbow_six_kedro\\venv\\Lib\\site-packages\\kedro\\ipython\\__init__.py\" target=\"_blank\"><span style=\"color: #7f7f7f; text-decoration-color: #7f7f7f\">__init__.py</span></a><span style=\"color: #7f7f7f; text-decoration-color: #7f7f7f\">:</span><a href=\"file://c:\\Users\\droid\\Desktop\\Rainbow_six_kedro\\venv\\Lib\\site-packages\\kedro\\ipython\\__init__.py#146\" target=\"_blank\"><span style=\"color: #7f7f7f; text-decoration-color: #7f7f7f\">146</span></a>\n",
       "</pre>\n"
      ],
      "text/plain": [
       "\u001b[2;36m[09/01/25 18:19:45]\u001b[0m\u001b[2;36m \u001b[0m\u001b[34mINFO    \u001b[0m Kedro project proteyecto-ml                                            \u001b]8;id=182210;file://c:\\Users\\droid\\Desktop\\Rainbow_six_kedro\\venv\\Lib\\site-packages\\kedro\\ipython\\__init__.py\u001b\\\u001b[2m__init__.py\u001b[0m\u001b]8;;\u001b\\\u001b[2m:\u001b[0m\u001b]8;id=137075;file://c:\\Users\\droid\\Desktop\\Rainbow_six_kedro\\venv\\Lib\\site-packages\\kedro\\ipython\\__init__.py#146\u001b\\\u001b[2m146\u001b[0m\u001b]8;;\u001b\\\n"
      ]
     },
     "metadata": {},
     "output_type": "display_data"
    },
    {
     "data": {
      "text/html": [
       "<pre style=\"white-space:pre;overflow-x:auto;line-height:normal;font-family:Menlo,'DejaVu Sans Mono',consolas,'Courier New',monospace\"><span style=\"color: #7fbfbf; text-decoration-color: #7fbfbf\">                    </span><span style=\"color: #000080; text-decoration-color: #000080\">INFO    </span> Defined global variable <span style=\"color: #008000; text-decoration-color: #008000\">'context'</span>, <span style=\"color: #008000; text-decoration-color: #008000\">'session'</span>, <span style=\"color: #008000; text-decoration-color: #008000\">'catalog'</span> and            <a href=\"file://c:\\Users\\droid\\Desktop\\Rainbow_six_kedro\\venv\\Lib\\site-packages\\kedro\\ipython\\__init__.py\" target=\"_blank\"><span style=\"color: #7f7f7f; text-decoration-color: #7f7f7f\">__init__.py</span></a><span style=\"color: #7f7f7f; text-decoration-color: #7f7f7f\">:</span><a href=\"file://c:\\Users\\droid\\Desktop\\Rainbow_six_kedro\\venv\\Lib\\site-packages\\kedro\\ipython\\__init__.py#147\" target=\"_blank\"><span style=\"color: #7f7f7f; text-decoration-color: #7f7f7f\">147</span></a>\n",
       "<span style=\"color: #7fbfbf; text-decoration-color: #7fbfbf\">                    </span>         <span style=\"color: #008000; text-decoration-color: #008000\">'pipelines'</span>                                                            <span style=\"color: #7f7f7f; text-decoration-color: #7f7f7f\">               </span>\n",
       "</pre>\n"
      ],
      "text/plain": [
       "\u001b[2;36m                   \u001b[0m\u001b[2;36m \u001b[0m\u001b[34mINFO    \u001b[0m Defined global variable \u001b[32m'context'\u001b[0m, \u001b[32m'session'\u001b[0m, \u001b[32m'catalog'\u001b[0m and            \u001b]8;id=815057;file://c:\\Users\\droid\\Desktop\\Rainbow_six_kedro\\venv\\Lib\\site-packages\\kedro\\ipython\\__init__.py\u001b\\\u001b[2m__init__.py\u001b[0m\u001b]8;;\u001b\\\u001b[2m:\u001b[0m\u001b]8;id=830844;file://c:\\Users\\droid\\Desktop\\Rainbow_six_kedro\\venv\\Lib\\site-packages\\kedro\\ipython\\__init__.py#147\u001b\\\u001b[2m147\u001b[0m\u001b]8;;\u001b\\\n",
       "\u001b[2;36m                    \u001b[0m         \u001b[32m'pipelines'\u001b[0m                                                            \u001b[2m               \u001b[0m\n"
      ]
     },
     "metadata": {},
     "output_type": "display_data"
    },
    {
     "data": {
      "text/html": [
       "<pre style=\"white-space:pre;overflow-x:auto;line-height:normal;font-family:Menlo,'DejaVu Sans Mono',consolas,'Courier New',monospace\"><span style=\"color: #7fbfbf; text-decoration-color: #7fbfbf\">[09/01/25 18:19:48] </span><span style=\"color: #000080; text-decoration-color: #000080\">INFO    </span> Registered line magic <span style=\"color: #008000; text-decoration-color: #008000\">'run_viz'</span>                                        <a href=\"file://c:\\Users\\droid\\Desktop\\Rainbow_six_kedro\\venv\\Lib\\site-packages\\kedro\\ipython\\__init__.py\" target=\"_blank\"><span style=\"color: #7f7f7f; text-decoration-color: #7f7f7f\">__init__.py</span></a><span style=\"color: #7f7f7f; text-decoration-color: #7f7f7f\">:</span><a href=\"file://c:\\Users\\droid\\Desktop\\Rainbow_six_kedro\\venv\\Lib\\site-packages\\kedro\\ipython\\__init__.py#153\" target=\"_blank\"><span style=\"color: #7f7f7f; text-decoration-color: #7f7f7f\">153</span></a>\n",
       "</pre>\n"
      ],
      "text/plain": [
       "\u001b[2;36m[09/01/25 18:19:48]\u001b[0m\u001b[2;36m \u001b[0m\u001b[34mINFO    \u001b[0m Registered line magic \u001b[32m'run_viz'\u001b[0m                                        \u001b]8;id=788273;file://c:\\Users\\droid\\Desktop\\Rainbow_six_kedro\\venv\\Lib\\site-packages\\kedro\\ipython\\__init__.py\u001b\\\u001b[2m__init__.py\u001b[0m\u001b]8;;\u001b\\\u001b[2m:\u001b[0m\u001b]8;id=661145;file://c:\\Users\\droid\\Desktop\\Rainbow_six_kedro\\venv\\Lib\\site-packages\\kedro\\ipython\\__init__.py#153\u001b\\\u001b[2m153\u001b[0m\u001b]8;;\u001b\\\n"
      ]
     },
     "metadata": {},
     "output_type": "display_data"
    },
    {
     "data": {
      "text/html": [
       "<pre style=\"white-space:pre;overflow-x:auto;line-height:normal;font-family:Menlo,'DejaVu Sans Mono',consolas,'Courier New',monospace\"><span style=\"color: #7fbfbf; text-decoration-color: #7fbfbf\">                    </span><span style=\"color: #000080; text-decoration-color: #000080\">INFO    </span> Kedro is sending anonymous usage data with the sole purpose of improving <a href=\"file://c:\\Users\\droid\\Desktop\\Rainbow_six_kedro\\venv\\Lib\\site-packages\\kedro_telemetry\\plugin.py\" target=\"_blank\"><span style=\"color: #7f7f7f; text-decoration-color: #7f7f7f\">plugin.py</span></a><span style=\"color: #7f7f7f; text-decoration-color: #7f7f7f\">:</span><a href=\"file://c:\\Users\\droid\\Desktop\\Rainbow_six_kedro\\venv\\Lib\\site-packages\\kedro_telemetry\\plugin.py#243\" target=\"_blank\"><span style=\"color: #7f7f7f; text-decoration-color: #7f7f7f\">243</span></a>\n",
       "<span style=\"color: #7fbfbf; text-decoration-color: #7fbfbf\">                    </span>         the product. No personal data or IP addresses are stored on our side. To <span style=\"color: #7f7f7f; text-decoration-color: #7f7f7f\">             </span>\n",
       "<span style=\"color: #7fbfbf; text-decoration-color: #7fbfbf\">                    </span>         opt out, set the `KEDRO_DISABLE_TELEMETRY` or `DO_NOT_TRACK` environment <span style=\"color: #7f7f7f; text-decoration-color: #7f7f7f\">             </span>\n",
       "<span style=\"color: #7fbfbf; text-decoration-color: #7fbfbf\">                    </span>         variables, or create a `.telemetry` file in the current working          <span style=\"color: #7f7f7f; text-decoration-color: #7f7f7f\">             </span>\n",
       "<span style=\"color: #7fbfbf; text-decoration-color: #7fbfbf\">                    </span>         directory with the contents `consent: false`. To hide this message,      <span style=\"color: #7f7f7f; text-decoration-color: #7f7f7f\">             </span>\n",
       "<span style=\"color: #7fbfbf; text-decoration-color: #7fbfbf\">                    </span>         explicitly grant or deny consent. Read more at                           <span style=\"color: #7f7f7f; text-decoration-color: #7f7f7f\">             </span>\n",
       "<span style=\"color: #7fbfbf; text-decoration-color: #7fbfbf\">                    </span>         <span style=\"color: #0000ff; text-decoration-color: #0000ff; text-decoration: underline\">https://docs.kedro.org/en/stable/configuration/telemetry.html</span>            <span style=\"color: #7f7f7f; text-decoration-color: #7f7f7f\">             </span>\n",
       "</pre>\n"
      ],
      "text/plain": [
       "\u001b[2;36m                   \u001b[0m\u001b[2;36m \u001b[0m\u001b[34mINFO    \u001b[0m Kedro is sending anonymous usage data with the sole purpose of improving \u001b]8;id=674545;file://c:\\Users\\droid\\Desktop\\Rainbow_six_kedro\\venv\\Lib\\site-packages\\kedro_telemetry\\plugin.py\u001b\\\u001b[2mplugin.py\u001b[0m\u001b]8;;\u001b\\\u001b[2m:\u001b[0m\u001b]8;id=752293;file://c:\\Users\\droid\\Desktop\\Rainbow_six_kedro\\venv\\Lib\\site-packages\\kedro_telemetry\\plugin.py#243\u001b\\\u001b[2m243\u001b[0m\u001b]8;;\u001b\\\n",
       "\u001b[2;36m                    \u001b[0m         the product. No personal data or IP addresses are stored on our side. To \u001b[2m             \u001b[0m\n",
       "\u001b[2;36m                    \u001b[0m         opt out, set the `KEDRO_DISABLE_TELEMETRY` or `DO_NOT_TRACK` environment \u001b[2m             \u001b[0m\n",
       "\u001b[2;36m                    \u001b[0m         variables, or create a `.telemetry` file in the current working          \u001b[2m             \u001b[0m\n",
       "\u001b[2;36m                    \u001b[0m         directory with the contents `consent: false`. To hide this message,      \u001b[2m             \u001b[0m\n",
       "\u001b[2;36m                    \u001b[0m         explicitly grant or deny consent. Read more at                           \u001b[2m             \u001b[0m\n",
       "\u001b[2;36m                    \u001b[0m         \u001b[4;94mhttps://docs.kedro.org/en/stable/configuration/telemetry.html\u001b[0m            \u001b[2m             \u001b[0m\n"
      ]
     },
     "metadata": {},
     "output_type": "display_data"
    }
   ],
   "source": [
    "%load_ext kedro.ipython\n",
    "context\n",
    "catalog = context.catalog"
   ]
  },
  {
   "cell_type": "markdown",
   "id": "09c043b5",
   "metadata": {},
   "source": [
    "* cargar dataset"
   ]
  },
  {
   "cell_type": "code",
   "execution_count": 61,
   "id": "fb8d66aa",
   "metadata": {},
   "outputs": [
    {
     "data": {
      "text/html": [
       "<pre style=\"white-space:pre;overflow-x:auto;line-height:normal;font-family:Menlo,'DejaVu Sans Mono',consolas,'Courier New',monospace\"><span style=\"color: #7fbfbf; text-decoration-color: #7fbfbf\">[09/01/25 20:10:54] </span><span style=\"color: #000080; text-decoration-color: #000080\">INFO    </span> Loading data from <span style=\"color: #ff8700; text-decoration-color: #ff8700\">data_r2s-</span><span style=\"color: #008080; text-decoration-color: #008080; font-weight: bold\">0</span> <span style=\"font-weight: bold\">(</span>CSVDataset<span style=\"font-weight: bold\">)</span><span style=\"color: #808000; text-decoration-color: #808000\">...</span>                      <a href=\"file://c:\\Users\\droid\\Desktop\\Rainbow_six_kedro\\venv\\Lib\\site-packages\\kedro\\io\\data_catalog.py\" target=\"_blank\"><span style=\"color: #7f7f7f; text-decoration-color: #7f7f7f\">data_catalog.py</span></a><span style=\"color: #7f7f7f; text-decoration-color: #7f7f7f\">:</span><a href=\"file://c:\\Users\\droid\\Desktop\\Rainbow_six_kedro\\venv\\Lib\\site-packages\\kedro\\io\\data_catalog.py#1046\" target=\"_blank\"><span style=\"color: #7f7f7f; text-decoration-color: #7f7f7f\">1046</span></a>\n",
       "</pre>\n"
      ],
      "text/plain": [
       "\u001b[2;36m[09/01/25 20:10:54]\u001b[0m\u001b[2;36m \u001b[0m\u001b[34mINFO    \u001b[0m Loading data from \u001b[38;5;208mdata_r2s-\u001b[0m\u001b[1;36m0\u001b[0m \u001b[1m(\u001b[0mCSVDataset\u001b[1m)\u001b[0m\u001b[33m...\u001b[0m                      \u001b]8;id=2282;file://c:\\Users\\droid\\Desktop\\Rainbow_six_kedro\\venv\\Lib\\site-packages\\kedro\\io\\data_catalog.py\u001b\\\u001b[2mdata_catalog.py\u001b[0m\u001b]8;;\u001b\\\u001b[2m:\u001b[0m\u001b]8;id=309239;file://c:\\Users\\droid\\Desktop\\Rainbow_six_kedro\\venv\\Lib\\site-packages\\kedro\\io\\data_catalog.py#1046\u001b\\\u001b[2m1046\u001b[0m\u001b]8;;\u001b\\\n"
      ]
     },
     "metadata": {},
     "output_type": "display_data"
    },
    {
     "data": {
      "text/html": [
       "<pre style=\"white-space:pre;overflow-x:auto;line-height:normal;font-family:Menlo,'DejaVu Sans Mono',consolas,'Courier New',monospace\"><span style=\"color: #7fbfbf; text-decoration-color: #7fbfbf\">[09/01/25 20:11:10] </span><span style=\"color: #000080; text-decoration-color: #000080\">INFO    </span> Loading data from <span style=\"color: #ff8700; text-decoration-color: #ff8700\">data_r2s-</span><span style=\"color: #008080; text-decoration-color: #008080; font-weight: bold\">1</span> <span style=\"font-weight: bold\">(</span>CSVDataset<span style=\"font-weight: bold\">)</span><span style=\"color: #808000; text-decoration-color: #808000\">...</span>                      <a href=\"file://c:\\Users\\droid\\Desktop\\Rainbow_six_kedro\\venv\\Lib\\site-packages\\kedro\\io\\data_catalog.py\" target=\"_blank\"><span style=\"color: #7f7f7f; text-decoration-color: #7f7f7f\">data_catalog.py</span></a><span style=\"color: #7f7f7f; text-decoration-color: #7f7f7f\">:</span><a href=\"file://c:\\Users\\droid\\Desktop\\Rainbow_six_kedro\\venv\\Lib\\site-packages\\kedro\\io\\data_catalog.py#1046\" target=\"_blank\"><span style=\"color: #7f7f7f; text-decoration-color: #7f7f7f\">1046</span></a>\n",
       "</pre>\n"
      ],
      "text/plain": [
       "\u001b[2;36m[09/01/25 20:11:10]\u001b[0m\u001b[2;36m \u001b[0m\u001b[34mINFO    \u001b[0m Loading data from \u001b[38;5;208mdata_r2s-\u001b[0m\u001b[1;36m1\u001b[0m \u001b[1m(\u001b[0mCSVDataset\u001b[1m)\u001b[0m\u001b[33m...\u001b[0m                      \u001b]8;id=185880;file://c:\\Users\\droid\\Desktop\\Rainbow_six_kedro\\venv\\Lib\\site-packages\\kedro\\io\\data_catalog.py\u001b\\\u001b[2mdata_catalog.py\u001b[0m\u001b]8;;\u001b\\\u001b[2m:\u001b[0m\u001b]8;id=680601;file://c:\\Users\\droid\\Desktop\\Rainbow_six_kedro\\venv\\Lib\\site-packages\\kedro\\io\\data_catalog.py#1046\u001b\\\u001b[2m1046\u001b[0m\u001b]8;;\u001b\\\n"
      ]
     },
     "metadata": {},
     "output_type": "display_data"
    },
    {
     "data": {
      "text/html": [
       "<pre style=\"white-space:pre;overflow-x:auto;line-height:normal;font-family:Menlo,'DejaVu Sans Mono',consolas,'Courier New',monospace\"><span style=\"color: #7fbfbf; text-decoration-color: #7fbfbf\">[09/01/25 20:11:27] </span><span style=\"color: #000080; text-decoration-color: #000080\">INFO    </span> Loading data from <span style=\"color: #ff8700; text-decoration-color: #ff8700\">data_r2s-</span><span style=\"color: #008080; text-decoration-color: #008080; font-weight: bold\">2</span> <span style=\"font-weight: bold\">(</span>CSVDataset<span style=\"font-weight: bold\">)</span><span style=\"color: #808000; text-decoration-color: #808000\">...</span>                      <a href=\"file://c:\\Users\\droid\\Desktop\\Rainbow_six_kedro\\venv\\Lib\\site-packages\\kedro\\io\\data_catalog.py\" target=\"_blank\"><span style=\"color: #7f7f7f; text-decoration-color: #7f7f7f\">data_catalog.py</span></a><span style=\"color: #7f7f7f; text-decoration-color: #7f7f7f\">:</span><a href=\"file://c:\\Users\\droid\\Desktop\\Rainbow_six_kedro\\venv\\Lib\\site-packages\\kedro\\io\\data_catalog.py#1046\" target=\"_blank\"><span style=\"color: #7f7f7f; text-decoration-color: #7f7f7f\">1046</span></a>\n",
       "</pre>\n"
      ],
      "text/plain": [
       "\u001b[2;36m[09/01/25 20:11:27]\u001b[0m\u001b[2;36m \u001b[0m\u001b[34mINFO    \u001b[0m Loading data from \u001b[38;5;208mdata_r2s-\u001b[0m\u001b[1;36m2\u001b[0m \u001b[1m(\u001b[0mCSVDataset\u001b[1m)\u001b[0m\u001b[33m...\u001b[0m                      \u001b]8;id=773779;file://c:\\Users\\droid\\Desktop\\Rainbow_six_kedro\\venv\\Lib\\site-packages\\kedro\\io\\data_catalog.py\u001b\\\u001b[2mdata_catalog.py\u001b[0m\u001b]8;;\u001b\\\u001b[2m:\u001b[0m\u001b]8;id=537619;file://c:\\Users\\droid\\Desktop\\Rainbow_six_kedro\\venv\\Lib\\site-packages\\kedro\\io\\data_catalog.py#1046\u001b\\\u001b[2m1046\u001b[0m\u001b]8;;\u001b\\\n"
      ]
     },
     "metadata": {},
     "output_type": "display_data"
    },
    {
     "data": {
      "text/html": [
       "<pre style=\"white-space:pre;overflow-x:auto;line-height:normal;font-family:Menlo,'DejaVu Sans Mono',consolas,'Courier New',monospace\"><span style=\"color: #7fbfbf; text-decoration-color: #7fbfbf\">[09/01/25 20:11:43] </span><span style=\"color: #000080; text-decoration-color: #000080\">INFO    </span> Loading data from <span style=\"color: #ff8700; text-decoration-color: #ff8700\">data_r2s-</span><span style=\"color: #008080; text-decoration-color: #008080; font-weight: bold\">3</span> <span style=\"font-weight: bold\">(</span>CSVDataset<span style=\"font-weight: bold\">)</span><span style=\"color: #808000; text-decoration-color: #808000\">...</span>                      <a href=\"file://c:\\Users\\droid\\Desktop\\Rainbow_six_kedro\\venv\\Lib\\site-packages\\kedro\\io\\data_catalog.py\" target=\"_blank\"><span style=\"color: #7f7f7f; text-decoration-color: #7f7f7f\">data_catalog.py</span></a><span style=\"color: #7f7f7f; text-decoration-color: #7f7f7f\">:</span><a href=\"file://c:\\Users\\droid\\Desktop\\Rainbow_six_kedro\\venv\\Lib\\site-packages\\kedro\\io\\data_catalog.py#1046\" target=\"_blank\"><span style=\"color: #7f7f7f; text-decoration-color: #7f7f7f\">1046</span></a>\n",
       "</pre>\n"
      ],
      "text/plain": [
       "\u001b[2;36m[09/01/25 20:11:43]\u001b[0m\u001b[2;36m \u001b[0m\u001b[34mINFO    \u001b[0m Loading data from \u001b[38;5;208mdata_r2s-\u001b[0m\u001b[1;36m3\u001b[0m \u001b[1m(\u001b[0mCSVDataset\u001b[1m)\u001b[0m\u001b[33m...\u001b[0m                      \u001b]8;id=102781;file://c:\\Users\\droid\\Desktop\\Rainbow_six_kedro\\venv\\Lib\\site-packages\\kedro\\io\\data_catalog.py\u001b\\\u001b[2mdata_catalog.py\u001b[0m\u001b]8;;\u001b\\\u001b[2m:\u001b[0m\u001b]8;id=739935;file://c:\\Users\\droid\\Desktop\\Rainbow_six_kedro\\venv\\Lib\\site-packages\\kedro\\io\\data_catalog.py#1046\u001b\\\u001b[2m1046\u001b[0m\u001b]8;;\u001b\\\n"
      ]
     },
     "metadata": {},
     "output_type": "display_data"
    },
    {
     "data": {
      "text/html": [
       "<pre style=\"white-space:pre;overflow-x:auto;line-height:normal;font-family:Menlo,'DejaVu Sans Mono',consolas,'Courier New',monospace\"><span style=\"color: #7fbfbf; text-decoration-color: #7fbfbf\">[09/01/25 20:12:00] </span><span style=\"color: #000080; text-decoration-color: #000080\">INFO    </span> Loading data from <span style=\"color: #ff8700; text-decoration-color: #ff8700\">data_r2s-</span><span style=\"color: #008080; text-decoration-color: #008080; font-weight: bold\">4</span> <span style=\"font-weight: bold\">(</span>CSVDataset<span style=\"font-weight: bold\">)</span><span style=\"color: #808000; text-decoration-color: #808000\">...</span>                      <a href=\"file://c:\\Users\\droid\\Desktop\\Rainbow_six_kedro\\venv\\Lib\\site-packages\\kedro\\io\\data_catalog.py\" target=\"_blank\"><span style=\"color: #7f7f7f; text-decoration-color: #7f7f7f\">data_catalog.py</span></a><span style=\"color: #7f7f7f; text-decoration-color: #7f7f7f\">:</span><a href=\"file://c:\\Users\\droid\\Desktop\\Rainbow_six_kedro\\venv\\Lib\\site-packages\\kedro\\io\\data_catalog.py#1046\" target=\"_blank\"><span style=\"color: #7f7f7f; text-decoration-color: #7f7f7f\">1046</span></a>\n",
       "</pre>\n"
      ],
      "text/plain": [
       "\u001b[2;36m[09/01/25 20:12:00]\u001b[0m\u001b[2;36m \u001b[0m\u001b[34mINFO    \u001b[0m Loading data from \u001b[38;5;208mdata_r2s-\u001b[0m\u001b[1;36m4\u001b[0m \u001b[1m(\u001b[0mCSVDataset\u001b[1m)\u001b[0m\u001b[33m...\u001b[0m                      \u001b]8;id=866145;file://c:\\Users\\droid\\Desktop\\Rainbow_six_kedro\\venv\\Lib\\site-packages\\kedro\\io\\data_catalog.py\u001b\\\u001b[2mdata_catalog.py\u001b[0m\u001b]8;;\u001b\\\u001b[2m:\u001b[0m\u001b]8;id=466520;file://c:\\Users\\droid\\Desktop\\Rainbow_six_kedro\\venv\\Lib\\site-packages\\kedro\\io\\data_catalog.py#1046\u001b\\\u001b[2m1046\u001b[0m\u001b]8;;\u001b\\\n"
      ]
     },
     "metadata": {},
     "output_type": "display_data"
    }
   ],
   "source": [
    "data_r2s_0 = catalog.load('data_r2s-0')\n",
    "data_r2s_1 = catalog.load('data_r2s-1')\n",
    "data_r2s_2 = catalog.load('data_r2s-2')\n",
    "data_r2s_3 = catalog.load('data_r2s-3')\n",
    "data_r2s_4 = catalog.load('data_r2s-4') "
   ]
  },
  {
   "cell_type": "code",
   "execution_count": 47,
   "id": "fa983d6d",
   "metadata": {},
   "outputs": [
    {
     "name": "stdout",
     "output_type": "stream",
     "text": [
      "Datos combinados: (20000000, 31)\n"
     ]
    }
   ],
   "source": [
    "# Combinar los datasets en un único DataFrame\n",
    "combined_data = pd.concat([data_r2s_0, data_r2s_1, data_r2s_2, data_r2s_3, data_r2s_4], ignore_index=True)\n",
    "print(\"Datos combinados:\", combined_data.shape)"
   ]
  },
  {
   "cell_type": "code",
   "execution_count": 48,
   "id": "b58d9363",
   "metadata": {},
   "outputs": [
    {
     "name": "stdout",
     "output_type": "stream",
     "text": [
      "Cantidad de registros de datos y cantidad de columnas: (20000000, 31)\n"
     ]
    }
   ],
   "source": [
    "registros_columnas = combined_data.shape\n",
    "print(\"Cantidad de registros de datos y cantidad de columnas:\", registros_columnas)"
   ]
  },
  {
   "cell_type": "code",
   "execution_count": 49,
   "id": "b8f72b08",
   "metadata": {},
   "outputs": [
    {
     "data": {
      "text/html": [
       "<pre style=\"white-space:pre;overflow-x:auto;line-height:normal;font-family:Menlo,'DejaVu Sans Mono',consolas,'Courier New',monospace\"></pre>\n"
      ],
      "text/plain": []
     },
     "metadata": {},
     "output_type": "display_data"
    },
    {
     "data": {
      "text/plain": [
       "\n",
       "\u001b[1;35mIndex\u001b[0m\u001b[1m(\u001b[0m\u001b[1m[\u001b[0m\u001b[32m'dateid'\u001b[0m, \u001b[32m'platform'\u001b[0m, \u001b[32m'gamemode'\u001b[0m, \u001b[32m'mapname'\u001b[0m, \u001b[32m'matchid'\u001b[0m, \u001b[32m'roundnumber'\u001b[0m,\n",
       "       \u001b[32m'objectivelocation'\u001b[0m, \u001b[32m'winrole'\u001b[0m, \u001b[32m'endroundreason'\u001b[0m, \u001b[32m'roundduration'\u001b[0m,\n",
       "       \u001b[32m'clearancelevel'\u001b[0m, \u001b[32m'skillrank'\u001b[0m, \u001b[32m'role'\u001b[0m, \u001b[32m'team'\u001b[0m, \u001b[32m'haswon'\u001b[0m, \u001b[32m'operator'\u001b[0m,\n",
       "       \u001b[32m'nbkills'\u001b[0m, \u001b[32m'isdead'\u001b[0m, \u001b[32m'primaryweapon'\u001b[0m, \u001b[32m'primaryweapontype'\u001b[0m,\n",
       "       \u001b[32m'primarysight'\u001b[0m, \u001b[32m'primarygrip'\u001b[0m, \u001b[32m'primaryunderbarrel'\u001b[0m, \u001b[32m'primarybarrel'\u001b[0m,\n",
       "       \u001b[32m'secondaryweapon'\u001b[0m, \u001b[32m'secondaryweapontype'\u001b[0m, \u001b[32m'secondarysight'\u001b[0m,\n",
       "       \u001b[32m'secondarygrip'\u001b[0m, \u001b[32m'secondaryunderbarrel'\u001b[0m, \u001b[32m'secondarybarrel'\u001b[0m,\n",
       "       \u001b[32m'secondarygadget'\u001b[0m\u001b[1m]\u001b[0m,\n",
       "      \u001b[33mdtype\u001b[0m=\u001b[32m'object'\u001b[0m\u001b[1m)\u001b[0m"
      ]
     },
     "execution_count": 49,
     "metadata": {},
     "output_type": "execute_result"
    }
   ],
   "source": [
    "\n",
    "\n",
    "combined_data.columns\n"
   ]
  },
  {
   "cell_type": "code",
   "execution_count": 50,
   "id": "b08a0da3",
   "metadata": {},
   "outputs": [
    {
     "data": {
      "text/html": [
       "<pre style=\"white-space:pre;overflow-x:auto;line-height:normal;font-family:Menlo,'DejaVu Sans Mono',consolas,'Courier New',monospace\"></pre>\n"
      ],
      "text/plain": []
     },
     "metadata": {},
     "output_type": "display_data"
    },
    {
     "data": {
      "text/html": [
       "<div>\n",
       "<style scoped>\n",
       "    .dataframe tbody tr th:only-of-type {\n",
       "        vertical-align: middle;\n",
       "    }\n",
       "\n",
       "    .dataframe tbody tr th {\n",
       "        vertical-align: top;\n",
       "    }\n",
       "\n",
       "    .dataframe thead th {\n",
       "        text-align: right;\n",
       "    }\n",
       "</style>\n",
       "<table border=\"1\" class=\"dataframe\">\n",
       "  <thead>\n",
       "    <tr style=\"text-align: right;\">\n",
       "      <th></th>\n",
       "      <th>dateid</th>\n",
       "      <th>platform</th>\n",
       "      <th>gamemode</th>\n",
       "      <th>mapname</th>\n",
       "      <th>matchid</th>\n",
       "      <th>roundnumber</th>\n",
       "      <th>objectivelocation</th>\n",
       "      <th>winrole</th>\n",
       "      <th>endroundreason</th>\n",
       "      <th>roundduration</th>\n",
       "      <th>...</th>\n",
       "      <th>primarygrip</th>\n",
       "      <th>primaryunderbarrel</th>\n",
       "      <th>primarybarrel</th>\n",
       "      <th>secondaryweapon</th>\n",
       "      <th>secondaryweapontype</th>\n",
       "      <th>secondarysight</th>\n",
       "      <th>secondarygrip</th>\n",
       "      <th>secondaryunderbarrel</th>\n",
       "      <th>secondarybarrel</th>\n",
       "      <th>secondarygadget</th>\n",
       "    </tr>\n",
       "  </thead>\n",
       "  <tbody>\n",
       "    <tr>\n",
       "      <th>0</th>\n",
       "      <td>20170212</td>\n",
       "      <td>PC</td>\n",
       "      <td>HOSTAGE</td>\n",
       "      <td>CLUB_HOUSE</td>\n",
       "      <td>1522380841</td>\n",
       "      <td>1</td>\n",
       "      <td>STRIP_CLUB</td>\n",
       "      <td>Defender</td>\n",
       "      <td>AttackersKilledHostage</td>\n",
       "      <td>124</td>\n",
       "      <td>...</td>\n",
       "      <td>Vertical</td>\n",
       "      <td>NaN</td>\n",
       "      <td>Compensator</td>\n",
       "      <td>5.7_USG</td>\n",
       "      <td>Pistols</td>\n",
       "      <td>NaN</td>\n",
       "      <td>NaN</td>\n",
       "      <td>NaN</td>\n",
       "      <td>NaN</td>\n",
       "      <td>IMPACT_GRENADE</td>\n",
       "    </tr>\n",
       "    <tr>\n",
       "      <th>1</th>\n",
       "      <td>20170212</td>\n",
       "      <td>PC</td>\n",
       "      <td>HOSTAGE</td>\n",
       "      <td>CLUB_HOUSE</td>\n",
       "      <td>1522380841</td>\n",
       "      <td>4</td>\n",
       "      <td>CHURCH</td>\n",
       "      <td>Defender</td>\n",
       "      <td>AttackersEliminated</td>\n",
       "      <td>217</td>\n",
       "      <td>...</td>\n",
       "      <td>Vertical</td>\n",
       "      <td>Laser</td>\n",
       "      <td>Suppressor</td>\n",
       "      <td>P12</td>\n",
       "      <td>Pistols</td>\n",
       "      <td>NaN</td>\n",
       "      <td>NaN</td>\n",
       "      <td>Laser</td>\n",
       "      <td>Suppressor</td>\n",
       "      <td>DEPLOYABLE_SHIELD</td>\n",
       "    </tr>\n",
       "    <tr>\n",
       "      <th>2</th>\n",
       "      <td>20170212</td>\n",
       "      <td>PC</td>\n",
       "      <td>HOSTAGE</td>\n",
       "      <td>CLUB_HOUSE</td>\n",
       "      <td>1522380841</td>\n",
       "      <td>3</td>\n",
       "      <td>CHURCH</td>\n",
       "      <td>Defender</td>\n",
       "      <td>AttackersEliminated</td>\n",
       "      <td>160</td>\n",
       "      <td>...</td>\n",
       "      <td>NaN</td>\n",
       "      <td>NaN</td>\n",
       "      <td>NaN</td>\n",
       "      <td>MK1_9mm</td>\n",
       "      <td>Pistols</td>\n",
       "      <td>NaN</td>\n",
       "      <td>NaN</td>\n",
       "      <td>NaN</td>\n",
       "      <td>NaN</td>\n",
       "      <td>DEPLOYABLE_SHIELD</td>\n",
       "    </tr>\n",
       "    <tr>\n",
       "      <th>3</th>\n",
       "      <td>20170212</td>\n",
       "      <td>PC</td>\n",
       "      <td>HOSTAGE</td>\n",
       "      <td>CLUB_HOUSE</td>\n",
       "      <td>1522380841</td>\n",
       "      <td>4</td>\n",
       "      <td>CHURCH</td>\n",
       "      <td>Defender</td>\n",
       "      <td>AttackersEliminated</td>\n",
       "      <td>217</td>\n",
       "      <td>...</td>\n",
       "      <td>NaN</td>\n",
       "      <td>NaN</td>\n",
       "      <td>MuzzleBrake</td>\n",
       "      <td>PRB92</td>\n",
       "      <td>Pistols</td>\n",
       "      <td>NaN</td>\n",
       "      <td>NaN</td>\n",
       "      <td>NaN</td>\n",
       "      <td>NaN</td>\n",
       "      <td>IMPACT_GRENADE</td>\n",
       "    </tr>\n",
       "    <tr>\n",
       "      <th>4</th>\n",
       "      <td>20170212</td>\n",
       "      <td>PC</td>\n",
       "      <td>HOSTAGE</td>\n",
       "      <td>CLUB_HOUSE</td>\n",
       "      <td>1522380841</td>\n",
       "      <td>6</td>\n",
       "      <td>BEDROOM</td>\n",
       "      <td>Attacker</td>\n",
       "      <td>DefendersEliminated</td>\n",
       "      <td>143</td>\n",
       "      <td>...</td>\n",
       "      <td>Vertical</td>\n",
       "      <td>Laser</td>\n",
       "      <td>Suppressor</td>\n",
       "      <td>P12</td>\n",
       "      <td>Pistols</td>\n",
       "      <td>NaN</td>\n",
       "      <td>NaN</td>\n",
       "      <td>Laser</td>\n",
       "      <td>Suppressor</td>\n",
       "      <td>DEPLOYABLE_SHIELD</td>\n",
       "    </tr>\n",
       "  </tbody>\n",
       "</table>\n",
       "<p>5 rows × 31 columns</p>\n",
       "</div>"
      ],
      "text/plain": [
       "\n",
       "     dateid platform gamemode     mapname     matchid  roundnumber  \\\n",
       "\u001b[1;36m0\u001b[0m  \u001b[1;36m20170212\u001b[0m       PC  HOSTAGE  CLUB_HOUSE  \u001b[1;36m1522380841\u001b[0m            \u001b[1;36m1\u001b[0m   \n",
       "\u001b[1;36m1\u001b[0m  \u001b[1;36m20170212\u001b[0m       PC  HOSTAGE  CLUB_HOUSE  \u001b[1;36m1522380841\u001b[0m            \u001b[1;36m4\u001b[0m   \n",
       "\u001b[1;36m2\u001b[0m  \u001b[1;36m20170212\u001b[0m       PC  HOSTAGE  CLUB_HOUSE  \u001b[1;36m1522380841\u001b[0m            \u001b[1;36m3\u001b[0m   \n",
       "\u001b[1;36m3\u001b[0m  \u001b[1;36m20170212\u001b[0m       PC  HOSTAGE  CLUB_HOUSE  \u001b[1;36m1522380841\u001b[0m            \u001b[1;36m4\u001b[0m   \n",
       "\u001b[1;36m4\u001b[0m  \u001b[1;36m20170212\u001b[0m       PC  HOSTAGE  CLUB_HOUSE  \u001b[1;36m1522380841\u001b[0m            \u001b[1;36m6\u001b[0m   \n",
       "\n",
       "  objectivelocation   winrole          endroundreason  roundduration  \u001b[33m...\u001b[0m  \\\n",
       "\u001b[1;36m0\u001b[0m        STRIP_CLUB  Defender  AttackersKilledHostage            \u001b[1;36m124\u001b[0m  \u001b[33m...\u001b[0m   \n",
       "\u001b[1;36m1\u001b[0m            CHURCH  Defender     AttackersEliminated            \u001b[1;36m217\u001b[0m  \u001b[33m...\u001b[0m   \n",
       "\u001b[1;36m2\u001b[0m            CHURCH  Defender     AttackersEliminated            \u001b[1;36m160\u001b[0m  \u001b[33m...\u001b[0m   \n",
       "\u001b[1;36m3\u001b[0m            CHURCH  Defender     AttackersEliminated            \u001b[1;36m217\u001b[0m  \u001b[33m...\u001b[0m   \n",
       "\u001b[1;36m4\u001b[0m           BEDROOM  Attacker     DefendersEliminated            \u001b[1;36m143\u001b[0m  \u001b[33m...\u001b[0m   \n",
       "\n",
       "   primarygrip primaryunderbarrel primarybarrel  secondaryweapon  \\\n",
       "\u001b[1;36m0\u001b[0m     Vertical                NaN   Compensator          \u001b[1;36m5.\u001b[0m7_USG   \n",
       "\u001b[1;36m1\u001b[0m     Vertical              Laser    Suppressor              P12   \n",
       "\u001b[1;36m2\u001b[0m          NaN                NaN           NaN          MK1_9mm   \n",
       "\u001b[1;36m3\u001b[0m          NaN                NaN   MuzzleBrake            PRB92   \n",
       "\u001b[1;36m4\u001b[0m     Vertical              Laser    Suppressor              P12   \n",
       "\n",
       "   secondaryweapontype secondarysight  secondarygrip  secondaryunderbarrel  \\\n",
       "\u001b[1;36m0\u001b[0m              Pistols            NaN            NaN                   NaN   \n",
       "\u001b[1;36m1\u001b[0m              Pistols            NaN            NaN                 Laser   \n",
       "\u001b[1;36m2\u001b[0m              Pistols            NaN            NaN                   NaN   \n",
       "\u001b[1;36m3\u001b[0m              Pistols            NaN            NaN                   NaN   \n",
       "\u001b[1;36m4\u001b[0m              Pistols            NaN            NaN                 Laser   \n",
       "\n",
       "  secondarybarrel    secondarygadget  \n",
       "\u001b[1;36m0\u001b[0m             NaN     IMPACT_GRENADE  \n",
       "\u001b[1;36m1\u001b[0m      Suppressor  DEPLOYABLE_SHIELD  \n",
       "\u001b[1;36m2\u001b[0m             NaN  DEPLOYABLE_SHIELD  \n",
       "\u001b[1;36m3\u001b[0m             NaN     IMPACT_GRENADE  \n",
       "\u001b[1;36m4\u001b[0m      Suppressor  DEPLOYABLE_SHIELD  \n",
       "\n",
       "\u001b[1m[\u001b[0m\u001b[1;36m5\u001b[0m rows x \u001b[1;36m31\u001b[0m columns\u001b[1m]\u001b[0m"
      ]
     },
     "execution_count": 50,
     "metadata": {},
     "output_type": "execute_result"
    }
   ],
   "source": [
    "#visualization de las primeras 5  filas del dataset\n",
    "combined_data.head(5)"
   ]
  },
  {
   "cell_type": "code",
   "execution_count": 51,
   "id": "9fdcae8c",
   "metadata": {},
   "outputs": [
    {
     "data": {
      "text/html": [
       "<pre style=\"white-space:pre;overflow-x:auto;line-height:normal;font-family:Menlo,'DejaVu Sans Mono',consolas,'Courier New',monospace\"></pre>\n"
      ],
      "text/plain": []
     },
     "metadata": {},
     "output_type": "display_data"
    },
    {
     "data": {
      "text/html": [
       "<div>\n",
       "<style scoped>\n",
       "    .dataframe tbody tr th:only-of-type {\n",
       "        vertical-align: middle;\n",
       "    }\n",
       "\n",
       "    .dataframe tbody tr th {\n",
       "        vertical-align: top;\n",
       "    }\n",
       "\n",
       "    .dataframe thead th {\n",
       "        text-align: right;\n",
       "    }\n",
       "</style>\n",
       "<table border=\"1\" class=\"dataframe\">\n",
       "  <thead>\n",
       "    <tr style=\"text-align: right;\">\n",
       "      <th></th>\n",
       "      <th>dateid</th>\n",
       "      <th>platform</th>\n",
       "      <th>gamemode</th>\n",
       "      <th>mapname</th>\n",
       "      <th>matchid</th>\n",
       "      <th>roundnumber</th>\n",
       "      <th>objectivelocation</th>\n",
       "      <th>winrole</th>\n",
       "      <th>endroundreason</th>\n",
       "      <th>roundduration</th>\n",
       "      <th>...</th>\n",
       "      <th>primarygrip</th>\n",
       "      <th>primaryunderbarrel</th>\n",
       "      <th>primarybarrel</th>\n",
       "      <th>secondaryweapon</th>\n",
       "      <th>secondaryweapontype</th>\n",
       "      <th>secondarysight</th>\n",
       "      <th>secondarygrip</th>\n",
       "      <th>secondaryunderbarrel</th>\n",
       "      <th>secondarybarrel</th>\n",
       "      <th>secondarygadget</th>\n",
       "    </tr>\n",
       "  </thead>\n",
       "  <tbody>\n",
       "    <tr>\n",
       "      <th>19999995</th>\n",
       "      <td>20170310</td>\n",
       "      <td>XONE</td>\n",
       "      <td>SECURE_AREA</td>\n",
       "      <td>HOUSE</td>\n",
       "      <td>4213607369</td>\n",
       "      <td>6</td>\n",
       "      <td>KID'S_BEDROOM</td>\n",
       "      <td>Defender</td>\n",
       "      <td>AttackersEliminated</td>\n",
       "      <td>186</td>\n",
       "      <td>...</td>\n",
       "      <td>Vertical</td>\n",
       "      <td>Laser</td>\n",
       "      <td>Compensator</td>\n",
       "      <td>P9</td>\n",
       "      <td>Pistols</td>\n",
       "      <td>NaN</td>\n",
       "      <td>NaN</td>\n",
       "      <td>NaN</td>\n",
       "      <td>NaN</td>\n",
       "      <td>BREACH_CHARGE</td>\n",
       "    </tr>\n",
       "    <tr>\n",
       "      <th>19999996</th>\n",
       "      <td>20170310</td>\n",
       "      <td>XONE</td>\n",
       "      <td>SECURE_AREA</td>\n",
       "      <td>HOUSE</td>\n",
       "      <td>4213607369</td>\n",
       "      <td>3</td>\n",
       "      <td>KID'S_BEDROOM</td>\n",
       "      <td>Attacker</td>\n",
       "      <td>DefendersEliminated</td>\n",
       "      <td>160</td>\n",
       "      <td>...</td>\n",
       "      <td>Vertical</td>\n",
       "      <td>NaN</td>\n",
       "      <td>Compensator</td>\n",
       "      <td>SMG-11</td>\n",
       "      <td>Submachine_Guns</td>\n",
       "      <td>RedDot</td>\n",
       "      <td>Vertical</td>\n",
       "      <td>NaN</td>\n",
       "      <td>HeavyBarrel</td>\n",
       "      <td>FRAG_GRENADE</td>\n",
       "    </tr>\n",
       "    <tr>\n",
       "      <th>19999997</th>\n",
       "      <td>20170310</td>\n",
       "      <td>XONE</td>\n",
       "      <td>SECURE_AREA</td>\n",
       "      <td>HOUSE</td>\n",
       "      <td>4213607369</td>\n",
       "      <td>1</td>\n",
       "      <td>GARAGE</td>\n",
       "      <td>Defender</td>\n",
       "      <td>AttackersEliminated</td>\n",
       "      <td>177</td>\n",
       "      <td>...</td>\n",
       "      <td>NaN</td>\n",
       "      <td>NaN</td>\n",
       "      <td>NaN</td>\n",
       "      <td>P12</td>\n",
       "      <td>Pistols</td>\n",
       "      <td>NaN</td>\n",
       "      <td>NaN</td>\n",
       "      <td>NaN</td>\n",
       "      <td>NaN</td>\n",
       "      <td>BARBED_WIRE</td>\n",
       "    </tr>\n",
       "    <tr>\n",
       "      <th>19999998</th>\n",
       "      <td>20170310</td>\n",
       "      <td>XONE</td>\n",
       "      <td>SECURE_AREA</td>\n",
       "      <td>HOUSE</td>\n",
       "      <td>4213607369</td>\n",
       "      <td>1</td>\n",
       "      <td>GARAGE</td>\n",
       "      <td>Defender</td>\n",
       "      <td>AttackersEliminated</td>\n",
       "      <td>177</td>\n",
       "      <td>...</td>\n",
       "      <td>NaN</td>\n",
       "      <td>NaN</td>\n",
       "      <td>NaN</td>\n",
       "      <td>PRB92</td>\n",
       "      <td>Pistols</td>\n",
       "      <td>NaN</td>\n",
       "      <td>NaN</td>\n",
       "      <td>NaN</td>\n",
       "      <td>NaN</td>\n",
       "      <td>IMPACT_GRENADE</td>\n",
       "    </tr>\n",
       "    <tr>\n",
       "      <th>19999999</th>\n",
       "      <td>20170310</td>\n",
       "      <td>XONE</td>\n",
       "      <td>SECURE_AREA</td>\n",
       "      <td>HOUSE</td>\n",
       "      <td>4213607369</td>\n",
       "      <td>6</td>\n",
       "      <td>KID'S_BEDROOM</td>\n",
       "      <td>Defender</td>\n",
       "      <td>AttackersEliminated</td>\n",
       "      <td>186</td>\n",
       "      <td>...</td>\n",
       "      <td>Vertical</td>\n",
       "      <td>NaN</td>\n",
       "      <td>NaN</td>\n",
       "      <td>M45_MEUSOC</td>\n",
       "      <td>Pistols</td>\n",
       "      <td>NaN</td>\n",
       "      <td>NaN</td>\n",
       "      <td>NaN</td>\n",
       "      <td>NaN</td>\n",
       "      <td>IMPACT_GRENADE</td>\n",
       "    </tr>\n",
       "  </tbody>\n",
       "</table>\n",
       "<p>5 rows × 31 columns</p>\n",
       "</div>"
      ],
      "text/plain": [
       "\n",
       "            dateid platform     gamemode mapname     matchid  roundnumber  \\\n",
       "\u001b[1;36m19999995\u001b[0m  \u001b[1;36m20170310\u001b[0m     XONE  SECURE_AREA   HOUSE  \u001b[1;36m4213607369\u001b[0m            \u001b[1;36m6\u001b[0m   \n",
       "\u001b[1;36m19999996\u001b[0m  \u001b[1;36m20170310\u001b[0m     XONE  SECURE_AREA   HOUSE  \u001b[1;36m4213607369\u001b[0m            \u001b[1;36m3\u001b[0m   \n",
       "\u001b[1;36m19999997\u001b[0m  \u001b[1;36m20170310\u001b[0m     XONE  SECURE_AREA   HOUSE  \u001b[1;36m4213607369\u001b[0m            \u001b[1;36m1\u001b[0m   \n",
       "\u001b[1;36m19999998\u001b[0m  \u001b[1;36m20170310\u001b[0m     XONE  SECURE_AREA   HOUSE  \u001b[1;36m4213607369\u001b[0m            \u001b[1;36m1\u001b[0m   \n",
       "\u001b[1;36m19999999\u001b[0m  \u001b[1;36m20170310\u001b[0m     XONE  SECURE_AREA   HOUSE  \u001b[1;36m4213607369\u001b[0m            \u001b[1;36m6\u001b[0m   \n",
       "\n",
       "         objectivelocation   winrole       endroundreason  roundduration  \u001b[33m...\u001b[0m  \\\n",
       "\u001b[1;36m19999995\u001b[0m     KID'S_BEDROOM  Defender  AttackersEliminated            \u001b[1;36m186\u001b[0m  \u001b[33m...\u001b[0m   \n",
       "\u001b[1;36m19999996\u001b[0m     KID'S_BEDROOM  Attacker  DefendersEliminated            \u001b[1;36m160\u001b[0m  \u001b[33m...\u001b[0m   \n",
       "\u001b[1;36m19999997\u001b[0m            GARAGE  Defender  AttackersEliminated            \u001b[1;36m177\u001b[0m  \u001b[33m...\u001b[0m   \n",
       "\u001b[1;36m19999998\u001b[0m            GARAGE  Defender  AttackersEliminated            \u001b[1;36m177\u001b[0m  \u001b[33m...\u001b[0m   \n",
       "\u001b[1;36m19999999\u001b[0m     KID'S_BEDROOM  Defender  AttackersEliminated            \u001b[1;36m186\u001b[0m  \u001b[33m...\u001b[0m   \n",
       "\n",
       "          primarygrip primaryunderbarrel primarybarrel  secondaryweapon  \\\n",
       "\u001b[1;36m19999995\u001b[0m     Vertical              Laser   Compensator               P9   \n",
       "\u001b[1;36m19999996\u001b[0m     Vertical                NaN   Compensator           SMG-\u001b[1;36m11\u001b[0m   \n",
       "\u001b[1;36m19999997\u001b[0m          NaN                NaN           NaN              P12   \n",
       "\u001b[1;36m19999998\u001b[0m          NaN                NaN           NaN            PRB92   \n",
       "\u001b[1;36m19999999\u001b[0m     Vertical                NaN           NaN       M45_MEUSOC   \n",
       "\n",
       "          secondaryweapontype secondarysight  secondarygrip  \\\n",
       "\u001b[1;36m19999995\u001b[0m              Pistols            NaN            NaN   \n",
       "\u001b[1;36m19999996\u001b[0m      Submachine_Guns         RedDot       Vertical   \n",
       "\u001b[1;36m19999997\u001b[0m              Pistols            NaN            NaN   \n",
       "\u001b[1;36m19999998\u001b[0m              Pistols            NaN            NaN   \n",
       "\u001b[1;36m19999999\u001b[0m              Pistols            NaN            NaN   \n",
       "\n",
       "          secondaryunderbarrel secondarybarrel secondarygadget  \n",
       "\u001b[1;36m19999995\u001b[0m                   NaN             NaN   BREACH_CHARGE  \n",
       "\u001b[1;36m19999996\u001b[0m                   NaN     HeavyBarrel    FRAG_GRENADE  \n",
       "\u001b[1;36m19999997\u001b[0m                   NaN             NaN     BARBED_WIRE  \n",
       "\u001b[1;36m19999998\u001b[0m                   NaN             NaN  IMPACT_GRENADE  \n",
       "\u001b[1;36m19999999\u001b[0m                   NaN             NaN  IMPACT_GRENADE  \n",
       "\n",
       "\u001b[1m[\u001b[0m\u001b[1;36m5\u001b[0m rows x \u001b[1;36m31\u001b[0m columns\u001b[1m]\u001b[0m"
      ]
     },
     "execution_count": 51,
     "metadata": {},
     "output_type": "execute_result"
    }
   ],
   "source": [
    "\n",
    "# Mostramos los ultimos 5 registros del dataframe usando la función `tail()`\n",
    "combined_data.tail()"
   ]
  },
  {
   "cell_type": "code",
   "execution_count": 52,
   "id": "dd04d06b",
   "metadata": {
    "vscode": {
     "languageId": "markdown"
    }
   },
   "outputs": [
    {
     "data": {
      "text/html": [
       "<pre style=\"white-space:pre;overflow-x:auto;line-height:normal;font-family:Menlo,'DejaVu Sans Mono',consolas,'Courier New',monospace\"></pre>\n"
      ],
      "text/plain": []
     },
     "metadata": {},
     "output_type": "display_data"
    },
    {
     "data": {
      "text/html": [
       "<div>\n",
       "<style scoped>\n",
       "    .dataframe tbody tr th:only-of-type {\n",
       "        vertical-align: middle;\n",
       "    }\n",
       "\n",
       "    .dataframe tbody tr th {\n",
       "        vertical-align: top;\n",
       "    }\n",
       "\n",
       "    .dataframe thead th {\n",
       "        text-align: right;\n",
       "    }\n",
       "</style>\n",
       "<table border=\"1\" class=\"dataframe\">\n",
       "  <thead>\n",
       "    <tr style=\"text-align: right;\">\n",
       "      <th></th>\n",
       "      <th>dateid</th>\n",
       "      <th>platform</th>\n",
       "      <th>gamemode</th>\n",
       "      <th>mapname</th>\n",
       "      <th>matchid</th>\n",
       "      <th>roundnumber</th>\n",
       "      <th>objectivelocation</th>\n",
       "      <th>winrole</th>\n",
       "      <th>endroundreason</th>\n",
       "      <th>roundduration</th>\n",
       "      <th>...</th>\n",
       "      <th>primarygrip</th>\n",
       "      <th>primaryunderbarrel</th>\n",
       "      <th>primarybarrel</th>\n",
       "      <th>secondaryweapon</th>\n",
       "      <th>secondaryweapontype</th>\n",
       "      <th>secondarysight</th>\n",
       "      <th>secondarygrip</th>\n",
       "      <th>secondaryunderbarrel</th>\n",
       "      <th>secondarybarrel</th>\n",
       "      <th>secondarygadget</th>\n",
       "    </tr>\n",
       "  </thead>\n",
       "  <tbody>\n",
       "    <tr>\n",
       "      <th>7747243</th>\n",
       "      <td>20170326</td>\n",
       "      <td>PS4</td>\n",
       "      <td>SECURE_AREA</td>\n",
       "      <td>YACHT</td>\n",
       "      <td>180375061</td>\n",
       "      <td>2</td>\n",
       "      <td>AKLARK_SUB_ROOM</td>\n",
       "      <td>Defender</td>\n",
       "      <td>AttackersEliminated</td>\n",
       "      <td>175</td>\n",
       "      <td>...</td>\n",
       "      <td>NaN</td>\n",
       "      <td>NaN</td>\n",
       "      <td>NaN</td>\n",
       "      <td>LFP586</td>\n",
       "      <td>Pistols</td>\n",
       "      <td>NaN</td>\n",
       "      <td>NaN</td>\n",
       "      <td>Laser</td>\n",
       "      <td>NaN</td>\n",
       "      <td>SMOKE_GRENADE</td>\n",
       "    </tr>\n",
       "  </tbody>\n",
       "</table>\n",
       "<p>1 rows × 31 columns</p>\n",
       "</div>"
      ],
      "text/plain": [
       "\n",
       "           dateid platform     gamemode mapname    matchid  roundnumber  \\\n",
       "\u001b[1;36m7747243\u001b[0m  \u001b[1;36m20170326\u001b[0m      PS4  SECURE_AREA   YACHT  \u001b[1;36m180375061\u001b[0m            \u001b[1;36m2\u001b[0m   \n",
       "\n",
       "        objectivelocation   winrole       endroundreason  roundduration  \u001b[33m...\u001b[0m  \\\n",
       "\u001b[1;36m7747243\u001b[0m   AKLARK_SUB_ROOM  Defender  AttackersEliminated            \u001b[1;36m175\u001b[0m  \u001b[33m...\u001b[0m   \n",
       "\n",
       "         primarygrip primaryunderbarrel primarybarrel  secondaryweapon  \\\n",
       "\u001b[1;36m7747243\u001b[0m          NaN                NaN           NaN           LFP586   \n",
       "\n",
       "         secondaryweapontype secondarysight  secondarygrip  \\\n",
       "\u001b[1;36m7747243\u001b[0m              Pistols            NaN            NaN   \n",
       "\n",
       "         secondaryunderbarrel secondarybarrel secondarygadget  \n",
       "\u001b[1;36m7747243\u001b[0m                 Laser             NaN   SMOKE_GRENADE  \n",
       "\n",
       "\u001b[1m[\u001b[0m\u001b[1;36m1\u001b[0m rows x \u001b[1;36m31\u001b[0m columns\u001b[1m]\u001b[0m"
      ]
     },
     "execution_count": 52,
     "metadata": {},
     "output_type": "execute_result"
    }
   ],
   "source": [
    "\n",
    "\n",
    "# - observacion de 1 registro aleatorio utilizando `sample()` para identificar sus caracteristicas\n",
    "combined_data.sample()"
   ]
  },
  {
   "cell_type": "code",
   "execution_count": 54,
   "id": "73bbf7fc",
   "metadata": {},
   "outputs": [
    {
     "name": "stdout",
     "output_type": "stream",
     "text": [
      "Cantidad de filas: 20000000, Cantidad de columnas: 31\n"
     ]
    }
   ],
   "source": [
    "#ver cantidad de datos en total y columnas en un prints\n",
    "print(f\"Cantidad de filas: {combined_data.shape[0]}, Cantidad de columnas: {combined_data.shape[1]}\")"
   ]
  },
  {
   "cell_type": "markdown",
   "id": "1d0be4c3",
   "metadata": {},
   "source": [
    "observacion general:"
   ]
  },
  {
   "cell_type": "code",
   "execution_count": 56,
   "id": "b3d2b9d6",
   "metadata": {},
   "outputs": [
    {
     "name": "stdout",
     "output_type": "stream",
     "text": [
      "<class 'pandas.core.frame.DataFrame'>\n",
      "RangeIndex: 20000000 entries, 0 to 19999999\n",
      "Data columns (total 31 columns):\n",
      " #   Column                Dtype \n",
      "---  ------                ----- \n",
      " 0   dateid                int64 \n",
      " 1   platform              object\n",
      " 2   gamemode              object\n",
      " 3   mapname               object\n",
      " 4   matchid               int64 \n",
      " 5   roundnumber           int64 \n",
      " 6   objectivelocation     object\n",
      " 7   winrole               object\n",
      " 8   endroundreason        object\n",
      " 9   roundduration         int64 \n",
      " 10  clearancelevel        int64 \n",
      " 11  skillrank             object\n",
      " 12  role                  object\n",
      " 13  team                  int64 \n",
      " 14  haswon                int64 \n",
      " 15  operator              object\n",
      " 16  nbkills               int64 \n",
      " 17  isdead                int64 \n",
      " 18  primaryweapon         object\n",
      " 19  primaryweapontype     object\n",
      " 20  primarysight          object\n",
      " 21  primarygrip           object\n",
      " 22  primaryunderbarrel    object\n",
      " 23  primarybarrel         object\n",
      " 24  secondaryweapon       object\n",
      " 25  secondaryweapontype   object\n",
      " 26  secondarysight        object\n",
      " 27  secondarygrip         object\n",
      " 28  secondaryunderbarrel  object\n",
      " 29  secondarybarrel       object\n",
      " 30  secondarygadget       object\n",
      "dtypes: int64(9), object(22)\n",
      "memory usage: 4.6+ GB\n"
     ]
    }
   ],
   "source": [
    "#verificacion de tipos de datos como int y string(object)\n",
    "combined_data.info()"
   ]
  },
  {
   "cell_type": "markdown",
   "id": "8187d8f6",
   "metadata": {},
   "source": [
    "* datos duplicado"
   ]
  },
  {
   "cell_type": "code",
   "execution_count": 57,
   "id": "5e4931ad",
   "metadata": {},
   "outputs": [
    {
     "name": "stdout",
     "output_type": "stream",
     "text": [
      "número de filas duplicadas:  (620, 31)\n"
     ]
    }
   ],
   "source": [
    "duplicate_rows_df = combined_data[combined_data.duplicated()]\n",
    "print(\"número de filas duplicadas: \", duplicate_rows_df.shape)"
   ]
  },
  {
   "cell_type": "markdown",
   "id": "681b9ed5",
   "metadata": {},
   "source": [
    "valores nulos"
   ]
  },
  {
   "cell_type": "code",
   "execution_count": 58,
   "id": "ddf44ec5",
   "metadata": {},
   "outputs": [
    {
     "data": {
      "text/html": [
       "<pre style=\"white-space:pre;overflow-x:auto;line-height:normal;font-family:Menlo,'DejaVu Sans Mono',consolas,'Courier New',monospace\"></pre>\n"
      ],
      "text/plain": []
     },
     "metadata": {},
     "output_type": "display_data"
    },
    {
     "data": {
      "text/plain": [
       "\n",
       "\u001b[1;35mIndex\u001b[0m\u001b[1m(\u001b[0m\u001b[1m[\u001b[0m\u001b[32m'primarysight'\u001b[0m, \u001b[32m'primarygrip'\u001b[0m, \u001b[32m'primaryunderbarrel'\u001b[0m, \u001b[32m'primarybarrel'\u001b[0m,\n",
       "       \u001b[32m'secondarysight'\u001b[0m, \u001b[32m'secondarygrip'\u001b[0m, \u001b[32m'secondaryunderbarrel'\u001b[0m,\n",
       "       \u001b[32m'secondarybarrel'\u001b[0m\u001b[1m]\u001b[0m,\n",
       "      \u001b[33mdtype\u001b[0m=\u001b[32m'object'\u001b[0m\u001b[1m)\u001b[0m"
      ]
     },
     "execution_count": 58,
     "metadata": {},
     "output_type": "execute_result"
    }
   ],
   "source": [
    "\n",
    "\n",
    "# Identificando que columnas que contienen datos faltantes\n",
    "combined_data.columns[combined_data.isnull().any()]"
   ]
  },
  {
   "cell_type": "code",
   "execution_count": 59,
   "id": "ab3a86e2",
   "metadata": {},
   "outputs": [
    {
     "data": {
      "text/html": [
       "<pre style=\"white-space:pre;overflow-x:auto;line-height:normal;font-family:Menlo,'DejaVu Sans Mono',consolas,'Courier New',monospace\"></pre>\n"
      ],
      "text/plain": []
     },
     "metadata": {},
     "output_type": "display_data"
    },
    {
     "data": {
      "text/plain": [
       "\n",
       "dateid                        \u001b[1;36m0\u001b[0m\n",
       "platform                      \u001b[1;36m0\u001b[0m\n",
       "gamemode                      \u001b[1;36m0\u001b[0m\n",
       "mapname                       \u001b[1;36m0\u001b[0m\n",
       "matchid                       \u001b[1;36m0\u001b[0m\n",
       "roundnumber                   \u001b[1;36m0\u001b[0m\n",
       "objectivelocation             \u001b[1;36m0\u001b[0m\n",
       "winrole                       \u001b[1;36m0\u001b[0m\n",
       "endroundreason                \u001b[1;36m0\u001b[0m\n",
       "roundduration                 \u001b[1;36m0\u001b[0m\n",
       "clearancelevel                \u001b[1;36m0\u001b[0m\n",
       "skillrank                     \u001b[1;36m0\u001b[0m\n",
       "role                          \u001b[1;36m0\u001b[0m\n",
       "team                          \u001b[1;36m0\u001b[0m\n",
       "haswon                        \u001b[1;36m0\u001b[0m\n",
       "operator                      \u001b[1;36m0\u001b[0m\n",
       "nbkills                       \u001b[1;36m0\u001b[0m\n",
       "isdead                        \u001b[1;36m0\u001b[0m\n",
       "primaryweapon                 \u001b[1;36m0\u001b[0m\n",
       "primaryweapontype             \u001b[1;36m0\u001b[0m\n",
       "primarysight             \u001b[1;36m322415\u001b[0m\n",
       "primarygrip             \u001b[1;36m1226992\u001b[0m\n",
       "primaryunderbarrel      \u001b[1;36m3374936\u001b[0m\n",
       "primarybarrel            \u001b[1;36m747630\u001b[0m\n",
       "secondaryweapon               \u001b[1;36m0\u001b[0m\n",
       "secondaryweapontype           \u001b[1;36m0\u001b[0m\n",
       "secondarysight          \u001b[1;36m3395796\u001b[0m\n",
       "secondarygrip           \u001b[1;36m3765523\u001b[0m\n",
       "secondaryunderbarrel    \u001b[1;36m3266431\u001b[0m\n",
       "secondarybarrel         \u001b[1;36m2515458\u001b[0m\n",
       "secondarygadget               \u001b[1;36m0\u001b[0m\n",
       "dtype: int64"
      ]
     },
     "execution_count": 59,
     "metadata": {},
     "output_type": "execute_result"
    }
   ],
   "source": [
    "data_r2s_0.isna().sum()"
   ]
  },
  {
   "cell_type": "markdown",
   "id": "8ebd3c7d",
   "metadata": {},
   "source": [
    "# Descripción de Datos"
   ]
  },
  {
   "cell_type": "code",
   "execution_count": 60,
   "id": "b6bfc4df",
   "metadata": {},
   "outputs": [
    {
     "data": {
      "text/html": [
       "<pre style=\"white-space:pre;overflow-x:auto;line-height:normal;font-family:Menlo,'DejaVu Sans Mono',consolas,'Courier New',monospace\"></pre>\n"
      ],
      "text/plain": []
     },
     "metadata": {},
     "output_type": "display_data"
    },
    {
     "data": {
      "text/html": [
       "<div>\n",
       "<style scoped>\n",
       "    .dataframe tbody tr th:only-of-type {\n",
       "        vertical-align: middle;\n",
       "    }\n",
       "\n",
       "    .dataframe tbody tr th {\n",
       "        vertical-align: top;\n",
       "    }\n",
       "\n",
       "    .dataframe thead th {\n",
       "        text-align: right;\n",
       "    }\n",
       "</style>\n",
       "<table border=\"1\" class=\"dataframe\">\n",
       "  <thead>\n",
       "    <tr style=\"text-align: right;\">\n",
       "      <th></th>\n",
       "      <th>count</th>\n",
       "      <th>mean</th>\n",
       "      <th>std</th>\n",
       "      <th>min</th>\n",
       "      <th>25%</th>\n",
       "      <th>50%</th>\n",
       "      <th>75%</th>\n",
       "      <th>max</th>\n",
       "    </tr>\n",
       "  </thead>\n",
       "  <tbody>\n",
       "    <tr>\n",
       "      <th>dateid</th>\n",
       "      <td>4000000.0</td>\n",
       "      <td>2.017021e+07</td>\n",
       "      <td>3.253715e+00</td>\n",
       "      <td>20170212.0</td>\n",
       "      <td>2.017021e+07</td>\n",
       "      <td>2.017021e+07</td>\n",
       "      <td>2.017022e+07</td>\n",
       "      <td>2.017022e+07</td>\n",
       "    </tr>\n",
       "    <tr>\n",
       "      <th>matchid</th>\n",
       "      <td>4000000.0</td>\n",
       "      <td>2.157401e+09</td>\n",
       "      <td>1.241248e+09</td>\n",
       "      <td>12921.0</td>\n",
       "      <td>1.076779e+09</td>\n",
       "      <td>2.165603e+09</td>\n",
       "      <td>3.232896e+09</td>\n",
       "      <td>4.294873e+09</td>\n",
       "    </tr>\n",
       "    <tr>\n",
       "      <th>roundnumber</th>\n",
       "      <td>4000000.0</td>\n",
       "      <td>3.572830e+00</td>\n",
       "      <td>2.022206e+00</td>\n",
       "      <td>1.0</td>\n",
       "      <td>2.000000e+00</td>\n",
       "      <td>3.000000e+00</td>\n",
       "      <td>5.000000e+00</td>\n",
       "      <td>9.000000e+00</td>\n",
       "    </tr>\n",
       "    <tr>\n",
       "      <th>roundduration</th>\n",
       "      <td>4000000.0</td>\n",
       "      <td>1.866471e+02</td>\n",
       "      <td>4.730330e+01</td>\n",
       "      <td>6.0</td>\n",
       "      <td>1.560000e+02</td>\n",
       "      <td>1.900000e+02</td>\n",
       "      <td>2.230000e+02</td>\n",
       "      <td>2.318800e+04</td>\n",
       "    </tr>\n",
       "    <tr>\n",
       "      <th>clearancelevel</th>\n",
       "      <td>4000000.0</td>\n",
       "      <td>9.323030e+01</td>\n",
       "      <td>4.651351e+01</td>\n",
       "      <td>0.0</td>\n",
       "      <td>5.800000e+01</td>\n",
       "      <td>8.900000e+01</td>\n",
       "      <td>1.240000e+02</td>\n",
       "      <td>3.620000e+02</td>\n",
       "    </tr>\n",
       "    <tr>\n",
       "      <th>team</th>\n",
       "      <td>4000000.0</td>\n",
       "      <td>4.997827e-01</td>\n",
       "      <td>5.000000e-01</td>\n",
       "      <td>0.0</td>\n",
       "      <td>0.000000e+00</td>\n",
       "      <td>0.000000e+00</td>\n",
       "      <td>1.000000e+00</td>\n",
       "      <td>1.000000e+00</td>\n",
       "    </tr>\n",
       "    <tr>\n",
       "      <th>haswon</th>\n",
       "      <td>4000000.0</td>\n",
       "      <td>5.098180e-01</td>\n",
       "      <td>4.999037e-01</td>\n",
       "      <td>0.0</td>\n",
       "      <td>0.000000e+00</td>\n",
       "      <td>1.000000e+00</td>\n",
       "      <td>1.000000e+00</td>\n",
       "      <td>1.000000e+00</td>\n",
       "    </tr>\n",
       "    <tr>\n",
       "      <th>nbkills</th>\n",
       "      <td>4000000.0</td>\n",
       "      <td>6.980338e-01</td>\n",
       "      <td>9.247207e-01</td>\n",
       "      <td>0.0</td>\n",
       "      <td>0.000000e+00</td>\n",
       "      <td>0.000000e+00</td>\n",
       "      <td>1.000000e+00</td>\n",
       "      <td>8.000000e+00</td>\n",
       "    </tr>\n",
       "    <tr>\n",
       "      <th>isdead</th>\n",
       "      <td>4000000.0</td>\n",
       "      <td>7.007080e-01</td>\n",
       "      <td>4.579480e-01</td>\n",
       "      <td>0.0</td>\n",
       "      <td>0.000000e+00</td>\n",
       "      <td>1.000000e+00</td>\n",
       "      <td>1.000000e+00</td>\n",
       "      <td>1.000000e+00</td>\n",
       "    </tr>\n",
       "  </tbody>\n",
       "</table>\n",
       "</div>"
      ],
      "text/plain": [
       "\n",
       "                    count          mean           std         min  \\\n",
       "dateid          \u001b[1;36m4000000.0\u001b[0m  \u001b[1;36m2.017021e+07\u001b[0m  \u001b[1;36m3.253715e+00\u001b[0m  \u001b[1;36m20170212.0\u001b[0m   \n",
       "matchid         \u001b[1;36m4000000.0\u001b[0m  \u001b[1;36m2.157401e+09\u001b[0m  \u001b[1;36m1.241248e+09\u001b[0m     \u001b[1;36m12921.0\u001b[0m   \n",
       "roundnumber     \u001b[1;36m4000000.0\u001b[0m  \u001b[1;36m3.572830e+00\u001b[0m  \u001b[1;36m2.022206e+00\u001b[0m         \u001b[1;36m1.0\u001b[0m   \n",
       "roundduration   \u001b[1;36m4000000.0\u001b[0m  \u001b[1;36m1.866471e+02\u001b[0m  \u001b[1;36m4.730330e+01\u001b[0m         \u001b[1;36m6.0\u001b[0m   \n",
       "clearancelevel  \u001b[1;36m4000000.0\u001b[0m  \u001b[1;36m9.323030e+01\u001b[0m  \u001b[1;36m4.651351e+01\u001b[0m         \u001b[1;36m0.0\u001b[0m   \n",
       "team            \u001b[1;36m4000000.0\u001b[0m  \u001b[1;36m4.997827e-01\u001b[0m  \u001b[1;36m5.000000e-01\u001b[0m         \u001b[1;36m0.0\u001b[0m   \n",
       "haswon          \u001b[1;36m4000000.0\u001b[0m  \u001b[1;36m5.098180e-01\u001b[0m  \u001b[1;36m4.999037e-01\u001b[0m         \u001b[1;36m0.0\u001b[0m   \n",
       "nbkills         \u001b[1;36m4000000.0\u001b[0m  \u001b[1;36m6.980338e-01\u001b[0m  \u001b[1;36m9.247207e-01\u001b[0m         \u001b[1;36m0.0\u001b[0m   \n",
       "isdead          \u001b[1;36m4000000.0\u001b[0m  \u001b[1;36m7.007080e-01\u001b[0m  \u001b[1;36m4.579480e-01\u001b[0m         \u001b[1;36m0.0\u001b[0m   \n",
       "\n",
       "                         \u001b[1;36m25\u001b[0m%           \u001b[1;36m50\u001b[0m%           \u001b[1;36m75\u001b[0m%           max  \n",
       "dateid          \u001b[1;36m2.017021e+07\u001b[0m  \u001b[1;36m2.017021e+07\u001b[0m  \u001b[1;36m2.017022e+07\u001b[0m  \u001b[1;36m2.017022e+07\u001b[0m  \n",
       "matchid         \u001b[1;36m1.076779e+09\u001b[0m  \u001b[1;36m2.165603e+09\u001b[0m  \u001b[1;36m3.232896e+09\u001b[0m  \u001b[1;36m4.294873e+09\u001b[0m  \n",
       "roundnumber     \u001b[1;36m2.000000e+00\u001b[0m  \u001b[1;36m3.000000e+00\u001b[0m  \u001b[1;36m5.000000e+00\u001b[0m  \u001b[1;36m9.000000e+00\u001b[0m  \n",
       "roundduration   \u001b[1;36m1.560000e+02\u001b[0m  \u001b[1;36m1.900000e+02\u001b[0m  \u001b[1;36m2.230000e+02\u001b[0m  \u001b[1;36m2.318800e+04\u001b[0m  \n",
       "clearancelevel  \u001b[1;36m5.800000e+01\u001b[0m  \u001b[1;36m8.900000e+01\u001b[0m  \u001b[1;36m1.240000e+02\u001b[0m  \u001b[1;36m3.620000e+02\u001b[0m  \n",
       "team            \u001b[1;36m0.000000e+00\u001b[0m  \u001b[1;36m0.000000e+00\u001b[0m  \u001b[1;36m1.000000e+00\u001b[0m  \u001b[1;36m1.000000e+00\u001b[0m  \n",
       "haswon          \u001b[1;36m0.000000e+00\u001b[0m  \u001b[1;36m1.000000e+00\u001b[0m  \u001b[1;36m1.000000e+00\u001b[0m  \u001b[1;36m1.000000e+00\u001b[0m  \n",
       "nbkills         \u001b[1;36m0.000000e+00\u001b[0m  \u001b[1;36m0.000000e+00\u001b[0m  \u001b[1;36m1.000000e+00\u001b[0m  \u001b[1;36m8.000000e+00\u001b[0m  \n",
       "isdead          \u001b[1;36m0.000000e+00\u001b[0m  \u001b[1;36m1.000000e+00\u001b[0m  \u001b[1;36m1.000000e+00\u001b[0m  \u001b[1;36m1.000000e+00\u001b[0m  "
      ]
     },
     "execution_count": 60,
     "metadata": {},
     "output_type": "execute_result"
    }
   ],
   "source": [
    "data_r2s_0.describe().T"
   ]
  },
  {
   "cell_type": "markdown",
   "id": "c62112f6",
   "metadata": {},
   "source": [
    "- visualizacion de describe() y moda()"
   ]
  },
  {
   "cell_type": "markdown",
   "id": "048a8d14",
   "metadata": {},
   "source": [
    "# observacion de datos  de los jugadores KPIs"
   ]
  },
  {
   "cell_type": "code",
   "execution_count": null,
   "id": "0a6f5b45",
   "metadata": {},
   "outputs": [],
   "source": []
  },
  {
   "cell_type": "markdown",
   "id": "893c88aa",
   "metadata": {},
   "source": [
    "# Analisis estadístico"
   ]
  },
  {
   "cell_type": "code",
   "execution_count": null,
   "id": "291ea6b9",
   "metadata": {},
   "outputs": [],
   "source": []
  }
 ],
 "metadata": {
  "kernelspec": {
   "display_name": "venv",
   "language": "python",
   "name": "python3"
  },
  "language_info": {
   "codemirror_mode": {
    "name": "ipython",
    "version": 3
   },
   "file_extension": ".py",
   "mimetype": "text/x-python",
   "name": "python",
   "nbconvert_exporter": "python",
   "pygments_lexer": "ipython3",
   "version": "3.12.10"
  }
 },
 "nbformat": 4,
 "nbformat_minor": 5
}
