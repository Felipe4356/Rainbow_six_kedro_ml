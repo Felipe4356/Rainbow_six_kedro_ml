{
 "cells": [
  {
   "cell_type": "code",
   "execution_count": 29,
   "id": "0a12859b",
   "metadata": {},
   "outputs": [
    {
     "data": {
      "text/html": [
       "<pre style=\"white-space:pre;overflow-x:auto;line-height:normal;font-family:Menlo,'DejaVu Sans Mono',consolas,'Courier New',monospace\"><span style=\"color: #7fbfbf; text-decoration-color: #7fbfbf\">[09/12/25 14:40:46] </span><span style=\"color: #000080; text-decoration-color: #000080\">INFO    </span> Kedro is sending anonymous usage data with the sole purpose of improving <a href=\"file://c:\\Users\\droid\\Desktop\\Rainbow_six_kedro\\venv\\Lib\\site-packages\\kedro_telemetry\\plugin.py\" target=\"_blank\"><span style=\"color: #7f7f7f; text-decoration-color: #7f7f7f\">plugin.py</span></a><span style=\"color: #7f7f7f; text-decoration-color: #7f7f7f\">:</span><a href=\"file://c:\\Users\\droid\\Desktop\\Rainbow_six_kedro\\venv\\Lib\\site-packages\\kedro_telemetry\\plugin.py#243\" target=\"_blank\"><span style=\"color: #7f7f7f; text-decoration-color: #7f7f7f\">243</span></a>\n",
       "<span style=\"color: #7fbfbf; text-decoration-color: #7fbfbf\">                    </span>         the product. No personal data or IP addresses are stored on our side. To <span style=\"color: #7f7f7f; text-decoration-color: #7f7f7f\">             </span>\n",
       "<span style=\"color: #7fbfbf; text-decoration-color: #7fbfbf\">                    </span>         opt out, set the `KEDRO_DISABLE_TELEMETRY` or `DO_NOT_TRACK` environment <span style=\"color: #7f7f7f; text-decoration-color: #7f7f7f\">             </span>\n",
       "<span style=\"color: #7fbfbf; text-decoration-color: #7fbfbf\">                    </span>         variables, or create a `.telemetry` file in the current working          <span style=\"color: #7f7f7f; text-decoration-color: #7f7f7f\">             </span>\n",
       "<span style=\"color: #7fbfbf; text-decoration-color: #7fbfbf\">                    </span>         directory with the contents `consent: false`. To hide this message,      <span style=\"color: #7f7f7f; text-decoration-color: #7f7f7f\">             </span>\n",
       "<span style=\"color: #7fbfbf; text-decoration-color: #7fbfbf\">                    </span>         explicitly grant or deny consent. Read more at                           <span style=\"color: #7f7f7f; text-decoration-color: #7f7f7f\">             </span>\n",
       "<span style=\"color: #7fbfbf; text-decoration-color: #7fbfbf\">                    </span>         <span style=\"color: #0000ff; text-decoration-color: #0000ff; text-decoration: underline\">https://docs.kedro.org/en/stable/configuration/telemetry.html</span>            <span style=\"color: #7f7f7f; text-decoration-color: #7f7f7f\">             </span>\n",
       "</pre>\n"
      ],
      "text/plain": [
       "\u001b[2;36m[09/12/25 14:40:46]\u001b[0m\u001b[2;36m \u001b[0m\u001b[34mINFO    \u001b[0m Kedro is sending anonymous usage data with the sole purpose of improving \u001b]8;id=729388;file://c:\\Users\\droid\\Desktop\\Rainbow_six_kedro\\venv\\Lib\\site-packages\\kedro_telemetry\\plugin.py\u001b\\\u001b[2mplugin.py\u001b[0m\u001b]8;;\u001b\\\u001b[2m:\u001b[0m\u001b]8;id=17919;file://c:\\Users\\droid\\Desktop\\Rainbow_six_kedro\\venv\\Lib\\site-packages\\kedro_telemetry\\plugin.py#243\u001b\\\u001b[2m243\u001b[0m\u001b]8;;\u001b\\\n",
       "\u001b[2;36m                    \u001b[0m         the product. No personal data or IP addresses are stored on our side. To \u001b[2m             \u001b[0m\n",
       "\u001b[2;36m                    \u001b[0m         opt out, set the `KEDRO_DISABLE_TELEMETRY` or `DO_NOT_TRACK` environment \u001b[2m             \u001b[0m\n",
       "\u001b[2;36m                    \u001b[0m         variables, or create a `.telemetry` file in the current working          \u001b[2m             \u001b[0m\n",
       "\u001b[2;36m                    \u001b[0m         directory with the contents `consent: false`. To hide this message,      \u001b[2m             \u001b[0m\n",
       "\u001b[2;36m                    \u001b[0m         explicitly grant or deny consent. Read more at                           \u001b[2m             \u001b[0m\n",
       "\u001b[2;36m                    \u001b[0m         \u001b[4;94mhttps://docs.kedro.org/en/stable/configuration/telemetry.html\u001b[0m            \u001b[2m             \u001b[0m\n"
      ]
     },
     "metadata": {},
     "output_type": "display_data"
    }
   ],
   "source": [
    "#librerias\n",
    "import pandas as pd\n",
    "import numpy as np\n",
    "import matplotlib.pyplot as plt\n",
    "import seaborn as sns\n",
    "\n",
    "context\n",
    "\n",
    "catalog = context.catalog"
   ]
  },
  {
   "cell_type": "code",
   "execution_count": 2,
   "id": "f077d6e1",
   "metadata": {},
   "outputs": [
    {
     "data": {
      "text/html": [
       "<pre style=\"white-space:pre;overflow-x:auto;line-height:normal;font-family:Menlo,'DejaVu Sans Mono',consolas,'Courier New',monospace\"><span style=\"color: #7fbfbf; text-decoration-color: #7fbfbf\">[09/08/25 18:11:37] </span><span style=\"color: #000080; text-decoration-color: #000080\">INFO    </span> Using                                                                  <a href=\"file://c:\\Users\\droid\\Desktop\\Rainbow_six_kedro\\venv\\Lib\\site-packages\\kedro\\framework\\project\\__init__.py\" target=\"_blank\"><span style=\"color: #7f7f7f; text-decoration-color: #7f7f7f\">__init__.py</span></a><span style=\"color: #7f7f7f; text-decoration-color: #7f7f7f\">:</span><a href=\"file://c:\\Users\\droid\\Desktop\\Rainbow_six_kedro\\venv\\Lib\\site-packages\\kedro\\framework\\project\\__init__.py#270\" target=\"_blank\"><span style=\"color: #7f7f7f; text-decoration-color: #7f7f7f\">270</span></a>\n",
       "<span style=\"color: #7fbfbf; text-decoration-color: #7fbfbf\">                    </span>         <span style=\"color: #008000; text-decoration-color: #008000\">'c:\\Users\\droid\\Desktop\\Rainbow_six_kedro\\venv\\Lib\\site-packages\\kedro</span> <span style=\"color: #7f7f7f; text-decoration-color: #7f7f7f\">               </span>\n",
       "<span style=\"color: #7fbfbf; text-decoration-color: #7fbfbf\">                    </span>         <span style=\"color: #008000; text-decoration-color: #008000\">\\framework\\project\\rich_logging.yml'</span> as logging configuration.         <span style=\"color: #7f7f7f; text-decoration-color: #7f7f7f\">               </span>\n",
       "</pre>\n"
      ],
      "text/plain": [
       "\u001b[2;36m[09/08/25 18:11:37]\u001b[0m\u001b[2;36m \u001b[0m\u001b[34mINFO    \u001b[0m Using                                                                  \u001b]8;id=54553;file://c:\\Users\\droid\\Desktop\\Rainbow_six_kedro\\venv\\Lib\\site-packages\\kedro\\framework\\project\\__init__.py\u001b\\\u001b[2m__init__.py\u001b[0m\u001b]8;;\u001b\\\u001b[2m:\u001b[0m\u001b]8;id=642873;file://c:\\Users\\droid\\Desktop\\Rainbow_six_kedro\\venv\\Lib\\site-packages\\kedro\\framework\\project\\__init__.py#270\u001b\\\u001b[2m270\u001b[0m\u001b]8;;\u001b\\\n",
       "\u001b[2;36m                    \u001b[0m         \u001b[32m'c:\\Users\\droid\\Desktop\\Rainbow_six_kedro\\venv\\Lib\\site-packages\\kedro\u001b[0m \u001b[2m               \u001b[0m\n",
       "\u001b[2;36m                    \u001b[0m         \u001b[32m\\framework\\project\\rich_logging.yml'\u001b[0m as logging configuration.         \u001b[2m               \u001b[0m\n"
      ]
     },
     "metadata": {},
     "output_type": "display_data"
    },
    {
     "data": {
      "text/html": [
       "<pre style=\"white-space:pre;overflow-x:auto;line-height:normal;font-family:Menlo,'DejaVu Sans Mono',consolas,'Courier New',monospace\"><span style=\"color: #7fbfbf; text-decoration-color: #7fbfbf\">[09/08/25 18:11:38] </span><span style=\"color: #000080; text-decoration-color: #000080\">INFO    </span> Registered line magic <span style=\"color: #008000; text-decoration-color: #008000\">'%reload_kedro'</span>                                   <a href=\"file://c:\\Users\\droid\\Desktop\\Rainbow_six_kedro\\venv\\Lib\\site-packages\\kedro\\ipython\\__init__.py\" target=\"_blank\"><span style=\"color: #7f7f7f; text-decoration-color: #7f7f7f\">__init__.py</span></a><span style=\"color: #7f7f7f; text-decoration-color: #7f7f7f\">:</span><a href=\"file://c:\\Users\\droid\\Desktop\\Rainbow_six_kedro\\venv\\Lib\\site-packages\\kedro\\ipython\\__init__.py#63\" target=\"_blank\"><span style=\"color: #7f7f7f; text-decoration-color: #7f7f7f\">63</span></a>\n",
       "</pre>\n"
      ],
      "text/plain": [
       "\u001b[2;36m[09/08/25 18:11:38]\u001b[0m\u001b[2;36m \u001b[0m\u001b[34mINFO    \u001b[0m Registered line magic \u001b[32m'%reload_kedro'\u001b[0m                                   \u001b]8;id=486202;file://c:\\Users\\droid\\Desktop\\Rainbow_six_kedro\\venv\\Lib\\site-packages\\kedro\\ipython\\__init__.py\u001b\\\u001b[2m__init__.py\u001b[0m\u001b]8;;\u001b\\\u001b[2m:\u001b[0m\u001b]8;id=487192;file://c:\\Users\\droid\\Desktop\\Rainbow_six_kedro\\venv\\Lib\\site-packages\\kedro\\ipython\\__init__.py#63\u001b\\\u001b[2m63\u001b[0m\u001b]8;;\u001b\\\n"
      ]
     },
     "metadata": {},
     "output_type": "display_data"
    },
    {
     "data": {
      "text/html": [
       "<pre style=\"white-space:pre;overflow-x:auto;line-height:normal;font-family:Menlo,'DejaVu Sans Mono',consolas,'Courier New',monospace\"><span style=\"color: #7fbfbf; text-decoration-color: #7fbfbf\">                    </span><span style=\"color: #000080; text-decoration-color: #000080\">INFO    </span> Registered line magic <span style=\"color: #008000; text-decoration-color: #008000\">'%load_node'</span>                                      <a href=\"file://c:\\Users\\droid\\Desktop\\Rainbow_six_kedro\\venv\\Lib\\site-packages\\kedro\\ipython\\__init__.py\" target=\"_blank\"><span style=\"color: #7f7f7f; text-decoration-color: #7f7f7f\">__init__.py</span></a><span style=\"color: #7f7f7f; text-decoration-color: #7f7f7f\">:</span><a href=\"file://c:\\Users\\droid\\Desktop\\Rainbow_six_kedro\\venv\\Lib\\site-packages\\kedro\\ipython\\__init__.py#65\" target=\"_blank\"><span style=\"color: #7f7f7f; text-decoration-color: #7f7f7f\">65</span></a>\n",
       "</pre>\n"
      ],
      "text/plain": [
       "\u001b[2;36m                   \u001b[0m\u001b[2;36m \u001b[0m\u001b[34mINFO    \u001b[0m Registered line magic \u001b[32m'%load_node'\u001b[0m                                      \u001b]8;id=206325;file://c:\\Users\\droid\\Desktop\\Rainbow_six_kedro\\venv\\Lib\\site-packages\\kedro\\ipython\\__init__.py\u001b\\\u001b[2m__init__.py\u001b[0m\u001b]8;;\u001b\\\u001b[2m:\u001b[0m\u001b]8;id=546991;file://c:\\Users\\droid\\Desktop\\Rainbow_six_kedro\\venv\\Lib\\site-packages\\kedro\\ipython\\__init__.py#65\u001b\\\u001b[2m65\u001b[0m\u001b]8;;\u001b\\\n"
      ]
     },
     "metadata": {},
     "output_type": "display_data"
    },
    {
     "data": {
      "text/html": [
       "<pre style=\"white-space:pre;overflow-x:auto;line-height:normal;font-family:Menlo,'DejaVu Sans Mono',consolas,'Courier New',monospace\"><span style=\"color: #7fbfbf; text-decoration-color: #7fbfbf\">                    </span><span style=\"color: #000080; text-decoration-color: #000080\">INFO    </span> Resolved project path as:                                              <a href=\"file://c:\\Users\\droid\\Desktop\\Rainbow_six_kedro\\venv\\Lib\\site-packages\\kedro\\ipython\\__init__.py\" target=\"_blank\"><span style=\"color: #7f7f7f; text-decoration-color: #7f7f7f\">__init__.py</span></a><span style=\"color: #7f7f7f; text-decoration-color: #7f7f7f\">:</span><a href=\"file://c:\\Users\\droid\\Desktop\\Rainbow_six_kedro\\venv\\Lib\\site-packages\\kedro\\ipython\\__init__.py#180\" target=\"_blank\"><span style=\"color: #7f7f7f; text-decoration-color: #7f7f7f\">180</span></a>\n",
       "<span style=\"color: #7fbfbf; text-decoration-color: #7fbfbf\">                    </span>         c:\\Users\\droid\\Desktop\\Rainbow_six_kedro\\proyecto-ml.                  <span style=\"color: #7f7f7f; text-decoration-color: #7f7f7f\">               </span>\n",
       "<span style=\"color: #7fbfbf; text-decoration-color: #7fbfbf\">                    </span>         To set a different path, run <span style=\"color: #008000; text-decoration-color: #008000\">'%reload_kedro &lt;project_root&gt;'</span>            <span style=\"color: #7f7f7f; text-decoration-color: #7f7f7f\">               </span>\n",
       "</pre>\n"
      ],
      "text/plain": [
       "\u001b[2;36m                   \u001b[0m\u001b[2;36m \u001b[0m\u001b[34mINFO    \u001b[0m Resolved project path as:                                              \u001b]8;id=548455;file://c:\\Users\\droid\\Desktop\\Rainbow_six_kedro\\venv\\Lib\\site-packages\\kedro\\ipython\\__init__.py\u001b\\\u001b[2m__init__.py\u001b[0m\u001b]8;;\u001b\\\u001b[2m:\u001b[0m\u001b]8;id=503446;file://c:\\Users\\droid\\Desktop\\Rainbow_six_kedro\\venv\\Lib\\site-packages\\kedro\\ipython\\__init__.py#180\u001b\\\u001b[2m180\u001b[0m\u001b]8;;\u001b\\\n",
       "\u001b[2;36m                    \u001b[0m         c:\\Users\\droid\\Desktop\\Rainbow_six_kedro\\proyecto-ml.                  \u001b[2m               \u001b[0m\n",
       "\u001b[2;36m                    \u001b[0m         To set a different path, run \u001b[32m'%reload_kedro \u001b[0m\u001b[32m<\u001b[0m\u001b[32mproject_root\u001b[0m\u001b[32m>\u001b[0m\u001b[32m'\u001b[0m            \u001b[2m               \u001b[0m\n"
      ]
     },
     "metadata": {},
     "output_type": "display_data"
    },
    {
     "data": {
      "text/html": [
       "<pre style=\"white-space:pre;overflow-x:auto;line-height:normal;font-family:Menlo,'DejaVu Sans Mono',consolas,'Courier New',monospace\"><span style=\"color: #7fbfbf; text-decoration-color: #7fbfbf\">[09/08/25 18:11:46] </span><span style=\"color: #000080; text-decoration-color: #000080\">INFO    </span> Kedro is sending anonymous usage data with the sole purpose of improving <a href=\"file://c:\\Users\\droid\\Desktop\\Rainbow_six_kedro\\venv\\Lib\\site-packages\\kedro_telemetry\\plugin.py\" target=\"_blank\"><span style=\"color: #7f7f7f; text-decoration-color: #7f7f7f\">plugin.py</span></a><span style=\"color: #7f7f7f; text-decoration-color: #7f7f7f\">:</span><a href=\"file://c:\\Users\\droid\\Desktop\\Rainbow_six_kedro\\venv\\Lib\\site-packages\\kedro_telemetry\\plugin.py#243\" target=\"_blank\"><span style=\"color: #7f7f7f; text-decoration-color: #7f7f7f\">243</span></a>\n",
       "<span style=\"color: #7fbfbf; text-decoration-color: #7fbfbf\">                    </span>         the product. No personal data or IP addresses are stored on our side. To <span style=\"color: #7f7f7f; text-decoration-color: #7f7f7f\">             </span>\n",
       "<span style=\"color: #7fbfbf; text-decoration-color: #7fbfbf\">                    </span>         opt out, set the `KEDRO_DISABLE_TELEMETRY` or `DO_NOT_TRACK` environment <span style=\"color: #7f7f7f; text-decoration-color: #7f7f7f\">             </span>\n",
       "<span style=\"color: #7fbfbf; text-decoration-color: #7fbfbf\">                    </span>         variables, or create a `.telemetry` file in the current working          <span style=\"color: #7f7f7f; text-decoration-color: #7f7f7f\">             </span>\n",
       "<span style=\"color: #7fbfbf; text-decoration-color: #7fbfbf\">                    </span>         directory with the contents `consent: false`. To hide this message,      <span style=\"color: #7f7f7f; text-decoration-color: #7f7f7f\">             </span>\n",
       "<span style=\"color: #7fbfbf; text-decoration-color: #7fbfbf\">                    </span>         explicitly grant or deny consent. Read more at                           <span style=\"color: #7f7f7f; text-decoration-color: #7f7f7f\">             </span>\n",
       "<span style=\"color: #7fbfbf; text-decoration-color: #7fbfbf\">                    </span>         <span style=\"color: #0000ff; text-decoration-color: #0000ff; text-decoration: underline\">https://docs.kedro.org/en/stable/configuration/telemetry.html</span>            <span style=\"color: #7f7f7f; text-decoration-color: #7f7f7f\">             </span>\n",
       "</pre>\n"
      ],
      "text/plain": [
       "\u001b[2;36m[09/08/25 18:11:46]\u001b[0m\u001b[2;36m \u001b[0m\u001b[34mINFO    \u001b[0m Kedro is sending anonymous usage data with the sole purpose of improving \u001b]8;id=257383;file://c:\\Users\\droid\\Desktop\\Rainbow_six_kedro\\venv\\Lib\\site-packages\\kedro_telemetry\\plugin.py\u001b\\\u001b[2mplugin.py\u001b[0m\u001b]8;;\u001b\\\u001b[2m:\u001b[0m\u001b]8;id=903402;file://c:\\Users\\droid\\Desktop\\Rainbow_six_kedro\\venv\\Lib\\site-packages\\kedro_telemetry\\plugin.py#243\u001b\\\u001b[2m243\u001b[0m\u001b]8;;\u001b\\\n",
       "\u001b[2;36m                    \u001b[0m         the product. No personal data or IP addresses are stored on our side. To \u001b[2m             \u001b[0m\n",
       "\u001b[2;36m                    \u001b[0m         opt out, set the `KEDRO_DISABLE_TELEMETRY` or `DO_NOT_TRACK` environment \u001b[2m             \u001b[0m\n",
       "\u001b[2;36m                    \u001b[0m         variables, or create a `.telemetry` file in the current working          \u001b[2m             \u001b[0m\n",
       "\u001b[2;36m                    \u001b[0m         directory with the contents `consent: false`. To hide this message,      \u001b[2m             \u001b[0m\n",
       "\u001b[2;36m                    \u001b[0m         explicitly grant or deny consent. Read more at                           \u001b[2m             \u001b[0m\n",
       "\u001b[2;36m                    \u001b[0m         \u001b[4;94mhttps://docs.kedro.org/en/stable/configuration/telemetry.html\u001b[0m            \u001b[2m             \u001b[0m\n"
      ]
     },
     "metadata": {},
     "output_type": "display_data"
    },
    {
     "data": {
      "text/html": [
       "<pre style=\"white-space:pre;overflow-x:auto;line-height:normal;font-family:Menlo,'DejaVu Sans Mono',consolas,'Courier New',monospace\"><span style=\"color: #7fbfbf; text-decoration-color: #7fbfbf\">[09/08/25 18:11:47] </span><span style=\"color: #000080; text-decoration-color: #000080\">INFO    </span> Kedro project proteyecto-ml                                            <a href=\"file://c:\\Users\\droid\\Desktop\\Rainbow_six_kedro\\venv\\Lib\\site-packages\\kedro\\ipython\\__init__.py\" target=\"_blank\"><span style=\"color: #7f7f7f; text-decoration-color: #7f7f7f\">__init__.py</span></a><span style=\"color: #7f7f7f; text-decoration-color: #7f7f7f\">:</span><a href=\"file://c:\\Users\\droid\\Desktop\\Rainbow_six_kedro\\venv\\Lib\\site-packages\\kedro\\ipython\\__init__.py#146\" target=\"_blank\"><span style=\"color: #7f7f7f; text-decoration-color: #7f7f7f\">146</span></a>\n",
       "</pre>\n"
      ],
      "text/plain": [
       "\u001b[2;36m[09/08/25 18:11:47]\u001b[0m\u001b[2;36m \u001b[0m\u001b[34mINFO    \u001b[0m Kedro project proteyecto-ml                                            \u001b]8;id=283025;file://c:\\Users\\droid\\Desktop\\Rainbow_six_kedro\\venv\\Lib\\site-packages\\kedro\\ipython\\__init__.py\u001b\\\u001b[2m__init__.py\u001b[0m\u001b]8;;\u001b\\\u001b[2m:\u001b[0m\u001b]8;id=380161;file://c:\\Users\\droid\\Desktop\\Rainbow_six_kedro\\venv\\Lib\\site-packages\\kedro\\ipython\\__init__.py#146\u001b\\\u001b[2m146\u001b[0m\u001b]8;;\u001b\\\n"
      ]
     },
     "metadata": {},
     "output_type": "display_data"
    },
    {
     "data": {
      "text/html": [
       "<pre style=\"white-space:pre;overflow-x:auto;line-height:normal;font-family:Menlo,'DejaVu Sans Mono',consolas,'Courier New',monospace\"><span style=\"color: #7fbfbf; text-decoration-color: #7fbfbf\">                    </span><span style=\"color: #000080; text-decoration-color: #000080\">INFO    </span> Defined global variable <span style=\"color: #008000; text-decoration-color: #008000\">'context'</span>, <span style=\"color: #008000; text-decoration-color: #008000\">'session'</span>, <span style=\"color: #008000; text-decoration-color: #008000\">'catalog'</span> and            <a href=\"file://c:\\Users\\droid\\Desktop\\Rainbow_six_kedro\\venv\\Lib\\site-packages\\kedro\\ipython\\__init__.py\" target=\"_blank\"><span style=\"color: #7f7f7f; text-decoration-color: #7f7f7f\">__init__.py</span></a><span style=\"color: #7f7f7f; text-decoration-color: #7f7f7f\">:</span><a href=\"file://c:\\Users\\droid\\Desktop\\Rainbow_six_kedro\\venv\\Lib\\site-packages\\kedro\\ipython\\__init__.py#147\" target=\"_blank\"><span style=\"color: #7f7f7f; text-decoration-color: #7f7f7f\">147</span></a>\n",
       "<span style=\"color: #7fbfbf; text-decoration-color: #7fbfbf\">                    </span>         <span style=\"color: #008000; text-decoration-color: #008000\">'pipelines'</span>                                                            <span style=\"color: #7f7f7f; text-decoration-color: #7f7f7f\">               </span>\n",
       "</pre>\n"
      ],
      "text/plain": [
       "\u001b[2;36m                   \u001b[0m\u001b[2;36m \u001b[0m\u001b[34mINFO    \u001b[0m Defined global variable \u001b[32m'context'\u001b[0m, \u001b[32m'session'\u001b[0m, \u001b[32m'catalog'\u001b[0m and            \u001b]8;id=167380;file://c:\\Users\\droid\\Desktop\\Rainbow_six_kedro\\venv\\Lib\\site-packages\\kedro\\ipython\\__init__.py\u001b\\\u001b[2m__init__.py\u001b[0m\u001b]8;;\u001b\\\u001b[2m:\u001b[0m\u001b]8;id=961969;file://c:\\Users\\droid\\Desktop\\Rainbow_six_kedro\\venv\\Lib\\site-packages\\kedro\\ipython\\__init__.py#147\u001b\\\u001b[2m147\u001b[0m\u001b]8;;\u001b\\\n",
       "\u001b[2;36m                    \u001b[0m         \u001b[32m'pipelines'\u001b[0m                                                            \u001b[2m               \u001b[0m\n"
      ]
     },
     "metadata": {},
     "output_type": "display_data"
    },
    {
     "data": {
      "text/html": [
       "<pre style=\"white-space:pre;overflow-x:auto;line-height:normal;font-family:Menlo,'DejaVu Sans Mono',consolas,'Courier New',monospace\"><span style=\"color: #7fbfbf; text-decoration-color: #7fbfbf\">[09/08/25 18:11:49] </span><span style=\"color: #000080; text-decoration-color: #000080\">INFO    </span> Registered line magic <span style=\"color: #008000; text-decoration-color: #008000\">'run_viz'</span>                                        <a href=\"file://c:\\Users\\droid\\Desktop\\Rainbow_six_kedro\\venv\\Lib\\site-packages\\kedro\\ipython\\__init__.py\" target=\"_blank\"><span style=\"color: #7f7f7f; text-decoration-color: #7f7f7f\">__init__.py</span></a><span style=\"color: #7f7f7f; text-decoration-color: #7f7f7f\">:</span><a href=\"file://c:\\Users\\droid\\Desktop\\Rainbow_six_kedro\\venv\\Lib\\site-packages\\kedro\\ipython\\__init__.py#153\" target=\"_blank\"><span style=\"color: #7f7f7f; text-decoration-color: #7f7f7f\">153</span></a>\n",
       "</pre>\n"
      ],
      "text/plain": [
       "\u001b[2;36m[09/08/25 18:11:49]\u001b[0m\u001b[2;36m \u001b[0m\u001b[34mINFO    \u001b[0m Registered line magic \u001b[32m'run_viz'\u001b[0m                                        \u001b]8;id=437103;file://c:\\Users\\droid\\Desktop\\Rainbow_six_kedro\\venv\\Lib\\site-packages\\kedro\\ipython\\__init__.py\u001b\\\u001b[2m__init__.py\u001b[0m\u001b]8;;\u001b\\\u001b[2m:\u001b[0m\u001b]8;id=236904;file://c:\\Users\\droid\\Desktop\\Rainbow_six_kedro\\venv\\Lib\\site-packages\\kedro\\ipython\\__init__.py#153\u001b\\\u001b[2m153\u001b[0m\u001b]8;;\u001b\\\n"
      ]
     },
     "metadata": {},
     "output_type": "display_data"
    }
   ],
   "source": [
    "%load_ext kedro.ipython\n"
   ]
  },
  {
   "cell_type": "markdown",
   "id": "09c043b5",
   "metadata": {},
   "source": [
    "* cargar dataset"
   ]
  },
  {
   "cell_type": "code",
   "execution_count": 30,
   "id": "fb8d66aa",
   "metadata": {},
   "outputs": [
    {
     "data": {
      "text/html": [
       "<pre style=\"white-space:pre;overflow-x:auto;line-height:normal;font-family:Menlo,'DejaVu Sans Mono',consolas,'Courier New',monospace\"><span style=\"color: #7fbfbf; text-decoration-color: #7fbfbf\">[09/12/25 14:40:54] </span><span style=\"color: #000080; text-decoration-color: #000080\">INFO    </span> Loading data from <span style=\"color: #ff8700; text-decoration-color: #ff8700\">data_r2s-</span><span style=\"color: #008080; text-decoration-color: #008080; font-weight: bold\">0</span> <span style=\"font-weight: bold\">(</span>CSVDataset<span style=\"font-weight: bold\">)</span><span style=\"color: #808000; text-decoration-color: #808000\">...</span>                      <a href=\"file://c:\\Users\\droid\\Desktop\\Rainbow_six_kedro\\venv\\Lib\\site-packages\\kedro\\io\\data_catalog.py\" target=\"_blank\"><span style=\"color: #7f7f7f; text-decoration-color: #7f7f7f\">data_catalog.py</span></a><span style=\"color: #7f7f7f; text-decoration-color: #7f7f7f\">:</span><a href=\"file://c:\\Users\\droid\\Desktop\\Rainbow_six_kedro\\venv\\Lib\\site-packages\\kedro\\io\\data_catalog.py#1046\" target=\"_blank\"><span style=\"color: #7f7f7f; text-decoration-color: #7f7f7f\">1046</span></a>\n",
       "</pre>\n"
      ],
      "text/plain": [
       "\u001b[2;36m[09/12/25 14:40:54]\u001b[0m\u001b[2;36m \u001b[0m\u001b[34mINFO    \u001b[0m Loading data from \u001b[38;5;208mdata_r2s-\u001b[0m\u001b[1;36m0\u001b[0m \u001b[1m(\u001b[0mCSVDataset\u001b[1m)\u001b[0m\u001b[33m...\u001b[0m                      \u001b]8;id=360630;file://c:\\Users\\droid\\Desktop\\Rainbow_six_kedro\\venv\\Lib\\site-packages\\kedro\\io\\data_catalog.py\u001b\\\u001b[2mdata_catalog.py\u001b[0m\u001b]8;;\u001b\\\u001b[2m:\u001b[0m\u001b]8;id=727247;file://c:\\Users\\droid\\Desktop\\Rainbow_six_kedro\\venv\\Lib\\site-packages\\kedro\\io\\data_catalog.py#1046\u001b\\\u001b[2m1046\u001b[0m\u001b]8;;\u001b\\\n"
      ]
     },
     "metadata": {},
     "output_type": "display_data"
    }
   ],
   "source": [
    "\n",
    "data_r2s_0 = catalog.load('data_r2s-0')"
   ]
  },
  {
   "cell_type": "code",
   "execution_count": 33,
   "id": "b58d9363",
   "metadata": {},
   "outputs": [
    {
     "name": "stdout",
     "output_type": "stream",
     "text": [
      "Cantidad de registros de datos y cantidad de columnas: (4000000, 31)\n"
     ]
    }
   ],
   "source": [
    "registros_columnas = data_r2s_0.shape\n",
    "print(\"Cantidad de registros de datos y cantidad de columnas:\", registros_columnas)"
   ]
  },
  {
   "cell_type": "code",
   "execution_count": 34,
   "id": "b8f72b08",
   "metadata": {},
   "outputs": [
    {
     "data": {
      "text/html": [
       "<pre style=\"white-space:pre;overflow-x:auto;line-height:normal;font-family:Menlo,'DejaVu Sans Mono',consolas,'Courier New',monospace\"></pre>\n"
      ],
      "text/plain": []
     },
     "metadata": {},
     "output_type": "display_data"
    },
    {
     "data": {
      "text/plain": [
       "\n",
       "\u001b[1;35mIndex\u001b[0m\u001b[1m(\u001b[0m\u001b[1m[\u001b[0m\u001b[32m'dateid'\u001b[0m, \u001b[32m'platform'\u001b[0m, \u001b[32m'gamemode'\u001b[0m, \u001b[32m'mapname'\u001b[0m, \u001b[32m'matchid'\u001b[0m, \u001b[32m'roundnumber'\u001b[0m,\n",
       "       \u001b[32m'objectivelocation'\u001b[0m, \u001b[32m'winrole'\u001b[0m, \u001b[32m'endroundreason'\u001b[0m, \u001b[32m'roundduration'\u001b[0m,\n",
       "       \u001b[32m'clearancelevel'\u001b[0m, \u001b[32m'skillrank'\u001b[0m, \u001b[32m'role'\u001b[0m, \u001b[32m'team'\u001b[0m, \u001b[32m'haswon'\u001b[0m, \u001b[32m'operator'\u001b[0m,\n",
       "       \u001b[32m'nbkills'\u001b[0m, \u001b[32m'isdead'\u001b[0m, \u001b[32m'primaryweapon'\u001b[0m, \u001b[32m'primaryweapontype'\u001b[0m,\n",
       "       \u001b[32m'primarysight'\u001b[0m, \u001b[32m'primarygrip'\u001b[0m, \u001b[32m'primaryunderbarrel'\u001b[0m, \u001b[32m'primarybarrel'\u001b[0m,\n",
       "       \u001b[32m'secondaryweapon'\u001b[0m, \u001b[32m'secondaryweapontype'\u001b[0m, \u001b[32m'secondarysight'\u001b[0m,\n",
       "       \u001b[32m'secondarygrip'\u001b[0m, \u001b[32m'secondaryunderbarrel'\u001b[0m, \u001b[32m'secondarybarrel'\u001b[0m,\n",
       "       \u001b[32m'secondarygadget'\u001b[0m\u001b[1m]\u001b[0m,\n",
       "      \u001b[33mdtype\u001b[0m=\u001b[32m'object'\u001b[0m\u001b[1m)\u001b[0m"
      ]
     },
     "execution_count": 34,
     "metadata": {},
     "output_type": "execute_result"
    }
   ],
   "source": [
    "\n",
    "\n",
    "data_r2s_0.columns\n"
   ]
  },
  {
   "cell_type": "code",
   "execution_count": null,
   "id": "b08a0da3",
   "metadata": {},
   "outputs": [
    {
     "data": {
      "text/html": [
       "<pre style=\"white-space:pre;overflow-x:auto;line-height:normal;font-family:Menlo,'DejaVu Sans Mono',consolas,'Courier New',monospace\"></pre>\n"
      ],
      "text/plain": []
     },
     "metadata": {},
     "output_type": "display_data"
    },
    {
     "data": {
      "text/html": [
       "<div>\n",
       "<style scoped>\n",
       "    .dataframe tbody tr th:only-of-type {\n",
       "        vertical-align: middle;\n",
       "    }\n",
       "\n",
       "    .dataframe tbody tr th {\n",
       "        vertical-align: top;\n",
       "    }\n",
       "\n",
       "    .dataframe thead th {\n",
       "        text-align: right;\n",
       "    }\n",
       "</style>\n",
       "<table border=\"1\" class=\"dataframe\">\n",
       "  <thead>\n",
       "    <tr style=\"text-align: right;\">\n",
       "      <th></th>\n",
       "      <th>dateid</th>\n",
       "      <th>platform</th>\n",
       "      <th>gamemode</th>\n",
       "      <th>mapname</th>\n",
       "      <th>matchid</th>\n",
       "      <th>roundnumber</th>\n",
       "      <th>objectivelocation</th>\n",
       "      <th>winrole</th>\n",
       "      <th>endroundreason</th>\n",
       "      <th>roundduration</th>\n",
       "      <th>...</th>\n",
       "      <th>primarygrip</th>\n",
       "      <th>primaryunderbarrel</th>\n",
       "      <th>primarybarrel</th>\n",
       "      <th>secondaryweapon</th>\n",
       "      <th>secondaryweapontype</th>\n",
       "      <th>secondarysight</th>\n",
       "      <th>secondarygrip</th>\n",
       "      <th>secondaryunderbarrel</th>\n",
       "      <th>secondarybarrel</th>\n",
       "      <th>secondarygadget</th>\n",
       "    </tr>\n",
       "  </thead>\n",
       "  <tbody>\n",
       "    <tr>\n",
       "      <th>0</th>\n",
       "      <td>20170212</td>\n",
       "      <td>PC</td>\n",
       "      <td>HOSTAGE</td>\n",
       "      <td>CLUB_HOUSE</td>\n",
       "      <td>1522380841</td>\n",
       "      <td>1</td>\n",
       "      <td>STRIP_CLUB</td>\n",
       "      <td>Defender</td>\n",
       "      <td>AttackersKilledHostage</td>\n",
       "      <td>124</td>\n",
       "      <td>...</td>\n",
       "      <td>Vertical</td>\n",
       "      <td>NaN</td>\n",
       "      <td>Compensator</td>\n",
       "      <td>5.7_USG</td>\n",
       "      <td>Pistols</td>\n",
       "      <td>NaN</td>\n",
       "      <td>NaN</td>\n",
       "      <td>NaN</td>\n",
       "      <td>NaN</td>\n",
       "      <td>IMPACT_GRENADE</td>\n",
       "    </tr>\n",
       "    <tr>\n",
       "      <th>1</th>\n",
       "      <td>20170212</td>\n",
       "      <td>PC</td>\n",
       "      <td>HOSTAGE</td>\n",
       "      <td>CLUB_HOUSE</td>\n",
       "      <td>1522380841</td>\n",
       "      <td>4</td>\n",
       "      <td>CHURCH</td>\n",
       "      <td>Defender</td>\n",
       "      <td>AttackersEliminated</td>\n",
       "      <td>217</td>\n",
       "      <td>...</td>\n",
       "      <td>Vertical</td>\n",
       "      <td>Laser</td>\n",
       "      <td>Suppressor</td>\n",
       "      <td>P12</td>\n",
       "      <td>Pistols</td>\n",
       "      <td>NaN</td>\n",
       "      <td>NaN</td>\n",
       "      <td>Laser</td>\n",
       "      <td>Suppressor</td>\n",
       "      <td>DEPLOYABLE_SHIELD</td>\n",
       "    </tr>\n",
       "    <tr>\n",
       "      <th>2</th>\n",
       "      <td>20170212</td>\n",
       "      <td>PC</td>\n",
       "      <td>HOSTAGE</td>\n",
       "      <td>CLUB_HOUSE</td>\n",
       "      <td>1522380841</td>\n",
       "      <td>3</td>\n",
       "      <td>CHURCH</td>\n",
       "      <td>Defender</td>\n",
       "      <td>AttackersEliminated</td>\n",
       "      <td>160</td>\n",
       "      <td>...</td>\n",
       "      <td>NaN</td>\n",
       "      <td>NaN</td>\n",
       "      <td>NaN</td>\n",
       "      <td>MK1_9mm</td>\n",
       "      <td>Pistols</td>\n",
       "      <td>NaN</td>\n",
       "      <td>NaN</td>\n",
       "      <td>NaN</td>\n",
       "      <td>NaN</td>\n",
       "      <td>DEPLOYABLE_SHIELD</td>\n",
       "    </tr>\n",
       "    <tr>\n",
       "      <th>3</th>\n",
       "      <td>20170212</td>\n",
       "      <td>PC</td>\n",
       "      <td>HOSTAGE</td>\n",
       "      <td>CLUB_HOUSE</td>\n",
       "      <td>1522380841</td>\n",
       "      <td>4</td>\n",
       "      <td>CHURCH</td>\n",
       "      <td>Defender</td>\n",
       "      <td>AttackersEliminated</td>\n",
       "      <td>217</td>\n",
       "      <td>...</td>\n",
       "      <td>NaN</td>\n",
       "      <td>NaN</td>\n",
       "      <td>MuzzleBrake</td>\n",
       "      <td>PRB92</td>\n",
       "      <td>Pistols</td>\n",
       "      <td>NaN</td>\n",
       "      <td>NaN</td>\n",
       "      <td>NaN</td>\n",
       "      <td>NaN</td>\n",
       "      <td>IMPACT_GRENADE</td>\n",
       "    </tr>\n",
       "    <tr>\n",
       "      <th>4</th>\n",
       "      <td>20170212</td>\n",
       "      <td>PC</td>\n",
       "      <td>HOSTAGE</td>\n",
       "      <td>CLUB_HOUSE</td>\n",
       "      <td>1522380841</td>\n",
       "      <td>6</td>\n",
       "      <td>BEDROOM</td>\n",
       "      <td>Attacker</td>\n",
       "      <td>DefendersEliminated</td>\n",
       "      <td>143</td>\n",
       "      <td>...</td>\n",
       "      <td>Vertical</td>\n",
       "      <td>Laser</td>\n",
       "      <td>Suppressor</td>\n",
       "      <td>P12</td>\n",
       "      <td>Pistols</td>\n",
       "      <td>NaN</td>\n",
       "      <td>NaN</td>\n",
       "      <td>Laser</td>\n",
       "      <td>Suppressor</td>\n",
       "      <td>DEPLOYABLE_SHIELD</td>\n",
       "    </tr>\n",
       "  </tbody>\n",
       "</table>\n",
       "<p>5 rows × 31 columns</p>\n",
       "</div>"
      ],
      "text/plain": [
       "\n",
       "     dateid platform gamemode     mapname     matchid  roundnumber  \\\n",
       "\u001b[1;36m0\u001b[0m  \u001b[1;36m20170212\u001b[0m       PC  HOSTAGE  CLUB_HOUSE  \u001b[1;36m1522380841\u001b[0m            \u001b[1;36m1\u001b[0m   \n",
       "\u001b[1;36m1\u001b[0m  \u001b[1;36m20170212\u001b[0m       PC  HOSTAGE  CLUB_HOUSE  \u001b[1;36m1522380841\u001b[0m            \u001b[1;36m4\u001b[0m   \n",
       "\u001b[1;36m2\u001b[0m  \u001b[1;36m20170212\u001b[0m       PC  HOSTAGE  CLUB_HOUSE  \u001b[1;36m1522380841\u001b[0m            \u001b[1;36m3\u001b[0m   \n",
       "\u001b[1;36m3\u001b[0m  \u001b[1;36m20170212\u001b[0m       PC  HOSTAGE  CLUB_HOUSE  \u001b[1;36m1522380841\u001b[0m            \u001b[1;36m4\u001b[0m   \n",
       "\u001b[1;36m4\u001b[0m  \u001b[1;36m20170212\u001b[0m       PC  HOSTAGE  CLUB_HOUSE  \u001b[1;36m1522380841\u001b[0m            \u001b[1;36m6\u001b[0m   \n",
       "\n",
       "  objectivelocation   winrole          endroundreason  roundduration  \u001b[33m...\u001b[0m  \\\n",
       "\u001b[1;36m0\u001b[0m        STRIP_CLUB  Defender  AttackersKilledHostage            \u001b[1;36m124\u001b[0m  \u001b[33m...\u001b[0m   \n",
       "\u001b[1;36m1\u001b[0m            CHURCH  Defender     AttackersEliminated            \u001b[1;36m217\u001b[0m  \u001b[33m...\u001b[0m   \n",
       "\u001b[1;36m2\u001b[0m            CHURCH  Defender     AttackersEliminated            \u001b[1;36m160\u001b[0m  \u001b[33m...\u001b[0m   \n",
       "\u001b[1;36m3\u001b[0m            CHURCH  Defender     AttackersEliminated            \u001b[1;36m217\u001b[0m  \u001b[33m...\u001b[0m   \n",
       "\u001b[1;36m4\u001b[0m           BEDROOM  Attacker     DefendersEliminated            \u001b[1;36m143\u001b[0m  \u001b[33m...\u001b[0m   \n",
       "\n",
       "   primarygrip primaryunderbarrel primarybarrel  secondaryweapon  \\\n",
       "\u001b[1;36m0\u001b[0m     Vertical                NaN   Compensator          \u001b[1;36m5.\u001b[0m7_USG   \n",
       "\u001b[1;36m1\u001b[0m     Vertical              Laser    Suppressor              P12   \n",
       "\u001b[1;36m2\u001b[0m          NaN                NaN           NaN          MK1_9mm   \n",
       "\u001b[1;36m3\u001b[0m          NaN                NaN   MuzzleBrake            PRB92   \n",
       "\u001b[1;36m4\u001b[0m     Vertical              Laser    Suppressor              P12   \n",
       "\n",
       "   secondaryweapontype secondarysight  secondarygrip  secondaryunderbarrel  \\\n",
       "\u001b[1;36m0\u001b[0m              Pistols            NaN            NaN                   NaN   \n",
       "\u001b[1;36m1\u001b[0m              Pistols            NaN            NaN                 Laser   \n",
       "\u001b[1;36m2\u001b[0m              Pistols            NaN            NaN                   NaN   \n",
       "\u001b[1;36m3\u001b[0m              Pistols            NaN            NaN                   NaN   \n",
       "\u001b[1;36m4\u001b[0m              Pistols            NaN            NaN                 Laser   \n",
       "\n",
       "  secondarybarrel    secondarygadget  \n",
       "\u001b[1;36m0\u001b[0m             NaN     IMPACT_GRENADE  \n",
       "\u001b[1;36m1\u001b[0m      Suppressor  DEPLOYABLE_SHIELD  \n",
       "\u001b[1;36m2\u001b[0m             NaN  DEPLOYABLE_SHIELD  \n",
       "\u001b[1;36m3\u001b[0m             NaN     IMPACT_GRENADE  \n",
       "\u001b[1;36m4\u001b[0m      Suppressor  DEPLOYABLE_SHIELD  \n",
       "\n",
       "\u001b[1m[\u001b[0m\u001b[1;36m5\u001b[0m rows x \u001b[1;36m31\u001b[0m columns\u001b[1m]\u001b[0m"
      ]
     },
     "execution_count": 10,
     "metadata": {},
     "output_type": "execute_result"
    }
   ],
   "source": [
    "#visualization de las primeras 5  filas del dataset\n",
    "data_r2s_0.head(5)"
   ]
  },
  {
   "cell_type": "code",
   "execution_count": null,
   "id": "9fdcae8c",
   "metadata": {},
   "outputs": [
    {
     "data": {
      "text/html": [
       "<pre style=\"white-space:pre;overflow-x:auto;line-height:normal;font-family:Menlo,'DejaVu Sans Mono',consolas,'Courier New',monospace\"></pre>\n"
      ],
      "text/plain": []
     },
     "metadata": {},
     "output_type": "display_data"
    },
    {
     "data": {
      "text/html": [
       "<div>\n",
       "<style scoped>\n",
       "    .dataframe tbody tr th:only-of-type {\n",
       "        vertical-align: middle;\n",
       "    }\n",
       "\n",
       "    .dataframe tbody tr th {\n",
       "        vertical-align: top;\n",
       "    }\n",
       "\n",
       "    .dataframe thead th {\n",
       "        text-align: right;\n",
       "    }\n",
       "</style>\n",
       "<table border=\"1\" class=\"dataframe\">\n",
       "  <thead>\n",
       "    <tr style=\"text-align: right;\">\n",
       "      <th></th>\n",
       "      <th>dateid</th>\n",
       "      <th>platform</th>\n",
       "      <th>gamemode</th>\n",
       "      <th>mapname</th>\n",
       "      <th>matchid</th>\n",
       "      <th>roundnumber</th>\n",
       "      <th>objectivelocation</th>\n",
       "      <th>winrole</th>\n",
       "      <th>endroundreason</th>\n",
       "      <th>roundduration</th>\n",
       "      <th>...</th>\n",
       "      <th>primarygrip</th>\n",
       "      <th>primaryunderbarrel</th>\n",
       "      <th>primarybarrel</th>\n",
       "      <th>secondaryweapon</th>\n",
       "      <th>secondaryweapontype</th>\n",
       "      <th>secondarysight</th>\n",
       "      <th>secondarygrip</th>\n",
       "      <th>secondaryunderbarrel</th>\n",
       "      <th>secondarybarrel</th>\n",
       "      <th>secondarygadget</th>\n",
       "    </tr>\n",
       "  </thead>\n",
       "  <tbody>\n",
       "    <tr>\n",
       "      <th>19999995</th>\n",
       "      <td>20170310</td>\n",
       "      <td>XONE</td>\n",
       "      <td>SECURE_AREA</td>\n",
       "      <td>HOUSE</td>\n",
       "      <td>4213607369</td>\n",
       "      <td>6</td>\n",
       "      <td>KID'S_BEDROOM</td>\n",
       "      <td>Defender</td>\n",
       "      <td>AttackersEliminated</td>\n",
       "      <td>186</td>\n",
       "      <td>...</td>\n",
       "      <td>Vertical</td>\n",
       "      <td>Laser</td>\n",
       "      <td>Compensator</td>\n",
       "      <td>P9</td>\n",
       "      <td>Pistols</td>\n",
       "      <td>NaN</td>\n",
       "      <td>NaN</td>\n",
       "      <td>NaN</td>\n",
       "      <td>NaN</td>\n",
       "      <td>BREACH_CHARGE</td>\n",
       "    </tr>\n",
       "    <tr>\n",
       "      <th>19999996</th>\n",
       "      <td>20170310</td>\n",
       "      <td>XONE</td>\n",
       "      <td>SECURE_AREA</td>\n",
       "      <td>HOUSE</td>\n",
       "      <td>4213607369</td>\n",
       "      <td>3</td>\n",
       "      <td>KID'S_BEDROOM</td>\n",
       "      <td>Attacker</td>\n",
       "      <td>DefendersEliminated</td>\n",
       "      <td>160</td>\n",
       "      <td>...</td>\n",
       "      <td>Vertical</td>\n",
       "      <td>NaN</td>\n",
       "      <td>Compensator</td>\n",
       "      <td>SMG-11</td>\n",
       "      <td>Submachine_Guns</td>\n",
       "      <td>RedDot</td>\n",
       "      <td>Vertical</td>\n",
       "      <td>NaN</td>\n",
       "      <td>HeavyBarrel</td>\n",
       "      <td>FRAG_GRENADE</td>\n",
       "    </tr>\n",
       "    <tr>\n",
       "      <th>19999997</th>\n",
       "      <td>20170310</td>\n",
       "      <td>XONE</td>\n",
       "      <td>SECURE_AREA</td>\n",
       "      <td>HOUSE</td>\n",
       "      <td>4213607369</td>\n",
       "      <td>1</td>\n",
       "      <td>GARAGE</td>\n",
       "      <td>Defender</td>\n",
       "      <td>AttackersEliminated</td>\n",
       "      <td>177</td>\n",
       "      <td>...</td>\n",
       "      <td>NaN</td>\n",
       "      <td>NaN</td>\n",
       "      <td>NaN</td>\n",
       "      <td>P12</td>\n",
       "      <td>Pistols</td>\n",
       "      <td>NaN</td>\n",
       "      <td>NaN</td>\n",
       "      <td>NaN</td>\n",
       "      <td>NaN</td>\n",
       "      <td>BARBED_WIRE</td>\n",
       "    </tr>\n",
       "    <tr>\n",
       "      <th>19999998</th>\n",
       "      <td>20170310</td>\n",
       "      <td>XONE</td>\n",
       "      <td>SECURE_AREA</td>\n",
       "      <td>HOUSE</td>\n",
       "      <td>4213607369</td>\n",
       "      <td>1</td>\n",
       "      <td>GARAGE</td>\n",
       "      <td>Defender</td>\n",
       "      <td>AttackersEliminated</td>\n",
       "      <td>177</td>\n",
       "      <td>...</td>\n",
       "      <td>NaN</td>\n",
       "      <td>NaN</td>\n",
       "      <td>NaN</td>\n",
       "      <td>PRB92</td>\n",
       "      <td>Pistols</td>\n",
       "      <td>NaN</td>\n",
       "      <td>NaN</td>\n",
       "      <td>NaN</td>\n",
       "      <td>NaN</td>\n",
       "      <td>IMPACT_GRENADE</td>\n",
       "    </tr>\n",
       "    <tr>\n",
       "      <th>19999999</th>\n",
       "      <td>20170310</td>\n",
       "      <td>XONE</td>\n",
       "      <td>SECURE_AREA</td>\n",
       "      <td>HOUSE</td>\n",
       "      <td>4213607369</td>\n",
       "      <td>6</td>\n",
       "      <td>KID'S_BEDROOM</td>\n",
       "      <td>Defender</td>\n",
       "      <td>AttackersEliminated</td>\n",
       "      <td>186</td>\n",
       "      <td>...</td>\n",
       "      <td>Vertical</td>\n",
       "      <td>NaN</td>\n",
       "      <td>NaN</td>\n",
       "      <td>M45_MEUSOC</td>\n",
       "      <td>Pistols</td>\n",
       "      <td>NaN</td>\n",
       "      <td>NaN</td>\n",
       "      <td>NaN</td>\n",
       "      <td>NaN</td>\n",
       "      <td>IMPACT_GRENADE</td>\n",
       "    </tr>\n",
       "  </tbody>\n",
       "</table>\n",
       "<p>5 rows × 31 columns</p>\n",
       "</div>"
      ],
      "text/plain": [
       "\n",
       "            dateid platform     gamemode mapname     matchid  roundnumber  \\\n",
       "\u001b[1;36m19999995\u001b[0m  \u001b[1;36m20170310\u001b[0m     XONE  SECURE_AREA   HOUSE  \u001b[1;36m4213607369\u001b[0m            \u001b[1;36m6\u001b[0m   \n",
       "\u001b[1;36m19999996\u001b[0m  \u001b[1;36m20170310\u001b[0m     XONE  SECURE_AREA   HOUSE  \u001b[1;36m4213607369\u001b[0m            \u001b[1;36m3\u001b[0m   \n",
       "\u001b[1;36m19999997\u001b[0m  \u001b[1;36m20170310\u001b[0m     XONE  SECURE_AREA   HOUSE  \u001b[1;36m4213607369\u001b[0m            \u001b[1;36m1\u001b[0m   \n",
       "\u001b[1;36m19999998\u001b[0m  \u001b[1;36m20170310\u001b[0m     XONE  SECURE_AREA   HOUSE  \u001b[1;36m4213607369\u001b[0m            \u001b[1;36m1\u001b[0m   \n",
       "\u001b[1;36m19999999\u001b[0m  \u001b[1;36m20170310\u001b[0m     XONE  SECURE_AREA   HOUSE  \u001b[1;36m4213607369\u001b[0m            \u001b[1;36m6\u001b[0m   \n",
       "\n",
       "         objectivelocation   winrole       endroundreason  roundduration  \u001b[33m...\u001b[0m  \\\n",
       "\u001b[1;36m19999995\u001b[0m     KID'S_BEDROOM  Defender  AttackersEliminated            \u001b[1;36m186\u001b[0m  \u001b[33m...\u001b[0m   \n",
       "\u001b[1;36m19999996\u001b[0m     KID'S_BEDROOM  Attacker  DefendersEliminated            \u001b[1;36m160\u001b[0m  \u001b[33m...\u001b[0m   \n",
       "\u001b[1;36m19999997\u001b[0m            GARAGE  Defender  AttackersEliminated            \u001b[1;36m177\u001b[0m  \u001b[33m...\u001b[0m   \n",
       "\u001b[1;36m19999998\u001b[0m            GARAGE  Defender  AttackersEliminated            \u001b[1;36m177\u001b[0m  \u001b[33m...\u001b[0m   \n",
       "\u001b[1;36m19999999\u001b[0m     KID'S_BEDROOM  Defender  AttackersEliminated            \u001b[1;36m186\u001b[0m  \u001b[33m...\u001b[0m   \n",
       "\n",
       "          primarygrip primaryunderbarrel primarybarrel  secondaryweapon  \\\n",
       "\u001b[1;36m19999995\u001b[0m     Vertical              Laser   Compensator               P9   \n",
       "\u001b[1;36m19999996\u001b[0m     Vertical                NaN   Compensator           SMG-\u001b[1;36m11\u001b[0m   \n",
       "\u001b[1;36m19999997\u001b[0m          NaN                NaN           NaN              P12   \n",
       "\u001b[1;36m19999998\u001b[0m          NaN                NaN           NaN            PRB92   \n",
       "\u001b[1;36m19999999\u001b[0m     Vertical                NaN           NaN       M45_MEUSOC   \n",
       "\n",
       "          secondaryweapontype secondarysight  secondarygrip  \\\n",
       "\u001b[1;36m19999995\u001b[0m              Pistols            NaN            NaN   \n",
       "\u001b[1;36m19999996\u001b[0m      Submachine_Guns         RedDot       Vertical   \n",
       "\u001b[1;36m19999997\u001b[0m              Pistols            NaN            NaN   \n",
       "\u001b[1;36m19999998\u001b[0m              Pistols            NaN            NaN   \n",
       "\u001b[1;36m19999999\u001b[0m              Pistols            NaN            NaN   \n",
       "\n",
       "          secondaryunderbarrel secondarybarrel secondarygadget  \n",
       "\u001b[1;36m19999995\u001b[0m                   NaN             NaN   BREACH_CHARGE  \n",
       "\u001b[1;36m19999996\u001b[0m                   NaN     HeavyBarrel    FRAG_GRENADE  \n",
       "\u001b[1;36m19999997\u001b[0m                   NaN             NaN     BARBED_WIRE  \n",
       "\u001b[1;36m19999998\u001b[0m                   NaN             NaN  IMPACT_GRENADE  \n",
       "\u001b[1;36m19999999\u001b[0m                   NaN             NaN  IMPACT_GRENADE  \n",
       "\n",
       "\u001b[1m[\u001b[0m\u001b[1;36m5\u001b[0m rows x \u001b[1;36m31\u001b[0m columns\u001b[1m]\u001b[0m"
      ]
     },
     "execution_count": 11,
     "metadata": {},
     "output_type": "execute_result"
    }
   ],
   "source": [
    "\n",
    "# Mostramos los ultimos 5 registros del dataframe usando la función `tail()`\n",
    "data_r2s_0.tail()"
   ]
  },
  {
   "cell_type": "code",
   "execution_count": 12,
   "id": "dd04d06b",
   "metadata": {
    "vscode": {
     "languageId": "markdown"
    }
   },
   "outputs": [
    {
     "data": {
      "text/html": [
       "<pre style=\"white-space:pre;overflow-x:auto;line-height:normal;font-family:Menlo,'DejaVu Sans Mono',consolas,'Courier New',monospace\"></pre>\n"
      ],
      "text/plain": []
     },
     "metadata": {},
     "output_type": "display_data"
    },
    {
     "data": {
      "text/html": [
       "<div>\n",
       "<style scoped>\n",
       "    .dataframe tbody tr th:only-of-type {\n",
       "        vertical-align: middle;\n",
       "    }\n",
       "\n",
       "    .dataframe tbody tr th {\n",
       "        vertical-align: top;\n",
       "    }\n",
       "\n",
       "    .dataframe thead th {\n",
       "        text-align: right;\n",
       "    }\n",
       "</style>\n",
       "<table border=\"1\" class=\"dataframe\">\n",
       "  <thead>\n",
       "    <tr style=\"text-align: right;\">\n",
       "      <th></th>\n",
       "      <th>dateid</th>\n",
       "      <th>platform</th>\n",
       "      <th>gamemode</th>\n",
       "      <th>mapname</th>\n",
       "      <th>matchid</th>\n",
       "      <th>roundnumber</th>\n",
       "      <th>objectivelocation</th>\n",
       "      <th>winrole</th>\n",
       "      <th>endroundreason</th>\n",
       "      <th>roundduration</th>\n",
       "      <th>...</th>\n",
       "      <th>primarygrip</th>\n",
       "      <th>primaryunderbarrel</th>\n",
       "      <th>primarybarrel</th>\n",
       "      <th>secondaryweapon</th>\n",
       "      <th>secondaryweapontype</th>\n",
       "      <th>secondarysight</th>\n",
       "      <th>secondarygrip</th>\n",
       "      <th>secondaryunderbarrel</th>\n",
       "      <th>secondarybarrel</th>\n",
       "      <th>secondarygadget</th>\n",
       "    </tr>\n",
       "  </thead>\n",
       "  <tbody>\n",
       "    <tr>\n",
       "      <th>18552290</th>\n",
       "      <td>20170509</td>\n",
       "      <td>PS4</td>\n",
       "      <td>BOMB</td>\n",
       "      <td>COASTLINE</td>\n",
       "      <td>1678542981</td>\n",
       "      <td>1</td>\n",
       "      <td>2F_PENTHOUSE-2F_THEATER</td>\n",
       "      <td>Defender</td>\n",
       "      <td>AttackersEliminated</td>\n",
       "      <td>183</td>\n",
       "      <td>...</td>\n",
       "      <td>Angle</td>\n",
       "      <td>NaN</td>\n",
       "      <td>HeavyBarrel</td>\n",
       "      <td>MK1_9mm</td>\n",
       "      <td>Pistols</td>\n",
       "      <td>NaN</td>\n",
       "      <td>NaN</td>\n",
       "      <td>Laser</td>\n",
       "      <td>MuzzleBrake</td>\n",
       "      <td>DEPLOYABLE_SHIELD</td>\n",
       "    </tr>\n",
       "  </tbody>\n",
       "</table>\n",
       "<p>1 rows × 31 columns</p>\n",
       "</div>"
      ],
      "text/plain": [
       "\n",
       "            dateid platform gamemode    mapname     matchid  roundnumber  \\\n",
       "\u001b[1;36m18552290\u001b[0m  \u001b[1;36m20170509\u001b[0m      PS4     BOMB  COASTLINE  \u001b[1;36m1678542981\u001b[0m            \u001b[1;36m1\u001b[0m   \n",
       "\n",
       "                objectivelocation   winrole       endroundreason  \\\n",
       "\u001b[1;36m18552290\u001b[0m  2F_PENTHOUSE-2F_THEATER  Defender  AttackersEliminated   \n",
       "\n",
       "          roundduration  \u001b[33m...\u001b[0m  primarygrip primaryunderbarrel primarybarrel  \\\n",
       "\u001b[1;36m18552290\u001b[0m            \u001b[1;36m183\u001b[0m  \u001b[33m...\u001b[0m        Angle                NaN   HeavyBarrel   \n",
       "\n",
       "          secondaryweapon  secondaryweapontype secondarysight  secondarygrip  \\\n",
       "\u001b[1;36m18552290\u001b[0m          MK1_9mm              Pistols            NaN            NaN   \n",
       "\n",
       "          secondaryunderbarrel secondarybarrel    secondarygadget  \n",
       "\u001b[1;36m18552290\u001b[0m                 Laser     MuzzleBrake  DEPLOYABLE_SHIELD  \n",
       "\n",
       "\u001b[1m[\u001b[0m\u001b[1;36m1\u001b[0m rows x \u001b[1;36m31\u001b[0m columns\u001b[1m]\u001b[0m"
      ]
     },
     "execution_count": 12,
     "metadata": {},
     "output_type": "execute_result"
    }
   ],
   "source": [
    "\n",
    "\n",
    "# - observacion de 1 registro aleatorio utilizando `sample()` para identificar sus caracteristicas\n",
    "combined_data.sample()"
   ]
  },
  {
   "cell_type": "code",
   "execution_count": null,
   "id": "73bbf7fc",
   "metadata": {},
   "outputs": [
    {
     "name": "stdout",
     "output_type": "stream",
     "text": [
      "Cantidad de filas: 20000000, Cantidad de columnas: 31\n"
     ]
    }
   ],
   "source": [
    "#ver cantidad de datos en total y columnas en un prints\n",
    "print(f\"Cantidad de filas: {data_r2s_0.shape[0]}, Cantidad de columnas: {data_r2s_0.shape[1]}\")"
   ]
  },
  {
   "cell_type": "markdown",
   "id": "1d0be4c3",
   "metadata": {},
   "source": [
    "observacion general:"
   ]
  },
  {
   "cell_type": "code",
   "execution_count": null,
   "id": "b3d2b9d6",
   "metadata": {},
   "outputs": [
    {
     "name": "stdout",
     "output_type": "stream",
     "text": [
      "<class 'pandas.core.frame.DataFrame'>\n",
      "RangeIndex: 20000000 entries, 0 to 19999999\n",
      "Data columns (total 31 columns):\n",
      " #   Column                Dtype \n",
      "---  ------                ----- \n",
      " 0   dateid                int64 \n",
      " 1   platform              object\n",
      " 2   gamemode              object\n",
      " 3   mapname               object\n",
      " 4   matchid               int64 \n",
      " 5   roundnumber           int64 \n",
      " 6   objectivelocation     object\n",
      " 7   winrole               object\n",
      " 8   endroundreason        object\n",
      " 9   roundduration         int64 \n",
      " 10  clearancelevel        int64 \n",
      " 11  skillrank             object\n",
      " 12  role                  object\n",
      " 13  team                  int64 \n",
      " 14  haswon                int64 \n",
      " 15  operator              object\n",
      " 16  nbkills               int64 \n",
      " 17  isdead                int64 \n",
      " 18  primaryweapon         object\n",
      " 19  primaryweapontype     object\n",
      " 20  primarysight          object\n",
      " 21  primarygrip           object\n",
      " 22  primaryunderbarrel    object\n",
      " 23  primarybarrel         object\n",
      " 24  secondaryweapon       object\n",
      " 25  secondaryweapontype   object\n",
      " 26  secondarysight        object\n",
      " 27  secondarygrip         object\n",
      " 28  secondaryunderbarrel  object\n",
      " 29  secondarybarrel       object\n",
      " 30  secondarygadget       object\n",
      "dtypes: int64(9), object(22)\n",
      "memory usage: 4.6+ GB\n"
     ]
    }
   ],
   "source": [
    "#verificacion de tipos de datos como int y string(object)\n",
    "data_r2s_0.info()"
   ]
  },
  {
   "cell_type": "markdown",
   "id": "8187d8f6",
   "metadata": {},
   "source": [
    "* datos duplicado"
   ]
  },
  {
   "cell_type": "code",
   "execution_count": 57,
   "id": "5e4931ad",
   "metadata": {},
   "outputs": [
    {
     "name": "stdout",
     "output_type": "stream",
     "text": [
      "número de filas duplicadas:  (620, 31)\n"
     ]
    }
   ],
   "source": [
    "duplicate_rows_df = combined_data[combined_data.duplicated()]\n",
    "print(\"número de filas duplicadas: \", duplicate_rows_df.shape)"
   ]
  },
  {
   "cell_type": "markdown",
   "id": "681b9ed5",
   "metadata": {},
   "source": [
    "valores nulos"
   ]
  },
  {
   "cell_type": "code",
   "execution_count": 58,
   "id": "ddf44ec5",
   "metadata": {},
   "outputs": [
    {
     "data": {
      "text/html": [
       "<pre style=\"white-space:pre;overflow-x:auto;line-height:normal;font-family:Menlo,'DejaVu Sans Mono',consolas,'Courier New',monospace\"></pre>\n"
      ],
      "text/plain": []
     },
     "metadata": {},
     "output_type": "display_data"
    },
    {
     "data": {
      "text/plain": [
       "\n",
       "\u001b[1;35mIndex\u001b[0m\u001b[1m(\u001b[0m\u001b[1m[\u001b[0m\u001b[32m'primarysight'\u001b[0m, \u001b[32m'primarygrip'\u001b[0m, \u001b[32m'primaryunderbarrel'\u001b[0m, \u001b[32m'primarybarrel'\u001b[0m,\n",
       "       \u001b[32m'secondarysight'\u001b[0m, \u001b[32m'secondarygrip'\u001b[0m, \u001b[32m'secondaryunderbarrel'\u001b[0m,\n",
       "       \u001b[32m'secondarybarrel'\u001b[0m\u001b[1m]\u001b[0m,\n",
       "      \u001b[33mdtype\u001b[0m=\u001b[32m'object'\u001b[0m\u001b[1m)\u001b[0m"
      ]
     },
     "execution_count": 58,
     "metadata": {},
     "output_type": "execute_result"
    }
   ],
   "source": [
    "\n",
    "\n",
    "# Identificando que columnas que contienen datos faltantes\n",
    "combined_data.columns[combined_data.isnull().any()]"
   ]
  },
  {
   "cell_type": "code",
   "execution_count": 59,
   "id": "ab3a86e2",
   "metadata": {},
   "outputs": [
    {
     "data": {
      "text/html": [
       "<pre style=\"white-space:pre;overflow-x:auto;line-height:normal;font-family:Menlo,'DejaVu Sans Mono',consolas,'Courier New',monospace\"></pre>\n"
      ],
      "text/plain": []
     },
     "metadata": {},
     "output_type": "display_data"
    },
    {
     "data": {
      "text/plain": [
       "\n",
       "dateid                        \u001b[1;36m0\u001b[0m\n",
       "platform                      \u001b[1;36m0\u001b[0m\n",
       "gamemode                      \u001b[1;36m0\u001b[0m\n",
       "mapname                       \u001b[1;36m0\u001b[0m\n",
       "matchid                       \u001b[1;36m0\u001b[0m\n",
       "roundnumber                   \u001b[1;36m0\u001b[0m\n",
       "objectivelocation             \u001b[1;36m0\u001b[0m\n",
       "winrole                       \u001b[1;36m0\u001b[0m\n",
       "endroundreason                \u001b[1;36m0\u001b[0m\n",
       "roundduration                 \u001b[1;36m0\u001b[0m\n",
       "clearancelevel                \u001b[1;36m0\u001b[0m\n",
       "skillrank                     \u001b[1;36m0\u001b[0m\n",
       "role                          \u001b[1;36m0\u001b[0m\n",
       "team                          \u001b[1;36m0\u001b[0m\n",
       "haswon                        \u001b[1;36m0\u001b[0m\n",
       "operator                      \u001b[1;36m0\u001b[0m\n",
       "nbkills                       \u001b[1;36m0\u001b[0m\n",
       "isdead                        \u001b[1;36m0\u001b[0m\n",
       "primaryweapon                 \u001b[1;36m0\u001b[0m\n",
       "primaryweapontype             \u001b[1;36m0\u001b[0m\n",
       "primarysight             \u001b[1;36m322415\u001b[0m\n",
       "primarygrip             \u001b[1;36m1226992\u001b[0m\n",
       "primaryunderbarrel      \u001b[1;36m3374936\u001b[0m\n",
       "primarybarrel            \u001b[1;36m747630\u001b[0m\n",
       "secondaryweapon               \u001b[1;36m0\u001b[0m\n",
       "secondaryweapontype           \u001b[1;36m0\u001b[0m\n",
       "secondarysight          \u001b[1;36m3395796\u001b[0m\n",
       "secondarygrip           \u001b[1;36m3765523\u001b[0m\n",
       "secondaryunderbarrel    \u001b[1;36m3266431\u001b[0m\n",
       "secondarybarrel         \u001b[1;36m2515458\u001b[0m\n",
       "secondarygadget               \u001b[1;36m0\u001b[0m\n",
       "dtype: int64"
      ]
     },
     "execution_count": 59,
     "metadata": {},
     "output_type": "execute_result"
    }
   ],
   "source": [
    "data_r2s_0.isna().sum()"
   ]
  },
  {
   "cell_type": "code",
   "execution_count": 63,
   "id": "576c19df",
   "metadata": {},
   "outputs": [
    {
     "data": {
      "text/html": [
       "<pre style=\"white-space:pre;overflow-x:auto;line-height:normal;font-family:Menlo,'DejaVu Sans Mono',consolas,'Courier New',monospace\"></pre>\n"
      ],
      "text/plain": []
     },
     "metadata": {},
     "output_type": "display_data"
    },
    {
     "data": {
      "text/plain": [
       "\n",
       "primarysight            \u001b[1;36m0.080538\u001b[0m\n",
       "primarybarrel           \u001b[1;36m0.195218\u001b[0m\n",
       "primarygrip             \u001b[1;36m0.329834\u001b[0m\n",
       "secondarybarrel         \u001b[1;36m0.622989\u001b[0m\n",
       "secondaryunderbarrel    \u001b[1;36m0.814490\u001b[0m\n",
       "primaryunderbarrel      \u001b[1;36m0.838210\u001b[0m\n",
       "secondarysight          \u001b[1;36m0.850709\u001b[0m\n",
       "secondarygrip           \u001b[1;36m0.933072\u001b[0m\n",
       "dtype: float64"
      ]
     },
     "execution_count": 63,
     "metadata": {},
     "output_type": "execute_result"
    }
   ],
   "source": [
    "\n",
    "miss = combined_data.isnull().sum()/len(combined_data)\n",
    "miss = miss[miss > 0]\n",
    "miss.sort_values(inplace=True)\n",
    "miss"
   ]
  },
  {
   "cell_type": "markdown",
   "id": "8ebd3c7d",
   "metadata": {},
   "source": [
    "# Descripción de Datos"
   ]
  },
  {
   "cell_type": "markdown",
   "id": "c62112f6",
   "metadata": {},
   "source": [
    "- visualizacion de describe() y moda()"
   ]
  },
  {
   "cell_type": "markdown",
   "id": "048a8d14",
   "metadata": {},
   "source": [
    "# observacion de datos  de los jugadores KPIs"
   ]
  },
  {
   "cell_type": "code",
   "execution_count": null,
   "id": "0a6f5b45",
   "metadata": {},
   "outputs": [],
   "source": []
  },
  {
   "cell_type": "markdown",
   "id": "893c88aa",
   "metadata": {},
   "source": [
    "# Analisis estadístico"
   ]
  }
 ],
 "metadata": {
  "kernelspec": {
   "display_name": "venv",
   "language": "python",
   "name": "python3"
  },
  "language_info": {
   "codemirror_mode": {
    "name": "ipython",
    "version": 3
   },
   "file_extension": ".py",
   "mimetype": "text/x-python",
   "name": "python",
   "nbconvert_exporter": "python",
   "pygments_lexer": "ipython3",
   "version": "3.12.10"
  }
 },
 "nbformat": 4,
 "nbformat_minor": 5
}
