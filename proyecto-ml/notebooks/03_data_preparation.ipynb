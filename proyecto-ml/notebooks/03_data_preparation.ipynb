{
 "cells": [
  {
   "cell_type": "code",
   "execution_count": 3,
   "id": "b34fb098",
   "metadata": {},
   "outputs": [],
   "source": [
    "#librerias\n",
    "import pandas as pd\n",
    "from sklearn.preprocessing import LabelEncoder"
   ]
  },
  {
   "cell_type": "code",
   "execution_count": 4,
   "id": "b4693b48",
   "metadata": {},
   "outputs": [
    {
     "data": {
      "text/html": [
       "<pre style=\"white-space:pre;overflow-x:auto;line-height:normal;font-family:Menlo,'DejaVu Sans Mono',consolas,'Courier New',monospace\"><span style=\"color: #7fbfbf; text-decoration-color: #7fbfbf\">[09/12/25 19:26:41] </span><span style=\"color: #000080; text-decoration-color: #000080\">INFO    </span> Using                                                                  <a href=\"file://c:\\Users\\nachi\\AppData\\Local\\Programs\\Python\\Python312\\Lib\\site-packages\\kedro\\framework\\project\\__init__.py\" target=\"_blank\"><span style=\"color: #7f7f7f; text-decoration-color: #7f7f7f\">__init__.py</span></a><span style=\"color: #7f7f7f; text-decoration-color: #7f7f7f\">:</span><a href=\"file://c:\\Users\\nachi\\AppData\\Local\\Programs\\Python\\Python312\\Lib\\site-packages\\kedro\\framework\\project\\__init__.py#270\" target=\"_blank\"><span style=\"color: #7f7f7f; text-decoration-color: #7f7f7f\">270</span></a>\n",
       "<span style=\"color: #7fbfbf; text-decoration-color: #7fbfbf\">                    </span>         <span style=\"color: #008000; text-decoration-color: #008000\">'c:\\Users\\nachi\\AppData\\Local\\Programs\\Python\\Python312\\Lib\\site-packa</span> <span style=\"color: #7f7f7f; text-decoration-color: #7f7f7f\">               </span>\n",
       "<span style=\"color: #7fbfbf; text-decoration-color: #7fbfbf\">                    </span>         <span style=\"color: #008000; text-decoration-color: #008000\">ges\\kedro\\framework\\project\\rich_logging.yml'</span> as logging               <span style=\"color: #7f7f7f; text-decoration-color: #7f7f7f\">               </span>\n",
       "<span style=\"color: #7fbfbf; text-decoration-color: #7fbfbf\">                    </span>         configuration.                                                         <span style=\"color: #7f7f7f; text-decoration-color: #7f7f7f\">               </span>\n",
       "</pre>\n"
      ],
      "text/plain": [
       "\u001b[2;36m[09/12/25 19:26:41]\u001b[0m\u001b[2;36m \u001b[0m\u001b[34mINFO    \u001b[0m Using                                                                  \u001b]8;id=840731;file://c:\\Users\\nachi\\AppData\\Local\\Programs\\Python\\Python312\\Lib\\site-packages\\kedro\\framework\\project\\__init__.py\u001b\\\u001b[2m__init__.py\u001b[0m\u001b]8;;\u001b\\\u001b[2m:\u001b[0m\u001b]8;id=343036;file://c:\\Users\\nachi\\AppData\\Local\\Programs\\Python\\Python312\\Lib\\site-packages\\kedro\\framework\\project\\__init__.py#270\u001b\\\u001b[2m270\u001b[0m\u001b]8;;\u001b\\\n",
       "\u001b[2;36m                    \u001b[0m         \u001b[32m'c:\\Users\\nachi\\AppData\\Local\\Programs\\Python\\Python312\\Lib\\site-packa\u001b[0m \u001b[2m               \u001b[0m\n",
       "\u001b[2;36m                    \u001b[0m         \u001b[32mges\\kedro\\framework\\project\\rich_logging.yml'\u001b[0m as logging               \u001b[2m               \u001b[0m\n",
       "\u001b[2;36m                    \u001b[0m         configuration.                                                         \u001b[2m               \u001b[0m\n"
      ]
     },
     "metadata": {},
     "output_type": "display_data"
    },
    {
     "data": {
      "text/html": [
       "<pre style=\"white-space:pre;overflow-x:auto;line-height:normal;font-family:Menlo,'DejaVu Sans Mono',consolas,'Courier New',monospace\"><span style=\"color: #7fbfbf; text-decoration-color: #7fbfbf\">                    </span><span style=\"color: #000080; text-decoration-color: #000080\">INFO    </span> Registered line magic <span style=\"color: #008000; text-decoration-color: #008000\">'%reload_kedro'</span>                                   <a href=\"file://c:\\Users\\nachi\\AppData\\Local\\Programs\\Python\\Python312\\Lib\\site-packages\\kedro\\ipython\\__init__.py\" target=\"_blank\"><span style=\"color: #7f7f7f; text-decoration-color: #7f7f7f\">__init__.py</span></a><span style=\"color: #7f7f7f; text-decoration-color: #7f7f7f\">:</span><a href=\"file://c:\\Users\\nachi\\AppData\\Local\\Programs\\Python\\Python312\\Lib\\site-packages\\kedro\\ipython\\__init__.py#63\" target=\"_blank\"><span style=\"color: #7f7f7f; text-decoration-color: #7f7f7f\">63</span></a>\n",
       "</pre>\n"
      ],
      "text/plain": [
       "\u001b[2;36m                   \u001b[0m\u001b[2;36m \u001b[0m\u001b[34mINFO    \u001b[0m Registered line magic \u001b[32m'%reload_kedro'\u001b[0m                                   \u001b]8;id=655204;file://c:\\Users\\nachi\\AppData\\Local\\Programs\\Python\\Python312\\Lib\\site-packages\\kedro\\ipython\\__init__.py\u001b\\\u001b[2m__init__.py\u001b[0m\u001b]8;;\u001b\\\u001b[2m:\u001b[0m\u001b]8;id=187930;file://c:\\Users\\nachi\\AppData\\Local\\Programs\\Python\\Python312\\Lib\\site-packages\\kedro\\ipython\\__init__.py#63\u001b\\\u001b[2m63\u001b[0m\u001b]8;;\u001b\\\n"
      ]
     },
     "metadata": {},
     "output_type": "display_data"
    },
    {
     "data": {
      "text/html": [
       "<pre style=\"white-space:pre;overflow-x:auto;line-height:normal;font-family:Menlo,'DejaVu Sans Mono',consolas,'Courier New',monospace\"><span style=\"color: #7fbfbf; text-decoration-color: #7fbfbf\">                    </span><span style=\"color: #000080; text-decoration-color: #000080\">INFO    </span> Registered line magic <span style=\"color: #008000; text-decoration-color: #008000\">'%load_node'</span>                                      <a href=\"file://c:\\Users\\nachi\\AppData\\Local\\Programs\\Python\\Python312\\Lib\\site-packages\\kedro\\ipython\\__init__.py\" target=\"_blank\"><span style=\"color: #7f7f7f; text-decoration-color: #7f7f7f\">__init__.py</span></a><span style=\"color: #7f7f7f; text-decoration-color: #7f7f7f\">:</span><a href=\"file://c:\\Users\\nachi\\AppData\\Local\\Programs\\Python\\Python312\\Lib\\site-packages\\kedro\\ipython\\__init__.py#65\" target=\"_blank\"><span style=\"color: #7f7f7f; text-decoration-color: #7f7f7f\">65</span></a>\n",
       "</pre>\n"
      ],
      "text/plain": [
       "\u001b[2;36m                   \u001b[0m\u001b[2;36m \u001b[0m\u001b[34mINFO    \u001b[0m Registered line magic \u001b[32m'%load_node'\u001b[0m                                      \u001b]8;id=822373;file://c:\\Users\\nachi\\AppData\\Local\\Programs\\Python\\Python312\\Lib\\site-packages\\kedro\\ipython\\__init__.py\u001b\\\u001b[2m__init__.py\u001b[0m\u001b]8;;\u001b\\\u001b[2m:\u001b[0m\u001b]8;id=856476;file://c:\\Users\\nachi\\AppData\\Local\\Programs\\Python\\Python312\\Lib\\site-packages\\kedro\\ipython\\__init__.py#65\u001b\\\u001b[2m65\u001b[0m\u001b]8;;\u001b\\\n"
      ]
     },
     "metadata": {},
     "output_type": "display_data"
    },
    {
     "data": {
      "text/html": [
       "<pre style=\"white-space:pre;overflow-x:auto;line-height:normal;font-family:Menlo,'DejaVu Sans Mono',consolas,'Courier New',monospace\"><span style=\"color: #7fbfbf; text-decoration-color: #7fbfbf\">                    </span><span style=\"color: #000080; text-decoration-color: #000080\">INFO    </span> Resolved project path as:                                              <a href=\"file://c:\\Users\\nachi\\AppData\\Local\\Programs\\Python\\Python312\\Lib\\site-packages\\kedro\\ipython\\__init__.py\" target=\"_blank\"><span style=\"color: #7f7f7f; text-decoration-color: #7f7f7f\">__init__.py</span></a><span style=\"color: #7f7f7f; text-decoration-color: #7f7f7f\">:</span><a href=\"file://c:\\Users\\nachi\\AppData\\Local\\Programs\\Python\\Python312\\Lib\\site-packages\\kedro\\ipython\\__init__.py#180\" target=\"_blank\"><span style=\"color: #7f7f7f; text-decoration-color: #7f7f7f\">180</span></a>\n",
       "<span style=\"color: #7fbfbf; text-decoration-color: #7fbfbf\">                    </span>         c:\\Users\\nachi\\Desktop\\rainbow\\Rainbow_six_kedro_ml\\proyecto-ml.       <span style=\"color: #7f7f7f; text-decoration-color: #7f7f7f\">               </span>\n",
       "<span style=\"color: #7fbfbf; text-decoration-color: #7fbfbf\">                    </span>         To set a different path, run <span style=\"color: #008000; text-decoration-color: #008000\">'%reload_kedro &lt;project_root&gt;'</span>            <span style=\"color: #7f7f7f; text-decoration-color: #7f7f7f\">               </span>\n",
       "</pre>\n"
      ],
      "text/plain": [
       "\u001b[2;36m                   \u001b[0m\u001b[2;36m \u001b[0m\u001b[34mINFO    \u001b[0m Resolved project path as:                                              \u001b]8;id=645576;file://c:\\Users\\nachi\\AppData\\Local\\Programs\\Python\\Python312\\Lib\\site-packages\\kedro\\ipython\\__init__.py\u001b\\\u001b[2m__init__.py\u001b[0m\u001b]8;;\u001b\\\u001b[2m:\u001b[0m\u001b]8;id=611711;file://c:\\Users\\nachi\\AppData\\Local\\Programs\\Python\\Python312\\Lib\\site-packages\\kedro\\ipython\\__init__.py#180\u001b\\\u001b[2m180\u001b[0m\u001b]8;;\u001b\\\n",
       "\u001b[2;36m                    \u001b[0m         c:\\Users\\nachi\\Desktop\\rainbow\\Rainbow_six_kedro_ml\\proyecto-ml.       \u001b[2m               \u001b[0m\n",
       "\u001b[2;36m                    \u001b[0m         To set a different path, run \u001b[32m'%reload_kedro \u001b[0m\u001b[32m<\u001b[0m\u001b[32mproject_root\u001b[0m\u001b[32m>\u001b[0m\u001b[32m'\u001b[0m            \u001b[2m               \u001b[0m\n"
      ]
     },
     "metadata": {},
     "output_type": "display_data"
    },
    {
     "data": {
      "text/html": [
       "<pre style=\"white-space:pre;overflow-x:auto;line-height:normal;font-family:Menlo,'DejaVu Sans Mono',consolas,'Courier New',monospace\"><span style=\"color: #7fbfbf; text-decoration-color: #7fbfbf\">[09/12/25 19:26:43] </span><span style=\"color: #808000; text-decoration-color: #808000\">WARNING </span> c:\\Users\\nachi\\AppData\\Local\\Programs\\Python\\Python312\\Lib\\site-packag <a href=\"file://c:\\Users\\nachi\\AppData\\Local\\Programs\\Python\\Python312\\Lib\\warnings.py\" target=\"_blank\"><span style=\"color: #7f7f7f; text-decoration-color: #7f7f7f\">warnings.py</span></a><span style=\"color: #7f7f7f; text-decoration-color: #7f7f7f\">:</span><a href=\"file://c:\\Users\\nachi\\AppData\\Local\\Programs\\Python\\Python312\\Lib\\warnings.py#112\" target=\"_blank\"><span style=\"color: #7f7f7f; text-decoration-color: #7f7f7f\">112</span></a>\n",
       "<span style=\"color: #7fbfbf; text-decoration-color: #7fbfbf\">                    </span>         es\\kedro\\framework\\project\\__init__.py:<span style=\"color: #008080; text-decoration-color: #008080; font-weight: bold\">450</span>: UserWarning: An error      <span style=\"color: #7f7f7f; text-decoration-color: #7f7f7f\">               </span>\n",
       "<span style=\"color: #7fbfbf; text-decoration-color: #7fbfbf\">                    </span>         occurred while importing the <span style=\"color: #008000; text-decoration-color: #008000\">'proteyecto_ml.pipelines.rainbow_six'</span>     <span style=\"color: #7f7f7f; text-decoration-color: #7f7f7f\">               </span>\n",
       "<span style=\"color: #7fbfbf; text-decoration-color: #7fbfbf\">                    </span>         module. Nothing defined therein will be returned by <span style=\"color: #008000; text-decoration-color: #008000\">'find_pipelines'</span>.  <span style=\"color: #7f7f7f; text-decoration-color: #7f7f7f\">               </span>\n",
       "<span style=\"color: #7fbfbf; text-decoration-color: #7fbfbf\">                    </span>                                                                                <span style=\"color: #7f7f7f; text-decoration-color: #7f7f7f\">               </span>\n",
       "<span style=\"color: #7fbfbf; text-decoration-color: #7fbfbf\">                    </span>         Traceback <span style=\"font-weight: bold\">(</span>most recent call last<span style=\"font-weight: bold\">)</span>:                                     <span style=\"color: #7f7f7f; text-decoration-color: #7f7f7f\">               </span>\n",
       "<span style=\"color: #7fbfbf; text-decoration-color: #7fbfbf\">                    </span>           File                                                                 <span style=\"color: #7f7f7f; text-decoration-color: #7f7f7f\">               </span>\n",
       "<span style=\"color: #7fbfbf; text-decoration-color: #7fbfbf\">                    </span>         <span style=\"color: #008000; text-decoration-color: #008000\">\"c:\\Users\\nachi\\AppData\\Local\\Programs\\Python\\Python312\\Lib\\site-packa</span> <span style=\"color: #7f7f7f; text-decoration-color: #7f7f7f\">               </span>\n",
       "<span style=\"color: #7fbfbf; text-decoration-color: #7fbfbf\">                    </span>         <span style=\"color: #008000; text-decoration-color: #008000\">ges\\kedro\\framework\\project\\__init__.py\"</span>, line <span style=\"color: #008080; text-decoration-color: #008080; font-weight: bold\">442</span>, in find_pipelines  <span style=\"color: #7f7f7f; text-decoration-color: #7f7f7f\">               </span>\n",
       "<span style=\"color: #7fbfbf; text-decoration-color: #7fbfbf\">                    </span>             pipeline_module = <span style=\"color: #800080; text-decoration-color: #800080; font-weight: bold\">importlib.import_module</span><span style=\"font-weight: bold\">(</span>pipeline_module_name<span style=\"font-weight: bold\">)</span>    <span style=\"color: #7f7f7f; text-decoration-color: #7f7f7f\">               </span>\n",
       "<span style=\"color: #7fbfbf; text-decoration-color: #7fbfbf\">                    </span>                               ^^^^^^^^^^^^^^^^^^^^^^^^^^^^^^^^^^^^^^^^^^^^^    <span style=\"color: #7f7f7f; text-decoration-color: #7f7f7f\">               </span>\n",
       "<span style=\"color: #7fbfbf; text-decoration-color: #7fbfbf\">                    </span>           File                                                                 <span style=\"color: #7f7f7f; text-decoration-color: #7f7f7f\">               </span>\n",
       "<span style=\"color: #7fbfbf; text-decoration-color: #7fbfbf\">                    </span>         <span style=\"color: #008000; text-decoration-color: #008000\">\"c:\\Users\\nachi\\AppData\\Local\\Programs\\Python\\Python312\\Lib\\importlib\\</span> <span style=\"color: #7f7f7f; text-decoration-color: #7f7f7f\">               </span>\n",
       "<span style=\"color: #7fbfbf; text-decoration-color: #7fbfbf\">                    </span>         <span style=\"color: #008000; text-decoration-color: #008000\">__init__.py\"</span>, line <span style=\"color: #008080; text-decoration-color: #008080; font-weight: bold\">90</span>, in import_module                                <span style=\"color: #7f7f7f; text-decoration-color: #7f7f7f\">               </span>\n",
       "<span style=\"color: #7fbfbf; text-decoration-color: #7fbfbf\">                    </span>             return <span style=\"color: #800080; text-decoration-color: #800080; font-weight: bold\">_bootstrap._gcd_import</span><span style=\"font-weight: bold\">(</span>name, package, level<span style=\"font-weight: bold\">)</span>                <span style=\"color: #7f7f7f; text-decoration-color: #7f7f7f\">               </span>\n",
       "<span style=\"color: #7fbfbf; text-decoration-color: #7fbfbf\">                    </span>                    ^^^^^^^^^^^^^^^^^^^^^^^^^^^^^^^^^^^^^^^^^^^^^^^^^^^^        <span style=\"color: #7f7f7f; text-decoration-color: #7f7f7f\">               </span>\n",
       "<span style=\"color: #7fbfbf; text-decoration-color: #7fbfbf\">                    </span>           File <span style=\"color: #008000; text-decoration-color: #008000\">\"&lt;frozen importlib._bootstrap&gt;\"</span><span style=\"color: #000000; text-decoration-color: #000000\">, line </span><span style=\"color: #008080; text-decoration-color: #008080; font-weight: bold\">1387</span><span style=\"color: #000000; text-decoration-color: #000000\">, in _gcd_import</span>      <span style=\"color: #7f7f7f; text-decoration-color: #7f7f7f\">               </span>\n",
       "<span style=\"color: #7fbfbf; text-decoration-color: #7fbfbf\">                    </span>         <span style=\"color: #000000; text-decoration-color: #000000\">  File </span><span style=\"color: #008000; text-decoration-color: #008000\">\"&lt;frozen importlib._bootstrap&gt;\"</span><span style=\"color: #000000; text-decoration-color: #000000\">, line </span><span style=\"color: #008080; text-decoration-color: #008080; font-weight: bold\">1360</span><span style=\"color: #000000; text-decoration-color: #000000\">, in _find_and_load</span>   <span style=\"color: #7f7f7f; text-decoration-color: #7f7f7f\">               </span>\n",
       "<span style=\"color: #7fbfbf; text-decoration-color: #7fbfbf\">                    </span>         <span style=\"color: #000000; text-decoration-color: #000000\">  File </span><span style=\"color: #008000; text-decoration-color: #008000\">\"&lt;frozen importlib._bootstrap&gt;\"</span><span style=\"color: #000000; text-decoration-color: #000000\">, line </span><span style=\"color: #008080; text-decoration-color: #008080; font-weight: bold\">1331</span><span style=\"color: #000000; text-decoration-color: #000000\">, in </span>                 <span style=\"color: #7f7f7f; text-decoration-color: #7f7f7f\">               </span>\n",
       "<span style=\"color: #7fbfbf; text-decoration-color: #7fbfbf\">                    </span>         <span style=\"color: #000000; text-decoration-color: #000000\">_find_and_load_unlocked</span>                                                <span style=\"color: #7f7f7f; text-decoration-color: #7f7f7f\">               </span>\n",
       "<span style=\"color: #7fbfbf; text-decoration-color: #7fbfbf\">                    </span>         <span style=\"color: #000000; text-decoration-color: #000000\">  File </span><span style=\"color: #008000; text-decoration-color: #008000\">\"&lt;frozen importlib._bootstrap&gt;\"</span><span style=\"color: #000000; text-decoration-color: #000000\">, line </span><span style=\"color: #008080; text-decoration-color: #008080; font-weight: bold\">935</span><span style=\"color: #000000; text-decoration-color: #000000\">, in _load_unlocked</span>    <span style=\"color: #7f7f7f; text-decoration-color: #7f7f7f\">               </span>\n",
       "<span style=\"color: #7fbfbf; text-decoration-color: #7fbfbf\">                    </span>         <span style=\"color: #000000; text-decoration-color: #000000\">  File </span><span style=\"color: #008000; text-decoration-color: #008000\">\"&lt;frozen importlib._bootstrap_external&gt;\"</span><span style=\"color: #000000; text-decoration-color: #000000\">, line </span><span style=\"color: #008080; text-decoration-color: #008080; font-weight: bold\">995</span><span style=\"color: #000000; text-decoration-color: #000000\">, in </span>         <span style=\"color: #7f7f7f; text-decoration-color: #7f7f7f\">               </span>\n",
       "<span style=\"color: #7fbfbf; text-decoration-color: #7fbfbf\">                    </span>         <span style=\"color: #000000; text-decoration-color: #000000\">exec_module</span>                                                            <span style=\"color: #7f7f7f; text-decoration-color: #7f7f7f\">               </span>\n",
       "<span style=\"color: #7fbfbf; text-decoration-color: #7fbfbf\">                    </span>         <span style=\"color: #000000; text-decoration-color: #000000\">  File </span><span style=\"color: #008000; text-decoration-color: #008000\">\"&lt;frozen importlib._bootstrap&gt;\"</span><span style=\"color: #000000; text-decoration-color: #000000\">, line </span><span style=\"color: #008080; text-decoration-color: #008080; font-weight: bold\">488</span><span style=\"color: #000000; text-decoration-color: #000000\">, in </span>                  <span style=\"color: #7f7f7f; text-decoration-color: #7f7f7f\">               </span>\n",
       "<span style=\"color: #7fbfbf; text-decoration-color: #7fbfbf\">                    </span>         <span style=\"color: #000000; text-decoration-color: #000000\">_call_with_frames_removed</span>                                              <span style=\"color: #7f7f7f; text-decoration-color: #7f7f7f\">               </span>\n",
       "<span style=\"color: #7fbfbf; text-decoration-color: #7fbfbf\">                    </span>         <span style=\"color: #000000; text-decoration-color: #000000\">  File </span>                                                                <span style=\"color: #7f7f7f; text-decoration-color: #7f7f7f\">               </span>\n",
       "<span style=\"color: #7fbfbf; text-decoration-color: #7fbfbf\">                    </span>         <span style=\"color: #008000; text-decoration-color: #008000\">\"C:\\Users\\nachi\\Desktop\\rainbow\\Rainbow_six_kedro_ml\\proyecto-ml\\src\\p</span> <span style=\"color: #7f7f7f; text-decoration-color: #7f7f7f\">               </span>\n",
       "<span style=\"color: #7fbfbf; text-decoration-color: #7fbfbf\">                    </span>         <span style=\"color: #008000; text-decoration-color: #008000\">roteyecto_ml\\pipelines\\rainbow_six\\__init__.py\"</span><span style=\"color: #000000; text-decoration-color: #000000\">, line </span><span style=\"color: #008080; text-decoration-color: #008080; font-weight: bold\">6</span><span style=\"color: #000000; text-decoration-color: #000000\">, in &lt;module&gt;</span>   <span style=\"color: #7f7f7f; text-decoration-color: #7f7f7f\">               </span>\n",
       "<span style=\"color: #7fbfbf; text-decoration-color: #7fbfbf\">                    </span>         <span style=\"color: #000000; text-decoration-color: #000000\">    from .pipeline import create_pipeline</span>                              <span style=\"color: #7f7f7f; text-decoration-color: #7f7f7f\">               </span>\n",
       "<span style=\"color: #7fbfbf; text-decoration-color: #7fbfbf\">                    </span>         <span style=\"color: #000000; text-decoration-color: #000000\">  File </span>                                                                <span style=\"color: #7f7f7f; text-decoration-color: #7f7f7f\">               </span>\n",
       "<span style=\"color: #7fbfbf; text-decoration-color: #7fbfbf\">                    </span>         <span style=\"color: #008000; text-decoration-color: #008000\">\"C:\\Users\\nachi\\Desktop\\rainbow\\Rainbow_six_kedro_ml\\proyecto-ml\\src\\p</span> <span style=\"color: #7f7f7f; text-decoration-color: #7f7f7f\">               </span>\n",
       "<span style=\"color: #7fbfbf; text-decoration-color: #7fbfbf\">                    </span>         <span style=\"color: #008000; text-decoration-color: #008000\">roteyecto_ml\\pipelines\\rainbow_six\\pipeline.py\"</span><span style=\"color: #000000; text-decoration-color: #000000\">, line </span><span style=\"color: #008080; text-decoration-color: #008080; font-weight: bold\">30</span><span style=\"color: #000000; text-decoration-color: #000000\">, in &lt;module</span><span style=\"font-weight: bold\">&gt;</span>  <span style=\"color: #7f7f7f; text-decoration-color: #7f7f7f\">               </span>\n",
       "<span style=\"color: #7fbfbf; text-decoration-color: #7fbfbf\">                    </span>             combined_data = <span style=\"color: #800080; text-decoration-color: #800080; font-weight: bold\">pipeline.fit_transform</span><span style=\"font-weight: bold\">(</span>combined_data<span style=\"font-weight: bold\">)</span>              <span style=\"color: #7f7f7f; text-decoration-color: #7f7f7f\">               </span>\n",
       "<span style=\"color: #7fbfbf; text-decoration-color: #7fbfbf\">                    </span>                                                    ^^^^^^^^^^^^^               <span style=\"color: #7f7f7f; text-decoration-color: #7f7f7f\">               </span>\n",
       "<span style=\"color: #7fbfbf; text-decoration-color: #7fbfbf\">                    </span>         NameError: name <span style=\"color: #008000; text-decoration-color: #008000\">'combined_data'</span> is not defined                         <span style=\"color: #7f7f7f; text-decoration-color: #7f7f7f\">               </span>\n",
       "<span style=\"color: #7fbfbf; text-decoration-color: #7fbfbf\">                    </span>                                                                                <span style=\"color: #7f7f7f; text-decoration-color: #7f7f7f\">               </span>\n",
       "<span style=\"color: #7fbfbf; text-decoration-color: #7fbfbf\">                    </span>           <span style=\"color: #800080; text-decoration-color: #800080; font-weight: bold\">warnings.warn</span><span style=\"font-weight: bold\">(</span>                                                       <span style=\"color: #7f7f7f; text-decoration-color: #7f7f7f\">               </span>\n",
       "<span style=\"color: #7fbfbf; text-decoration-color: #7fbfbf\">                    </span>                                                                                <span style=\"color: #7f7f7f; text-decoration-color: #7f7f7f\">               </span>\n",
       "</pre>\n"
      ],
      "text/plain": [
       "\u001b[2;36m[09/12/25 19:26:43]\u001b[0m\u001b[2;36m \u001b[0m\u001b[33mWARNING \u001b[0m c:\\Users\\nachi\\AppData\\Local\\Programs\\Python\\Python312\\Lib\\site-packag \u001b]8;id=333859;file://c:\\Users\\nachi\\AppData\\Local\\Programs\\Python\\Python312\\Lib\\warnings.py\u001b\\\u001b[2mwarnings.py\u001b[0m\u001b]8;;\u001b\\\u001b[2m:\u001b[0m\u001b]8;id=779147;file://c:\\Users\\nachi\\AppData\\Local\\Programs\\Python\\Python312\\Lib\\warnings.py#112\u001b\\\u001b[2m112\u001b[0m\u001b]8;;\u001b\\\n",
       "\u001b[2;36m                    \u001b[0m         es\\kedro\\framework\\project\\__init__.py:\u001b[1;36m450\u001b[0m: UserWarning: An error      \u001b[2m               \u001b[0m\n",
       "\u001b[2;36m                    \u001b[0m         occurred while importing the \u001b[32m'proteyecto_ml.pipelines.rainbow_six'\u001b[0m     \u001b[2m               \u001b[0m\n",
       "\u001b[2;36m                    \u001b[0m         module. Nothing defined therein will be returned by \u001b[32m'find_pipelines'\u001b[0m.  \u001b[2m               \u001b[0m\n",
       "\u001b[2;36m                    \u001b[0m                                                                                \u001b[2m               \u001b[0m\n",
       "\u001b[2;36m                    \u001b[0m         Traceback \u001b[1m(\u001b[0mmost recent call last\u001b[1m)\u001b[0m:                                     \u001b[2m               \u001b[0m\n",
       "\u001b[2;36m                    \u001b[0m           File                                                                 \u001b[2m               \u001b[0m\n",
       "\u001b[2;36m                    \u001b[0m         \u001b[32m\"c:\\Users\\nachi\\AppData\\Local\\Programs\\Python\\Python312\\Lib\\site-packa\u001b[0m \u001b[2m               \u001b[0m\n",
       "\u001b[2;36m                    \u001b[0m         \u001b[32mges\\kedro\\framework\\project\\__init__.py\"\u001b[0m, line \u001b[1;36m442\u001b[0m, in find_pipelines  \u001b[2m               \u001b[0m\n",
       "\u001b[2;36m                    \u001b[0m             pipeline_module = \u001b[1;35mimportlib.import_module\u001b[0m\u001b[1m(\u001b[0mpipeline_module_name\u001b[1m)\u001b[0m    \u001b[2m               \u001b[0m\n",
       "\u001b[2;36m                    \u001b[0m                               ^^^^^^^^^^^^^^^^^^^^^^^^^^^^^^^^^^^^^^^^^^^^^    \u001b[2m               \u001b[0m\n",
       "\u001b[2;36m                    \u001b[0m           File                                                                 \u001b[2m               \u001b[0m\n",
       "\u001b[2;36m                    \u001b[0m         \u001b[32m\"c:\\Users\\nachi\\AppData\\Local\\Programs\\Python\\Python312\\Lib\\importlib\\\u001b[0m \u001b[2m               \u001b[0m\n",
       "\u001b[2;36m                    \u001b[0m         \u001b[32m__init__.py\"\u001b[0m, line \u001b[1;36m90\u001b[0m, in import_module                                \u001b[2m               \u001b[0m\n",
       "\u001b[2;36m                    \u001b[0m             return \u001b[1;35m_bootstrap._gcd_import\u001b[0m\u001b[1m(\u001b[0mname, package, level\u001b[1m)\u001b[0m                \u001b[2m               \u001b[0m\n",
       "\u001b[2;36m                    \u001b[0m                    ^^^^^^^^^^^^^^^^^^^^^^^^^^^^^^^^^^^^^^^^^^^^^^^^^^^^        \u001b[2m               \u001b[0m\n",
       "\u001b[2;36m                    \u001b[0m           File \u001b[32m\"\u001b[0m\u001b[32m<\u001b[0m\u001b[32mfrozen\u001b[0m\u001b[32m importlib._bootstrap>\"\u001b[0m\u001b[39m, line \u001b[0m\u001b[1;36m1387\u001b[0m\u001b[39m, in _gcd_import\u001b[0m      \u001b[2m               \u001b[0m\n",
       "\u001b[2;36m                    \u001b[0m         \u001b[39m  File \u001b[0m\u001b[32m\"<frozen importlib._bootstrap>\"\u001b[0m\u001b[39m, line \u001b[0m\u001b[1;36m1360\u001b[0m\u001b[39m, in _find_and_load\u001b[0m   \u001b[2m               \u001b[0m\n",
       "\u001b[2;36m                    \u001b[0m         \u001b[39m  File \u001b[0m\u001b[32m\"<frozen importlib._bootstrap>\"\u001b[0m\u001b[39m, line \u001b[0m\u001b[1;36m1331\u001b[0m\u001b[39m, in \u001b[0m                 \u001b[2m               \u001b[0m\n",
       "\u001b[2;36m                    \u001b[0m         \u001b[39m_find_and_load_unlocked\u001b[0m                                                \u001b[2m               \u001b[0m\n",
       "\u001b[2;36m                    \u001b[0m         \u001b[39m  File \u001b[0m\u001b[32m\"<frozen importlib._bootstrap>\"\u001b[0m\u001b[39m, line \u001b[0m\u001b[1;36m935\u001b[0m\u001b[39m, in _load_unlocked\u001b[0m    \u001b[2m               \u001b[0m\n",
       "\u001b[2;36m                    \u001b[0m         \u001b[39m  File \u001b[0m\u001b[32m\"<frozen importlib._bootstrap_external>\"\u001b[0m\u001b[39m, line \u001b[0m\u001b[1;36m995\u001b[0m\u001b[39m, in \u001b[0m         \u001b[2m               \u001b[0m\n",
       "\u001b[2;36m                    \u001b[0m         \u001b[39mexec_module\u001b[0m                                                            \u001b[2m               \u001b[0m\n",
       "\u001b[2;36m                    \u001b[0m         \u001b[39m  File \u001b[0m\u001b[32m\"<frozen importlib._bootstrap>\"\u001b[0m\u001b[39m, line \u001b[0m\u001b[1;36m488\u001b[0m\u001b[39m, in \u001b[0m                  \u001b[2m               \u001b[0m\n",
       "\u001b[2;36m                    \u001b[0m         \u001b[39m_call_with_frames_removed\u001b[0m                                              \u001b[2m               \u001b[0m\n",
       "\u001b[2;36m                    \u001b[0m         \u001b[39m  File \u001b[0m                                                                \u001b[2m               \u001b[0m\n",
       "\u001b[2;36m                    \u001b[0m         \u001b[32m\"C:\\Users\\nachi\\Desktop\\rainbow\\Rainbow_six_kedro_ml\\proyecto-ml\\src\\p\u001b[0m \u001b[2m               \u001b[0m\n",
       "\u001b[2;36m                    \u001b[0m         \u001b[32mroteyecto_ml\\pipelines\\rainbow_six\\__init__.py\"\u001b[0m\u001b[39m, line \u001b[0m\u001b[1;36m6\u001b[0m\u001b[39m, in <module>\u001b[0m   \u001b[2m               \u001b[0m\n",
       "\u001b[2;36m                    \u001b[0m         \u001b[39m    from .pipeline import create_pipeline\u001b[0m                              \u001b[2m               \u001b[0m\n",
       "\u001b[2;36m                    \u001b[0m         \u001b[39m  File \u001b[0m                                                                \u001b[2m               \u001b[0m\n",
       "\u001b[2;36m                    \u001b[0m         \u001b[32m\"C:\\Users\\nachi\\Desktop\\rainbow\\Rainbow_six_kedro_ml\\proyecto-ml\\src\\p\u001b[0m \u001b[2m               \u001b[0m\n",
       "\u001b[2;36m                    \u001b[0m         \u001b[32mroteyecto_ml\\pipelines\\rainbow_six\\pipeline.py\"\u001b[0m\u001b[39m, line \u001b[0m\u001b[1;36m30\u001b[0m\u001b[39m, in <module\u001b[0m\u001b[1m>\u001b[0m  \u001b[2m               \u001b[0m\n",
       "\u001b[2;36m                    \u001b[0m             combined_data = \u001b[1;35mpipeline.fit_transform\u001b[0m\u001b[1m(\u001b[0mcombined_data\u001b[1m)\u001b[0m              \u001b[2m               \u001b[0m\n",
       "\u001b[2;36m                    \u001b[0m                                                    ^^^^^^^^^^^^^               \u001b[2m               \u001b[0m\n",
       "\u001b[2;36m                    \u001b[0m         NameError: name \u001b[32m'combined_data'\u001b[0m is not defined                         \u001b[2m               \u001b[0m\n",
       "\u001b[2;36m                    \u001b[0m                                                                                \u001b[2m               \u001b[0m\n",
       "\u001b[2;36m                    \u001b[0m           \u001b[1;35mwarnings.warn\u001b[0m\u001b[1m(\u001b[0m                                                       \u001b[2m               \u001b[0m\n",
       "\u001b[2;36m                    \u001b[0m                                                                                \u001b[2m               \u001b[0m\n"
      ]
     },
     "metadata": {},
     "output_type": "display_data"
    },
    {
     "data": {
      "text/html": [
       "<pre style=\"white-space:pre;overflow-x:auto;line-height:normal;font-family:Menlo,'DejaVu Sans Mono',consolas,'Courier New',monospace\"><span style=\"color: #7fbfbf; text-decoration-color: #7fbfbf\">                    </span><span style=\"color: #000080; text-decoration-color: #000080\">INFO    </span> Kedro is sending anonymous usage data with the sole purpose of improving <a href=\"file://c:\\Users\\nachi\\AppData\\Local\\Programs\\Python\\Python312\\Lib\\site-packages\\kedro_telemetry\\plugin.py\" target=\"_blank\"><span style=\"color: #7f7f7f; text-decoration-color: #7f7f7f\">plugin.py</span></a><span style=\"color: #7f7f7f; text-decoration-color: #7f7f7f\">:</span><a href=\"file://c:\\Users\\nachi\\AppData\\Local\\Programs\\Python\\Python312\\Lib\\site-packages\\kedro_telemetry\\plugin.py#243\" target=\"_blank\"><span style=\"color: #7f7f7f; text-decoration-color: #7f7f7f\">243</span></a>\n",
       "<span style=\"color: #7fbfbf; text-decoration-color: #7fbfbf\">                    </span>         the product. No personal data or IP addresses are stored on our side. To <span style=\"color: #7f7f7f; text-decoration-color: #7f7f7f\">             </span>\n",
       "<span style=\"color: #7fbfbf; text-decoration-color: #7fbfbf\">                    </span>         opt out, set the `KEDRO_DISABLE_TELEMETRY` or `DO_NOT_TRACK` environment <span style=\"color: #7f7f7f; text-decoration-color: #7f7f7f\">             </span>\n",
       "<span style=\"color: #7fbfbf; text-decoration-color: #7fbfbf\">                    </span>         variables, or create a `.telemetry` file in the current working          <span style=\"color: #7f7f7f; text-decoration-color: #7f7f7f\">             </span>\n",
       "<span style=\"color: #7fbfbf; text-decoration-color: #7fbfbf\">                    </span>         directory with the contents `consent: false`. To hide this message,      <span style=\"color: #7f7f7f; text-decoration-color: #7f7f7f\">             </span>\n",
       "<span style=\"color: #7fbfbf; text-decoration-color: #7fbfbf\">                    </span>         explicitly grant or deny consent. Read more at                           <span style=\"color: #7f7f7f; text-decoration-color: #7f7f7f\">             </span>\n",
       "<span style=\"color: #7fbfbf; text-decoration-color: #7fbfbf\">                    </span>         <span style=\"color: #0000ff; text-decoration-color: #0000ff; text-decoration: underline\">https://docs.kedro.org/en/stable/configuration/telemetry.html</span>            <span style=\"color: #7f7f7f; text-decoration-color: #7f7f7f\">             </span>\n",
       "</pre>\n"
      ],
      "text/plain": [
       "\u001b[2;36m                   \u001b[0m\u001b[2;36m \u001b[0m\u001b[34mINFO    \u001b[0m Kedro is sending anonymous usage data with the sole purpose of improving \u001b]8;id=312226;file://c:\\Users\\nachi\\AppData\\Local\\Programs\\Python\\Python312\\Lib\\site-packages\\kedro_telemetry\\plugin.py\u001b\\\u001b[2mplugin.py\u001b[0m\u001b]8;;\u001b\\\u001b[2m:\u001b[0m\u001b]8;id=687414;file://c:\\Users\\nachi\\AppData\\Local\\Programs\\Python\\Python312\\Lib\\site-packages\\kedro_telemetry\\plugin.py#243\u001b\\\u001b[2m243\u001b[0m\u001b]8;;\u001b\\\n",
       "\u001b[2;36m                    \u001b[0m         the product. No personal data or IP addresses are stored on our side. To \u001b[2m             \u001b[0m\n",
       "\u001b[2;36m                    \u001b[0m         opt out, set the `KEDRO_DISABLE_TELEMETRY` or `DO_NOT_TRACK` environment \u001b[2m             \u001b[0m\n",
       "\u001b[2;36m                    \u001b[0m         variables, or create a `.telemetry` file in the current working          \u001b[2m             \u001b[0m\n",
       "\u001b[2;36m                    \u001b[0m         directory with the contents `consent: false`. To hide this message,      \u001b[2m             \u001b[0m\n",
       "\u001b[2;36m                    \u001b[0m         explicitly grant or deny consent. Read more at                           \u001b[2m             \u001b[0m\n",
       "\u001b[2;36m                    \u001b[0m         \u001b[4;94mhttps://docs.kedro.org/en/stable/configuration/telemetry.html\u001b[0m            \u001b[2m             \u001b[0m\n"
      ]
     },
     "metadata": {},
     "output_type": "display_data"
    },
    {
     "data": {
      "text/html": [
       "<pre style=\"white-space:pre;overflow-x:auto;line-height:normal;font-family:Menlo,'DejaVu Sans Mono',consolas,'Courier New',monospace\"><span style=\"color: #7fbfbf; text-decoration-color: #7fbfbf\">[09/12/25 19:26:44] </span><span style=\"color: #000080; text-decoration-color: #000080\">INFO    </span> Kedro project proteyecto-ml                                            <a href=\"file://c:\\Users\\nachi\\AppData\\Local\\Programs\\Python\\Python312\\Lib\\site-packages\\kedro\\ipython\\__init__.py\" target=\"_blank\"><span style=\"color: #7f7f7f; text-decoration-color: #7f7f7f\">__init__.py</span></a><span style=\"color: #7f7f7f; text-decoration-color: #7f7f7f\">:</span><a href=\"file://c:\\Users\\nachi\\AppData\\Local\\Programs\\Python\\Python312\\Lib\\site-packages\\kedro\\ipython\\__init__.py#146\" target=\"_blank\"><span style=\"color: #7f7f7f; text-decoration-color: #7f7f7f\">146</span></a>\n",
       "</pre>\n"
      ],
      "text/plain": [
       "\u001b[2;36m[09/12/25 19:26:44]\u001b[0m\u001b[2;36m \u001b[0m\u001b[34mINFO    \u001b[0m Kedro project proteyecto-ml                                            \u001b]8;id=999444;file://c:\\Users\\nachi\\AppData\\Local\\Programs\\Python\\Python312\\Lib\\site-packages\\kedro\\ipython\\__init__.py\u001b\\\u001b[2m__init__.py\u001b[0m\u001b]8;;\u001b\\\u001b[2m:\u001b[0m\u001b]8;id=39007;file://c:\\Users\\nachi\\AppData\\Local\\Programs\\Python\\Python312\\Lib\\site-packages\\kedro\\ipython\\__init__.py#146\u001b\\\u001b[2m146\u001b[0m\u001b]8;;\u001b\\\n"
      ]
     },
     "metadata": {},
     "output_type": "display_data"
    },
    {
     "data": {
      "text/html": [
       "<pre style=\"white-space:pre;overflow-x:auto;line-height:normal;font-family:Menlo,'DejaVu Sans Mono',consolas,'Courier New',monospace\"><span style=\"color: #7fbfbf; text-decoration-color: #7fbfbf\">                    </span><span style=\"color: #000080; text-decoration-color: #000080\">INFO    </span> Defined global variable <span style=\"color: #008000; text-decoration-color: #008000\">'context'</span>, <span style=\"color: #008000; text-decoration-color: #008000\">'session'</span>, <span style=\"color: #008000; text-decoration-color: #008000\">'catalog'</span> and            <a href=\"file://c:\\Users\\nachi\\AppData\\Local\\Programs\\Python\\Python312\\Lib\\site-packages\\kedro\\ipython\\__init__.py\" target=\"_blank\"><span style=\"color: #7f7f7f; text-decoration-color: #7f7f7f\">__init__.py</span></a><span style=\"color: #7f7f7f; text-decoration-color: #7f7f7f\">:</span><a href=\"file://c:\\Users\\nachi\\AppData\\Local\\Programs\\Python\\Python312\\Lib\\site-packages\\kedro\\ipython\\__init__.py#147\" target=\"_blank\"><span style=\"color: #7f7f7f; text-decoration-color: #7f7f7f\">147</span></a>\n",
       "<span style=\"color: #7fbfbf; text-decoration-color: #7fbfbf\">                    </span>         <span style=\"color: #008000; text-decoration-color: #008000\">'pipelines'</span>                                                            <span style=\"color: #7f7f7f; text-decoration-color: #7f7f7f\">               </span>\n",
       "</pre>\n"
      ],
      "text/plain": [
       "\u001b[2;36m                   \u001b[0m\u001b[2;36m \u001b[0m\u001b[34mINFO    \u001b[0m Defined global variable \u001b[32m'context'\u001b[0m, \u001b[32m'session'\u001b[0m, \u001b[32m'catalog'\u001b[0m and            \u001b]8;id=120318;file://c:\\Users\\nachi\\AppData\\Local\\Programs\\Python\\Python312\\Lib\\site-packages\\kedro\\ipython\\__init__.py\u001b\\\u001b[2m__init__.py\u001b[0m\u001b]8;;\u001b\\\u001b[2m:\u001b[0m\u001b]8;id=696896;file://c:\\Users\\nachi\\AppData\\Local\\Programs\\Python\\Python312\\Lib\\site-packages\\kedro\\ipython\\__init__.py#147\u001b\\\u001b[2m147\u001b[0m\u001b]8;;\u001b\\\n",
       "\u001b[2;36m                    \u001b[0m         \u001b[32m'pipelines'\u001b[0m                                                            \u001b[2m               \u001b[0m\n"
      ]
     },
     "metadata": {},
     "output_type": "display_data"
    },
    {
     "data": {
      "text/html": [
       "<pre style=\"white-space:pre;overflow-x:auto;line-height:normal;font-family:Menlo,'DejaVu Sans Mono',consolas,'Courier New',monospace\"><span style=\"color: #7fbfbf; text-decoration-color: #7fbfbf\">[09/12/25 19:26:45] </span><span style=\"color: #000080; text-decoration-color: #000080\">INFO    </span> Registered line magic <span style=\"color: #008000; text-decoration-color: #008000\">'run_viz'</span>                                        <a href=\"file://c:\\Users\\nachi\\AppData\\Local\\Programs\\Python\\Python312\\Lib\\site-packages\\kedro\\ipython\\__init__.py\" target=\"_blank\"><span style=\"color: #7f7f7f; text-decoration-color: #7f7f7f\">__init__.py</span></a><span style=\"color: #7f7f7f; text-decoration-color: #7f7f7f\">:</span><a href=\"file://c:\\Users\\nachi\\AppData\\Local\\Programs\\Python\\Python312\\Lib\\site-packages\\kedro\\ipython\\__init__.py#153\" target=\"_blank\"><span style=\"color: #7f7f7f; text-decoration-color: #7f7f7f\">153</span></a>\n",
       "</pre>\n"
      ],
      "text/plain": [
       "\u001b[2;36m[09/12/25 19:26:45]\u001b[0m\u001b[2;36m \u001b[0m\u001b[34mINFO    \u001b[0m Registered line magic \u001b[32m'run_viz'\u001b[0m                                        \u001b]8;id=94970;file://c:\\Users\\nachi\\AppData\\Local\\Programs\\Python\\Python312\\Lib\\site-packages\\kedro\\ipython\\__init__.py\u001b\\\u001b[2m__init__.py\u001b[0m\u001b]8;;\u001b\\\u001b[2m:\u001b[0m\u001b]8;id=624339;file://c:\\Users\\nachi\\AppData\\Local\\Programs\\Python\\Python312\\Lib\\site-packages\\kedro\\ipython\\__init__.py#153\u001b\\\u001b[2m153\u001b[0m\u001b]8;;\u001b\\\n"
      ]
     },
     "metadata": {},
     "output_type": "display_data"
    }
   ],
   "source": [
    "%load_ext kedro.ipython\n"
   ]
  },
  {
   "cell_type": "code",
   "execution_count": 5,
   "id": "1109a072",
   "metadata": {},
   "outputs": [
    {
     "data": {
      "text/html": [
       "<pre style=\"white-space:pre;overflow-x:auto;line-height:normal;font-family:Menlo,'DejaVu Sans Mono',consolas,'Courier New',monospace\"><span style=\"color: #7fbfbf; text-decoration-color: #7fbfbf\">[09/12/25 19:26:47] </span><span style=\"color: #000080; text-decoration-color: #000080\">INFO    </span> Loading data from <span style=\"color: #ff8700; text-decoration-color: #ff8700\">data_r2s-</span><span style=\"color: #008080; text-decoration-color: #008080; font-weight: bold\">0</span> <span style=\"font-weight: bold\">(</span>CSVDataset<span style=\"font-weight: bold\">)</span><span style=\"color: #808000; text-decoration-color: #808000\">...</span>                      <a href=\"file://c:\\Users\\nachi\\AppData\\Local\\Programs\\Python\\Python312\\Lib\\site-packages\\kedro\\io\\data_catalog.py\" target=\"_blank\"><span style=\"color: #7f7f7f; text-decoration-color: #7f7f7f\">data_catalog.py</span></a><span style=\"color: #7f7f7f; text-decoration-color: #7f7f7f\">:</span><a href=\"file://c:\\Users\\nachi\\AppData\\Local\\Programs\\Python\\Python312\\Lib\\site-packages\\kedro\\io\\data_catalog.py#1046\" target=\"_blank\"><span style=\"color: #7f7f7f; text-decoration-color: #7f7f7f\">1046</span></a>\n",
       "</pre>\n"
      ],
      "text/plain": [
       "\u001b[2;36m[09/12/25 19:26:47]\u001b[0m\u001b[2;36m \u001b[0m\u001b[34mINFO    \u001b[0m Loading data from \u001b[38;5;208mdata_r2s-\u001b[0m\u001b[1;36m0\u001b[0m \u001b[1m(\u001b[0mCSVDataset\u001b[1m)\u001b[0m\u001b[33m...\u001b[0m                      \u001b]8;id=359645;file://c:\\Users\\nachi\\AppData\\Local\\Programs\\Python\\Python312\\Lib\\site-packages\\kedro\\io\\data_catalog.py\u001b\\\u001b[2mdata_catalog.py\u001b[0m\u001b]8;;\u001b\\\u001b[2m:\u001b[0m\u001b]8;id=41737;file://c:\\Users\\nachi\\AppData\\Local\\Programs\\Python\\Python312\\Lib\\site-packages\\kedro\\io\\data_catalog.py#1046\u001b\\\u001b[2m1046\u001b[0m\u001b]8;;\u001b\\\n"
      ]
     },
     "metadata": {},
     "output_type": "display_data"
    },
    {
     "data": {
      "text/html": [
       "<pre style=\"white-space:pre;overflow-x:auto;line-height:normal;font-family:Menlo,'DejaVu Sans Mono',consolas,'Courier New',monospace\"><span style=\"color: #7fbfbf; text-decoration-color: #7fbfbf\">[09/12/25 19:27:03] </span><span style=\"color: #000080; text-decoration-color: #000080\">INFO    </span> Loading data from <span style=\"color: #ff8700; text-decoration-color: #ff8700\">data_r2s-</span><span style=\"color: #008080; text-decoration-color: #008080; font-weight: bold\">1</span> <span style=\"font-weight: bold\">(</span>CSVDataset<span style=\"font-weight: bold\">)</span><span style=\"color: #808000; text-decoration-color: #808000\">...</span>                      <a href=\"file://c:\\Users\\nachi\\AppData\\Local\\Programs\\Python\\Python312\\Lib\\site-packages\\kedro\\io\\data_catalog.py\" target=\"_blank\"><span style=\"color: #7f7f7f; text-decoration-color: #7f7f7f\">data_catalog.py</span></a><span style=\"color: #7f7f7f; text-decoration-color: #7f7f7f\">:</span><a href=\"file://c:\\Users\\nachi\\AppData\\Local\\Programs\\Python\\Python312\\Lib\\site-packages\\kedro\\io\\data_catalog.py#1046\" target=\"_blank\"><span style=\"color: #7f7f7f; text-decoration-color: #7f7f7f\">1046</span></a>\n",
       "</pre>\n"
      ],
      "text/plain": [
       "\u001b[2;36m[09/12/25 19:27:03]\u001b[0m\u001b[2;36m \u001b[0m\u001b[34mINFO    \u001b[0m Loading data from \u001b[38;5;208mdata_r2s-\u001b[0m\u001b[1;36m1\u001b[0m \u001b[1m(\u001b[0mCSVDataset\u001b[1m)\u001b[0m\u001b[33m...\u001b[0m                      \u001b]8;id=171493;file://c:\\Users\\nachi\\AppData\\Local\\Programs\\Python\\Python312\\Lib\\site-packages\\kedro\\io\\data_catalog.py\u001b\\\u001b[2mdata_catalog.py\u001b[0m\u001b]8;;\u001b\\\u001b[2m:\u001b[0m\u001b]8;id=260326;file://c:\\Users\\nachi\\AppData\\Local\\Programs\\Python\\Python312\\Lib\\site-packages\\kedro\\io\\data_catalog.py#1046\u001b\\\u001b[2m1046\u001b[0m\u001b]8;;\u001b\\\n"
      ]
     },
     "metadata": {},
     "output_type": "display_data"
    },
    {
     "data": {
      "text/html": [
       "<pre style=\"white-space:pre;overflow-x:auto;line-height:normal;font-family:Menlo,'DejaVu Sans Mono',consolas,'Courier New',monospace\"><span style=\"color: #7fbfbf; text-decoration-color: #7fbfbf\">[09/12/25 19:27:18] </span><span style=\"color: #000080; text-decoration-color: #000080\">INFO    </span> Loading data from <span style=\"color: #ff8700; text-decoration-color: #ff8700\">data_r2s-</span><span style=\"color: #008080; text-decoration-color: #008080; font-weight: bold\">2</span> <span style=\"font-weight: bold\">(</span>CSVDataset<span style=\"font-weight: bold\">)</span><span style=\"color: #808000; text-decoration-color: #808000\">...</span>                      <a href=\"file://c:\\Users\\nachi\\AppData\\Local\\Programs\\Python\\Python312\\Lib\\site-packages\\kedro\\io\\data_catalog.py\" target=\"_blank\"><span style=\"color: #7f7f7f; text-decoration-color: #7f7f7f\">data_catalog.py</span></a><span style=\"color: #7f7f7f; text-decoration-color: #7f7f7f\">:</span><a href=\"file://c:\\Users\\nachi\\AppData\\Local\\Programs\\Python\\Python312\\Lib\\site-packages\\kedro\\io\\data_catalog.py#1046\" target=\"_blank\"><span style=\"color: #7f7f7f; text-decoration-color: #7f7f7f\">1046</span></a>\n",
       "</pre>\n"
      ],
      "text/plain": [
       "\u001b[2;36m[09/12/25 19:27:18]\u001b[0m\u001b[2;36m \u001b[0m\u001b[34mINFO    \u001b[0m Loading data from \u001b[38;5;208mdata_r2s-\u001b[0m\u001b[1;36m2\u001b[0m \u001b[1m(\u001b[0mCSVDataset\u001b[1m)\u001b[0m\u001b[33m...\u001b[0m                      \u001b]8;id=543316;file://c:\\Users\\nachi\\AppData\\Local\\Programs\\Python\\Python312\\Lib\\site-packages\\kedro\\io\\data_catalog.py\u001b\\\u001b[2mdata_catalog.py\u001b[0m\u001b]8;;\u001b\\\u001b[2m:\u001b[0m\u001b]8;id=132004;file://c:\\Users\\nachi\\AppData\\Local\\Programs\\Python\\Python312\\Lib\\site-packages\\kedro\\io\\data_catalog.py#1046\u001b\\\u001b[2m1046\u001b[0m\u001b]8;;\u001b\\\n"
      ]
     },
     "metadata": {},
     "output_type": "display_data"
    }
   ],
   "source": [
    "data_r2s_0 = catalog.load('data_r2s-0')\n",
    "data_r2s_1 = catalog.load('data_r2s-1')\n",
    "data_r2s_2 = catalog.load('data_r2s-2')\n"
   ]
  },
  {
   "cell_type": "code",
   "execution_count": 13,
   "id": "7a6fa045",
   "metadata": {},
   "outputs": [],
   "source": [
    "combined_data = pd.concat([data_r2s_0, data_r2s_1, data_r2s_2], ignore_index=True)"
   ]
  },
  {
   "cell_type": "markdown",
   "id": "caa6a815",
   "metadata": {},
   "source": [
    "# Selección datos relevantes"
   ]
  },
  {
   "cell_type": "code",
   "execution_count": 6,
   "id": "c901cc5b",
   "metadata": {},
   "outputs": [
    {
     "name": "stdout",
     "output_type": "stream",
     "text": [
      "Codificación de mapname: 16 categorías → numéricas\n",
      "Codificación de role: 2 categorías → numéricas\n",
      "Codificación de team: 2 categorías → numéricas\n",
      "Codificación de operator: 35 categorías → numéricas\n",
      "Codificación de primaryweapon: 46 categorías → numéricas\n",
      "Codificación de secondaryweapon: 16 categorías → numéricas\n",
      "\n",
      "Preview de los datos preparados (unidos):\n",
      "   mapname  role  team  operator  nbkills  isdead  haswon  skillrank  \\\n",
      "0        4     1     1        31        0       0       1        3.0   \n",
      "1        4     1     0        12        0       1       1        3.0   \n",
      "2        4     1     1        15        0       0       1        3.0   \n",
      "3        4     1     0         1        3       0       1        3.0   \n",
      "4        4     1     0        12        0       1       0        3.0   \n",
      "\n",
      "   primaryweapon  secondaryweapon  \n",
      "0             44                0  \n",
      "1              0                8  \n",
      "2              4                7  \n",
      "3             20               13  \n",
      "4              0                8  \n",
      "\n",
      "Total de filas: 12000000\n"
     ]
    }
   ],
   "source": [
    "def preparar_datos_basico(df: pd.DataFrame, label_encoders=None):\n",
    "    cols_relevantes = [\n",
    "        \"mapname\", \"role\", \"team\", \"operator\",\n",
    "        \"nbkills\", \"isdead\", \"haswon\", \"skillrank\",\n",
    "        \"primaryweapon\", \"secondaryweapon\"\n",
    "    ]\n",
    "\n",
    "    # Evita copia pesada → selecciona solo las columnas necesarias\n",
    "    df_pre = pd.DataFrame({col: df[col] for col in cols_relevantes})\n",
    "\n",
    "    # Columnas categóricas\n",
    "    categoricas = [\"mapname\", \"role\", \"team\", \"operator\",\n",
    "                   \"primaryweapon\", \"secondaryweapon\"]\n",
    "\n",
    "    if label_encoders is None:\n",
    "        label_encoders = {}\n",
    "\n",
    "    for col in categoricas:\n",
    "        if col not in label_encoders:\n",
    "            le = LabelEncoder()\n",
    "            df_pre[col] = le.fit_transform(df_pre[col].astype(str))\n",
    "            label_encoders[col] = le\n",
    "            print(f\"Codificación de {col}: {len(le.classes_)} categorías → numéricas\")\n",
    "        else:\n",
    "            # Usa el encoder existente (asegura misma codificación entre datasets)\n",
    "            le = label_encoders[col]\n",
    "            df_pre[col] = le.transform(df_pre[col].astype(str))\n",
    "\n",
    "    # Codificación ordinal de skillrank\n",
    "    rank_order = {\n",
    "        \"Copper\": 0,\n",
    "        \"Bronze\": 1,\n",
    "        \"Silver\": 2,\n",
    "        \"Gold\": 3,\n",
    "        \"Platinum\": 4,\n",
    "        \"Diamond\": 5,\n",
    "        \"Champion\": 6\n",
    "    }\n",
    "    df_pre[\"skillrank\"] = df_pre[\"skillrank\"].map(rank_order)\n",
    "\n",
    "    return df_pre, label_encoders\n",
    "\n",
    "\n",
    "# 🔹 Procesar los tres datasets\n",
    "df0, encoders = preparar_datos_basico(data_r2s_0)\n",
    "df1, encoders = preparar_datos_basico(data_r2s_1, encoders)\n",
    "df2, encoders = preparar_datos_basico(data_r2s_2, encoders)\n",
    "\n",
    "# 🔹 Unir en un solo DataFrame final\n",
    "df_final = pd.concat([df0, df1, df2], ignore_index=True)\n",
    "\n",
    "# 🔹 Vista previa\n",
    "print(\"\\nPreview de los datos preparados (unidos):\")\n",
    "print(df_final.head())\n",
    "print(f\"\\nTotal de filas: {len(df_final)}\")\n",
    "\n"
   ]
  },
  {
   "cell_type": "markdown",
   "id": "94e93705",
   "metadata": {},
   "source": [
    "# Limpieza de datos "
   ]
  },
  {
   "cell_type": "code",
   "execution_count": null,
   "id": "25ace504",
   "metadata": {},
   "outputs": [],
   "source": [
    "def limpiar_datos(combined_data: pd.DataFrame) -> pd.DataFrame:\n",
    "    \"\"\"Elimina nulos y duplicados, muestra resumen de limpieza.\"\"\"\n",
    "    filas_iniciales = combined_data.shape[0]\n",
    "    combined_data = combined_data.dropna()\n",
    "    filas_sin_nulos = combined_data.shape[0]\n",
    "    combined_data = combined_data.drop_duplicates()\n",
    "    filas_finales = combined_data.shape[0]\n",
    "    print(f\"Filas iniciales: {filas_iniciales}\")\n",
    "    print(f\"Filas tras eliminar nulos: {filas_sin_nulos} (eliminadas: {filas_iniciales - filas_sin_nulos})\")\n",
    "    print(f\"Filas tras eliminar duplicados: {filas_finales} (eliminadas: {filas_sin_nulos - filas_finales})\")\n",
    "    return combined_data"
   ]
  },
  {
   "cell_type": "code",
   "execution_count": 9,
   "id": "bb5ae8ef",
   "metadata": {},
   "outputs": [
    {
     "name": "stdout",
     "output_type": "stream",
     "text": [
      "Columna: dateid → 1439558 atípicos detectados\n",
      "Columna: matchid → 0 atípicos detectados\n",
      "Columna: roundnumber → 0 atípicos detectados\n",
      "Columna: roundduration → 34641 atípicos detectados\n",
      "Columna: clearancelevel → 102164 atípicos detectados\n",
      "Columna: team → 0 atípicos detectados\n",
      "Columna: haswon → 0 atípicos detectados\n",
      "Columna: nbkills → 638169 atípicos detectados\n",
      "Columna: isdead → 0 atípicos detectados\n",
      "\n",
      "✅ Total de atípicos eliminados: 2214532\n",
      "📊 Filas iniciales: 12000000 → Filas finales: 9891965\n",
      "\n",
      "Preview de datos filtrados:\n",
      "     dateid platform gamemode     mapname     matchid  roundnumber  \\\n",
      "0  20170212       PC  HOSTAGE  CLUB_HOUSE  1522380841            1   \n",
      "1  20170212       PC  HOSTAGE  CLUB_HOUSE  1522380841            4   \n",
      "2  20170212       PC  HOSTAGE  CLUB_HOUSE  1522380841            3   \n",
      "4  20170212       PC  HOSTAGE  CLUB_HOUSE  1522380841            6   \n",
      "5  20170212       PC  HOSTAGE  CLUB_HOUSE  1522380841            2   \n",
      "\n",
      "  objectivelocation   winrole          endroundreason  roundduration  ...  \\\n",
      "0        STRIP_CLUB  Defender  AttackersKilledHostage            124  ...   \n",
      "1            CHURCH  Defender     AttackersEliminated            217  ...   \n",
      "2            CHURCH  Defender     AttackersEliminated            160  ...   \n",
      "4           BEDROOM  Attacker     DefendersEliminated            143  ...   \n",
      "5            CHURCH  Attacker     DefendersEliminated            129  ...   \n",
      "\n",
      "   primarygrip primaryunderbarrel primarybarrel  secondaryweapon  \\\n",
      "0     Vertical                NaN   Compensator          5.7_USG   \n",
      "1     Vertical              Laser    Suppressor              P12   \n",
      "2          NaN                NaN           NaN          MK1_9mm   \n",
      "4     Vertical              Laser    Suppressor              P12   \n",
      "5     Vertical              Laser    Suppressor              P12   \n",
      "\n",
      "   secondaryweapontype secondarysight  secondarygrip  secondaryunderbarrel  \\\n",
      "0              Pistols            NaN            NaN                   NaN   \n",
      "1              Pistols            NaN            NaN                 Laser   \n",
      "2              Pistols            NaN            NaN                   NaN   \n",
      "4              Pistols            NaN            NaN                 Laser   \n",
      "5              Pistols            NaN            NaN                 Laser   \n",
      "\n",
      "  secondarybarrel    secondarygadget  \n",
      "0             NaN     IMPACT_GRENADE  \n",
      "1      Suppressor  DEPLOYABLE_SHIELD  \n",
      "2             NaN  DEPLOYABLE_SHIELD  \n",
      "4      Suppressor  DEPLOYABLE_SHIELD  \n",
      "5      Suppressor  DEPLOYABLE_SHIELD  \n",
      "\n",
      "[5 rows x 31 columns]\n",
      "(9891965, 31)\n"
     ]
    }
   ],
   "source": [
    "import pandas as pd\n",
    "\n",
    "# 🔹 Unir tus datasets en uno solo (asegúrate de que data_r2s_0,1,2 existan antes)\n",
    "combined_data = pd.concat([data_r2s_0, data_r2s_1, data_r2s_2], ignore_index=True)\n",
    "\n",
    "def eliminar_atipicos(df: pd.DataFrame, columnas: list) -> pd.DataFrame:\n",
    "    \"\"\"Detecta y elimina atípicos usando IQR (acumula filtros para optimizar memoria).\"\"\"\n",
    "    filas_iniciales = len(df)\n",
    "    total_eliminados = 0\n",
    "    \n",
    "    filtro_global = pd.Series(True, index=df.index)  # todos válidos al inicio\n",
    "\n",
    "    for columna in columnas:\n",
    "        Q1 = df[columna].quantile(0.25)\n",
    "        Q3 = df[columna].quantile(0.75)\n",
    "        IQR = Q3 - Q1\n",
    "        filtro = (df[columna] >= (Q1 - 1.5 * IQR)) & (df[columna] <= (Q3 + 1.5 * IQR))\n",
    "\n",
    "        eliminados = (~filtro).sum()\n",
    "        total_eliminados += eliminados\n",
    "        filtro_global &= filtro  # acumulamos\n",
    "\n",
    "        print(f\"Columna: {columna} → {eliminados} atípicos detectados\")\n",
    "\n",
    "    df_filtrado = df[filtro_global]\n",
    "    filas_finales = len(df_filtrado)\n",
    "\n",
    "    print(f\"\\n✅ Total de atípicos eliminados: {total_eliminados}\")\n",
    "    print(f\"📊 Filas iniciales: {filas_iniciales} → Filas finales: {filas_finales}\")\n",
    "\n",
    "    return df_filtrado\n",
    "\n",
    "\n",
    "# 🔹 Seleccionar columnas numéricas\n",
    "columnas_numericas = combined_data.select_dtypes(include=[\"int64\", \"float64\"]).columns.tolist()\n",
    "\n",
    "# 🔹 Aplicar la eliminación de atípicos y guardar el nuevo dataset\n",
    "combined_data = eliminar_atipicos(combined_data, columnas_numericas)\n",
    "\n",
    "# 🔹 Verificar el resultado\n",
    "print(\"\\nPreview de datos filtrados:\")\n",
    "print(combined_data.head())\n",
    "print(combined_data.shape)\n"
   ]
  },
  {
   "cell_type": "markdown",
   "id": "95060e8c",
   "metadata": {},
   "source": [
    "# Integración de datasets "
   ]
  },
  {
   "cell_type": "code",
   "execution_count": 10,
   "id": "66b18ceb",
   "metadata": {},
   "outputs": [
    {
     "name": "stdout",
     "output_type": "stream",
     "text": [
      "✅ Datos integrados: 12000000 filas, 31 columnas\n"
     ]
    }
   ],
   "source": [
    "# Integrar los datasets seleccionados en uno solo\n",
    "datasets = [data_r2s_0, data_r2s_1, data_r2s_2]\n",
    "combined = pd.concat(datasets, ignore_index=True)\n",
    "\n",
    "print(f\"✅ Datos integrados: {combined.shape[0]} filas, {combined.shape[1]} columnas\")\n"
   ]
  },
  {
   "cell_type": "markdown",
   "id": "671900eb",
   "metadata": {},
   "source": [
    "# Feature Engineering"
   ]
  },
  {
   "cell_type": "code",
   "execution_count": 17,
   "id": "ce87a227",
   "metadata": {},
   "outputs": [
    {
     "name": "stdout",
     "output_type": "stream",
     "text": [
      "✅ Feature creada: kill_death_ratio\n",
      "✅ Feature creada: impact_score\n",
      "   nbkills  isdead  haswon  kill_death_ratio  impact_score\n",
      "0        0       0       1               0.0             0\n",
      "1        0       1       1               0.0             0\n",
      "2        0       0       1               0.0             0\n",
      "3        3       0       1               3.0             3\n",
      "4        0       1       0               0.0             0\n"
     ]
    }
   ],
   "source": [
    "# Funciones de feature engineering\n",
    "def crear_kill_death_ratio(df: pd.DataFrame) -> pd.DataFrame:\n",
    "    df[\"kill_death_ratio\"] = df[\"nbkills\"] / (df[\"isdead\"] + 1)  # evita división por 0\n",
    "    print(\"✅ Feature creada: kill_death_ratio\")\n",
    "    return df\n",
    "\n",
    "def crear_impact_score(df: pd.DataFrame) -> pd.DataFrame:\n",
    "    df[\"impact_score\"] = df[\"nbkills\"] * df[\"haswon\"]\n",
    "    print(\"✅ Feature creada: impact_score\")\n",
    "    return df\n",
    "\n",
    "# Aplicar funciones al dataset combinado\n",
    "combined_data = crear_kill_death_ratio(combined_data)\n",
    "combined_data = crear_impact_score(combined_data)\n",
    "\n",
    "# Verificar resultado\n",
    "print(combined_data[[\"nbkills\", \"isdead\", \"haswon\", \"kill_death_ratio\", \"impact_score\"]].head())\n"
   ]
  }
 ],
 "metadata": {
  "kernelspec": {
   "display_name": "Python 3",
   "language": "python",
   "name": "python3"
  },
  "language_info": {
   "codemirror_mode": {
    "name": "ipython",
    "version": 3
   },
   "file_extension": ".py",
   "mimetype": "text/x-python",
   "name": "python",
   "nbconvert_exporter": "python",
   "pygments_lexer": "ipython3",
   "version": "3.12.4"
  }
 },
 "nbformat": 4,
 "nbformat_minor": 5
}
