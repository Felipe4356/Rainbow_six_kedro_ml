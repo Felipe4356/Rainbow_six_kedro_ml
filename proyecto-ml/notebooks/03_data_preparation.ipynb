{
 "cells": [
  {
   "cell_type": "code",
   "execution_count": 10,
   "id": "b34fb098",
   "metadata": {},
   "outputs": [],
   "source": [
    "#librerias\n",
    "import pandas as pd\n",
    "from sklearn.preprocessing import LabelEncoder"
   ]
  },
  {
   "cell_type": "code",
   "execution_count": 11,
   "id": "b4693b48",
   "metadata": {},
   "outputs": [
    {
     "data": {
      "text/html": [
       "<pre style=\"white-space:pre;overflow-x:auto;line-height:normal;font-family:Menlo,'DejaVu Sans Mono',consolas,'Courier New',monospace\"><span style=\"color: #7fbfbf; text-decoration-color: #7fbfbf\">[09/12/25 18:54:37] </span><span style=\"color: #000080; text-decoration-color: #000080\">INFO    </span> Using                                                                  <a href=\"file://c:\\Users\\nachi\\AppData\\Local\\Programs\\Python\\Python312\\Lib\\site-packages\\kedro\\framework\\project\\__init__.py\" target=\"_blank\"><span style=\"color: #7f7f7f; text-decoration-color: #7f7f7f\">__init__.py</span></a><span style=\"color: #7f7f7f; text-decoration-color: #7f7f7f\">:</span><a href=\"file://c:\\Users\\nachi\\AppData\\Local\\Programs\\Python\\Python312\\Lib\\site-packages\\kedro\\framework\\project\\__init__.py#270\" target=\"_blank\"><span style=\"color: #7f7f7f; text-decoration-color: #7f7f7f\">270</span></a>\n",
       "<span style=\"color: #7fbfbf; text-decoration-color: #7fbfbf\">                    </span>         <span style=\"color: #008000; text-decoration-color: #008000\">'c:\\Users\\nachi\\AppData\\Local\\Programs\\Python\\Python312\\Lib\\site-packa</span> <span style=\"color: #7f7f7f; text-decoration-color: #7f7f7f\">               </span>\n",
       "<span style=\"color: #7fbfbf; text-decoration-color: #7fbfbf\">                    </span>         <span style=\"color: #008000; text-decoration-color: #008000\">ges\\kedro\\framework\\project\\rich_logging.yml'</span> as logging               <span style=\"color: #7f7f7f; text-decoration-color: #7f7f7f\">               </span>\n",
       "<span style=\"color: #7fbfbf; text-decoration-color: #7fbfbf\">                    </span>         configuration.                                                         <span style=\"color: #7f7f7f; text-decoration-color: #7f7f7f\">               </span>\n",
       "</pre>\n"
      ],
      "text/plain": [
       "\u001b[2;36m[09/12/25 18:54:37]\u001b[0m\u001b[2;36m \u001b[0m\u001b[34mINFO    \u001b[0m Using                                                                  \u001b]8;id=404170;file://c:\\Users\\nachi\\AppData\\Local\\Programs\\Python\\Python312\\Lib\\site-packages\\kedro\\framework\\project\\__init__.py\u001b\\\u001b[2m__init__.py\u001b[0m\u001b]8;;\u001b\\\u001b[2m:\u001b[0m\u001b]8;id=783668;file://c:\\Users\\nachi\\AppData\\Local\\Programs\\Python\\Python312\\Lib\\site-packages\\kedro\\framework\\project\\__init__.py#270\u001b\\\u001b[2m270\u001b[0m\u001b]8;;\u001b\\\n",
       "\u001b[2;36m                    \u001b[0m         \u001b[32m'c:\\Users\\nachi\\AppData\\Local\\Programs\\Python\\Python312\\Lib\\site-packa\u001b[0m \u001b[2m               \u001b[0m\n",
       "\u001b[2;36m                    \u001b[0m         \u001b[32mges\\kedro\\framework\\project\\rich_logging.yml'\u001b[0m as logging               \u001b[2m               \u001b[0m\n",
       "\u001b[2;36m                    \u001b[0m         configuration.                                                         \u001b[2m               \u001b[0m\n"
      ]
     },
     "metadata": {},
     "output_type": "display_data"
    },
    {
     "data": {
      "text/html": [
       "<pre style=\"white-space:pre;overflow-x:auto;line-height:normal;font-family:Menlo,'DejaVu Sans Mono',consolas,'Courier New',monospace\"><span style=\"color: #7fbfbf; text-decoration-color: #7fbfbf\">                    </span><span style=\"color: #000080; text-decoration-color: #000080\">INFO    </span> Registered line magic <span style=\"color: #008000; text-decoration-color: #008000\">'%reload_kedro'</span>                                   <a href=\"file://c:\\Users\\nachi\\AppData\\Local\\Programs\\Python\\Python312\\Lib\\site-packages\\kedro\\ipython\\__init__.py\" target=\"_blank\"><span style=\"color: #7f7f7f; text-decoration-color: #7f7f7f\">__init__.py</span></a><span style=\"color: #7f7f7f; text-decoration-color: #7f7f7f\">:</span><a href=\"file://c:\\Users\\nachi\\AppData\\Local\\Programs\\Python\\Python312\\Lib\\site-packages\\kedro\\ipython\\__init__.py#63\" target=\"_blank\"><span style=\"color: #7f7f7f; text-decoration-color: #7f7f7f\">63</span></a>\n",
       "</pre>\n"
      ],
      "text/plain": [
       "\u001b[2;36m                   \u001b[0m\u001b[2;36m \u001b[0m\u001b[34mINFO    \u001b[0m Registered line magic \u001b[32m'%reload_kedro'\u001b[0m                                   \u001b]8;id=563266;file://c:\\Users\\nachi\\AppData\\Local\\Programs\\Python\\Python312\\Lib\\site-packages\\kedro\\ipython\\__init__.py\u001b\\\u001b[2m__init__.py\u001b[0m\u001b]8;;\u001b\\\u001b[2m:\u001b[0m\u001b]8;id=48034;file://c:\\Users\\nachi\\AppData\\Local\\Programs\\Python\\Python312\\Lib\\site-packages\\kedro\\ipython\\__init__.py#63\u001b\\\u001b[2m63\u001b[0m\u001b]8;;\u001b\\\n"
      ]
     },
     "metadata": {},
     "output_type": "display_data"
    },
    {
     "data": {
      "text/html": [
       "<pre style=\"white-space:pre;overflow-x:auto;line-height:normal;font-family:Menlo,'DejaVu Sans Mono',consolas,'Courier New',monospace\"><span style=\"color: #7fbfbf; text-decoration-color: #7fbfbf\">                    </span><span style=\"color: #000080; text-decoration-color: #000080\">INFO    </span> Registered line magic <span style=\"color: #008000; text-decoration-color: #008000\">'%load_node'</span>                                      <a href=\"file://c:\\Users\\nachi\\AppData\\Local\\Programs\\Python\\Python312\\Lib\\site-packages\\kedro\\ipython\\__init__.py\" target=\"_blank\"><span style=\"color: #7f7f7f; text-decoration-color: #7f7f7f\">__init__.py</span></a><span style=\"color: #7f7f7f; text-decoration-color: #7f7f7f\">:</span><a href=\"file://c:\\Users\\nachi\\AppData\\Local\\Programs\\Python\\Python312\\Lib\\site-packages\\kedro\\ipython\\__init__.py#65\" target=\"_blank\"><span style=\"color: #7f7f7f; text-decoration-color: #7f7f7f\">65</span></a>\n",
       "</pre>\n"
      ],
      "text/plain": [
       "\u001b[2;36m                   \u001b[0m\u001b[2;36m \u001b[0m\u001b[34mINFO    \u001b[0m Registered line magic \u001b[32m'%load_node'\u001b[0m                                      \u001b]8;id=411800;file://c:\\Users\\nachi\\AppData\\Local\\Programs\\Python\\Python312\\Lib\\site-packages\\kedro\\ipython\\__init__.py\u001b\\\u001b[2m__init__.py\u001b[0m\u001b]8;;\u001b\\\u001b[2m:\u001b[0m\u001b]8;id=249383;file://c:\\Users\\nachi\\AppData\\Local\\Programs\\Python\\Python312\\Lib\\site-packages\\kedro\\ipython\\__init__.py#65\u001b\\\u001b[2m65\u001b[0m\u001b]8;;\u001b\\\n"
      ]
     },
     "metadata": {},
     "output_type": "display_data"
    },
    {
     "data": {
      "text/html": [
       "<pre style=\"white-space:pre;overflow-x:auto;line-height:normal;font-family:Menlo,'DejaVu Sans Mono',consolas,'Courier New',monospace\"><span style=\"color: #7fbfbf; text-decoration-color: #7fbfbf\">                    </span><span style=\"color: #000080; text-decoration-color: #000080\">INFO    </span> Resolved project path as:                                              <a href=\"file://c:\\Users\\nachi\\AppData\\Local\\Programs\\Python\\Python312\\Lib\\site-packages\\kedro\\ipython\\__init__.py\" target=\"_blank\"><span style=\"color: #7f7f7f; text-decoration-color: #7f7f7f\">__init__.py</span></a><span style=\"color: #7f7f7f; text-decoration-color: #7f7f7f\">:</span><a href=\"file://c:\\Users\\nachi\\AppData\\Local\\Programs\\Python\\Python312\\Lib\\site-packages\\kedro\\ipython\\__init__.py#180\" target=\"_blank\"><span style=\"color: #7f7f7f; text-decoration-color: #7f7f7f\">180</span></a>\n",
       "<span style=\"color: #7fbfbf; text-decoration-color: #7fbfbf\">                    </span>         c:\\Users\\nachi\\Desktop\\rainbow\\Rainbow_six_kedro_ml\\proyecto-ml.       <span style=\"color: #7f7f7f; text-decoration-color: #7f7f7f\">               </span>\n",
       "<span style=\"color: #7fbfbf; text-decoration-color: #7fbfbf\">                    </span>         To set a different path, run <span style=\"color: #008000; text-decoration-color: #008000\">'%reload_kedro &lt;project_root&gt;'</span>            <span style=\"color: #7f7f7f; text-decoration-color: #7f7f7f\">               </span>\n",
       "</pre>\n"
      ],
      "text/plain": [
       "\u001b[2;36m                   \u001b[0m\u001b[2;36m \u001b[0m\u001b[34mINFO    \u001b[0m Resolved project path as:                                              \u001b]8;id=44054;file://c:\\Users\\nachi\\AppData\\Local\\Programs\\Python\\Python312\\Lib\\site-packages\\kedro\\ipython\\__init__.py\u001b\\\u001b[2m__init__.py\u001b[0m\u001b]8;;\u001b\\\u001b[2m:\u001b[0m\u001b]8;id=473066;file://c:\\Users\\nachi\\AppData\\Local\\Programs\\Python\\Python312\\Lib\\site-packages\\kedro\\ipython\\__init__.py#180\u001b\\\u001b[2m180\u001b[0m\u001b]8;;\u001b\\\n",
       "\u001b[2;36m                    \u001b[0m         c:\\Users\\nachi\\Desktop\\rainbow\\Rainbow_six_kedro_ml\\proyecto-ml.       \u001b[2m               \u001b[0m\n",
       "\u001b[2;36m                    \u001b[0m         To set a different path, run \u001b[32m'%reload_kedro \u001b[0m\u001b[32m<\u001b[0m\u001b[32mproject_root\u001b[0m\u001b[32m>\u001b[0m\u001b[32m'\u001b[0m            \u001b[2m               \u001b[0m\n"
      ]
     },
     "metadata": {},
     "output_type": "display_data"
    },
    {
     "data": {
      "text/html": [
       "<pre style=\"white-space:pre;overflow-x:auto;line-height:normal;font-family:Menlo,'DejaVu Sans Mono',consolas,'Courier New',monospace\"><span style=\"color: #7fbfbf; text-decoration-color: #7fbfbf\">[09/12/25 18:54:38] </span><span style=\"color: #000080; text-decoration-color: #000080\">INFO    </span> Kedro is sending anonymous usage data with the sole purpose of improving <a href=\"file://c:\\Users\\nachi\\AppData\\Local\\Programs\\Python\\Python312\\Lib\\site-packages\\kedro_telemetry\\plugin.py\" target=\"_blank\"><span style=\"color: #7f7f7f; text-decoration-color: #7f7f7f\">plugin.py</span></a><span style=\"color: #7f7f7f; text-decoration-color: #7f7f7f\">:</span><a href=\"file://c:\\Users\\nachi\\AppData\\Local\\Programs\\Python\\Python312\\Lib\\site-packages\\kedro_telemetry\\plugin.py#243\" target=\"_blank\"><span style=\"color: #7f7f7f; text-decoration-color: #7f7f7f\">243</span></a>\n",
       "<span style=\"color: #7fbfbf; text-decoration-color: #7fbfbf\">                    </span>         the product. No personal data or IP addresses are stored on our side. To <span style=\"color: #7f7f7f; text-decoration-color: #7f7f7f\">             </span>\n",
       "<span style=\"color: #7fbfbf; text-decoration-color: #7fbfbf\">                    </span>         opt out, set the `KEDRO_DISABLE_TELEMETRY` or `DO_NOT_TRACK` environment <span style=\"color: #7f7f7f; text-decoration-color: #7f7f7f\">             </span>\n",
       "<span style=\"color: #7fbfbf; text-decoration-color: #7fbfbf\">                    </span>         variables, or create a `.telemetry` file in the current working          <span style=\"color: #7f7f7f; text-decoration-color: #7f7f7f\">             </span>\n",
       "<span style=\"color: #7fbfbf; text-decoration-color: #7fbfbf\">                    </span>         directory with the contents `consent: false`. To hide this message,      <span style=\"color: #7f7f7f; text-decoration-color: #7f7f7f\">             </span>\n",
       "<span style=\"color: #7fbfbf; text-decoration-color: #7fbfbf\">                    </span>         explicitly grant or deny consent. Read more at                           <span style=\"color: #7f7f7f; text-decoration-color: #7f7f7f\">             </span>\n",
       "<span style=\"color: #7fbfbf; text-decoration-color: #7fbfbf\">                    </span>         <span style=\"color: #0000ff; text-decoration-color: #0000ff; text-decoration: underline\">https://docs.kedro.org/en/stable/configuration/telemetry.html</span>            <span style=\"color: #7f7f7f; text-decoration-color: #7f7f7f\">             </span>\n",
       "</pre>\n"
      ],
      "text/plain": [
       "\u001b[2;36m[09/12/25 18:54:38]\u001b[0m\u001b[2;36m \u001b[0m\u001b[34mINFO    \u001b[0m Kedro is sending anonymous usage data with the sole purpose of improving \u001b]8;id=473381;file://c:\\Users\\nachi\\AppData\\Local\\Programs\\Python\\Python312\\Lib\\site-packages\\kedro_telemetry\\plugin.py\u001b\\\u001b[2mplugin.py\u001b[0m\u001b]8;;\u001b\\\u001b[2m:\u001b[0m\u001b]8;id=98222;file://c:\\Users\\nachi\\AppData\\Local\\Programs\\Python\\Python312\\Lib\\site-packages\\kedro_telemetry\\plugin.py#243\u001b\\\u001b[2m243\u001b[0m\u001b]8;;\u001b\\\n",
       "\u001b[2;36m                    \u001b[0m         the product. No personal data or IP addresses are stored on our side. To \u001b[2m             \u001b[0m\n",
       "\u001b[2;36m                    \u001b[0m         opt out, set the `KEDRO_DISABLE_TELEMETRY` or `DO_NOT_TRACK` environment \u001b[2m             \u001b[0m\n",
       "\u001b[2;36m                    \u001b[0m         variables, or create a `.telemetry` file in the current working          \u001b[2m             \u001b[0m\n",
       "\u001b[2;36m                    \u001b[0m         directory with the contents `consent: false`. To hide this message,      \u001b[2m             \u001b[0m\n",
       "\u001b[2;36m                    \u001b[0m         explicitly grant or deny consent. Read more at                           \u001b[2m             \u001b[0m\n",
       "\u001b[2;36m                    \u001b[0m         \u001b[4;94mhttps://docs.kedro.org/en/stable/configuration/telemetry.html\u001b[0m            \u001b[2m             \u001b[0m\n"
      ]
     },
     "metadata": {},
     "output_type": "display_data"
    },
    {
     "data": {
      "text/html": [
       "<pre style=\"white-space:pre;overflow-x:auto;line-height:normal;font-family:Menlo,'DejaVu Sans Mono',consolas,'Courier New',monospace\"><span style=\"color: #7fbfbf; text-decoration-color: #7fbfbf\">[09/12/25 18:54:39] </span><span style=\"color: #000080; text-decoration-color: #000080\">INFO    </span> Kedro project proteyecto-ml                                            <a href=\"file://c:\\Users\\nachi\\AppData\\Local\\Programs\\Python\\Python312\\Lib\\site-packages\\kedro\\ipython\\__init__.py\" target=\"_blank\"><span style=\"color: #7f7f7f; text-decoration-color: #7f7f7f\">__init__.py</span></a><span style=\"color: #7f7f7f; text-decoration-color: #7f7f7f\">:</span><a href=\"file://c:\\Users\\nachi\\AppData\\Local\\Programs\\Python\\Python312\\Lib\\site-packages\\kedro\\ipython\\__init__.py#146\" target=\"_blank\"><span style=\"color: #7f7f7f; text-decoration-color: #7f7f7f\">146</span></a>\n",
       "</pre>\n"
      ],
      "text/plain": [
       "\u001b[2;36m[09/12/25 18:54:39]\u001b[0m\u001b[2;36m \u001b[0m\u001b[34mINFO    \u001b[0m Kedro project proteyecto-ml                                            \u001b]8;id=441723;file://c:\\Users\\nachi\\AppData\\Local\\Programs\\Python\\Python312\\Lib\\site-packages\\kedro\\ipython\\__init__.py\u001b\\\u001b[2m__init__.py\u001b[0m\u001b]8;;\u001b\\\u001b[2m:\u001b[0m\u001b]8;id=62470;file://c:\\Users\\nachi\\AppData\\Local\\Programs\\Python\\Python312\\Lib\\site-packages\\kedro\\ipython\\__init__.py#146\u001b\\\u001b[2m146\u001b[0m\u001b]8;;\u001b\\\n"
      ]
     },
     "metadata": {},
     "output_type": "display_data"
    },
    {
     "data": {
      "text/html": [
       "<pre style=\"white-space:pre;overflow-x:auto;line-height:normal;font-family:Menlo,'DejaVu Sans Mono',consolas,'Courier New',monospace\"><span style=\"color: #7fbfbf; text-decoration-color: #7fbfbf\">                    </span><span style=\"color: #000080; text-decoration-color: #000080\">INFO    </span> Defined global variable <span style=\"color: #008000; text-decoration-color: #008000\">'context'</span>, <span style=\"color: #008000; text-decoration-color: #008000\">'session'</span>, <span style=\"color: #008000; text-decoration-color: #008000\">'catalog'</span> and            <a href=\"file://c:\\Users\\nachi\\AppData\\Local\\Programs\\Python\\Python312\\Lib\\site-packages\\kedro\\ipython\\__init__.py\" target=\"_blank\"><span style=\"color: #7f7f7f; text-decoration-color: #7f7f7f\">__init__.py</span></a><span style=\"color: #7f7f7f; text-decoration-color: #7f7f7f\">:</span><a href=\"file://c:\\Users\\nachi\\AppData\\Local\\Programs\\Python\\Python312\\Lib\\site-packages\\kedro\\ipython\\__init__.py#147\" target=\"_blank\"><span style=\"color: #7f7f7f; text-decoration-color: #7f7f7f\">147</span></a>\n",
       "<span style=\"color: #7fbfbf; text-decoration-color: #7fbfbf\">                    </span>         <span style=\"color: #008000; text-decoration-color: #008000\">'pipelines'</span>                                                            <span style=\"color: #7f7f7f; text-decoration-color: #7f7f7f\">               </span>\n",
       "</pre>\n"
      ],
      "text/plain": [
       "\u001b[2;36m                   \u001b[0m\u001b[2;36m \u001b[0m\u001b[34mINFO    \u001b[0m Defined global variable \u001b[32m'context'\u001b[0m, \u001b[32m'session'\u001b[0m, \u001b[32m'catalog'\u001b[0m and            \u001b]8;id=385723;file://c:\\Users\\nachi\\AppData\\Local\\Programs\\Python\\Python312\\Lib\\site-packages\\kedro\\ipython\\__init__.py\u001b\\\u001b[2m__init__.py\u001b[0m\u001b]8;;\u001b\\\u001b[2m:\u001b[0m\u001b]8;id=91394;file://c:\\Users\\nachi\\AppData\\Local\\Programs\\Python\\Python312\\Lib\\site-packages\\kedro\\ipython\\__init__.py#147\u001b\\\u001b[2m147\u001b[0m\u001b]8;;\u001b\\\n",
       "\u001b[2;36m                    \u001b[0m         \u001b[32m'pipelines'\u001b[0m                                                            \u001b[2m               \u001b[0m\n"
      ]
     },
     "metadata": {},
     "output_type": "display_data"
    },
    {
     "data": {
      "text/html": [
       "<pre style=\"white-space:pre;overflow-x:auto;line-height:normal;font-family:Menlo,'DejaVu Sans Mono',consolas,'Courier New',monospace\"><span style=\"color: #7fbfbf; text-decoration-color: #7fbfbf\">[09/12/25 18:54:40] </span><span style=\"color: #000080; text-decoration-color: #000080\">INFO    </span> Registered line magic <span style=\"color: #008000; text-decoration-color: #008000\">'run_viz'</span>                                        <a href=\"file://c:\\Users\\nachi\\AppData\\Local\\Programs\\Python\\Python312\\Lib\\site-packages\\kedro\\ipython\\__init__.py\" target=\"_blank\"><span style=\"color: #7f7f7f; text-decoration-color: #7f7f7f\">__init__.py</span></a><span style=\"color: #7f7f7f; text-decoration-color: #7f7f7f\">:</span><a href=\"file://c:\\Users\\nachi\\AppData\\Local\\Programs\\Python\\Python312\\Lib\\site-packages\\kedro\\ipython\\__init__.py#153\" target=\"_blank\"><span style=\"color: #7f7f7f; text-decoration-color: #7f7f7f\">153</span></a>\n",
       "</pre>\n"
      ],
      "text/plain": [
       "\u001b[2;36m[09/12/25 18:54:40]\u001b[0m\u001b[2;36m \u001b[0m\u001b[34mINFO    \u001b[0m Registered line magic \u001b[32m'run_viz'\u001b[0m                                        \u001b]8;id=408738;file://c:\\Users\\nachi\\AppData\\Local\\Programs\\Python\\Python312\\Lib\\site-packages\\kedro\\ipython\\__init__.py\u001b\\\u001b[2m__init__.py\u001b[0m\u001b]8;;\u001b\\\u001b[2m:\u001b[0m\u001b]8;id=827464;file://c:\\Users\\nachi\\AppData\\Local\\Programs\\Python\\Python312\\Lib\\site-packages\\kedro\\ipython\\__init__.py#153\u001b\\\u001b[2m153\u001b[0m\u001b]8;;\u001b\\\n"
      ]
     },
     "metadata": {},
     "output_type": "display_data"
    }
   ],
   "source": [
    "%load_ext kedro.ipython\n"
   ]
  },
  {
   "cell_type": "code",
   "execution_count": 12,
   "id": "1109a072",
   "metadata": {},
   "outputs": [
    {
     "data": {
      "text/html": [
       "<pre style=\"white-space:pre;overflow-x:auto;line-height:normal;font-family:Menlo,'DejaVu Sans Mono',consolas,'Courier New',monospace\"><span style=\"color: #7fbfbf; text-decoration-color: #7fbfbf\">[09/12/25 18:54:43] </span><span style=\"color: #000080; text-decoration-color: #000080\">INFO    </span> Loading data from <span style=\"color: #ff8700; text-decoration-color: #ff8700\">data_r2s-</span><span style=\"color: #008080; text-decoration-color: #008080; font-weight: bold\">0</span> <span style=\"font-weight: bold\">(</span>CSVDataset<span style=\"font-weight: bold\">)</span><span style=\"color: #808000; text-decoration-color: #808000\">...</span>                      <a href=\"file://c:\\Users\\nachi\\AppData\\Local\\Programs\\Python\\Python312\\Lib\\site-packages\\kedro\\io\\data_catalog.py\" target=\"_blank\"><span style=\"color: #7f7f7f; text-decoration-color: #7f7f7f\">data_catalog.py</span></a><span style=\"color: #7f7f7f; text-decoration-color: #7f7f7f\">:</span><a href=\"file://c:\\Users\\nachi\\AppData\\Local\\Programs\\Python\\Python312\\Lib\\site-packages\\kedro\\io\\data_catalog.py#1046\" target=\"_blank\"><span style=\"color: #7f7f7f; text-decoration-color: #7f7f7f\">1046</span></a>\n",
       "</pre>\n"
      ],
      "text/plain": [
       "\u001b[2;36m[09/12/25 18:54:43]\u001b[0m\u001b[2;36m \u001b[0m\u001b[34mINFO    \u001b[0m Loading data from \u001b[38;5;208mdata_r2s-\u001b[0m\u001b[1;36m0\u001b[0m \u001b[1m(\u001b[0mCSVDataset\u001b[1m)\u001b[0m\u001b[33m...\u001b[0m                      \u001b]8;id=589666;file://c:\\Users\\nachi\\AppData\\Local\\Programs\\Python\\Python312\\Lib\\site-packages\\kedro\\io\\data_catalog.py\u001b\\\u001b[2mdata_catalog.py\u001b[0m\u001b]8;;\u001b\\\u001b[2m:\u001b[0m\u001b]8;id=244311;file://c:\\Users\\nachi\\AppData\\Local\\Programs\\Python\\Python312\\Lib\\site-packages\\kedro\\io\\data_catalog.py#1046\u001b\\\u001b[2m1046\u001b[0m\u001b]8;;\u001b\\\n"
      ]
     },
     "metadata": {},
     "output_type": "display_data"
    },
    {
     "data": {
      "text/html": [
       "<pre style=\"white-space:pre;overflow-x:auto;line-height:normal;font-family:Menlo,'DejaVu Sans Mono',consolas,'Courier New',monospace\"><span style=\"color: #7fbfbf; text-decoration-color: #7fbfbf\">[09/12/25 18:55:00] </span><span style=\"color: #000080; text-decoration-color: #000080\">INFO    </span> Loading data from <span style=\"color: #ff8700; text-decoration-color: #ff8700\">data_r2s-</span><span style=\"color: #008080; text-decoration-color: #008080; font-weight: bold\">1</span> <span style=\"font-weight: bold\">(</span>CSVDataset<span style=\"font-weight: bold\">)</span><span style=\"color: #808000; text-decoration-color: #808000\">...</span>                      <a href=\"file://c:\\Users\\nachi\\AppData\\Local\\Programs\\Python\\Python312\\Lib\\site-packages\\kedro\\io\\data_catalog.py\" target=\"_blank\"><span style=\"color: #7f7f7f; text-decoration-color: #7f7f7f\">data_catalog.py</span></a><span style=\"color: #7f7f7f; text-decoration-color: #7f7f7f\">:</span><a href=\"file://c:\\Users\\nachi\\AppData\\Local\\Programs\\Python\\Python312\\Lib\\site-packages\\kedro\\io\\data_catalog.py#1046\" target=\"_blank\"><span style=\"color: #7f7f7f; text-decoration-color: #7f7f7f\">1046</span></a>\n",
       "</pre>\n"
      ],
      "text/plain": [
       "\u001b[2;36m[09/12/25 18:55:00]\u001b[0m\u001b[2;36m \u001b[0m\u001b[34mINFO    \u001b[0m Loading data from \u001b[38;5;208mdata_r2s-\u001b[0m\u001b[1;36m1\u001b[0m \u001b[1m(\u001b[0mCSVDataset\u001b[1m)\u001b[0m\u001b[33m...\u001b[0m                      \u001b]8;id=831420;file://c:\\Users\\nachi\\AppData\\Local\\Programs\\Python\\Python312\\Lib\\site-packages\\kedro\\io\\data_catalog.py\u001b\\\u001b[2mdata_catalog.py\u001b[0m\u001b]8;;\u001b\\\u001b[2m:\u001b[0m\u001b]8;id=156987;file://c:\\Users\\nachi\\AppData\\Local\\Programs\\Python\\Python312\\Lib\\site-packages\\kedro\\io\\data_catalog.py#1046\u001b\\\u001b[2m1046\u001b[0m\u001b]8;;\u001b\\\n"
      ]
     },
     "metadata": {},
     "output_type": "display_data"
    },
    {
     "data": {
      "text/html": [
       "<pre style=\"white-space:pre;overflow-x:auto;line-height:normal;font-family:Menlo,'DejaVu Sans Mono',consolas,'Courier New',monospace\"><span style=\"color: #7fbfbf; text-decoration-color: #7fbfbf\">[09/12/25 18:55:17] </span><span style=\"color: #000080; text-decoration-color: #000080\">INFO    </span> Loading data from <span style=\"color: #ff8700; text-decoration-color: #ff8700\">data_r2s-</span><span style=\"color: #008080; text-decoration-color: #008080; font-weight: bold\">2</span> <span style=\"font-weight: bold\">(</span>CSVDataset<span style=\"font-weight: bold\">)</span><span style=\"color: #808000; text-decoration-color: #808000\">...</span>                      <a href=\"file://c:\\Users\\nachi\\AppData\\Local\\Programs\\Python\\Python312\\Lib\\site-packages\\kedro\\io\\data_catalog.py\" target=\"_blank\"><span style=\"color: #7f7f7f; text-decoration-color: #7f7f7f\">data_catalog.py</span></a><span style=\"color: #7f7f7f; text-decoration-color: #7f7f7f\">:</span><a href=\"file://c:\\Users\\nachi\\AppData\\Local\\Programs\\Python\\Python312\\Lib\\site-packages\\kedro\\io\\data_catalog.py#1046\" target=\"_blank\"><span style=\"color: #7f7f7f; text-decoration-color: #7f7f7f\">1046</span></a>\n",
       "</pre>\n"
      ],
      "text/plain": [
       "\u001b[2;36m[09/12/25 18:55:17]\u001b[0m\u001b[2;36m \u001b[0m\u001b[34mINFO    \u001b[0m Loading data from \u001b[38;5;208mdata_r2s-\u001b[0m\u001b[1;36m2\u001b[0m \u001b[1m(\u001b[0mCSVDataset\u001b[1m)\u001b[0m\u001b[33m...\u001b[0m                      \u001b]8;id=859843;file://c:\\Users\\nachi\\AppData\\Local\\Programs\\Python\\Python312\\Lib\\site-packages\\kedro\\io\\data_catalog.py\u001b\\\u001b[2mdata_catalog.py\u001b[0m\u001b]8;;\u001b\\\u001b[2m:\u001b[0m\u001b]8;id=885449;file://c:\\Users\\nachi\\AppData\\Local\\Programs\\Python\\Python312\\Lib\\site-packages\\kedro\\io\\data_catalog.py#1046\u001b\\\u001b[2m1046\u001b[0m\u001b]8;;\u001b\\\n"
      ]
     },
     "metadata": {},
     "output_type": "display_data"
    }
   ],
   "source": [
    "data_r2s_0 = catalog.load('data_r2s-0')\n",
    "data_r2s_1 = catalog.load('data_r2s-1')\n",
    "data_r2s_2 = catalog.load('data_r2s-2')\n"
   ]
  },
  {
   "cell_type": "code",
   "execution_count": 13,
   "id": "7a6fa045",
   "metadata": {},
   "outputs": [],
   "source": [
    "combined_data = pd.concat([data_r2s_0, data_r2s_1, data_r2s_2], ignore_index=True)"
   ]
  },
  {
   "cell_type": "markdown",
   "id": "caa6a815",
   "metadata": {},
   "source": [
    "# Selección datos relevantes"
   ]
  },
  {
   "cell_type": "code",
   "execution_count": 14,
   "id": "c901cc5b",
   "metadata": {},
   "outputs": [
    {
     "name": "stdout",
     "output_type": "stream",
     "text": [
      "Codificación de mapname: 16 categorías → numéricas\n",
      "Codificación de role: 2 categorías → numéricas\n",
      "Codificación de team: 2 categorías → numéricas\n",
      "Codificación de operator: 35 categorías → numéricas\n",
      "Codificación de primaryweapon: 46 categorías → numéricas\n",
      "Codificación de secondaryweapon: 16 categorías → numéricas\n",
      "\n",
      "Preview de los datos preparados (unidos):\n",
      "   mapname  role  team  operator  nbkills  isdead  haswon  skillrank  \\\n",
      "0        4     1     1        31        0       0       1        3.0   \n",
      "1        4     1     0        12        0       1       1        3.0   \n",
      "2        4     1     1        15        0       0       1        3.0   \n",
      "3        4     1     0         1        3       0       1        3.0   \n",
      "4        4     1     0        12        0       1       0        3.0   \n",
      "\n",
      "   primaryweapon  secondaryweapon  \n",
      "0             44                0  \n",
      "1              0                8  \n",
      "2              4                7  \n",
      "3             20               13  \n",
      "4              0                8  \n",
      "\n",
      "Total de filas: 12000000\n"
     ]
    }
   ],
   "source": [
    "def preparar_datos_basico(df: pd.DataFrame, label_encoders=None):\n",
    "    cols_relevantes = [\n",
    "        \"mapname\", \"role\", \"team\", \"operator\",\n",
    "        \"nbkills\", \"isdead\", \"haswon\", \"skillrank\",\n",
    "        \"primaryweapon\", \"secondaryweapon\"\n",
    "    ]\n",
    "\n",
    "    # Evita copia pesada → selecciona solo las columnas necesarias\n",
    "    df_pre = pd.DataFrame({col: df[col] for col in cols_relevantes})\n",
    "\n",
    "    # Columnas categóricas\n",
    "    categoricas = [\"mapname\", \"role\", \"team\", \"operator\",\n",
    "                   \"primaryweapon\", \"secondaryweapon\"]\n",
    "\n",
    "    if label_encoders is None:\n",
    "        label_encoders = {}\n",
    "\n",
    "    for col in categoricas:\n",
    "        if col not in label_encoders:\n",
    "            le = LabelEncoder()\n",
    "            df_pre[col] = le.fit_transform(df_pre[col].astype(str))\n",
    "            label_encoders[col] = le\n",
    "            print(f\"Codificación de {col}: {len(le.classes_)} categorías → numéricas\")\n",
    "        else:\n",
    "            # Usa el encoder existente (asegura misma codificación entre datasets)\n",
    "            le = label_encoders[col]\n",
    "            df_pre[col] = le.transform(df_pre[col].astype(str))\n",
    "\n",
    "    # Codificación ordinal de skillrank\n",
    "    rank_order = {\n",
    "        \"Copper\": 0,\n",
    "        \"Bronze\": 1,\n",
    "        \"Silver\": 2,\n",
    "        \"Gold\": 3,\n",
    "        \"Platinum\": 4,\n",
    "        \"Diamond\": 5,\n",
    "        \"Champion\": 6\n",
    "    }\n",
    "    df_pre[\"skillrank\"] = df_pre[\"skillrank\"].map(rank_order)\n",
    "\n",
    "    return df_pre, label_encoders\n",
    "\n",
    "\n",
    "# 🔹 Procesar los tres datasets\n",
    "df0, encoders = preparar_datos_basico(data_r2s_0)\n",
    "df1, encoders = preparar_datos_basico(data_r2s_1, encoders)\n",
    "df2, encoders = preparar_datos_basico(data_r2s_2, encoders)\n",
    "\n",
    "# 🔹 Unir en un solo DataFrame final\n",
    "df_final = pd.concat([df0, df1, df2], ignore_index=True)\n",
    "\n",
    "# 🔹 Vista previa\n",
    "print(\"\\nPreview de los datos preparados (unidos):\")\n",
    "print(df_final.head())\n",
    "print(f\"\\nTotal de filas: {len(df_final)}\")\n"
   ]
  },
  {
   "cell_type": "markdown",
   "id": "94e93705",
   "metadata": {},
   "source": [
    "# Limpieza de datos "
   ]
  },
  {
   "cell_type": "code",
   "execution_count": 15,
   "id": "25ace504",
   "metadata": {},
   "outputs": [],
   "source": [
    "def limpiar_datos(combined_data: pd.DataFrame) -> pd.DataFrame:\n",
    "    \"\"\"Elimina nulos y duplicados, muestra resumen de limpieza.\"\"\"\n",
    "    filas_iniciales = combined_data.shape[0]\n",
    "    combined_data = combined_data.dropna()\n",
    "    filas_sin_nulos = combined_data.shape[0]\n",
    "    combined_data = combined_data.drop_duplicates()\n",
    "    filas_finales = combined_data.shape[0]\n",
    "    print(f\"Filas iniciales: {filas_iniciales}\")\n",
    "    print(f\"Filas tras eliminar nulos: {filas_sin_nulos} (eliminadas: {filas_iniciales - filas_sin_nulos})\")\n",
    "    print(f\"Filas tras eliminar duplicados: {filas_finales} (eliminadas: {filas_sin_nulos - filas_finales})\")\n",
    "    return combined_data"
   ]
  },
  {
   "cell_type": "markdown",
   "id": "95060e8c",
   "metadata": {},
   "source": [
    "# Integración de datasets "
   ]
  },
  {
   "cell_type": "code",
   "execution_count": 16,
   "id": "66b18ceb",
   "metadata": {},
   "outputs": [
    {
     "name": "stdout",
     "output_type": "stream",
     "text": [
      "✅ Datos integrados: 12000000 filas, 31 columnas\n"
     ]
    }
   ],
   "source": [
    "# Integrar los datasets seleccionados en uno solo\n",
    "datasets = [data_r2s_0, data_r2s_1, data_r2s_2]\n",
    "combined = pd.concat(datasets, ignore_index=True)\n",
    "\n",
    "print(f\"✅ Datos integrados: {combined.shape[0]} filas, {combined.shape[1]} columnas\")\n"
   ]
  },
  {
   "cell_type": "markdown",
   "id": "671900eb",
   "metadata": {},
   "source": [
    "# Feature Engineering"
   ]
  },
  {
   "cell_type": "code",
   "execution_count": 17,
   "id": "ce87a227",
   "metadata": {},
   "outputs": [
    {
     "name": "stdout",
     "output_type": "stream",
     "text": [
      "✅ Feature creada: kill_death_ratio\n",
      "✅ Feature creada: impact_score\n",
      "   nbkills  isdead  haswon  kill_death_ratio  impact_score\n",
      "0        0       0       1               0.0             0\n",
      "1        0       1       1               0.0             0\n",
      "2        0       0       1               0.0             0\n",
      "3        3       0       1               3.0             3\n",
      "4        0       1       0               0.0             0\n"
     ]
    }
   ],
   "source": [
    "# Funciones de feature engineering\n",
    "def crear_kill_death_ratio(df: pd.DataFrame) -> pd.DataFrame:\n",
    "    df[\"kill_death_ratio\"] = df[\"nbkills\"] / (df[\"isdead\"] + 1)  # evita división por 0\n",
    "    print(\"✅ Feature creada: kill_death_ratio\")\n",
    "    return df\n",
    "\n",
    "def crear_impact_score(df: pd.DataFrame) -> pd.DataFrame:\n",
    "    df[\"impact_score\"] = df[\"nbkills\"] * df[\"haswon\"]\n",
    "    print(\"✅ Feature creada: impact_score\")\n",
    "    return df\n",
    "\n",
    "# Aplicar funciones al dataset combinado\n",
    "combined_data = crear_kill_death_ratio(combined_data)\n",
    "combined_data = crear_impact_score(combined_data)\n",
    "\n",
    "# Verificar resultado\n",
    "print(combined_data[[\"nbkills\", \"isdead\", \"haswon\", \"kill_death_ratio\", \"impact_score\"]].head())\n"
   ]
  }
 ],
 "metadata": {
  "kernelspec": {
   "display_name": "Python 3",
   "language": "python",
   "name": "python3"
  },
  "language_info": {
   "codemirror_mode": {
    "name": "ipython",
    "version": 3
   },
   "file_extension": ".py",
   "mimetype": "text/x-python",
   "name": "python",
   "nbconvert_exporter": "python",
   "pygments_lexer": "ipython3",
   "version": "3.12.4"
  }
 },
 "nbformat": 4,
 "nbformat_minor": 5
}
