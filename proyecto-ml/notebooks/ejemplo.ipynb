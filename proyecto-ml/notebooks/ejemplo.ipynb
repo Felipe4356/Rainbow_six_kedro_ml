{
 "cells": [
  {
   "cell_type": "code",
   "execution_count": null,
   "id": "6e233191-cfcc-4aeb-8aa7-d143eadc7713",
   "metadata": {},
   "outputs": [
    {
     "data": {
      "text/html": [
       "<pre style=\"white-space:pre;overflow-x:auto;line-height:normal;font-family:Menlo,'DejaVu Sans Mono',consolas,'Courier New',monospace\"><span style=\"color: #7fbfbf; text-decoration-color: #7fbfbf\">[09/12/25 18:16:29] </span><span style=\"color: #000080; text-decoration-color: #000080\">INFO    </span> Using                                                                  <a href=\"file://c:\\Users\\droid\\Desktop\\Rainbow_six_kedro\\venv\\Lib\\site-packages\\kedro\\framework\\project\\__init__.py\" target=\"_blank\"><span style=\"color: #7f7f7f; text-decoration-color: #7f7f7f\">__init__.py</span></a><span style=\"color: #7f7f7f; text-decoration-color: #7f7f7f\">:</span><a href=\"file://c:\\Users\\droid\\Desktop\\Rainbow_six_kedro\\venv\\Lib\\site-packages\\kedro\\framework\\project\\__init__.py#270\" target=\"_blank\"><span style=\"color: #7f7f7f; text-decoration-color: #7f7f7f\">270</span></a>\n",
       "<span style=\"color: #7fbfbf; text-decoration-color: #7fbfbf\">                    </span>         <span style=\"color: #008000; text-decoration-color: #008000\">'c:\\Users\\droid\\Desktop\\Rainbow_six_kedro\\venv\\Lib\\site-packages\\kedro</span> <span style=\"color: #7f7f7f; text-decoration-color: #7f7f7f\">               </span>\n",
       "<span style=\"color: #7fbfbf; text-decoration-color: #7fbfbf\">                    </span>         <span style=\"color: #008000; text-decoration-color: #008000\">\\framework\\project\\rich_logging.yml'</span> as logging configuration.         <span style=\"color: #7f7f7f; text-decoration-color: #7f7f7f\">               </span>\n",
       "</pre>\n"
      ],
      "text/plain": [
       "\u001b[2;36m[09/12/25 18:16:29]\u001b[0m\u001b[2;36m \u001b[0m\u001b[34mINFO    \u001b[0m Using                                                                  \u001b]8;id=758375;file://c:\\Users\\droid\\Desktop\\Rainbow_six_kedro\\venv\\Lib\\site-packages\\kedro\\framework\\project\\__init__.py\u001b\\\u001b[2m__init__.py\u001b[0m\u001b]8;;\u001b\\\u001b[2m:\u001b[0m\u001b]8;id=979211;file://c:\\Users\\droid\\Desktop\\Rainbow_six_kedro\\venv\\Lib\\site-packages\\kedro\\framework\\project\\__init__.py#270\u001b\\\u001b[2m270\u001b[0m\u001b]8;;\u001b\\\n",
       "\u001b[2;36m                    \u001b[0m         \u001b[32m'c:\\Users\\droid\\Desktop\\Rainbow_six_kedro\\venv\\Lib\\site-packages\\kedro\u001b[0m \u001b[2m               \u001b[0m\n",
       "\u001b[2;36m                    \u001b[0m         \u001b[32m\\framework\\project\\rich_logging.yml'\u001b[0m as logging configuration.         \u001b[2m               \u001b[0m\n"
      ]
     },
     "metadata": {},
     "output_type": "display_data"
    },
    {
     "data": {
      "text/html": [
       "<pre style=\"white-space:pre;overflow-x:auto;line-height:normal;font-family:Menlo,'DejaVu Sans Mono',consolas,'Courier New',monospace\"><span style=\"color: #7fbfbf; text-decoration-color: #7fbfbf\">[09/12/25 18:16:30] </span><span style=\"color: #000080; text-decoration-color: #000080\">INFO    </span> Registered line magic <span style=\"color: #008000; text-decoration-color: #008000\">'%reload_kedro'</span>                                   <a href=\"file://c:\\Users\\droid\\Desktop\\Rainbow_six_kedro\\venv\\Lib\\site-packages\\kedro\\ipython\\__init__.py\" target=\"_blank\"><span style=\"color: #7f7f7f; text-decoration-color: #7f7f7f\">__init__.py</span></a><span style=\"color: #7f7f7f; text-decoration-color: #7f7f7f\">:</span><a href=\"file://c:\\Users\\droid\\Desktop\\Rainbow_six_kedro\\venv\\Lib\\site-packages\\kedro\\ipython\\__init__.py#63\" target=\"_blank\"><span style=\"color: #7f7f7f; text-decoration-color: #7f7f7f\">63</span></a>\n",
       "</pre>\n"
      ],
      "text/plain": [
       "\u001b[2;36m[09/12/25 18:16:30]\u001b[0m\u001b[2;36m \u001b[0m\u001b[34mINFO    \u001b[0m Registered line magic \u001b[32m'%reload_kedro'\u001b[0m                                   \u001b]8;id=489315;file://c:\\Users\\droid\\Desktop\\Rainbow_six_kedro\\venv\\Lib\\site-packages\\kedro\\ipython\\__init__.py\u001b\\\u001b[2m__init__.py\u001b[0m\u001b]8;;\u001b\\\u001b[2m:\u001b[0m\u001b]8;id=349437;file://c:\\Users\\droid\\Desktop\\Rainbow_six_kedro\\venv\\Lib\\site-packages\\kedro\\ipython\\__init__.py#63\u001b\\\u001b[2m63\u001b[0m\u001b]8;;\u001b\\\n"
      ]
     },
     "metadata": {},
     "output_type": "display_data"
    },
    {
     "data": {
      "text/html": [
       "<pre style=\"white-space:pre;overflow-x:auto;line-height:normal;font-family:Menlo,'DejaVu Sans Mono',consolas,'Courier New',monospace\"><span style=\"color: #7fbfbf; text-decoration-color: #7fbfbf\">                    </span><span style=\"color: #000080; text-decoration-color: #000080\">INFO    </span> Registered line magic <span style=\"color: #008000; text-decoration-color: #008000\">'%load_node'</span>                                      <a href=\"file://c:\\Users\\droid\\Desktop\\Rainbow_six_kedro\\venv\\Lib\\site-packages\\kedro\\ipython\\__init__.py\" target=\"_blank\"><span style=\"color: #7f7f7f; text-decoration-color: #7f7f7f\">__init__.py</span></a><span style=\"color: #7f7f7f; text-decoration-color: #7f7f7f\">:</span><a href=\"file://c:\\Users\\droid\\Desktop\\Rainbow_six_kedro\\venv\\Lib\\site-packages\\kedro\\ipython\\__init__.py#65\" target=\"_blank\"><span style=\"color: #7f7f7f; text-decoration-color: #7f7f7f\">65</span></a>\n",
       "</pre>\n"
      ],
      "text/plain": [
       "\u001b[2;36m                   \u001b[0m\u001b[2;36m \u001b[0m\u001b[34mINFO    \u001b[0m Registered line magic \u001b[32m'%load_node'\u001b[0m                                      \u001b]8;id=513636;file://c:\\Users\\droid\\Desktop\\Rainbow_six_kedro\\venv\\Lib\\site-packages\\kedro\\ipython\\__init__.py\u001b\\\u001b[2m__init__.py\u001b[0m\u001b]8;;\u001b\\\u001b[2m:\u001b[0m\u001b]8;id=641146;file://c:\\Users\\droid\\Desktop\\Rainbow_six_kedro\\venv\\Lib\\site-packages\\kedro\\ipython\\__init__.py#65\u001b\\\u001b[2m65\u001b[0m\u001b]8;;\u001b\\\n"
      ]
     },
     "metadata": {},
     "output_type": "display_data"
    },
    {
     "data": {
      "text/html": [
       "<pre style=\"white-space:pre;overflow-x:auto;line-height:normal;font-family:Menlo,'DejaVu Sans Mono',consolas,'Courier New',monospace\"><span style=\"color: #7fbfbf; text-decoration-color: #7fbfbf\">                    </span><span style=\"color: #000080; text-decoration-color: #000080\">INFO    </span> Resolved project path as:                                              <a href=\"file://c:\\Users\\droid\\Desktop\\Rainbow_six_kedro\\venv\\Lib\\site-packages\\kedro\\ipython\\__init__.py\" target=\"_blank\"><span style=\"color: #7f7f7f; text-decoration-color: #7f7f7f\">__init__.py</span></a><span style=\"color: #7f7f7f; text-decoration-color: #7f7f7f\">:</span><a href=\"file://c:\\Users\\droid\\Desktop\\Rainbow_six_kedro\\venv\\Lib\\site-packages\\kedro\\ipython\\__init__.py#180\" target=\"_blank\"><span style=\"color: #7f7f7f; text-decoration-color: #7f7f7f\">180</span></a>\n",
       "<span style=\"color: #7fbfbf; text-decoration-color: #7fbfbf\">                    </span>         c:\\Users\\droid\\Desktop\\Rainbow_six_kedro\\proyecto-ml.                  <span style=\"color: #7f7f7f; text-decoration-color: #7f7f7f\">               </span>\n",
       "<span style=\"color: #7fbfbf; text-decoration-color: #7fbfbf\">                    </span>         To set a different path, run <span style=\"color: #008000; text-decoration-color: #008000\">'%reload_kedro &lt;project_root&gt;'</span>            <span style=\"color: #7f7f7f; text-decoration-color: #7f7f7f\">               </span>\n",
       "</pre>\n"
      ],
      "text/plain": [
       "\u001b[2;36m                   \u001b[0m\u001b[2;36m \u001b[0m\u001b[34mINFO    \u001b[0m Resolved project path as:                                              \u001b]8;id=866730;file://c:\\Users\\droid\\Desktop\\Rainbow_six_kedro\\venv\\Lib\\site-packages\\kedro\\ipython\\__init__.py\u001b\\\u001b[2m__init__.py\u001b[0m\u001b]8;;\u001b\\\u001b[2m:\u001b[0m\u001b]8;id=833320;file://c:\\Users\\droid\\Desktop\\Rainbow_six_kedro\\venv\\Lib\\site-packages\\kedro\\ipython\\__init__.py#180\u001b\\\u001b[2m180\u001b[0m\u001b]8;;\u001b\\\n",
       "\u001b[2;36m                    \u001b[0m         c:\\Users\\droid\\Desktop\\Rainbow_six_kedro\\proyecto-ml.                  \u001b[2m               \u001b[0m\n",
       "\u001b[2;36m                    \u001b[0m         To set a different path, run \u001b[32m'%reload_kedro \u001b[0m\u001b[32m<\u001b[0m\u001b[32mproject_root\u001b[0m\u001b[32m>\u001b[0m\u001b[32m'\u001b[0m            \u001b[2m               \u001b[0m\n"
      ]
     },
     "metadata": {},
     "output_type": "display_data"
    },
    {
     "data": {
      "text/html": [
       "<pre style=\"white-space:pre;overflow-x:auto;line-height:normal;font-family:Menlo,'DejaVu Sans Mono',consolas,'Courier New',monospace\"><span style=\"color: #7fbfbf; text-decoration-color: #7fbfbf\">[09/12/25 18:16:31] </span><span style=\"color: #000080; text-decoration-color: #000080\">INFO    </span> Kedro is sending anonymous usage data with the sole purpose of improving <a href=\"file://c:\\Users\\droid\\Desktop\\Rainbow_six_kedro\\venv\\Lib\\site-packages\\kedro_telemetry\\plugin.py\" target=\"_blank\"><span style=\"color: #7f7f7f; text-decoration-color: #7f7f7f\">plugin.py</span></a><span style=\"color: #7f7f7f; text-decoration-color: #7f7f7f\">:</span><a href=\"file://c:\\Users\\droid\\Desktop\\Rainbow_six_kedro\\venv\\Lib\\site-packages\\kedro_telemetry\\plugin.py#243\" target=\"_blank\"><span style=\"color: #7f7f7f; text-decoration-color: #7f7f7f\">243</span></a>\n",
       "<span style=\"color: #7fbfbf; text-decoration-color: #7fbfbf\">                    </span>         the product. No personal data or IP addresses are stored on our side. To <span style=\"color: #7f7f7f; text-decoration-color: #7f7f7f\">             </span>\n",
       "<span style=\"color: #7fbfbf; text-decoration-color: #7fbfbf\">                    </span>         opt out, set the `KEDRO_DISABLE_TELEMETRY` or `DO_NOT_TRACK` environment <span style=\"color: #7f7f7f; text-decoration-color: #7f7f7f\">             </span>\n",
       "<span style=\"color: #7fbfbf; text-decoration-color: #7fbfbf\">                    </span>         variables, or create a `.telemetry` file in the current working          <span style=\"color: #7f7f7f; text-decoration-color: #7f7f7f\">             </span>\n",
       "<span style=\"color: #7fbfbf; text-decoration-color: #7fbfbf\">                    </span>         directory with the contents `consent: false`. To hide this message,      <span style=\"color: #7f7f7f; text-decoration-color: #7f7f7f\">             </span>\n",
       "<span style=\"color: #7fbfbf; text-decoration-color: #7fbfbf\">                    </span>         explicitly grant or deny consent. Read more at                           <span style=\"color: #7f7f7f; text-decoration-color: #7f7f7f\">             </span>\n",
       "<span style=\"color: #7fbfbf; text-decoration-color: #7fbfbf\">                    </span>         <span style=\"color: #0000ff; text-decoration-color: #0000ff; text-decoration: underline\">https://docs.kedro.org/en/stable/configuration/telemetry.html</span>            <span style=\"color: #7f7f7f; text-decoration-color: #7f7f7f\">             </span>\n",
       "</pre>\n"
      ],
      "text/plain": [
       "\u001b[2;36m[09/12/25 18:16:31]\u001b[0m\u001b[2;36m \u001b[0m\u001b[34mINFO    \u001b[0m Kedro is sending anonymous usage data with the sole purpose of improving \u001b]8;id=467208;file://c:\\Users\\droid\\Desktop\\Rainbow_six_kedro\\venv\\Lib\\site-packages\\kedro_telemetry\\plugin.py\u001b\\\u001b[2mplugin.py\u001b[0m\u001b]8;;\u001b\\\u001b[2m:\u001b[0m\u001b]8;id=94939;file://c:\\Users\\droid\\Desktop\\Rainbow_six_kedro\\venv\\Lib\\site-packages\\kedro_telemetry\\plugin.py#243\u001b\\\u001b[2m243\u001b[0m\u001b]8;;\u001b\\\n",
       "\u001b[2;36m                    \u001b[0m         the product. No personal data or IP addresses are stored on our side. To \u001b[2m             \u001b[0m\n",
       "\u001b[2;36m                    \u001b[0m         opt out, set the `KEDRO_DISABLE_TELEMETRY` or `DO_NOT_TRACK` environment \u001b[2m             \u001b[0m\n",
       "\u001b[2;36m                    \u001b[0m         variables, or create a `.telemetry` file in the current working          \u001b[2m             \u001b[0m\n",
       "\u001b[2;36m                    \u001b[0m         directory with the contents `consent: false`. To hide this message,      \u001b[2m             \u001b[0m\n",
       "\u001b[2;36m                    \u001b[0m         explicitly grant or deny consent. Read more at                           \u001b[2m             \u001b[0m\n",
       "\u001b[2;36m                    \u001b[0m         \u001b[4;94mhttps://docs.kedro.org/en/stable/configuration/telemetry.html\u001b[0m            \u001b[2m             \u001b[0m\n"
      ]
     },
     "metadata": {},
     "output_type": "display_data"
    },
    {
     "data": {
      "text/html": [
       "<pre style=\"white-space:pre;overflow-x:auto;line-height:normal;font-family:Menlo,'DejaVu Sans Mono',consolas,'Courier New',monospace\"><span style=\"color: #7fbfbf; text-decoration-color: #7fbfbf\">[09/12/25 18:16:32] </span><span style=\"color: #000080; text-decoration-color: #000080\">INFO    </span> Kedro project proteyecto-ml                                            <a href=\"file://c:\\Users\\droid\\Desktop\\Rainbow_six_kedro\\venv\\Lib\\site-packages\\kedro\\ipython\\__init__.py\" target=\"_blank\"><span style=\"color: #7f7f7f; text-decoration-color: #7f7f7f\">__init__.py</span></a><span style=\"color: #7f7f7f; text-decoration-color: #7f7f7f\">:</span><a href=\"file://c:\\Users\\droid\\Desktop\\Rainbow_six_kedro\\venv\\Lib\\site-packages\\kedro\\ipython\\__init__.py#146\" target=\"_blank\"><span style=\"color: #7f7f7f; text-decoration-color: #7f7f7f\">146</span></a>\n",
       "</pre>\n"
      ],
      "text/plain": [
       "\u001b[2;36m[09/12/25 18:16:32]\u001b[0m\u001b[2;36m \u001b[0m\u001b[34mINFO    \u001b[0m Kedro project proteyecto-ml                                            \u001b]8;id=926151;file://c:\\Users\\droid\\Desktop\\Rainbow_six_kedro\\venv\\Lib\\site-packages\\kedro\\ipython\\__init__.py\u001b\\\u001b[2m__init__.py\u001b[0m\u001b]8;;\u001b\\\u001b[2m:\u001b[0m\u001b]8;id=207296;file://c:\\Users\\droid\\Desktop\\Rainbow_six_kedro\\venv\\Lib\\site-packages\\kedro\\ipython\\__init__.py#146\u001b\\\u001b[2m146\u001b[0m\u001b]8;;\u001b\\\n"
      ]
     },
     "metadata": {},
     "output_type": "display_data"
    },
    {
     "data": {
      "text/html": [
       "<pre style=\"white-space:pre;overflow-x:auto;line-height:normal;font-family:Menlo,'DejaVu Sans Mono',consolas,'Courier New',monospace\"><span style=\"color: #7fbfbf; text-decoration-color: #7fbfbf\">                    </span><span style=\"color: #000080; text-decoration-color: #000080\">INFO    </span> Defined global variable <span style=\"color: #008000; text-decoration-color: #008000\">'context'</span>, <span style=\"color: #008000; text-decoration-color: #008000\">'session'</span>, <span style=\"color: #008000; text-decoration-color: #008000\">'catalog'</span> and            <a href=\"file://c:\\Users\\droid\\Desktop\\Rainbow_six_kedro\\venv\\Lib\\site-packages\\kedro\\ipython\\__init__.py\" target=\"_blank\"><span style=\"color: #7f7f7f; text-decoration-color: #7f7f7f\">__init__.py</span></a><span style=\"color: #7f7f7f; text-decoration-color: #7f7f7f\">:</span><a href=\"file://c:\\Users\\droid\\Desktop\\Rainbow_six_kedro\\venv\\Lib\\site-packages\\kedro\\ipython\\__init__.py#147\" target=\"_blank\"><span style=\"color: #7f7f7f; text-decoration-color: #7f7f7f\">147</span></a>\n",
       "<span style=\"color: #7fbfbf; text-decoration-color: #7fbfbf\">                    </span>         <span style=\"color: #008000; text-decoration-color: #008000\">'pipelines'</span>                                                            <span style=\"color: #7f7f7f; text-decoration-color: #7f7f7f\">               </span>\n",
       "</pre>\n"
      ],
      "text/plain": [
       "\u001b[2;36m                   \u001b[0m\u001b[2;36m \u001b[0m\u001b[34mINFO    \u001b[0m Defined global variable \u001b[32m'context'\u001b[0m, \u001b[32m'session'\u001b[0m, \u001b[32m'catalog'\u001b[0m and            \u001b]8;id=468257;file://c:\\Users\\droid\\Desktop\\Rainbow_six_kedro\\venv\\Lib\\site-packages\\kedro\\ipython\\__init__.py\u001b\\\u001b[2m__init__.py\u001b[0m\u001b]8;;\u001b\\\u001b[2m:\u001b[0m\u001b]8;id=405549;file://c:\\Users\\droid\\Desktop\\Rainbow_six_kedro\\venv\\Lib\\site-packages\\kedro\\ipython\\__init__.py#147\u001b\\\u001b[2m147\u001b[0m\u001b]8;;\u001b\\\n",
       "\u001b[2;36m                    \u001b[0m         \u001b[32m'pipelines'\u001b[0m                                                            \u001b[2m               \u001b[0m\n"
      ]
     },
     "metadata": {},
     "output_type": "display_data"
    },
    {
     "data": {
      "text/html": [
       "<pre style=\"white-space:pre;overflow-x:auto;line-height:normal;font-family:Menlo,'DejaVu Sans Mono',consolas,'Courier New',monospace\"><span style=\"color: #7fbfbf; text-decoration-color: #7fbfbf\">[09/12/25 18:16:33] </span><span style=\"color: #000080; text-decoration-color: #000080\">INFO    </span> Registered line magic <span style=\"color: #008000; text-decoration-color: #008000\">'run_viz'</span>                                        <a href=\"file://c:\\Users\\droid\\Desktop\\Rainbow_six_kedro\\venv\\Lib\\site-packages\\kedro\\ipython\\__init__.py\" target=\"_blank\"><span style=\"color: #7f7f7f; text-decoration-color: #7f7f7f\">__init__.py</span></a><span style=\"color: #7f7f7f; text-decoration-color: #7f7f7f\">:</span><a href=\"file://c:\\Users\\droid\\Desktop\\Rainbow_six_kedro\\venv\\Lib\\site-packages\\kedro\\ipython\\__init__.py#153\" target=\"_blank\"><span style=\"color: #7f7f7f; text-decoration-color: #7f7f7f\">153</span></a>\n",
       "</pre>\n"
      ],
      "text/plain": [
       "\u001b[2;36m[09/12/25 18:16:33]\u001b[0m\u001b[2;36m \u001b[0m\u001b[34mINFO    \u001b[0m Registered line magic \u001b[32m'run_viz'\u001b[0m                                        \u001b]8;id=219078;file://c:\\Users\\droid\\Desktop\\Rainbow_six_kedro\\venv\\Lib\\site-packages\\kedro\\ipython\\__init__.py\u001b\\\u001b[2m__init__.py\u001b[0m\u001b]8;;\u001b\\\u001b[2m:\u001b[0m\u001b]8;id=557344;file://c:\\Users\\droid\\Desktop\\Rainbow_six_kedro\\venv\\Lib\\site-packages\\kedro\\ipython\\__init__.py#153\u001b\\\u001b[2m153\u001b[0m\u001b]8;;\u001b\\\n"
      ]
     },
     "metadata": {},
     "output_type": "display_data"
    }
   ],
   "source": [
    "\n",
    "%load_ext kedro.ipython"
   ]
  },
  {
   "cell_type": "code",
   "execution_count": 9,
   "id": "83bdf545",
   "metadata": {},
   "outputs": [],
   "source": [
    "import pandas as pd\n",
    "\n",
    "import numpy as np\n",
    "import matplotlib.pyplot as plt\n",
    "import seaborn as sns"
   ]
  },
  {
   "cell_type": "code",
   "execution_count": 2,
   "id": "7487d17c-15a5-49a6-bcd4-eb2e305db643",
   "metadata": {},
   "outputs": [
    {
     "data": {
      "text/html": [
       "<pre style=\"white-space:pre;overflow-x:auto;line-height:normal;font-family:Menlo,'DejaVu Sans Mono',consolas,'Courier New',monospace\"><span style=\"color: #7fbfbf; text-decoration-color: #7fbfbf\">[09/12/25 18:16:38] </span><span style=\"color: #000080; text-decoration-color: #000080\">INFO    </span> Resolved project path as:                                              <a href=\"file://c:\\Users\\droid\\Desktop\\Rainbow_six_kedro\\venv\\Lib\\site-packages\\kedro\\ipython\\__init__.py\" target=\"_blank\"><span style=\"color: #7f7f7f; text-decoration-color: #7f7f7f\">__init__.py</span></a><span style=\"color: #7f7f7f; text-decoration-color: #7f7f7f\">:</span><a href=\"file://c:\\Users\\droid\\Desktop\\Rainbow_six_kedro\\venv\\Lib\\site-packages\\kedro\\ipython\\__init__.py#180\" target=\"_blank\"><span style=\"color: #7f7f7f; text-decoration-color: #7f7f7f\">180</span></a>\n",
       "<span style=\"color: #7fbfbf; text-decoration-color: #7fbfbf\">                    </span>         C:\\Users\\droid\\Desktop\\Rainbow_six_kedro\\proyecto-ml.                  <span style=\"color: #7f7f7f; text-decoration-color: #7f7f7f\">               </span>\n",
       "<span style=\"color: #7fbfbf; text-decoration-color: #7fbfbf\">                    </span>         To set a different path, run <span style=\"color: #008000; text-decoration-color: #008000\">'%reload_kedro &lt;project_root&gt;'</span>            <span style=\"color: #7f7f7f; text-decoration-color: #7f7f7f\">               </span>\n",
       "</pre>\n"
      ],
      "text/plain": [
       "\u001b[2;36m[09/12/25 18:16:38]\u001b[0m\u001b[2;36m \u001b[0m\u001b[34mINFO    \u001b[0m Resolved project path as:                                              \u001b]8;id=687654;file://c:\\Users\\droid\\Desktop\\Rainbow_six_kedro\\venv\\Lib\\site-packages\\kedro\\ipython\\__init__.py\u001b\\\u001b[2m__init__.py\u001b[0m\u001b]8;;\u001b\\\u001b[2m:\u001b[0m\u001b]8;id=228726;file://c:\\Users\\droid\\Desktop\\Rainbow_six_kedro\\venv\\Lib\\site-packages\\kedro\\ipython\\__init__.py#180\u001b\\\u001b[2m180\u001b[0m\u001b]8;;\u001b\\\n",
       "\u001b[2;36m                    \u001b[0m         C:\\Users\\droid\\Desktop\\Rainbow_six_kedro\\proyecto-ml.                  \u001b[2m               \u001b[0m\n",
       "\u001b[2;36m                    \u001b[0m         To set a different path, run \u001b[32m'%reload_kedro \u001b[0m\u001b[32m<\u001b[0m\u001b[32mproject_root\u001b[0m\u001b[32m>\u001b[0m\u001b[32m'\u001b[0m            \u001b[2m               \u001b[0m\n"
      ]
     },
     "metadata": {},
     "output_type": "display_data"
    },
    {
     "data": {
      "text/html": [
       "<pre style=\"white-space:pre;overflow-x:auto;line-height:normal;font-family:Menlo,'DejaVu Sans Mono',consolas,'Courier New',monospace\"><span style=\"color: #7fbfbf; text-decoration-color: #7fbfbf\">                    </span><span style=\"color: #000080; text-decoration-color: #000080\">INFO    </span> Kedro is sending anonymous usage data with the sole purpose of improving <a href=\"file://c:\\Users\\droid\\Desktop\\Rainbow_six_kedro\\venv\\Lib\\site-packages\\kedro_telemetry\\plugin.py\" target=\"_blank\"><span style=\"color: #7f7f7f; text-decoration-color: #7f7f7f\">plugin.py</span></a><span style=\"color: #7f7f7f; text-decoration-color: #7f7f7f\">:</span><a href=\"file://c:\\Users\\droid\\Desktop\\Rainbow_six_kedro\\venv\\Lib\\site-packages\\kedro_telemetry\\plugin.py#243\" target=\"_blank\"><span style=\"color: #7f7f7f; text-decoration-color: #7f7f7f\">243</span></a>\n",
       "<span style=\"color: #7fbfbf; text-decoration-color: #7fbfbf\">                    </span>         the product. No personal data or IP addresses are stored on our side. To <span style=\"color: #7f7f7f; text-decoration-color: #7f7f7f\">             </span>\n",
       "<span style=\"color: #7fbfbf; text-decoration-color: #7fbfbf\">                    </span>         opt out, set the `KEDRO_DISABLE_TELEMETRY` or `DO_NOT_TRACK` environment <span style=\"color: #7f7f7f; text-decoration-color: #7f7f7f\">             </span>\n",
       "<span style=\"color: #7fbfbf; text-decoration-color: #7fbfbf\">                    </span>         variables, or create a `.telemetry` file in the current working          <span style=\"color: #7f7f7f; text-decoration-color: #7f7f7f\">             </span>\n",
       "<span style=\"color: #7fbfbf; text-decoration-color: #7fbfbf\">                    </span>         directory with the contents `consent: false`. To hide this message,      <span style=\"color: #7f7f7f; text-decoration-color: #7f7f7f\">             </span>\n",
       "<span style=\"color: #7fbfbf; text-decoration-color: #7fbfbf\">                    </span>         explicitly grant or deny consent. Read more at                           <span style=\"color: #7f7f7f; text-decoration-color: #7f7f7f\">             </span>\n",
       "<span style=\"color: #7fbfbf; text-decoration-color: #7fbfbf\">                    </span>         <span style=\"color: #0000ff; text-decoration-color: #0000ff; text-decoration: underline\">https://docs.kedro.org/en/stable/configuration/telemetry.html</span>            <span style=\"color: #7f7f7f; text-decoration-color: #7f7f7f\">             </span>\n",
       "</pre>\n"
      ],
      "text/plain": [
       "\u001b[2;36m                   \u001b[0m\u001b[2;36m \u001b[0m\u001b[34mINFO    \u001b[0m Kedro is sending anonymous usage data with the sole purpose of improving \u001b]8;id=163007;file://c:\\Users\\droid\\Desktop\\Rainbow_six_kedro\\venv\\Lib\\site-packages\\kedro_telemetry\\plugin.py\u001b\\\u001b[2mplugin.py\u001b[0m\u001b]8;;\u001b\\\u001b[2m:\u001b[0m\u001b]8;id=489221;file://c:\\Users\\droid\\Desktop\\Rainbow_six_kedro\\venv\\Lib\\site-packages\\kedro_telemetry\\plugin.py#243\u001b\\\u001b[2m243\u001b[0m\u001b]8;;\u001b\\\n",
       "\u001b[2;36m                    \u001b[0m         the product. No personal data or IP addresses are stored on our side. To \u001b[2m             \u001b[0m\n",
       "\u001b[2;36m                    \u001b[0m         opt out, set the `KEDRO_DISABLE_TELEMETRY` or `DO_NOT_TRACK` environment \u001b[2m             \u001b[0m\n",
       "\u001b[2;36m                    \u001b[0m         variables, or create a `.telemetry` file in the current working          \u001b[2m             \u001b[0m\n",
       "\u001b[2;36m                    \u001b[0m         directory with the contents `consent: false`. To hide this message,      \u001b[2m             \u001b[0m\n",
       "\u001b[2;36m                    \u001b[0m         explicitly grant or deny consent. Read more at                           \u001b[2m             \u001b[0m\n",
       "\u001b[2;36m                    \u001b[0m         \u001b[4;94mhttps://docs.kedro.org/en/stable/configuration/telemetry.html\u001b[0m            \u001b[2m             \u001b[0m\n"
      ]
     },
     "metadata": {},
     "output_type": "display_data"
    },
    {
     "data": {
      "text/html": [
       "<pre style=\"white-space:pre;overflow-x:auto;line-height:normal;font-family:Menlo,'DejaVu Sans Mono',consolas,'Courier New',monospace\"><span style=\"color: #7fbfbf; text-decoration-color: #7fbfbf\">[09/12/25 18:16:39] </span><span style=\"color: #000080; text-decoration-color: #000080\">INFO    </span> Kedro project proteyecto-ml                                            <a href=\"file://c:\\Users\\droid\\Desktop\\Rainbow_six_kedro\\venv\\Lib\\site-packages\\kedro\\ipython\\__init__.py\" target=\"_blank\"><span style=\"color: #7f7f7f; text-decoration-color: #7f7f7f\">__init__.py</span></a><span style=\"color: #7f7f7f; text-decoration-color: #7f7f7f\">:</span><a href=\"file://c:\\Users\\droid\\Desktop\\Rainbow_six_kedro\\venv\\Lib\\site-packages\\kedro\\ipython\\__init__.py#146\" target=\"_blank\"><span style=\"color: #7f7f7f; text-decoration-color: #7f7f7f\">146</span></a>\n",
       "</pre>\n"
      ],
      "text/plain": [
       "\u001b[2;36m[09/12/25 18:16:39]\u001b[0m\u001b[2;36m \u001b[0m\u001b[34mINFO    \u001b[0m Kedro project proteyecto-ml                                            \u001b]8;id=620687;file://c:\\Users\\droid\\Desktop\\Rainbow_six_kedro\\venv\\Lib\\site-packages\\kedro\\ipython\\__init__.py\u001b\\\u001b[2m__init__.py\u001b[0m\u001b]8;;\u001b\\\u001b[2m:\u001b[0m\u001b]8;id=390237;file://c:\\Users\\droid\\Desktop\\Rainbow_six_kedro\\venv\\Lib\\site-packages\\kedro\\ipython\\__init__.py#146\u001b\\\u001b[2m146\u001b[0m\u001b]8;;\u001b\\\n"
      ]
     },
     "metadata": {},
     "output_type": "display_data"
    },
    {
     "data": {
      "text/html": [
       "<pre style=\"white-space:pre;overflow-x:auto;line-height:normal;font-family:Menlo,'DejaVu Sans Mono',consolas,'Courier New',monospace\"><span style=\"color: #7fbfbf; text-decoration-color: #7fbfbf\">                    </span><span style=\"color: #000080; text-decoration-color: #000080\">INFO    </span> Defined global variable <span style=\"color: #008000; text-decoration-color: #008000\">'context'</span>, <span style=\"color: #008000; text-decoration-color: #008000\">'session'</span>, <span style=\"color: #008000; text-decoration-color: #008000\">'catalog'</span> and            <a href=\"file://c:\\Users\\droid\\Desktop\\Rainbow_six_kedro\\venv\\Lib\\site-packages\\kedro\\ipython\\__init__.py\" target=\"_blank\"><span style=\"color: #7f7f7f; text-decoration-color: #7f7f7f\">__init__.py</span></a><span style=\"color: #7f7f7f; text-decoration-color: #7f7f7f\">:</span><a href=\"file://c:\\Users\\droid\\Desktop\\Rainbow_six_kedro\\venv\\Lib\\site-packages\\kedro\\ipython\\__init__.py#147\" target=\"_blank\"><span style=\"color: #7f7f7f; text-decoration-color: #7f7f7f\">147</span></a>\n",
       "<span style=\"color: #7fbfbf; text-decoration-color: #7fbfbf\">                    </span>         <span style=\"color: #008000; text-decoration-color: #008000\">'pipelines'</span>                                                            <span style=\"color: #7f7f7f; text-decoration-color: #7f7f7f\">               </span>\n",
       "</pre>\n"
      ],
      "text/plain": [
       "\u001b[2;36m                   \u001b[0m\u001b[2;36m \u001b[0m\u001b[34mINFO    \u001b[0m Defined global variable \u001b[32m'context'\u001b[0m, \u001b[32m'session'\u001b[0m, \u001b[32m'catalog'\u001b[0m and            \u001b]8;id=212600;file://c:\\Users\\droid\\Desktop\\Rainbow_six_kedro\\venv\\Lib\\site-packages\\kedro\\ipython\\__init__.py\u001b\\\u001b[2m__init__.py\u001b[0m\u001b]8;;\u001b\\\u001b[2m:\u001b[0m\u001b]8;id=165393;file://c:\\Users\\droid\\Desktop\\Rainbow_six_kedro\\venv\\Lib\\site-packages\\kedro\\ipython\\__init__.py#147\u001b\\\u001b[2m147\u001b[0m\u001b]8;;\u001b\\\n",
       "\u001b[2;36m                    \u001b[0m         \u001b[32m'pipelines'\u001b[0m                                                            \u001b[2m               \u001b[0m\n"
      ]
     },
     "metadata": {},
     "output_type": "display_data"
    },
    {
     "data": {
      "text/html": [
       "<pre style=\"white-space:pre;overflow-x:auto;line-height:normal;font-family:Menlo,'DejaVu Sans Mono',consolas,'Courier New',monospace\"><span style=\"color: #7fbfbf; text-decoration-color: #7fbfbf\">                    </span><span style=\"color: #000080; text-decoration-color: #000080\">INFO    </span> Registered line magic <span style=\"color: #008000; text-decoration-color: #008000\">'run_viz'</span>                                        <a href=\"file://c:\\Users\\droid\\Desktop\\Rainbow_six_kedro\\venv\\Lib\\site-packages\\kedro\\ipython\\__init__.py\" target=\"_blank\"><span style=\"color: #7f7f7f; text-decoration-color: #7f7f7f\">__init__.py</span></a><span style=\"color: #7f7f7f; text-decoration-color: #7f7f7f\">:</span><a href=\"file://c:\\Users\\droid\\Desktop\\Rainbow_six_kedro\\venv\\Lib\\site-packages\\kedro\\ipython\\__init__.py#153\" target=\"_blank\"><span style=\"color: #7f7f7f; text-decoration-color: #7f7f7f\">153</span></a>\n",
       "</pre>\n"
      ],
      "text/plain": [
       "\u001b[2;36m                   \u001b[0m\u001b[2;36m \u001b[0m\u001b[34mINFO    \u001b[0m Registered line magic \u001b[32m'run_viz'\u001b[0m                                        \u001b]8;id=365459;file://c:\\Users\\droid\\Desktop\\Rainbow_six_kedro\\venv\\Lib\\site-packages\\kedro\\ipython\\__init__.py\u001b\\\u001b[2m__init__.py\u001b[0m\u001b]8;;\u001b\\\u001b[2m:\u001b[0m\u001b]8;id=931925;file://c:\\Users\\droid\\Desktop\\Rainbow_six_kedro\\venv\\Lib\\site-packages\\kedro\\ipython\\__init__.py#153\u001b\\\u001b[2m153\u001b[0m\u001b]8;;\u001b\\\n"
      ]
     },
     "metadata": {},
     "output_type": "display_data"
    }
   ],
   "source": [
    "%reload_kedro"
   ]
  },
  {
   "cell_type": "code",
   "execution_count": 7,
   "id": "148b740f-ee9d-42a7-969c-80c07dc38feb",
   "metadata": {},
   "outputs": [
    {
     "data": {
      "text/html": [
       "<pre style=\"white-space:pre;overflow-x:auto;line-height:normal;font-family:Menlo,'DejaVu Sans Mono',consolas,'Courier New',monospace\"></pre>\n"
      ],
      "text/plain": []
     },
     "metadata": {},
     "output_type": "display_data"
    },
    {
     "data": {
      "text/plain": [
       "\u001b[1m[\u001b[0m\u001b[32m'data_r2s-0'\u001b[0m, \u001b[32m'data_r2s-1'\u001b[0m, \u001b[32m'data_r2s-2'\u001b[0m, \u001b[32m'data_r2s-3'\u001b[0m, \u001b[32m'data_r2s-4'\u001b[0m, \u001b[32m'parameters'\u001b[0m\u001b[1m]\u001b[0m"
      ]
     },
     "execution_count": 7,
     "metadata": {},
     "output_type": "execute_result"
    }
   ],
   "source": [
    "catalog.keys()"
   ]
  },
  {
   "cell_type": "code",
   "execution_count": 8,
   "id": "7f7bb3fb",
   "metadata": {},
   "outputs": [
    {
     "data": {
      "text/html": [
       "<pre style=\"white-space:pre;overflow-x:auto;line-height:normal;font-family:Menlo,'DejaVu Sans Mono',consolas,'Courier New',monospace\"><span style=\"color: #7fbfbf; text-decoration-color: #7fbfbf\">[09/12/25 18:17:09] </span><span style=\"color: #000080; text-decoration-color: #000080\">INFO    </span> Loading data from <span style=\"color: #ff8700; text-decoration-color: #ff8700\">data_r2s-</span><span style=\"color: #008080; text-decoration-color: #008080; font-weight: bold\">0</span> <span style=\"font-weight: bold\">(</span>CSVDataset<span style=\"font-weight: bold\">)</span><span style=\"color: #808000; text-decoration-color: #808000\">...</span>                      <a href=\"file://c:\\Users\\droid\\Desktop\\Rainbow_six_kedro\\venv\\Lib\\site-packages\\kedro\\io\\data_catalog.py\" target=\"_blank\"><span style=\"color: #7f7f7f; text-decoration-color: #7f7f7f\">data_catalog.py</span></a><span style=\"color: #7f7f7f; text-decoration-color: #7f7f7f\">:</span><a href=\"file://c:\\Users\\droid\\Desktop\\Rainbow_six_kedro\\venv\\Lib\\site-packages\\kedro\\io\\data_catalog.py#1046\" target=\"_blank\"><span style=\"color: #7f7f7f; text-decoration-color: #7f7f7f\">1046</span></a>\n",
       "</pre>\n"
      ],
      "text/plain": [
       "\u001b[2;36m[09/12/25 18:17:09]\u001b[0m\u001b[2;36m \u001b[0m\u001b[34mINFO    \u001b[0m Loading data from \u001b[38;5;208mdata_r2s-\u001b[0m\u001b[1;36m0\u001b[0m \u001b[1m(\u001b[0mCSVDataset\u001b[1m)\u001b[0m\u001b[33m...\u001b[0m                      \u001b]8;id=171322;file://c:\\Users\\droid\\Desktop\\Rainbow_six_kedro\\venv\\Lib\\site-packages\\kedro\\io\\data_catalog.py\u001b\\\u001b[2mdata_catalog.py\u001b[0m\u001b]8;;\u001b\\\u001b[2m:\u001b[0m\u001b]8;id=389943;file://c:\\Users\\droid\\Desktop\\Rainbow_six_kedro\\venv\\Lib\\site-packages\\kedro\\io\\data_catalog.py#1046\u001b\\\u001b[2m1046\u001b[0m\u001b]8;;\u001b\\\n"
      ]
     },
     "metadata": {},
     "output_type": "display_data"
    },
    {
     "data": {
      "text/html": [
       "<pre style=\"white-space:pre;overflow-x:auto;line-height:normal;font-family:Menlo,'DejaVu Sans Mono',consolas,'Courier New',monospace\"><span style=\"color: #7fbfbf; text-decoration-color: #7fbfbf\">[09/12/25 18:17:26] </span><span style=\"color: #000080; text-decoration-color: #000080\">INFO    </span> Loading data from <span style=\"color: #ff8700; text-decoration-color: #ff8700\">data_r2s-</span><span style=\"color: #008080; text-decoration-color: #008080; font-weight: bold\">1</span> <span style=\"font-weight: bold\">(</span>CSVDataset<span style=\"font-weight: bold\">)</span><span style=\"color: #808000; text-decoration-color: #808000\">...</span>                      <a href=\"file://c:\\Users\\droid\\Desktop\\Rainbow_six_kedro\\venv\\Lib\\site-packages\\kedro\\io\\data_catalog.py\" target=\"_blank\"><span style=\"color: #7f7f7f; text-decoration-color: #7f7f7f\">data_catalog.py</span></a><span style=\"color: #7f7f7f; text-decoration-color: #7f7f7f\">:</span><a href=\"file://c:\\Users\\droid\\Desktop\\Rainbow_six_kedro\\venv\\Lib\\site-packages\\kedro\\io\\data_catalog.py#1046\" target=\"_blank\"><span style=\"color: #7f7f7f; text-decoration-color: #7f7f7f\">1046</span></a>\n",
       "</pre>\n"
      ],
      "text/plain": [
       "\u001b[2;36m[09/12/25 18:17:26]\u001b[0m\u001b[2;36m \u001b[0m\u001b[34mINFO    \u001b[0m Loading data from \u001b[38;5;208mdata_r2s-\u001b[0m\u001b[1;36m1\u001b[0m \u001b[1m(\u001b[0mCSVDataset\u001b[1m)\u001b[0m\u001b[33m...\u001b[0m                      \u001b]8;id=841027;file://c:\\Users\\droid\\Desktop\\Rainbow_six_kedro\\venv\\Lib\\site-packages\\kedro\\io\\data_catalog.py\u001b\\\u001b[2mdata_catalog.py\u001b[0m\u001b]8;;\u001b\\\u001b[2m:\u001b[0m\u001b]8;id=490091;file://c:\\Users\\droid\\Desktop\\Rainbow_six_kedro\\venv\\Lib\\site-packages\\kedro\\io\\data_catalog.py#1046\u001b\\\u001b[2m1046\u001b[0m\u001b]8;;\u001b\\\n"
      ]
     },
     "metadata": {},
     "output_type": "display_data"
    },
    {
     "data": {
      "text/html": [
       "<pre style=\"white-space:pre;overflow-x:auto;line-height:normal;font-family:Menlo,'DejaVu Sans Mono',consolas,'Courier New',monospace\"><span style=\"color: #7fbfbf; text-decoration-color: #7fbfbf\">[09/12/25 18:17:43] </span><span style=\"color: #000080; text-decoration-color: #000080\">INFO    </span> Loading data from <span style=\"color: #ff8700; text-decoration-color: #ff8700\">data_r2s-</span><span style=\"color: #008080; text-decoration-color: #008080; font-weight: bold\">2</span> <span style=\"font-weight: bold\">(</span>CSVDataset<span style=\"font-weight: bold\">)</span><span style=\"color: #808000; text-decoration-color: #808000\">...</span>                      <a href=\"file://c:\\Users\\droid\\Desktop\\Rainbow_six_kedro\\venv\\Lib\\site-packages\\kedro\\io\\data_catalog.py\" target=\"_blank\"><span style=\"color: #7f7f7f; text-decoration-color: #7f7f7f\">data_catalog.py</span></a><span style=\"color: #7f7f7f; text-decoration-color: #7f7f7f\">:</span><a href=\"file://c:\\Users\\droid\\Desktop\\Rainbow_six_kedro\\venv\\Lib\\site-packages\\kedro\\io\\data_catalog.py#1046\" target=\"_blank\"><span style=\"color: #7f7f7f; text-decoration-color: #7f7f7f\">1046</span></a>\n",
       "</pre>\n"
      ],
      "text/plain": [
       "\u001b[2;36m[09/12/25 18:17:43]\u001b[0m\u001b[2;36m \u001b[0m\u001b[34mINFO    \u001b[0m Loading data from \u001b[38;5;208mdata_r2s-\u001b[0m\u001b[1;36m2\u001b[0m \u001b[1m(\u001b[0mCSVDataset\u001b[1m)\u001b[0m\u001b[33m...\u001b[0m                      \u001b]8;id=616265;file://c:\\Users\\droid\\Desktop\\Rainbow_six_kedro\\venv\\Lib\\site-packages\\kedro\\io\\data_catalog.py\u001b\\\u001b[2mdata_catalog.py\u001b[0m\u001b]8;;\u001b\\\u001b[2m:\u001b[0m\u001b]8;id=82084;file://c:\\Users\\droid\\Desktop\\Rainbow_six_kedro\\venv\\Lib\\site-packages\\kedro\\io\\data_catalog.py#1046\u001b\\\u001b[2m1046\u001b[0m\u001b]8;;\u001b\\\n"
      ]
     },
     "metadata": {},
     "output_type": "display_data"
    }
   ],
   "source": [
    "# Cargar el dataset 'data_r2s-0, data_r2s-1, data_r2s-2' del catálogo\n",
    "data_r2s_0 = catalog.load('data_r2s-0')\n",
    "data_r2s_1 = catalog.load('data_r2s-1')\n",
    "data_r2s_2 = catalog.load('data_r2s-2')\n",
    "\n",
    "\n",
    "\n",
    "\n"
   ]
  },
  {
   "cell_type": "code",
   "execution_count": 10,
   "id": "9757395a",
   "metadata": {},
   "outputs": [],
   "source": [
    "combined_data = pd.concat([data_r2s_0, data_r2s_1, data_r2s_2], ignore_index=True)  "
   ]
  },
  {
   "cell_type": "code",
   "execution_count": 11,
   "id": "d5ccee8e",
   "metadata": {},
   "outputs": [
    {
     "data": {
      "text/html": [
       "<pre style=\"white-space:pre;overflow-x:auto;line-height:normal;font-family:Menlo,'DejaVu Sans Mono',consolas,'Courier New',monospace\"><span style=\"color: #7fbfbf; text-decoration-color: #7fbfbf\">[09/12/25 18:19:05] </span><span style=\"color: #808000; text-decoration-color: #808000\">WARNING </span> C:\\Users\\droid\\AppData\\Local\\Temp\\ipykernel_24112\\<span style=\"color: #008080; text-decoration-color: #008080; font-weight: bold\">2980022116.</span>py:<span style=\"color: #008080; text-decoration-color: #008080; font-weight: bold\">6</span>:     <span style=\"color: #7f7f7f; text-decoration-color: #7f7f7f\">warnings.py:112</span>\n",
       "<span style=\"color: #7fbfbf; text-decoration-color: #7fbfbf\">                    </span>         FutureWarning:                                                         <span style=\"color: #7f7f7f; text-decoration-color: #7f7f7f\">               </span>\n",
       "<span style=\"color: #7fbfbf; text-decoration-color: #7fbfbf\">                    </span>                                                                                <span style=\"color: #7f7f7f; text-decoration-color: #7f7f7f\">               </span>\n",
       "<span style=\"color: #7fbfbf; text-decoration-color: #7fbfbf\">                    </span>         Passing `palette` without assigning `hue` is deprecated and will be    <span style=\"color: #7f7f7f; text-decoration-color: #7f7f7f\">               </span>\n",
       "<span style=\"color: #7fbfbf; text-decoration-color: #7fbfbf\">                    </span>         removed in v0.<span style=\"color: #008080; text-decoration-color: #008080; font-weight: bold\">14.0</span>. Assign the `y` variable to `hue` and set           <span style=\"color: #7f7f7f; text-decoration-color: #7f7f7f\">               </span>\n",
       "<span style=\"color: #7fbfbf; text-decoration-color: #7fbfbf\">                    </span>         `<span style=\"color: #808000; text-decoration-color: #808000\">legend</span>=<span style=\"color: #ff0000; text-decoration-color: #ff0000; font-style: italic\">False</span>` for the same effect.                                    <span style=\"color: #7f7f7f; text-decoration-color: #7f7f7f\">               </span>\n",
       "<span style=\"color: #7fbfbf; text-decoration-color: #7fbfbf\">                    </span>                                                                                <span style=\"color: #7f7f7f; text-decoration-color: #7f7f7f\">               </span>\n",
       "<span style=\"color: #7fbfbf; text-decoration-color: #7fbfbf\">                    </span>           <span style=\"color: #800080; text-decoration-color: #800080; font-weight: bold\">sns.barplot</span><span style=\"font-weight: bold\">(</span><span style=\"color: #808000; text-decoration-color: #808000\">x</span>=<span style=\"color: #800080; text-decoration-color: #800080\">operator_counts</span>.values, <span style=\"color: #808000; text-decoration-color: #808000\">y</span>=<span style=\"color: #800080; text-decoration-color: #800080\">operator_counts</span>.index,       <span style=\"color: #7f7f7f; text-decoration-color: #7f7f7f\">               </span>\n",
       "<span style=\"color: #7fbfbf; text-decoration-color: #7fbfbf\">                    </span>         <span style=\"color: #808000; text-decoration-color: #808000\">palette</span>=<span style=\"color: #008000; text-decoration-color: #008000\">\"viridis\"</span><span style=\"font-weight: bold\">)</span>                                                     <span style=\"color: #7f7f7f; text-decoration-color: #7f7f7f\">               </span>\n",
       "<span style=\"color: #7fbfbf; text-decoration-color: #7fbfbf\">                    </span>                                                                                <span style=\"color: #7f7f7f; text-decoration-color: #7f7f7f\">               </span>\n",
       "</pre>\n"
      ],
      "text/plain": [
       "\u001b[2;36m[09/12/25 18:19:05]\u001b[0m\u001b[2;36m \u001b[0m\u001b[33mWARNING \u001b[0m C:\\Users\\droid\\AppData\\Local\\Temp\\ipykernel_24112\\\u001b[1;36m2980022116.\u001b[0mpy:\u001b[1;36m6\u001b[0m:     \u001b[2mwarnings.py\u001b[0m\u001b[2m:\u001b[0m\u001b[2m112\u001b[0m\n",
       "\u001b[2;36m                    \u001b[0m         FutureWarning:                                                         \u001b[2m               \u001b[0m\n",
       "\u001b[2;36m                    \u001b[0m                                                                                \u001b[2m               \u001b[0m\n",
       "\u001b[2;36m                    \u001b[0m         Passing `palette` without assigning `hue` is deprecated and will be    \u001b[2m               \u001b[0m\n",
       "\u001b[2;36m                    \u001b[0m         removed in v0.\u001b[1;36m14.0\u001b[0m. Assign the `y` variable to `hue` and set           \u001b[2m               \u001b[0m\n",
       "\u001b[2;36m                    \u001b[0m         `\u001b[33mlegend\u001b[0m=\u001b[3;91mFalse\u001b[0m` for the same effect.                                    \u001b[2m               \u001b[0m\n",
       "\u001b[2;36m                    \u001b[0m                                                                                \u001b[2m               \u001b[0m\n",
       "\u001b[2;36m                    \u001b[0m           \u001b[1;35msns.barplot\u001b[0m\u001b[1m(\u001b[0m\u001b[33mx\u001b[0m=\u001b[35moperator_counts\u001b[0m.values, \u001b[33my\u001b[0m=\u001b[35moperator_counts\u001b[0m.index,       \u001b[2m               \u001b[0m\n",
       "\u001b[2;36m                    \u001b[0m         \u001b[33mpalette\u001b[0m=\u001b[32m\"viridis\"\u001b[0m\u001b[1m)\u001b[0m                                                     \u001b[2m               \u001b[0m\n",
       "\u001b[2;36m                    \u001b[0m                                                                                \u001b[2m               \u001b[0m\n"
      ]
     },
     "metadata": {},
     "output_type": "display_data"
    },
    {
     "data": {
      "text/html": [
       "<pre style=\"white-space:pre;overflow-x:auto;line-height:normal;font-family:Menlo,'DejaVu Sans Mono',consolas,'Courier New',monospace\"></pre>\n"
      ],
      "text/plain": []
     },
     "metadata": {},
     "output_type": "display_data"
    },
    {
     "data": {
      "image/png": "[encoded data removed]",
      "text/plain": [
       "\u001b[1m<\u001b[0m\u001b[1;95mFigure\u001b[0m\u001b[39m size 100\u001b[0m\u001b[1;36m0x600\u001b[0m\u001b[39m with \u001b[0m\u001b[1;36m1\u001b[0m\u001b[39m Axes\u001b[0m\u001b[1m>\u001b[0m"
      ]
     },
     "metadata": {},
     "output_type": "display_data"
    }
   ],
   "source": [
    "# Contar la cantidad de ocurrencias de cada operador\n",
    "operator_counts = combined_data['operator'].value_counts().head(10)\n",
    "\n",
    "# Crear un gráfico de barras\n",
    "plt.figure(figsize=(10, 6))\n",
    "sns.barplot(x=operator_counts.values, y=operator_counts.index, palette=\"viridis\")\n",
    "plt.title(\"Top 10 Operadores Más Usados\")\n",
    "plt.xlabel(\"Cantidad de Usos\")\n",
    "plt.ylabel(\"Operador\")\n",
    "plt.show()"
   ]
  },
  {
   "cell_type": "code",
   "execution_count": null,
   "id": "9cc52ee4-ec43-4639-b4a8-5d7fec2cd5f9",
   "metadata": {},
   "outputs": [
    {
     "data": {
      "text/html": [
       "<pre style=\"white-space:pre;overflow-x:auto;line-height:normal;font-family:Menlo,'DejaVu Sans Mono',consolas,'Courier New',monospace\"></pre>\n"
      ],
      "text/plain": []
     },
     "metadata": {},
     "output_type": "display_data"
    },
    {
     "data": {
      "text/html": [
       "<div>\n",
       "<style scoped>\n",
       "    .dataframe tbody tr th:only-of-type {\n",
       "        vertical-align: middle;\n",
       "    }\n",
       "\n",
       "    .dataframe tbody tr th {\n",
       "        vertical-align: top;\n",
       "    }\n",
       "\n",
       "    .dataframe thead th {\n",
       "        text-align: right;\n",
       "    }\n",
       "</style>\n",
       "<table border=\"1\" class=\"dataframe\">\n",
       "  <thead>\n",
       "    <tr style=\"text-align: right;\">\n",
       "      <th></th>\n",
       "      <th>dateid</th>\n",
       "      <th>platform</th>\n",
       "      <th>gamemode</th>\n",
       "      <th>mapname</th>\n",
       "      <th>matchid</th>\n",
       "      <th>roundnumber</th>\n",
       "      <th>objectivelocation</th>\n",
       "      <th>winrole</th>\n",
       "      <th>endroundreason</th>\n",
       "      <th>roundduration</th>\n",
       "      <th>...</th>\n",
       "      <th>primarygrip</th>\n",
       "      <th>primaryunderbarrel</th>\n",
       "      <th>primarybarrel</th>\n",
       "      <th>secondaryweapon</th>\n",
       "      <th>secondaryweapontype</th>\n",
       "      <th>secondarysight</th>\n",
       "      <th>secondarygrip</th>\n",
       "      <th>secondaryunderbarrel</th>\n",
       "      <th>secondarybarrel</th>\n",
       "      <th>secondarygadget</th>\n",
       "    </tr>\n",
       "  </thead>\n",
       "  <tbody>\n",
       "    <tr>\n",
       "      <th>0</th>\n",
       "      <td>20170221</td>\n",
       "      <td>PS4</td>\n",
       "      <td>HOSTAGE</td>\n",
       "      <td>BANK</td>\n",
       "      <td>1368316041</td>\n",
       "      <td>1</td>\n",
       "      <td>VAULT</td>\n",
       "      <td>Attacker</td>\n",
       "      <td>DefendersEliminated</td>\n",
       "      <td>142</td>\n",
       "      <td>...</td>\n",
       "      <td>NaN</td>\n",
       "      <td>NaN</td>\n",
       "      <td>NaN</td>\n",
       "      <td>BEARING_9</td>\n",
       "      <td>Submachine_Guns</td>\n",
       "      <td>RedDot</td>\n",
       "      <td>NaN</td>\n",
       "      <td>NaN</td>\n",
       "      <td>NaN</td>\n",
       "      <td>STUN_GRENADE</td>\n",
       "    </tr>\n",
       "    <tr>\n",
       "      <th>1</th>\n",
       "      <td>20170221</td>\n",
       "      <td>PS4</td>\n",
       "      <td>HOSTAGE</td>\n",
       "      <td>BANK</td>\n",
       "      <td>1368316041</td>\n",
       "      <td>4</td>\n",
       "      <td>VAULT</td>\n",
       "      <td>Defender</td>\n",
       "      <td>AttackersEliminated</td>\n",
       "      <td>156</td>\n",
       "      <td>...</td>\n",
       "      <td>Vertical</td>\n",
       "      <td>NaN</td>\n",
       "      <td>Flash</td>\n",
       "      <td>P9</td>\n",
       "      <td>Pistols</td>\n",
       "      <td>NaN</td>\n",
       "      <td>NaN</td>\n",
       "      <td>NaN</td>\n",
       "      <td>NaN</td>\n",
       "      <td>IMPACT_GRENADE</td>\n",
       "    </tr>\n",
       "    <tr>\n",
       "      <th>2</th>\n",
       "      <td>20170221</td>\n",
       "      <td>PS4</td>\n",
       "      <td>HOSTAGE</td>\n",
       "      <td>BANK</td>\n",
       "      <td>1368316041</td>\n",
       "      <td>7</td>\n",
       "      <td>STAFF_ROOM</td>\n",
       "      <td>Attacker</td>\n",
       "      <td>DefendersEliminated</td>\n",
       "      <td>138</td>\n",
       "      <td>...</td>\n",
       "      <td>Angle</td>\n",
       "      <td>NaN</td>\n",
       "      <td>NaN</td>\n",
       "      <td>ITA12S</td>\n",
       "      <td>Shotguns</td>\n",
       "      <td>EosHolo</td>\n",
       "      <td>NaN</td>\n",
       "      <td>NaN</td>\n",
       "      <td>NaN</td>\n",
       "      <td>BREACH_CHARGE</td>\n",
       "    </tr>\n",
       "    <tr>\n",
       "      <th>3</th>\n",
       "      <td>20170221</td>\n",
       "      <td>PS4</td>\n",
       "      <td>HOSTAGE</td>\n",
       "      <td>BANK</td>\n",
       "      <td>1368316041</td>\n",
       "      <td>5</td>\n",
       "      <td>STAFF_ROOM</td>\n",
       "      <td>Defender</td>\n",
       "      <td>AttackersEliminated</td>\n",
       "      <td>165</td>\n",
       "      <td>...</td>\n",
       "      <td>NaN</td>\n",
       "      <td>NaN</td>\n",
       "      <td>NaN</td>\n",
       "      <td>BEARING_9</td>\n",
       "      <td>Submachine_Guns</td>\n",
       "      <td>RedDot</td>\n",
       "      <td>NaN</td>\n",
       "      <td>NaN</td>\n",
       "      <td>NaN</td>\n",
       "      <td>STUN_GRENADE</td>\n",
       "    </tr>\n",
       "    <tr>\n",
       "      <th>4</th>\n",
       "      <td>20170221</td>\n",
       "      <td>PS4</td>\n",
       "      <td>HOSTAGE</td>\n",
       "      <td>BANK</td>\n",
       "      <td>1368316041</td>\n",
       "      <td>6</td>\n",
       "      <td>STAFF_ROOM</td>\n",
       "      <td>Defender</td>\n",
       "      <td>AttackersEliminated</td>\n",
       "      <td>158</td>\n",
       "      <td>...</td>\n",
       "      <td>Vertical</td>\n",
       "      <td>NaN</td>\n",
       "      <td>NaN</td>\n",
       "      <td>PMM</td>\n",
       "      <td>Pistols</td>\n",
       "      <td>NaN</td>\n",
       "      <td>NaN</td>\n",
       "      <td>NaN</td>\n",
       "      <td>NaN</td>\n",
       "      <td>BREACH_CHARGE</td>\n",
       "    </tr>\n",
       "  </tbody>\n",
       "</table>\n",
       "<p>5 rows × 31 columns</p>\n",
       "</div>"
      ],
      "text/plain": [
       "\n",
       "     dateid platform gamemode mapname     matchid  roundnumber  \\\n",
       "\u001b[1;36m0\u001b[0m  \u001b[1;36m20170221\u001b[0m      PS4  HOSTAGE    BANK  \u001b[1;36m1368316041\u001b[0m            \u001b[1;36m1\u001b[0m   \n",
       "\u001b[1;36m1\u001b[0m  \u001b[1;36m20170221\u001b[0m      PS4  HOSTAGE    BANK  \u001b[1;36m1368316041\u001b[0m            \u001b[1;36m4\u001b[0m   \n",
       "\u001b[1;36m2\u001b[0m  \u001b[1;36m20170221\u001b[0m      PS4  HOSTAGE    BANK  \u001b[1;36m1368316041\u001b[0m            \u001b[1;36m7\u001b[0m   \n",
       "\u001b[1;36m3\u001b[0m  \u001b[1;36m20170221\u001b[0m      PS4  HOSTAGE    BANK  \u001b[1;36m1368316041\u001b[0m            \u001b[1;36m5\u001b[0m   \n",
       "\u001b[1;36m4\u001b[0m  \u001b[1;36m20170221\u001b[0m      PS4  HOSTAGE    BANK  \u001b[1;36m1368316041\u001b[0m            \u001b[1;36m6\u001b[0m   \n",
       "\n",
       "  objectivelocation   winrole       endroundreason  roundduration  \u001b[33m...\u001b[0m  \\\n",
       "\u001b[1;36m0\u001b[0m             VAULT  Attacker  DefendersEliminated            \u001b[1;36m142\u001b[0m  \u001b[33m...\u001b[0m   \n",
       "\u001b[1;36m1\u001b[0m             VAULT  Defender  AttackersEliminated            \u001b[1;36m156\u001b[0m  \u001b[33m...\u001b[0m   \n",
       "\u001b[1;36m2\u001b[0m        STAFF_ROOM  Attacker  DefendersEliminated            \u001b[1;36m138\u001b[0m  \u001b[33m...\u001b[0m   \n",
       "\u001b[1;36m3\u001b[0m        STAFF_ROOM  Defender  AttackersEliminated            \u001b[1;36m165\u001b[0m  \u001b[33m...\u001b[0m   \n",
       "\u001b[1;36m4\u001b[0m        STAFF_ROOM  Defender  AttackersEliminated            \u001b[1;36m158\u001b[0m  \u001b[33m...\u001b[0m   \n",
       "\n",
       "   primarygrip primaryunderbarrel primarybarrel  secondaryweapon  \\\n",
       "\u001b[1;36m0\u001b[0m          NaN                NaN           NaN        BEARING_9   \n",
       "\u001b[1;36m1\u001b[0m     Vertical                NaN         Flash               P9   \n",
       "\u001b[1;36m2\u001b[0m        Angle                NaN           NaN           ITA12S   \n",
       "\u001b[1;36m3\u001b[0m          NaN                NaN           NaN        BEARING_9   \n",
       "\u001b[1;36m4\u001b[0m     Vertical                NaN           NaN              PMM   \n",
       "\n",
       "   secondaryweapontype secondarysight  secondarygrip  secondaryunderbarrel  \\\n",
       "\u001b[1;36m0\u001b[0m      Submachine_Guns         RedDot            NaN                   NaN   \n",
       "\u001b[1;36m1\u001b[0m              Pistols            NaN            NaN                   NaN   \n",
       "\u001b[1;36m2\u001b[0m             Shotguns        EosHolo            NaN                   NaN   \n",
       "\u001b[1;36m3\u001b[0m      Submachine_Guns         RedDot            NaN                   NaN   \n",
       "\u001b[1;36m4\u001b[0m              Pistols            NaN            NaN                   NaN   \n",
       "\n",
       "  secondarybarrel secondarygadget  \n",
       "\u001b[1;36m0\u001b[0m             NaN    STUN_GRENADE  \n",
       "\u001b[1;36m1\u001b[0m             NaN  IMPACT_GRENADE  \n",
       "\u001b[1;36m2\u001b[0m             NaN   BREACH_CHARGE  \n",
       "\u001b[1;36m3\u001b[0m             NaN    STUN_GRENADE  \n",
       "\u001b[1;36m4\u001b[0m             NaN   BREACH_CHARGE  \n",
       "\n",
       "\u001b[1m[\u001b[0m\u001b[1;36m5\u001b[0m rows x \u001b[1;36m31\u001b[0m columns\u001b[1m]\u001b[0m"
      ]
     },
     "execution_count": 16,
     "metadata": {},
     "output_type": "execute_result"
    }
   ],
   "source": []
  },
  {
   "cell_type": "code",
   "execution_count": 17,
   "id": "a211fa84",
   "metadata": {},
   "outputs": [
    {
     "data": {
      "text/html": [
       "<pre style=\"white-space:pre;overflow-x:auto;line-height:normal;font-family:Menlo,'DejaVu Sans Mono',consolas,'Courier New',monospace\"></pre>\n"
      ],
      "text/plain": []
     },
     "metadata": {},
     "output_type": "display_data"
    },
    {
     "data": {
      "text/html": [
       "<div>\n",
       "<style scoped>\n",
       "    .dataframe tbody tr th:only-of-type {\n",
       "        vertical-align: middle;\n",
       "    }\n",
       "\n",
       "    .dataframe tbody tr th {\n",
       "        vertical-align: top;\n",
       "    }\n",
       "\n",
       "    .dataframe thead th {\n",
       "        text-align: right;\n",
       "    }\n",
       "</style>\n",
       "<table border=\"1\" class=\"dataframe\">\n",
       "  <thead>\n",
       "    <tr style=\"text-align: right;\">\n",
       "      <th></th>\n",
       "      <th>dateid</th>\n",
       "      <th>platform</th>\n",
       "      <th>gamemode</th>\n",
       "      <th>mapname</th>\n",
       "      <th>matchid</th>\n",
       "      <th>roundnumber</th>\n",
       "      <th>objectivelocation</th>\n",
       "      <th>winrole</th>\n",
       "      <th>endroundreason</th>\n",
       "      <th>roundduration</th>\n",
       "      <th>...</th>\n",
       "      <th>primarygrip</th>\n",
       "      <th>primaryunderbarrel</th>\n",
       "      <th>primarybarrel</th>\n",
       "      <th>secondaryweapon</th>\n",
       "      <th>secondaryweapontype</th>\n",
       "      <th>secondarysight</th>\n",
       "      <th>secondarygrip</th>\n",
       "      <th>secondaryunderbarrel</th>\n",
       "      <th>secondarybarrel</th>\n",
       "      <th>secondarygadget</th>\n",
       "    </tr>\n",
       "  </thead>\n",
       "  <tbody>\n",
       "    <tr>\n",
       "      <th>0</th>\n",
       "      <td>20170326</td>\n",
       "      <td>PS4</td>\n",
       "      <td>BOMB</td>\n",
       "      <td>YACHT</td>\n",
       "      <td>1095835181</td>\n",
       "      <td>5</td>\n",
       "      <td>CAFETERIA-STAFF_DORMITORY</td>\n",
       "      <td>Defender</td>\n",
       "      <td>DefuserDeactivated</td>\n",
       "      <td>191</td>\n",
       "      <td>...</td>\n",
       "      <td>NaN</td>\n",
       "      <td>NaN</td>\n",
       "      <td>NaN</td>\n",
       "      <td>LFP586</td>\n",
       "      <td>Pistols</td>\n",
       "      <td>NaN</td>\n",
       "      <td>NaN</td>\n",
       "      <td>Laser</td>\n",
       "      <td>NaN</td>\n",
       "      <td>SMOKE_GRENADE</td>\n",
       "    </tr>\n",
       "    <tr>\n",
       "      <th>1</th>\n",
       "      <td>20170326</td>\n",
       "      <td>PS4</td>\n",
       "      <td>BOMB</td>\n",
       "      <td>YACHT</td>\n",
       "      <td>1095835181</td>\n",
       "      <td>2</td>\n",
       "      <td>SERVER_ROOM-ENGINE_STORAGE</td>\n",
       "      <td>Defender</td>\n",
       "      <td>AttackersEliminated</td>\n",
       "      <td>225</td>\n",
       "      <td>...</td>\n",
       "      <td>NaN</td>\n",
       "      <td>Laser</td>\n",
       "      <td>NaN</td>\n",
       "      <td>BEARING_9</td>\n",
       "      <td>Submachine_Guns</td>\n",
       "      <td>Reflex</td>\n",
       "      <td>NaN</td>\n",
       "      <td>NaN</td>\n",
       "      <td>Compensator</td>\n",
       "      <td>DEPLOYABLE_SHIELD</td>\n",
       "    </tr>\n",
       "    <tr>\n",
       "      <th>2</th>\n",
       "      <td>20170326</td>\n",
       "      <td>PS4</td>\n",
       "      <td>BOMB</td>\n",
       "      <td>YACHT</td>\n",
       "      <td>1095835181</td>\n",
       "      <td>5</td>\n",
       "      <td>CAFETERIA-STAFF_DORMITORY</td>\n",
       "      <td>Defender</td>\n",
       "      <td>DefuserDeactivated</td>\n",
       "      <td>191</td>\n",
       "      <td>...</td>\n",
       "      <td>Vertical</td>\n",
       "      <td>NaN</td>\n",
       "      <td>Flash</td>\n",
       "      <td>D-50</td>\n",
       "      <td>Pistols</td>\n",
       "      <td>NaN</td>\n",
       "      <td>NaN</td>\n",
       "      <td>NaN</td>\n",
       "      <td>NaN</td>\n",
       "      <td>NITRO_CELL</td>\n",
       "    </tr>\n",
       "    <tr>\n",
       "      <th>3</th>\n",
       "      <td>20170326</td>\n",
       "      <td>PS4</td>\n",
       "      <td>SECURE_AREA</td>\n",
       "      <td>KANAL</td>\n",
       "      <td>1096480581</td>\n",
       "      <td>3</td>\n",
       "      <td>BOAT_SUPPLIES</td>\n",
       "      <td>Attacker</td>\n",
       "      <td>ObjectiveCaptured</td>\n",
       "      <td>88</td>\n",
       "      <td>...</td>\n",
       "      <td>Vertical</td>\n",
       "      <td>NaN</td>\n",
       "      <td>Compensator</td>\n",
       "      <td>M45_MEUSOC</td>\n",
       "      <td>Pistols</td>\n",
       "      <td>NaN</td>\n",
       "      <td>NaN</td>\n",
       "      <td>NaN</td>\n",
       "      <td>NaN</td>\n",
       "      <td>NITRO_CELL</td>\n",
       "    </tr>\n",
       "    <tr>\n",
       "      <th>4</th>\n",
       "      <td>20170326</td>\n",
       "      <td>PS4</td>\n",
       "      <td>SECURE_AREA</td>\n",
       "      <td>KANAL</td>\n",
       "      <td>1096480581</td>\n",
       "      <td>1</td>\n",
       "      <td>SERVER_ROOM</td>\n",
       "      <td>Attacker</td>\n",
       "      <td>DefendersEliminated</td>\n",
       "      <td>139</td>\n",
       "      <td>...</td>\n",
       "      <td>Vertical</td>\n",
       "      <td>NaN</td>\n",
       "      <td>MuzzleBrake</td>\n",
       "      <td>M45_MEUSOC</td>\n",
       "      <td>Pistols</td>\n",
       "      <td>NaN</td>\n",
       "      <td>NaN</td>\n",
       "      <td>NaN</td>\n",
       "      <td>NaN</td>\n",
       "      <td>BREACH_CHARGE</td>\n",
       "    </tr>\n",
       "  </tbody>\n",
       "</table>\n",
       "<p>5 rows × 31 columns</p>\n",
       "</div>"
      ],
      "text/plain": [
       "\n",
       "     dateid platform     gamemode mapname     matchid  roundnumber  \\\n",
       "\u001b[1;36m0\u001b[0m  \u001b[1;36m20170326\u001b[0m      PS4         BOMB   YACHT  \u001b[1;36m1095835181\u001b[0m            \u001b[1;36m5\u001b[0m   \n",
       "\u001b[1;36m1\u001b[0m  \u001b[1;36m20170326\u001b[0m      PS4         BOMB   YACHT  \u001b[1;36m1095835181\u001b[0m            \u001b[1;36m2\u001b[0m   \n",
       "\u001b[1;36m2\u001b[0m  \u001b[1;36m20170326\u001b[0m      PS4         BOMB   YACHT  \u001b[1;36m1095835181\u001b[0m            \u001b[1;36m5\u001b[0m   \n",
       "\u001b[1;36m3\u001b[0m  \u001b[1;36m20170326\u001b[0m      PS4  SECURE_AREA   KANAL  \u001b[1;36m1096480581\u001b[0m            \u001b[1;36m3\u001b[0m   \n",
       "\u001b[1;36m4\u001b[0m  \u001b[1;36m20170326\u001b[0m      PS4  SECURE_AREA   KANAL  \u001b[1;36m1096480581\u001b[0m            \u001b[1;36m1\u001b[0m   \n",
       "\n",
       "            objectivelocation   winrole       endroundreason  roundduration  \\\n",
       "\u001b[1;36m0\u001b[0m   CAFETERIA-STAFF_DORMITORY  Defender   DefuserDeactivated            \u001b[1;36m191\u001b[0m   \n",
       "\u001b[1;36m1\u001b[0m  SERVER_ROOM-ENGINE_STORAGE  Defender  AttackersEliminated            \u001b[1;36m225\u001b[0m   \n",
       "\u001b[1;36m2\u001b[0m   CAFETERIA-STAFF_DORMITORY  Defender   DefuserDeactivated            \u001b[1;36m191\u001b[0m   \n",
       "\u001b[1;36m3\u001b[0m               BOAT_SUPPLIES  Attacker    ObjectiveCaptured             \u001b[1;36m88\u001b[0m   \n",
       "\u001b[1;36m4\u001b[0m                 SERVER_ROOM  Attacker  DefendersEliminated            \u001b[1;36m139\u001b[0m   \n",
       "\n",
       "   \u001b[33m...\u001b[0m  primarygrip primaryunderbarrel primarybarrel  secondaryweapon  \\\n",
       "\u001b[1;36m0\u001b[0m  \u001b[33m...\u001b[0m          NaN                NaN           NaN           LFP586   \n",
       "\u001b[1;36m1\u001b[0m  \u001b[33m...\u001b[0m          NaN              Laser           NaN        BEARING_9   \n",
       "\u001b[1;36m2\u001b[0m  \u001b[33m...\u001b[0m     Vertical                NaN         Flash             D-\u001b[1;36m50\u001b[0m   \n",
       "\u001b[1;36m3\u001b[0m  \u001b[33m...\u001b[0m     Vertical                NaN   Compensator       M45_MEUSOC   \n",
       "\u001b[1;36m4\u001b[0m  \u001b[33m...\u001b[0m     Vertical                NaN   MuzzleBrake       M45_MEUSOC   \n",
       "\n",
       "   secondaryweapontype secondarysight  secondarygrip  secondaryunderbarrel  \\\n",
       "\u001b[1;36m0\u001b[0m              Pistols            NaN            NaN                 Laser   \n",
       "\u001b[1;36m1\u001b[0m      Submachine_Guns         Reflex            NaN                   NaN   \n",
       "\u001b[1;36m2\u001b[0m              Pistols            NaN            NaN                   NaN   \n",
       "\u001b[1;36m3\u001b[0m              Pistols            NaN            NaN                   NaN   \n",
       "\u001b[1;36m4\u001b[0m              Pistols            NaN            NaN                   NaN   \n",
       "\n",
       "  secondarybarrel    secondarygadget  \n",
       "\u001b[1;36m0\u001b[0m             NaN      SMOKE_GRENADE  \n",
       "\u001b[1;36m1\u001b[0m     Compensator  DEPLOYABLE_SHIELD  \n",
       "\u001b[1;36m2\u001b[0m             NaN         NITRO_CELL  \n",
       "\u001b[1;36m3\u001b[0m             NaN         NITRO_CELL  \n",
       "\u001b[1;36m4\u001b[0m             NaN      BREACH_CHARGE  \n",
       "\n",
       "\u001b[1m[\u001b[0m\u001b[1;36m5\u001b[0m rows x \u001b[1;36m31\u001b[0m columns\u001b[1m]\u001b[0m"
      ]
     },
     "execution_count": 17,
     "metadata": {},
     "output_type": "execute_result"
    }
   ],
   "source": [
    "data_r2s_2.head()"
   ]
  }
 ],
 "metadata": {
  "kernelspec": {
   "display_name": "venv",
   "language": "python",
   "name": "python3"
  },
  "language_info": {
   "codemirror_mode": {
    "name": "ipython",
    "version": 3
   },
   "file_extension": ".py",
   "mimetype": "text/x-python",
   "name": "python",
   "nbconvert_exporter": "python",
   "pygments_lexer": "ipython3",
   "version": "3.12.10"
  }
 },
 "nbformat": 4,
 "nbformat_minor": 5
}
