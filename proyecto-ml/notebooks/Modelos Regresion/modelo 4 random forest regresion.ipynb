{
 "cells": [
  {
   "cell_type": "markdown",
   "id": "682605e6",
   "metadata": {},
   "source": [
    "# 🌲 Modelo 4: Regresión con Random Forest\n",
    "\n",
    "Este notebook implementa un modelo de regresión usando **Random Forest Regressor** para predecir el `impact_score` de los jugadores en Rainbow Six Siege.\n",
    "\n",
    "## Características del modelo:\n",
    "- **Algoritmo**: Random Forest Regressor\n",
    "- **Variable objetivo**: impact_score\n",
    "- **Ventajas**: Reduce overfitting, maneja datos categóricos y numéricos, robusto a outliers\n",
    "- **Desventajas**: Menos interpretable que un árbol individual, mayor complejidad computacional"
   ]
  },
  {
   "cell_type": "code",
   "execution_count": 1,
   "id": "ac8e56bb",
   "metadata": {},
   "outputs": [],
   "source": [
    "# 🌲 Modelo 4: Regresión con Random Forest\n",
    "\n",
    "# Importar librerías necesarias\n",
    "import pandas as pd\n",
    "import numpy as np\n",
    "from sklearn.model_selection import train_test_split, GridSearchCV\n",
    "from sklearn.ensemble import RandomForestRegressor\n",
    "from sklearn.metrics import r2_score, mean_squared_error, mean_absolute_error\n",
    "from sklearn.preprocessing import LabelEncoder\n",
    "import matplotlib.pyplot as plt\n",
    "import seaborn as sns\n",
    "\n",
    "# Configurar estilo de gráficos\n",
    "plt.style.use('seaborn-v0_8')\n",
    "sns.set_palette(\"husl\")"
   ]
  },
  {
   "cell_type": "code",
   "execution_count": 2,
   "id": "8a53a8ee",
   "metadata": {},
   "outputs": [
    {
     "data": {
      "text/html": [
       "<pre style=\"white-space:pre;overflow-x:auto;line-height:normal;font-family:Menlo,'DejaVu Sans Mono',consolas,'Courier New',monospace\"><span style=\"color: #7fbfbf; text-decoration-color: #7fbfbf\">[10/17/25 17:00:23] </span><span style=\"color: #000080; text-decoration-color: #000080\">INFO    </span> Using                                                                  <a href=\"file://c:\\Users\\nachi\\Desktop\\Rainbow_six_kedro_ml\\venv\\Lib\\site-packages\\kedro\\framework\\project\\__init__.py\" target=\"_blank\"><span style=\"color: #7f7f7f; text-decoration-color: #7f7f7f\">__init__.py</span></a><span style=\"color: #7f7f7f; text-decoration-color: #7f7f7f\">:</span><a href=\"file://c:\\Users\\nachi\\Desktop\\Rainbow_six_kedro_ml\\venv\\Lib\\site-packages\\kedro\\framework\\project\\__init__.py#270\" target=\"_blank\"><span style=\"color: #7f7f7f; text-decoration-color: #7f7f7f\">270</span></a>\n",
       "<span style=\"color: #7fbfbf; text-decoration-color: #7fbfbf\">                    </span>         <span style=\"color: #008000; text-decoration-color: #008000\">'c:\\Users\\nachi\\Desktop\\Rainbow_six_kedro_ml\\venv\\Lib\\site-packages\\ke</span> <span style=\"color: #7f7f7f; text-decoration-color: #7f7f7f\">               </span>\n",
       "<span style=\"color: #7fbfbf; text-decoration-color: #7fbfbf\">                    </span>         <span style=\"color: #008000; text-decoration-color: #008000\">dro\\framework\\project\\rich_logging.yml'</span> as logging configuration.      <span style=\"color: #7f7f7f; text-decoration-color: #7f7f7f\">               </span>\n",
       "</pre>\n"
      ],
      "text/plain": [
       "\u001b[2;36m[10/17/25 17:00:23]\u001b[0m\u001b[2;36m \u001b[0m\u001b[34mINFO    \u001b[0m Using                                                                  \u001b]8;id=737769;file://c:\\Users\\nachi\\Desktop\\Rainbow_six_kedro_ml\\venv\\Lib\\site-packages\\kedro\\framework\\project\\__init__.py\u001b\\\u001b[2m__init__.py\u001b[0m\u001b]8;;\u001b\\\u001b[2m:\u001b[0m\u001b]8;id=768562;file://c:\\Users\\nachi\\Desktop\\Rainbow_six_kedro_ml\\venv\\Lib\\site-packages\\kedro\\framework\\project\\__init__.py#270\u001b\\\u001b[2m270\u001b[0m\u001b]8;;\u001b\\\n",
       "\u001b[2;36m                    \u001b[0m         \u001b[32m'c:\\Users\\nachi\\Desktop\\Rainbow_six_kedro_ml\\venv\\Lib\\site-packages\\ke\u001b[0m \u001b[2m               \u001b[0m\n",
       "\u001b[2;36m                    \u001b[0m         \u001b[32mdro\\framework\\project\\rich_logging.yml'\u001b[0m as logging configuration.      \u001b[2m               \u001b[0m\n"
      ]
     },
     "metadata": {},
     "output_type": "display_data"
    },
    {
     "data": {
      "text/html": [
       "<pre style=\"white-space:pre;overflow-x:auto;line-height:normal;font-family:Menlo,'DejaVu Sans Mono',consolas,'Courier New',monospace\"><span style=\"color: #7fbfbf; text-decoration-color: #7fbfbf\">                    </span><span style=\"color: #000080; text-decoration-color: #000080\">INFO    </span> Registered line magic <span style=\"color: #008000; text-decoration-color: #008000\">'%reload_kedro'</span>                                   <a href=\"file://c:\\Users\\nachi\\Desktop\\Rainbow_six_kedro_ml\\venv\\Lib\\site-packages\\kedro\\ipython\\__init__.py\" target=\"_blank\"><span style=\"color: #7f7f7f; text-decoration-color: #7f7f7f\">__init__.py</span></a><span style=\"color: #7f7f7f; text-decoration-color: #7f7f7f\">:</span><a href=\"file://c:\\Users\\nachi\\Desktop\\Rainbow_six_kedro_ml\\venv\\Lib\\site-packages\\kedro\\ipython\\__init__.py#63\" target=\"_blank\"><span style=\"color: #7f7f7f; text-decoration-color: #7f7f7f\">63</span></a>\n",
       "</pre>\n"
      ],
      "text/plain": [
       "\u001b[2;36m                   \u001b[0m\u001b[2;36m \u001b[0m\u001b[34mINFO    \u001b[0m Registered line magic \u001b[32m'%reload_kedro'\u001b[0m                                   \u001b]8;id=666457;file://c:\\Users\\nachi\\Desktop\\Rainbow_six_kedro_ml\\venv\\Lib\\site-packages\\kedro\\ipython\\__init__.py\u001b\\\u001b[2m__init__.py\u001b[0m\u001b]8;;\u001b\\\u001b[2m:\u001b[0m\u001b]8;id=138764;file://c:\\Users\\nachi\\Desktop\\Rainbow_six_kedro_ml\\venv\\Lib\\site-packages\\kedro\\ipython\\__init__.py#63\u001b\\\u001b[2m63\u001b[0m\u001b]8;;\u001b\\\n"
      ]
     },
     "metadata": {},
     "output_type": "display_data"
    },
    {
     "data": {
      "text/html": [
       "<pre style=\"white-space:pre;overflow-x:auto;line-height:normal;font-family:Menlo,'DejaVu Sans Mono',consolas,'Courier New',monospace\"><span style=\"color: #7fbfbf; text-decoration-color: #7fbfbf\">                    </span><span style=\"color: #000080; text-decoration-color: #000080\">INFO    </span> Registered line magic <span style=\"color: #008000; text-decoration-color: #008000\">'%load_node'</span>                                      <a href=\"file://c:\\Users\\nachi\\Desktop\\Rainbow_six_kedro_ml\\venv\\Lib\\site-packages\\kedro\\ipython\\__init__.py\" target=\"_blank\"><span style=\"color: #7f7f7f; text-decoration-color: #7f7f7f\">__init__.py</span></a><span style=\"color: #7f7f7f; text-decoration-color: #7f7f7f\">:</span><a href=\"file://c:\\Users\\nachi\\Desktop\\Rainbow_six_kedro_ml\\venv\\Lib\\site-packages\\kedro\\ipython\\__init__.py#65\" target=\"_blank\"><span style=\"color: #7f7f7f; text-decoration-color: #7f7f7f\">65</span></a>\n",
       "</pre>\n"
      ],
      "text/plain": [
       "\u001b[2;36m                   \u001b[0m\u001b[2;36m \u001b[0m\u001b[34mINFO    \u001b[0m Registered line magic \u001b[32m'%load_node'\u001b[0m                                      \u001b]8;id=302578;file://c:\\Users\\nachi\\Desktop\\Rainbow_six_kedro_ml\\venv\\Lib\\site-packages\\kedro\\ipython\\__init__.py\u001b\\\u001b[2m__init__.py\u001b[0m\u001b]8;;\u001b\\\u001b[2m:\u001b[0m\u001b]8;id=946098;file://c:\\Users\\nachi\\Desktop\\Rainbow_six_kedro_ml\\venv\\Lib\\site-packages\\kedro\\ipython\\__init__.py#65\u001b\\\u001b[2m65\u001b[0m\u001b]8;;\u001b\\\n"
      ]
     },
     "metadata": {},
     "output_type": "display_data"
    },
    {
     "data": {
      "text/html": [
       "<pre style=\"white-space:pre;overflow-x:auto;line-height:normal;font-family:Menlo,'DejaVu Sans Mono',consolas,'Courier New',monospace\"><span style=\"color: #7fbfbf; text-decoration-color: #7fbfbf\">                    </span><span style=\"color: #000080; text-decoration-color: #000080\">INFO    </span> Resolved project path as:                                              <a href=\"file://c:\\Users\\nachi\\Desktop\\Rainbow_six_kedro_ml\\venv\\Lib\\site-packages\\kedro\\ipython\\__init__.py\" target=\"_blank\"><span style=\"color: #7f7f7f; text-decoration-color: #7f7f7f\">__init__.py</span></a><span style=\"color: #7f7f7f; text-decoration-color: #7f7f7f\">:</span><a href=\"file://c:\\Users\\nachi\\Desktop\\Rainbow_six_kedro_ml\\venv\\Lib\\site-packages\\kedro\\ipython\\__init__.py#180\" target=\"_blank\"><span style=\"color: #7f7f7f; text-decoration-color: #7f7f7f\">180</span></a>\n",
       "<span style=\"color: #7fbfbf; text-decoration-color: #7fbfbf\">                    </span>         c:\\Users\\nachi\\Desktop\\Rainbow_six_kedro_ml\\proyecto-ml.               <span style=\"color: #7f7f7f; text-decoration-color: #7f7f7f\">               </span>\n",
       "<span style=\"color: #7fbfbf; text-decoration-color: #7fbfbf\">                    </span>         To set a different path, run <span style=\"color: #008000; text-decoration-color: #008000\">'%reload_kedro &lt;project_root&gt;'</span>            <span style=\"color: #7f7f7f; text-decoration-color: #7f7f7f\">               </span>\n",
       "</pre>\n"
      ],
      "text/plain": [
       "\u001b[2;36m                   \u001b[0m\u001b[2;36m \u001b[0m\u001b[34mINFO    \u001b[0m Resolved project path as:                                              \u001b]8;id=905057;file://c:\\Users\\nachi\\Desktop\\Rainbow_six_kedro_ml\\venv\\Lib\\site-packages\\kedro\\ipython\\__init__.py\u001b\\\u001b[2m__init__.py\u001b[0m\u001b]8;;\u001b\\\u001b[2m:\u001b[0m\u001b]8;id=782645;file://c:\\Users\\nachi\\Desktop\\Rainbow_six_kedro_ml\\venv\\Lib\\site-packages\\kedro\\ipython\\__init__.py#180\u001b\\\u001b[2m180\u001b[0m\u001b]8;;\u001b\\\n",
       "\u001b[2;36m                    \u001b[0m         c:\\Users\\nachi\\Desktop\\Rainbow_six_kedro_ml\\proyecto-ml.               \u001b[2m               \u001b[0m\n",
       "\u001b[2;36m                    \u001b[0m         To set a different path, run \u001b[32m'%reload_kedro \u001b[0m\u001b[32m<\u001b[0m\u001b[32mproject_root\u001b[0m\u001b[32m>\u001b[0m\u001b[32m'\u001b[0m            \u001b[2m               \u001b[0m\n"
      ]
     },
     "metadata": {},
     "output_type": "display_data"
    },
    {
     "data": {
      "text/html": [
       "<pre style=\"white-space:pre;overflow-x:auto;line-height:normal;font-family:Menlo,'DejaVu Sans Mono',consolas,'Courier New',monospace\"><span style=\"color: #7fbfbf; text-decoration-color: #7fbfbf\">[10/17/25 17:00:24] </span><span style=\"color: #000080; text-decoration-color: #000080\">INFO    </span> Kedro is sending anonymous usage data with the sole purpose of improving <a href=\"file://c:\\Users\\nachi\\Desktop\\Rainbow_six_kedro_ml\\venv\\Lib\\site-packages\\kedro_telemetry\\plugin.py\" target=\"_blank\"><span style=\"color: #7f7f7f; text-decoration-color: #7f7f7f\">plugin.py</span></a><span style=\"color: #7f7f7f; text-decoration-color: #7f7f7f\">:</span><a href=\"file://c:\\Users\\nachi\\Desktop\\Rainbow_six_kedro_ml\\venv\\Lib\\site-packages\\kedro_telemetry\\plugin.py#243\" target=\"_blank\"><span style=\"color: #7f7f7f; text-decoration-color: #7f7f7f\">243</span></a>\n",
       "<span style=\"color: #7fbfbf; text-decoration-color: #7fbfbf\">                    </span>         the product. No personal data or IP addresses are stored on our side. To <span style=\"color: #7f7f7f; text-decoration-color: #7f7f7f\">             </span>\n",
       "<span style=\"color: #7fbfbf; text-decoration-color: #7fbfbf\">                    </span>         opt out, set the `KEDRO_DISABLE_TELEMETRY` or `DO_NOT_TRACK` environment <span style=\"color: #7f7f7f; text-decoration-color: #7f7f7f\">             </span>\n",
       "<span style=\"color: #7fbfbf; text-decoration-color: #7fbfbf\">                    </span>         variables, or create a `.telemetry` file in the current working          <span style=\"color: #7f7f7f; text-decoration-color: #7f7f7f\">             </span>\n",
       "<span style=\"color: #7fbfbf; text-decoration-color: #7fbfbf\">                    </span>         directory with the contents `consent: false`. To hide this message,      <span style=\"color: #7f7f7f; text-decoration-color: #7f7f7f\">             </span>\n",
       "<span style=\"color: #7fbfbf; text-decoration-color: #7fbfbf\">                    </span>         explicitly grant or deny consent. Read more at                           <span style=\"color: #7f7f7f; text-decoration-color: #7f7f7f\">             </span>\n",
       "<span style=\"color: #7fbfbf; text-decoration-color: #7fbfbf\">                    </span>         <span style=\"color: #0000ff; text-decoration-color: #0000ff; text-decoration: underline\">https://docs.kedro.org/en/stable/configuration/telemetry.html</span>            <span style=\"color: #7f7f7f; text-decoration-color: #7f7f7f\">             </span>\n",
       "</pre>\n"
      ],
      "text/plain": [
       "\u001b[2;36m[10/17/25 17:00:24]\u001b[0m\u001b[2;36m \u001b[0m\u001b[34mINFO    \u001b[0m Kedro is sending anonymous usage data with the sole purpose of improving \u001b]8;id=799672;file://c:\\Users\\nachi\\Desktop\\Rainbow_six_kedro_ml\\venv\\Lib\\site-packages\\kedro_telemetry\\plugin.py\u001b\\\u001b[2mplugin.py\u001b[0m\u001b]8;;\u001b\\\u001b[2m:\u001b[0m\u001b]8;id=624830;file://c:\\Users\\nachi\\Desktop\\Rainbow_six_kedro_ml\\venv\\Lib\\site-packages\\kedro_telemetry\\plugin.py#243\u001b\\\u001b[2m243\u001b[0m\u001b]8;;\u001b\\\n",
       "\u001b[2;36m                    \u001b[0m         the product. No personal data or IP addresses are stored on our side. To \u001b[2m             \u001b[0m\n",
       "\u001b[2;36m                    \u001b[0m         opt out, set the `KEDRO_DISABLE_TELEMETRY` or `DO_NOT_TRACK` environment \u001b[2m             \u001b[0m\n",
       "\u001b[2;36m                    \u001b[0m         variables, or create a `.telemetry` file in the current working          \u001b[2m             \u001b[0m\n",
       "\u001b[2;36m                    \u001b[0m         directory with the contents `consent: false`. To hide this message,      \u001b[2m             \u001b[0m\n",
       "\u001b[2;36m                    \u001b[0m         explicitly grant or deny consent. Read more at                           \u001b[2m             \u001b[0m\n",
       "\u001b[2;36m                    \u001b[0m         \u001b[4;94mhttps://docs.kedro.org/en/stable/configuration/telemetry.html\u001b[0m            \u001b[2m             \u001b[0m\n"
      ]
     },
     "metadata": {},
     "output_type": "display_data"
    },
    {
     "data": {
      "text/html": [
       "<pre style=\"white-space:pre;overflow-x:auto;line-height:normal;font-family:Menlo,'DejaVu Sans Mono',consolas,'Courier New',monospace\"><span style=\"color: #7fbfbf; text-decoration-color: #7fbfbf\">[10/17/25 17:00:25] </span><span style=\"color: #000080; text-decoration-color: #000080\">INFO    </span> Kedro project proteyecto-ml                                            <a href=\"file://c:\\Users\\nachi\\Desktop\\Rainbow_six_kedro_ml\\venv\\Lib\\site-packages\\kedro\\ipython\\__init__.py\" target=\"_blank\"><span style=\"color: #7f7f7f; text-decoration-color: #7f7f7f\">__init__.py</span></a><span style=\"color: #7f7f7f; text-decoration-color: #7f7f7f\">:</span><a href=\"file://c:\\Users\\nachi\\Desktop\\Rainbow_six_kedro_ml\\venv\\Lib\\site-packages\\kedro\\ipython\\__init__.py#146\" target=\"_blank\"><span style=\"color: #7f7f7f; text-decoration-color: #7f7f7f\">146</span></a>\n",
       "</pre>\n"
      ],
      "text/plain": [
       "\u001b[2;36m[10/17/25 17:00:25]\u001b[0m\u001b[2;36m \u001b[0m\u001b[34mINFO    \u001b[0m Kedro project proteyecto-ml                                            \u001b]8;id=252584;file://c:\\Users\\nachi\\Desktop\\Rainbow_six_kedro_ml\\venv\\Lib\\site-packages\\kedro\\ipython\\__init__.py\u001b\\\u001b[2m__init__.py\u001b[0m\u001b]8;;\u001b\\\u001b[2m:\u001b[0m\u001b]8;id=681578;file://c:\\Users\\nachi\\Desktop\\Rainbow_six_kedro_ml\\venv\\Lib\\site-packages\\kedro\\ipython\\__init__.py#146\u001b\\\u001b[2m146\u001b[0m\u001b]8;;\u001b\\\n"
      ]
     },
     "metadata": {},
     "output_type": "display_data"
    },
    {
     "data": {
      "text/html": [
       "<pre style=\"white-space:pre;overflow-x:auto;line-height:normal;font-family:Menlo,'DejaVu Sans Mono',consolas,'Courier New',monospace\"><span style=\"color: #7fbfbf; text-decoration-color: #7fbfbf\">                    </span><span style=\"color: #000080; text-decoration-color: #000080\">INFO    </span> Defined global variable <span style=\"color: #008000; text-decoration-color: #008000\">'context'</span>, <span style=\"color: #008000; text-decoration-color: #008000\">'session'</span>, <span style=\"color: #008000; text-decoration-color: #008000\">'catalog'</span> and            <a href=\"file://c:\\Users\\nachi\\Desktop\\Rainbow_six_kedro_ml\\venv\\Lib\\site-packages\\kedro\\ipython\\__init__.py\" target=\"_blank\"><span style=\"color: #7f7f7f; text-decoration-color: #7f7f7f\">__init__.py</span></a><span style=\"color: #7f7f7f; text-decoration-color: #7f7f7f\">:</span><a href=\"file://c:\\Users\\nachi\\Desktop\\Rainbow_six_kedro_ml\\venv\\Lib\\site-packages\\kedro\\ipython\\__init__.py#147\" target=\"_blank\"><span style=\"color: #7f7f7f; text-decoration-color: #7f7f7f\">147</span></a>\n",
       "<span style=\"color: #7fbfbf; text-decoration-color: #7fbfbf\">                    </span>         <span style=\"color: #008000; text-decoration-color: #008000\">'pipelines'</span>                                                            <span style=\"color: #7f7f7f; text-decoration-color: #7f7f7f\">               </span>\n",
       "</pre>\n"
      ],
      "text/plain": [
       "\u001b[2;36m                   \u001b[0m\u001b[2;36m \u001b[0m\u001b[34mINFO    \u001b[0m Defined global variable \u001b[32m'context'\u001b[0m, \u001b[32m'session'\u001b[0m, \u001b[32m'catalog'\u001b[0m and            \u001b]8;id=56937;file://c:\\Users\\nachi\\Desktop\\Rainbow_six_kedro_ml\\venv\\Lib\\site-packages\\kedro\\ipython\\__init__.py\u001b\\\u001b[2m__init__.py\u001b[0m\u001b]8;;\u001b\\\u001b[2m:\u001b[0m\u001b]8;id=875011;file://c:\\Users\\nachi\\Desktop\\Rainbow_six_kedro_ml\\venv\\Lib\\site-packages\\kedro\\ipython\\__init__.py#147\u001b\\\u001b[2m147\u001b[0m\u001b]8;;\u001b\\\n",
       "\u001b[2;36m                    \u001b[0m         \u001b[32m'pipelines'\u001b[0m                                                            \u001b[2m               \u001b[0m\n"
      ]
     },
     "metadata": {},
     "output_type": "display_data"
    },
    {
     "data": {
      "text/html": [
       "<pre style=\"white-space:pre;overflow-x:auto;line-height:normal;font-family:Menlo,'DejaVu Sans Mono',consolas,'Courier New',monospace\"><span style=\"color: #7fbfbf; text-decoration-color: #7fbfbf\">                    </span><span style=\"color: #000080; text-decoration-color: #000080\">INFO    </span> Registered line magic <span style=\"color: #008000; text-decoration-color: #008000\">'run_viz'</span>                                        <a href=\"file://c:\\Users\\nachi\\Desktop\\Rainbow_six_kedro_ml\\venv\\Lib\\site-packages\\kedro\\ipython\\__init__.py\" target=\"_blank\"><span style=\"color: #7f7f7f; text-decoration-color: #7f7f7f\">__init__.py</span></a><span style=\"color: #7f7f7f; text-decoration-color: #7f7f7f\">:</span><a href=\"file://c:\\Users\\nachi\\Desktop\\Rainbow_six_kedro_ml\\venv\\Lib\\site-packages\\kedro\\ipython\\__init__.py#153\" target=\"_blank\"><span style=\"color: #7f7f7f; text-decoration-color: #7f7f7f\">153</span></a>\n",
       "</pre>\n"
      ],
      "text/plain": [
       "\u001b[2;36m                   \u001b[0m\u001b[2;36m \u001b[0m\u001b[34mINFO    \u001b[0m Registered line magic \u001b[32m'run_viz'\u001b[0m                                        \u001b]8;id=777593;file://c:\\Users\\nachi\\Desktop\\Rainbow_six_kedro_ml\\venv\\Lib\\site-packages\\kedro\\ipython\\__init__.py\u001b\\\u001b[2m__init__.py\u001b[0m\u001b]8;;\u001b\\\u001b[2m:\u001b[0m\u001b]8;id=600487;file://c:\\Users\\nachi\\Desktop\\Rainbow_six_kedro_ml\\venv\\Lib\\site-packages\\kedro\\ipython\\__init__.py#153\u001b\\\u001b[2m153\u001b[0m\u001b]8;;\u001b\\\n"
      ]
     },
     "metadata": {},
     "output_type": "display_data"
    }
   ],
   "source": [
    "# Cargar extensión de Kedro\n",
    "%load_ext kedro.ipython"
   ]
  },
  {
   "cell_type": "code",
   "execution_count": 3,
   "id": "053bfb9f",
   "metadata": {},
   "outputs": [
    {
     "data": {
      "text/html": [
       "<pre style=\"white-space:pre;overflow-x:auto;line-height:normal;font-family:Menlo,'DejaVu Sans Mono',consolas,'Courier New',monospace\"><span style=\"color: #7fbfbf; text-decoration-color: #7fbfbf\">[10/17/25 17:00:29] </span><span style=\"color: #000080; text-decoration-color: #000080\">INFO    </span> Loading data from <span style=\"color: #ff8700; text-decoration-color: #ff8700\">data_final</span> <span style=\"font-weight: bold\">(</span>CSVDataset<span style=\"font-weight: bold\">)</span><span style=\"color: #808000; text-decoration-color: #808000\">...</span>                      <a href=\"file://c:\\Users\\nachi\\Desktop\\Rainbow_six_kedro_ml\\venv\\Lib\\site-packages\\kedro\\io\\data_catalog.py\" target=\"_blank\"><span style=\"color: #7f7f7f; text-decoration-color: #7f7f7f\">data_catalog.py</span></a><span style=\"color: #7f7f7f; text-decoration-color: #7f7f7f\">:</span><a href=\"file://c:\\Users\\nachi\\Desktop\\Rainbow_six_kedro_ml\\venv\\Lib\\site-packages\\kedro\\io\\data_catalog.py#1046\" target=\"_blank\"><span style=\"color: #7f7f7f; text-decoration-color: #7f7f7f\">1046</span></a>\n",
       "</pre>\n"
      ],
      "text/plain": [
       "\u001b[2;36m[10/17/25 17:00:29]\u001b[0m\u001b[2;36m \u001b[0m\u001b[34mINFO    \u001b[0m Loading data from \u001b[38;5;208mdata_final\u001b[0m \u001b[1m(\u001b[0mCSVDataset\u001b[1m)\u001b[0m\u001b[33m...\u001b[0m                      \u001b]8;id=129432;file://c:\\Users\\nachi\\Desktop\\Rainbow_six_kedro_ml\\venv\\Lib\\site-packages\\kedro\\io\\data_catalog.py\u001b\\\u001b[2mdata_catalog.py\u001b[0m\u001b]8;;\u001b\\\u001b[2m:\u001b[0m\u001b]8;id=977292;file://c:\\Users\\nachi\\Desktop\\Rainbow_six_kedro_ml\\venv\\Lib\\site-packages\\kedro\\io\\data_catalog.py#1046\u001b\\\u001b[2m1046\u001b[0m\u001b]8;;\u001b\\\n"
      ]
     },
     "metadata": {},
     "output_type": "display_data"
    },
    {
     "name": "stdout",
     "output_type": "stream",
     "text": [
      "📊 Información del dataset:\n",
      "Shape: (200873, 33)\n",
      "Columnas disponibles: 33\n",
      "\n",
      "🎯 Variable objetivo: impact_score\n",
      "Estadísticas del target:\n",
      "count    200873.000000\n",
      "mean          0.371553\n",
      "std           0.787608\n",
      "min           0.000000\n",
      "25%           0.000000\n",
      "50%           0.000000\n",
      "75%           0.000000\n",
      "max           6.000000\n",
      "Name: impact_score, dtype: float64\n"
     ]
    }
   ],
   "source": [
    "# Cargar los datos\n",
    "data = catalog.load(\"data_final\")\n",
    "\n",
    "print(\"📊 Información del dataset:\")\n",
    "print(f\"Shape: {data.shape}\")\n",
    "print(f\"Columnas disponibles: {len(data.columns)}\")\n",
    "print(\"\\n🎯 Variable objetivo: impact_score\")\n",
    "print(f\"Estadísticas del target:\")\n",
    "print(data['impact_score'].describe())"
   ]
  },
  {
   "cell_type": "markdown",
   "id": "694a1d00",
   "metadata": {},
   "source": [
    "## 🔧 Preparación de los datos\n",
    "\n",
    "Para Random Forest, utilizaremos las mismas características que en el árbol de decisión individual, pero el ensemble de múltiples árboles debería proporcionar mejor generalización y reducir el overfitting."
   ]
  },
  {
   "cell_type": "code",
   "execution_count": 4,
   "id": "eb86923c",
   "metadata": {},
   "outputs": [
    {
     "name": "stdout",
     "output_type": "stream",
     "text": [
      "🔧 PREPARANDO DATOS CON CODIFICACIÓN...\n"
     ]
    },
    {
     "data": {
      "text/html": [
       "<pre style=\"white-space:pre;overflow-x:auto;line-height:normal;font-family:Menlo,'DejaVu Sans Mono',consolas,'Courier New',monospace\"><span style=\"color: #7fbfbf; text-decoration-color: #7fbfbf\">[10/17/25 17:00:33] </span><span style=\"color: #808000; text-decoration-color: #808000\">WARNING </span> C:\\Users\\nachi\\AppData\\Local\\Temp\\ipykernel_4308\\<span style=\"color: #008080; text-decoration-color: #008080; font-weight: bold\">2485152995.</span>py:<span style=\"color: #008080; text-decoration-color: #008080; font-weight: bold\">22</span>:     <a href=\"file://C:\\Users\\nachi\\AppData\\Local\\Programs\\Python\\Python312\\Lib\\warnings.py\" target=\"_blank\"><span style=\"color: #7f7f7f; text-decoration-color: #7f7f7f\">warnings.py</span></a><span style=\"color: #7f7f7f; text-decoration-color: #7f7f7f\">:</span><a href=\"file://C:\\Users\\nachi\\AppData\\Local\\Programs\\Python\\Python312\\Lib\\warnings.py#112\" target=\"_blank\"><span style=\"color: #7f7f7f; text-decoration-color: #7f7f7f\">112</span></a>\n",
       "<span style=\"color: #7fbfbf; text-decoration-color: #7fbfbf\">                    </span>         SettingWithCopyWarning:                                                <span style=\"color: #7f7f7f; text-decoration-color: #7f7f7f\">               </span>\n",
       "<span style=\"color: #7fbfbf; text-decoration-color: #7fbfbf\">                    </span>         A value is trying to be set on a copy of a slice from a DataFrame.     <span style=\"color: #7f7f7f; text-decoration-color: #7f7f7f\">               </span>\n",
       "<span style=\"color: #7fbfbf; text-decoration-color: #7fbfbf\">                    </span>         Try using .loc = value instead                                         <span style=\"color: #7f7f7f; text-decoration-color: #7f7f7f\">               </span>\n",
       "<span style=\"color: #7fbfbf; text-decoration-color: #7fbfbf\">                    </span>                                                                                <span style=\"color: #7f7f7f; text-decoration-color: #7f7f7f\">               </span>\n",
       "<span style=\"color: #7fbfbf; text-decoration-color: #7fbfbf\">                    </span>         See the caveats in the documentation:                                  <span style=\"color: #7f7f7f; text-decoration-color: #7f7f7f\">               </span>\n",
       "<span style=\"color: #7fbfbf; text-decoration-color: #7fbfbf\">                    </span>         <span style=\"color: #0000ff; text-decoration-color: #0000ff; text-decoration: underline\">https://pandas.pydata.org/pandas-docs/stable/user_guide/indexing.html#</span> <span style=\"color: #7f7f7f; text-decoration-color: #7f7f7f\">               </span>\n",
       "<span style=\"color: #7fbfbf; text-decoration-color: #7fbfbf\">                    </span>         <span style=\"color: #0000ff; text-decoration-color: #0000ff; text-decoration: underline\">returning-a-view-versus-a-copy</span>                                         <span style=\"color: #7f7f7f; text-decoration-color: #7f7f7f\">               </span>\n",
       "<span style=\"color: #7fbfbf; text-decoration-color: #7fbfbf\">                    </span>           X = <span style=\"color: #800080; text-decoration-color: #800080; font-weight: bold\">le.fit_transform</span><span style=\"font-weight: bold\">(</span><span style=\"color: #800080; text-decoration-color: #800080; font-weight: bold\">X.astype</span><span style=\"font-weight: bold\">(</span>str<span style=\"font-weight: bold\">))</span>  # Convertir a string por        <span style=\"color: #7f7f7f; text-decoration-color: #7f7f7f\">               </span>\n",
       "<span style=\"color: #7fbfbf; text-decoration-color: #7fbfbf\">                    </span>         seguridad                                                              <span style=\"color: #7f7f7f; text-decoration-color: #7f7f7f\">               </span>\n",
       "<span style=\"color: #7fbfbf; text-decoration-color: #7fbfbf\">                    </span>                                                                                <span style=\"color: #7f7f7f; text-decoration-color: #7f7f7f\">               </span>\n",
       "</pre>\n"
      ],
      "text/plain": [
       "\u001b[2;36m[10/17/25 17:00:33]\u001b[0m\u001b[2;36m \u001b[0m\u001b[33mWARNING \u001b[0m C:\\Users\\nachi\\AppData\\Local\\Temp\\ipykernel_4308\\\u001b[1;36m2485152995.\u001b[0mpy:\u001b[1;36m22\u001b[0m:     \u001b]8;id=672908;file://C:\\Users\\nachi\\AppData\\Local\\Programs\\Python\\Python312\\Lib\\warnings.py\u001b\\\u001b[2mwarnings.py\u001b[0m\u001b]8;;\u001b\\\u001b[2m:\u001b[0m\u001b]8;id=817449;file://C:\\Users\\nachi\\AppData\\Local\\Programs\\Python\\Python312\\Lib\\warnings.py#112\u001b\\\u001b[2m112\u001b[0m\u001b]8;;\u001b\\\n",
       "\u001b[2;36m                    \u001b[0m         SettingWithCopyWarning:                                                \u001b[2m               \u001b[0m\n",
       "\u001b[2;36m                    \u001b[0m         A value is trying to be set on a copy of a slice from a DataFrame.     \u001b[2m               \u001b[0m\n",
       "\u001b[2;36m                    \u001b[0m         Try using .loc = value instead                                         \u001b[2m               \u001b[0m\n",
       "\u001b[2;36m                    \u001b[0m                                                                                \u001b[2m               \u001b[0m\n",
       "\u001b[2;36m                    \u001b[0m         See the caveats in the documentation:                                  \u001b[2m               \u001b[0m\n",
       "\u001b[2;36m                    \u001b[0m         \u001b[4;94mhttps://pandas.pydata.org/pandas-docs/stable/user_guide/indexing.html#\u001b[0m \u001b[2m               \u001b[0m\n",
       "\u001b[2;36m                    \u001b[0m         \u001b[4;94mreturning-a-view-versus-a-copy\u001b[0m                                         \u001b[2m               \u001b[0m\n",
       "\u001b[2;36m                    \u001b[0m           X = \u001b[1;35mle.fit_transform\u001b[0m\u001b[1m(\u001b[0m\u001b[1;35mX\u001b[0m\u001b[1;35m.astype\u001b[0m\u001b[1m(\u001b[0mstr\u001b[1m)\u001b[0m\u001b[1m)\u001b[0m  # Convertir a string por        \u001b[2m               \u001b[0m\n",
       "\u001b[2;36m                    \u001b[0m         seguridad                                                              \u001b[2m               \u001b[0m\n",
       "\u001b[2;36m                    \u001b[0m                                                                                \u001b[2m               \u001b[0m\n"
      ]
     },
     "metadata": {},
     "output_type": "display_data"
    },
    {
     "name": "stdout",
     "output_type": "stream",
     "text": [
      "✅ gamemode codificado: 3 categorías\n"
     ]
    },
    {
     "data": {
      "text/html": [
       "<pre style=\"white-space:pre;overflow-x:auto;line-height:normal;font-family:Menlo,'DejaVu Sans Mono',consolas,'Courier New',monospace\"><span style=\"color: #7fbfbf; text-decoration-color: #7fbfbf\">[10/17/25 17:00:34] </span><span style=\"color: #808000; text-decoration-color: #808000\">WARNING </span> C:\\Users\\nachi\\AppData\\Local\\Temp\\ipykernel_4308\\<span style=\"color: #008080; text-decoration-color: #008080; font-weight: bold\">2485152995.</span>py:<span style=\"color: #008080; text-decoration-color: #008080; font-weight: bold\">22</span>:     <a href=\"file://C:\\Users\\nachi\\AppData\\Local\\Programs\\Python\\Python312\\Lib\\warnings.py\" target=\"_blank\"><span style=\"color: #7f7f7f; text-decoration-color: #7f7f7f\">warnings.py</span></a><span style=\"color: #7f7f7f; text-decoration-color: #7f7f7f\">:</span><a href=\"file://C:\\Users\\nachi\\AppData\\Local\\Programs\\Python\\Python312\\Lib\\warnings.py#112\" target=\"_blank\"><span style=\"color: #7f7f7f; text-decoration-color: #7f7f7f\">112</span></a>\n",
       "<span style=\"color: #7fbfbf; text-decoration-color: #7fbfbf\">                    </span>         SettingWithCopyWarning:                                                <span style=\"color: #7f7f7f; text-decoration-color: #7f7f7f\">               </span>\n",
       "<span style=\"color: #7fbfbf; text-decoration-color: #7fbfbf\">                    </span>         A value is trying to be set on a copy of a slice from a DataFrame.     <span style=\"color: #7f7f7f; text-decoration-color: #7f7f7f\">               </span>\n",
       "<span style=\"color: #7fbfbf; text-decoration-color: #7fbfbf\">                    </span>         Try using .loc = value instead                                         <span style=\"color: #7f7f7f; text-decoration-color: #7f7f7f\">               </span>\n",
       "<span style=\"color: #7fbfbf; text-decoration-color: #7fbfbf\">                    </span>                                                                                <span style=\"color: #7f7f7f; text-decoration-color: #7f7f7f\">               </span>\n",
       "<span style=\"color: #7fbfbf; text-decoration-color: #7fbfbf\">                    </span>         See the caveats in the documentation:                                  <span style=\"color: #7f7f7f; text-decoration-color: #7f7f7f\">               </span>\n",
       "<span style=\"color: #7fbfbf; text-decoration-color: #7fbfbf\">                    </span>         <span style=\"color: #0000ff; text-decoration-color: #0000ff; text-decoration: underline\">https://pandas.pydata.org/pandas-docs/stable/user_guide/indexing.html#</span> <span style=\"color: #7f7f7f; text-decoration-color: #7f7f7f\">               </span>\n",
       "<span style=\"color: #7fbfbf; text-decoration-color: #7fbfbf\">                    </span>         <span style=\"color: #0000ff; text-decoration-color: #0000ff; text-decoration: underline\">returning-a-view-versus-a-copy</span>                                         <span style=\"color: #7f7f7f; text-decoration-color: #7f7f7f\">               </span>\n",
       "<span style=\"color: #7fbfbf; text-decoration-color: #7fbfbf\">                    </span>           X = <span style=\"color: #800080; text-decoration-color: #800080; font-weight: bold\">le.fit_transform</span><span style=\"font-weight: bold\">(</span><span style=\"color: #800080; text-decoration-color: #800080; font-weight: bold\">X.astype</span><span style=\"font-weight: bold\">(</span>str<span style=\"font-weight: bold\">))</span>  # Convertir a string por        <span style=\"color: #7f7f7f; text-decoration-color: #7f7f7f\">               </span>\n",
       "<span style=\"color: #7fbfbf; text-decoration-color: #7fbfbf\">                    </span>         seguridad                                                              <span style=\"color: #7f7f7f; text-decoration-color: #7f7f7f\">               </span>\n",
       "<span style=\"color: #7fbfbf; text-decoration-color: #7fbfbf\">                    </span>                                                                                <span style=\"color: #7f7f7f; text-decoration-color: #7f7f7f\">               </span>\n",
       "</pre>\n"
      ],
      "text/plain": [
       "\u001b[2;36m[10/17/25 17:00:34]\u001b[0m\u001b[2;36m \u001b[0m\u001b[33mWARNING \u001b[0m C:\\Users\\nachi\\AppData\\Local\\Temp\\ipykernel_4308\\\u001b[1;36m2485152995.\u001b[0mpy:\u001b[1;36m22\u001b[0m:     \u001b]8;id=694424;file://C:\\Users\\nachi\\AppData\\Local\\Programs\\Python\\Python312\\Lib\\warnings.py\u001b\\\u001b[2mwarnings.py\u001b[0m\u001b]8;;\u001b\\\u001b[2m:\u001b[0m\u001b]8;id=589927;file://C:\\Users\\nachi\\AppData\\Local\\Programs\\Python\\Python312\\Lib\\warnings.py#112\u001b\\\u001b[2m112\u001b[0m\u001b]8;;\u001b\\\n",
       "\u001b[2;36m                    \u001b[0m         SettingWithCopyWarning:                                                \u001b[2m               \u001b[0m\n",
       "\u001b[2;36m                    \u001b[0m         A value is trying to be set on a copy of a slice from a DataFrame.     \u001b[2m               \u001b[0m\n",
       "\u001b[2;36m                    \u001b[0m         Try using .loc = value instead                                         \u001b[2m               \u001b[0m\n",
       "\u001b[2;36m                    \u001b[0m                                                                                \u001b[2m               \u001b[0m\n",
       "\u001b[2;36m                    \u001b[0m         See the caveats in the documentation:                                  \u001b[2m               \u001b[0m\n",
       "\u001b[2;36m                    \u001b[0m         \u001b[4;94mhttps://pandas.pydata.org/pandas-docs/stable/user_guide/indexing.html#\u001b[0m \u001b[2m               \u001b[0m\n",
       "\u001b[2;36m                    \u001b[0m         \u001b[4;94mreturning-a-view-versus-a-copy\u001b[0m                                         \u001b[2m               \u001b[0m\n",
       "\u001b[2;36m                    \u001b[0m           X = \u001b[1;35mle.fit_transform\u001b[0m\u001b[1m(\u001b[0m\u001b[1;35mX\u001b[0m\u001b[1;35m.astype\u001b[0m\u001b[1m(\u001b[0mstr\u001b[1m)\u001b[0m\u001b[1m)\u001b[0m  # Convertir a string por        \u001b[2m               \u001b[0m\n",
       "\u001b[2;36m                    \u001b[0m         seguridad                                                              \u001b[2m               \u001b[0m\n",
       "\u001b[2;36m                    \u001b[0m                                                                                \u001b[2m               \u001b[0m\n"
      ]
     },
     "metadata": {},
     "output_type": "display_data"
    },
    {
     "name": "stdout",
     "output_type": "stream",
     "text": [
      "✅ winrole codificado: 2 categorías\n"
     ]
    },
    {
     "data": {
      "text/html": [
       "<pre style=\"white-space:pre;overflow-x:auto;line-height:normal;font-family:Menlo,'DejaVu Sans Mono',consolas,'Courier New',monospace\"><span style=\"color: #7fbfbf; text-decoration-color: #7fbfbf\">                    </span><span style=\"color: #808000; text-decoration-color: #808000\">WARNING </span> C:\\Users\\nachi\\AppData\\Local\\Temp\\ipykernel_4308\\<span style=\"color: #008080; text-decoration-color: #008080; font-weight: bold\">2485152995.</span>py:<span style=\"color: #008080; text-decoration-color: #008080; font-weight: bold\">22</span>:     <a href=\"file://C:\\Users\\nachi\\AppData\\Local\\Programs\\Python\\Python312\\Lib\\warnings.py\" target=\"_blank\"><span style=\"color: #7f7f7f; text-decoration-color: #7f7f7f\">warnings.py</span></a><span style=\"color: #7f7f7f; text-decoration-color: #7f7f7f\">:</span><a href=\"file://C:\\Users\\nachi\\AppData\\Local\\Programs\\Python\\Python312\\Lib\\warnings.py#112\" target=\"_blank\"><span style=\"color: #7f7f7f; text-decoration-color: #7f7f7f\">112</span></a>\n",
       "<span style=\"color: #7fbfbf; text-decoration-color: #7fbfbf\">                    </span>         SettingWithCopyWarning:                                                <span style=\"color: #7f7f7f; text-decoration-color: #7f7f7f\">               </span>\n",
       "<span style=\"color: #7fbfbf; text-decoration-color: #7fbfbf\">                    </span>         A value is trying to be set on a copy of a slice from a DataFrame.     <span style=\"color: #7f7f7f; text-decoration-color: #7f7f7f\">               </span>\n",
       "<span style=\"color: #7fbfbf; text-decoration-color: #7fbfbf\">                    </span>         Try using .loc = value instead                                         <span style=\"color: #7f7f7f; text-decoration-color: #7f7f7f\">               </span>\n",
       "<span style=\"color: #7fbfbf; text-decoration-color: #7fbfbf\">                    </span>                                                                                <span style=\"color: #7f7f7f; text-decoration-color: #7f7f7f\">               </span>\n",
       "<span style=\"color: #7fbfbf; text-decoration-color: #7fbfbf\">                    </span>         See the caveats in the documentation:                                  <span style=\"color: #7f7f7f; text-decoration-color: #7f7f7f\">               </span>\n",
       "<span style=\"color: #7fbfbf; text-decoration-color: #7fbfbf\">                    </span>         <span style=\"color: #0000ff; text-decoration-color: #0000ff; text-decoration: underline\">https://pandas.pydata.org/pandas-docs/stable/user_guide/indexing.html#</span> <span style=\"color: #7f7f7f; text-decoration-color: #7f7f7f\">               </span>\n",
       "<span style=\"color: #7fbfbf; text-decoration-color: #7fbfbf\">                    </span>         <span style=\"color: #0000ff; text-decoration-color: #0000ff; text-decoration: underline\">returning-a-view-versus-a-copy</span>                                         <span style=\"color: #7f7f7f; text-decoration-color: #7f7f7f\">               </span>\n",
       "<span style=\"color: #7fbfbf; text-decoration-color: #7fbfbf\">                    </span>           X = <span style=\"color: #800080; text-decoration-color: #800080; font-weight: bold\">le.fit_transform</span><span style=\"font-weight: bold\">(</span><span style=\"color: #800080; text-decoration-color: #800080; font-weight: bold\">X.astype</span><span style=\"font-weight: bold\">(</span>str<span style=\"font-weight: bold\">))</span>  # Convertir a string por        <span style=\"color: #7f7f7f; text-decoration-color: #7f7f7f\">               </span>\n",
       "<span style=\"color: #7fbfbf; text-decoration-color: #7fbfbf\">                    </span>         seguridad                                                              <span style=\"color: #7f7f7f; text-decoration-color: #7f7f7f\">               </span>\n",
       "<span style=\"color: #7fbfbf; text-decoration-color: #7fbfbf\">                    </span>                                                                                <span style=\"color: #7f7f7f; text-decoration-color: #7f7f7f\">               </span>\n",
       "</pre>\n"
      ],
      "text/plain": [
       "\u001b[2;36m                   \u001b[0m\u001b[2;36m \u001b[0m\u001b[33mWARNING \u001b[0m C:\\Users\\nachi\\AppData\\Local\\Temp\\ipykernel_4308\\\u001b[1;36m2485152995.\u001b[0mpy:\u001b[1;36m22\u001b[0m:     \u001b]8;id=127664;file://C:\\Users\\nachi\\AppData\\Local\\Programs\\Python\\Python312\\Lib\\warnings.py\u001b\\\u001b[2mwarnings.py\u001b[0m\u001b]8;;\u001b\\\u001b[2m:\u001b[0m\u001b]8;id=602144;file://C:\\Users\\nachi\\AppData\\Local\\Programs\\Python\\Python312\\Lib\\warnings.py#112\u001b\\\u001b[2m112\u001b[0m\u001b]8;;\u001b\\\n",
       "\u001b[2;36m                    \u001b[0m         SettingWithCopyWarning:                                                \u001b[2m               \u001b[0m\n",
       "\u001b[2;36m                    \u001b[0m         A value is trying to be set on a copy of a slice from a DataFrame.     \u001b[2m               \u001b[0m\n",
       "\u001b[2;36m                    \u001b[0m         Try using .loc = value instead                                         \u001b[2m               \u001b[0m\n",
       "\u001b[2;36m                    \u001b[0m                                                                                \u001b[2m               \u001b[0m\n",
       "\u001b[2;36m                    \u001b[0m         See the caveats in the documentation:                                  \u001b[2m               \u001b[0m\n",
       "\u001b[2;36m                    \u001b[0m         \u001b[4;94mhttps://pandas.pydata.org/pandas-docs/stable/user_guide/indexing.html#\u001b[0m \u001b[2m               \u001b[0m\n",
       "\u001b[2;36m                    \u001b[0m         \u001b[4;94mreturning-a-view-versus-a-copy\u001b[0m                                         \u001b[2m               \u001b[0m\n",
       "\u001b[2;36m                    \u001b[0m           X = \u001b[1;35mle.fit_transform\u001b[0m\u001b[1m(\u001b[0m\u001b[1;35mX\u001b[0m\u001b[1;35m.astype\u001b[0m\u001b[1m(\u001b[0mstr\u001b[1m)\u001b[0m\u001b[1m)\u001b[0m  # Convertir a string por        \u001b[2m               \u001b[0m\n",
       "\u001b[2;36m                    \u001b[0m         seguridad                                                              \u001b[2m               \u001b[0m\n",
       "\u001b[2;36m                    \u001b[0m                                                                                \u001b[2m               \u001b[0m\n"
      ]
     },
     "metadata": {},
     "output_type": "display_data"
    },
    {
     "name": "stdout",
     "output_type": "stream",
     "text": [
      "✅ endroundreason codificado: 15 categorías\n",
      "\n",
      "📊 Datos preparados:\n",
      "   X_train: (160698, 6)\n",
      "   X_test: (40175, 6)\n",
      "   y_train: (160698,)\n",
      "   y_test: (40175,)\n"
     ]
    }
   ],
   "source": [
    "## 🔧 PREPARACIÓN DE DATOS CON CODIFICACIÓN\n",
    "\n",
    "print(\"🔧 PREPARANDO DATOS CON CODIFICACIÓN...\")\n",
    "\n",
    "# Preparar X e y\n",
    "X = data[[ \n",
    "    'gamemode',        # tipo de partida\n",
    "    'winrole',         # atacante o defensor\n",
    "    'endroundreason',  # cómo terminó la ronda\n",
    "    'roundduration',   # cuánto duró\n",
    "    'isdead',          # si el jugador murió\n",
    "    'nbkills',]]       # número de eliminaciones\n",
    "\n",
    "y = data['impact_score']\n",
    "\n",
    "# CODIFICAR variables categóricas (CRÍTICO para Random Forest)\n",
    "label_encoders = {}\n",
    "categorical_columns = ['gamemode', 'winrole', 'endroundreason']\n",
    "\n",
    "for col in categorical_columns:\n",
    "    le = LabelEncoder()\n",
    "    X[col] = le.fit_transform(X[col].astype(str))  # Convertir a string por seguridad\n",
    "    label_encoders[col] = le\n",
    "    print(f\"✅ {col} codificado: {len(le.classes_)} categorías\")\n",
    "\n",
    "X_train, X_test, y_train, y_test = train_test_split(X, y, test_size=0.2, random_state=42)\n",
    "\n",
    "print(f\"\\n📊 Datos preparados:\")\n",
    "print(f\"   X_train: {X_train.shape}\")\n",
    "print(f\"   X_test: {X_test.shape}\")\n",
    "print(f\"   y_train: {y_train.shape}\")\n",
    "print(f\"   y_test: {y_test.shape}\")"
   ]
  },
  {
   "cell_type": "code",
   "execution_count": 5,
   "id": "32ba049f",
   "metadata": {},
   "outputs": [
    {
     "name": "stdout",
     "output_type": "stream",
     "text": [
      "\n",
      "🚀 ENTRENANDO MODELO RANDOM FOREST BASE...\n",
      "📈 RESULTADOS MODELO BASE:\n",
      "MSE: 0.1254\n",
      "MAE: 0.1568\n",
      "RMSE: 0.3542\n",
      "R²: 0.7945\n"
     ]
    }
   ],
   "source": [
    "## 🌲 MODELO RANDOM FOREST BASE\n",
    "\n",
    "print(\"\\n🚀 ENTRENANDO MODELO RANDOM FOREST BASE...\")\n",
    "\n",
    "model = RandomForestRegressor(\n",
    "    n_estimators=100,\n",
    "    max_depth=10,\n",
    "    min_samples_split=20,\n",
    "    min_samples_leaf=10,\n",
    "    random_state=42,\n",
    "    n_jobs=-1\n",
    ")\n",
    "\n",
    "model.fit(X_train, y_train)\n",
    "y_pred = model.predict(X_test)\n",
    "\n",
    "# Calcular métricas\n",
    "r2 = r2_score(y_test, y_pred)\n",
    "mae = mean_absolute_error(y_test, y_pred)\n",
    "mse = mean_squared_error(y_test, y_pred)\n",
    "rmse = np.sqrt(mse)\n",
    "\n",
    "print(\"📈 RESULTADOS MODELO BASE:\")\n",
    "print(f\"MSE: {mse:.4f}\")\n",
    "print(f\"MAE: {mae:.4f}\")\n",
    "print(f\"RMSE: {rmse:.4f}\")\n",
    "print(f\"R²: {r2:.4f}\")"
   ]
  },
  {
   "cell_type": "code",
   "execution_count": 6,
   "id": "e148429d",
   "metadata": {},
   "outputs": [
    {
     "name": "stdout",
     "output_type": "stream",
     "text": [
      "\n",
      "🎯 OPTIMIZANDO HIPERPARÁMETROS...\n",
      "Fitting 3 folds for each of 24 candidates, totalling 72 fits\n",
      "✅ GridSearchCV completado.\n"
     ]
    }
   ],
   "source": [
    "## 🔍 OPTIMIZACIÓN CON GRID SEARCH\n",
    "\n",
    "print(\"\\n🎯 OPTIMIZANDO HIPERPARÁMETROS...\")\n",
    "\n",
    "param_grid = {\n",
    "    'n_estimators': [50, 100],\n",
    "    'max_depth': [5, 10, None],\n",
    "    'min_samples_split': [10, 20],\n",
    "    'min_samples_leaf': [5, 10]\n",
    "}\n",
    "\n",
    "grid_search = GridSearchCV(\n",
    "    estimator=RandomForestRegressor(random_state=42, n_jobs=-1),\n",
    "    param_grid=param_grid,\n",
    "    cv=3,\n",
    "    scoring='r2',\n",
    "    n_jobs=-1,\n",
    "    verbose=2\n",
    ")\n",
    "\n",
    "grid_search.fit(X_train, y_train)\n",
    "\n",
    "# Evaluar el mejor modelo\n",
    "best_model = grid_search.best_estimator_\n",
    "y_pred_gs = best_model.predict(X_test)\n",
    "\n",
    "mse_gs = mean_squared_error(y_test, y_pred_gs)\n",
    "mae_gs = mean_absolute_error(y_test, y_pred_gs)\n",
    "rmse_gs = np.sqrt(mse_gs)\n",
    "r2_gs = r2_score(y_test, y_pred_gs)\n",
    "\n",
    "print(\"✅ GridSearchCV completado.\")"
   ]
  },
  {
   "cell_type": "code",
   "execution_count": 7,
   "id": "f6775da2",
   "metadata": {},
   "outputs": [
    {
     "name": "stdout",
     "output_type": "stream",
     "text": [
      "\n",
      "🎯 MEJORES HIPERPARÁMETROS ENCONTRADOS:\n",
      "  max_depth: 10\n",
      "  min_samples_leaf: 5\n",
      "  min_samples_split: 20\n",
      "  n_estimators: 100\n",
      "\n",
      "📊 Mejor score validación cruzada: 0.7925\n",
      "\n",
      "📈 RESULTADOS MEJOR MODELO EN TEST:\n",
      "MSE: 0.1253\n",
      "MAE: 0.1565\n",
      "RMSE: 0.3540\n",
      "R²: 0.7948\n"
     ]
    }
   ],
   "source": [
    "## 📊 RESULTADOS GRID SEARCH\n",
    "\n",
    "print(\"\\n🎯 MEJORES HIPERPARÁMETROS ENCONTRADOS:\")\n",
    "for param, value in grid_search.best_params_.items():\n",
    "    print(f\"  {param}: {value}\")\n",
    "\n",
    "print(f\"\\n📊 Mejor score validación cruzada: {grid_search.best_score_:.4f}\")\n",
    "\n",
    "print(\"\\n📈 RESULTADOS MEJOR MODELO EN TEST:\")\n",
    "print(f\"MSE: {mse_gs:.4f}\")\n",
    "print(f\"MAE: {mae_gs:.4f}\")\n",
    "print(f\"RMSE: {rmse_gs:.4f}\")\n",
    "print(f\"R²: {r2_gs:.4f}\")"
   ]
  },
  {
   "cell_type": "code",
   "execution_count": 8,
   "id": "9f3c87c6",
   "metadata": {},
   "outputs": [
    {
     "name": "stdout",
     "output_type": "stream",
     "text": [
      "\n",
      "🔍 COMPARACIÓN: MODELO BASE vs OPTIMIZADO\n",
      "=======================================================\n",
      "Métrica      Base         Optimizado   Mejora    \n",
      "-------------------------------------------------------\n",
      "R²           0.7945      0.7948       +0.0002\n",
      "MAE          0.1568      0.1565       -0.0003\n",
      "RMSE         0.3542      0.3540       -0.0002\n",
      "\n",
      "⚠️  GridSearch mejoró ligeramente el modelo (+0.0002 R²)\n"
     ]
    }
   ],
   "source": [
    "## 🔍 COMPARACIÓN DE MODELOS\n",
    "\n",
    "print(\"\\n🔍 COMPARACIÓN: MODELO BASE vs OPTIMIZADO\")\n",
    "print(\"=\" * 55)\n",
    "print(f\"{'Métrica':<12} {'Base':<12} {'Optimizado':<12} {'Mejora':<10}\")\n",
    "print(\"-\" * 55)\n",
    "print(f\"{'R²':<12} {r2:.4f}      {r2_gs:.4f}       {r2_gs - r2:+.4f}\")\n",
    "print(f\"{'MAE':<12} {mae:.4f}      {mae_gs:.4f}       {mae_gs - mae:+.4f}\")\n",
    "print(f\"{'RMSE':<12} {rmse:.4f}      {rmse_gs:.4f}       {rmse_gs - rmse:+.4f}\")\n",
    "\n",
    "# Análisis de mejora\n",
    "improvement = r2_gs - r2\n",
    "if improvement > 0.01:\n",
    "    print(f\"\\n✅ Excelente! GridSearch mejoró significativamente el modelo (+{improvement:.4f} R²)\")\n",
    "elif improvement > 0:\n",
    "    print(f\"\\n⚠️  GridSearch mejoró ligeramente el modelo (+{improvement:.4f} R²)\")\n",
    "else:\n",
    "    print(f\"\\n🔴 GridSearch no mejoró el modelo ({improvement:.4f} R²)\")"
   ]
  },
  {
   "cell_type": "code",
   "execution_count": 9,
   "id": "ae979a52",
   "metadata": {},
   "outputs": [
    {
     "name": "stdout",
     "output_type": "stream",
     "text": [
      "\n",
      "📊 ANÁLISIS DE CARACTERÍSTICAS IMPORTANTES\n",
      "\n",
      "🎯 TOP CARACTERÍSTICAS MÁS IMPORTANTES:\n",
      "   Característica  Importancia\n",
      "5         nbkills     0.780970\n",
      "4          isdead     0.190385\n",
      "3   roundduration     0.013808\n",
      "2  endroundreason     0.011541\n",
      "0        gamemode     0.001790\n",
      "1         winrole     0.001506\n"
     ]
    },
    {
     "data": {
      "text/html": [
       "<pre style=\"white-space:pre;overflow-x:auto;line-height:normal;font-family:Menlo,'DejaVu Sans Mono',consolas,'Courier New',monospace\"></pre>\n"
      ],
      "text/plain": []
     },
     "metadata": {},
     "output_type": "display_data"
    },
    {
     "data": {
      "image/png": "[encoded data removed]",
      "text/plain": [
       "\u001b[1m<\u001b[0m\u001b[1;95mFigure\u001b[0m\u001b[39m size 100\u001b[0m\u001b[1;36m0x600\u001b[0m\u001b[39m with \u001b[0m\u001b[1;36m1\u001b[0m\u001b[39m Axes\u001b[0m\u001b[1m>\u001b[0m"
      ]
     },
     "metadata": {},
     "output_type": "display_data"
    },
    {
     "name": "stdout",
     "output_type": "stream",
     "text": [
      "\n",
      "💡 La característica más importante es 'nbkills'\n",
      "   con 0.781 de importancia (78.1%)\n"
     ]
    }
   ],
   "source": [
    "## 📊 ANÁLISIS DE FEATURE IMPORTANCE\n",
    "\n",
    "print(\"\\n📊 ANÁLISIS DE CARACTERÍSTICAS IMPORTANTES\")\n",
    "\n",
    "# Obtener importancia de características\n",
    "importances = best_model.feature_importances_\n",
    "feature_names = X.columns\n",
    "\n",
    "# Crear DataFrame\n",
    "feature_importance_df = pd.DataFrame({\n",
    "    'Característica': feature_names,\n",
    "    'Importancia': importances\n",
    "}).sort_values('Importancia', ascending=False)\n",
    "\n",
    "print(\"\\n🎯 TOP CARACTERÍSTICAS MÁS IMPORTANTES:\")\n",
    "print(feature_importance_df)\n",
    "\n",
    "# Gráfico\n",
    "plt.figure(figsize=(10, 6))\n",
    "bars = plt.barh(\n",
    "    feature_importance_df['Característica'], \n",
    "    feature_importance_df['Importancia'],\n",
    "    color='skyblue'\n",
    ")\n",
    "plt.xlabel('Importancia')\n",
    "plt.title('Importancia de Características - Random Forest Optimizado')\n",
    "plt.gca().invert_yaxis()\n",
    "\n",
    "# Añadir valores\n",
    "for bar in bars:\n",
    "    width = bar.get_width()\n",
    "    plt.text(width + 0.001, bar.get_y() + bar.get_height()/2, \n",
    "             f'{width:.3f}', ha='left', va='center', fontsize=10)\n",
    "\n",
    "plt.tight_layout()\n",
    "plt.show()\n",
    "\n",
    "# Interpretación\n",
    "most_important = feature_importance_df.iloc[0]\n",
    "print(f\"\\n💡 La característica más importante es '{most_important['Característica']}'\")\n",
    "print(f\"   con {most_important['Importancia']:.3f} de importancia ({most_important['Importancia']*100:.1f}%)\")"
   ]
  },
  {
   "cell_type": "code",
   "execution_count": null,
   "id": "0a755560",
   "metadata": {},
   "outputs": [
    {
     "data": {
      "text/html": [
       "<pre style=\"white-space:pre;overflow-x:auto;line-height:normal;font-family:Menlo,'DejaVu Sans Mono',consolas,'Courier New',monospace\"></pre>\n"
      ],
      "text/plain": []
     },
     "metadata": {},
     "output_type": "display_data"
    },
    {
     "data": {
      "image/png": "[encoded data removed]",
      "text/plain": [
       "\u001b[1m<\u001b[0m\u001b[1;95mFigure\u001b[0m\u001b[39m size 100\u001b[0m\u001b[1;36m0x600\u001b[0m\u001b[39m with \u001b[0m\u001b[1;36m1\u001b[0m\u001b[39m Axes\u001b[0m\u001b[1m>\u001b[0m"
      ]
     },
     "metadata": {},
     "output_type": "display_data"
    },
    {
     "name": "stdout",
     "output_type": "stream",
     "text": [
      "\n",
      "📊 Precisión: 74.3% de predicciones están dentro de ±0.078\n",
      "   del valor real (10% de la desviación estándar)\n"
     ]
    }
   ],
   "source": [
    "## 📈 GRÁFICO DE PREDICCIONES VS REALES\n",
    "\n",
    "plt.figure(figsize=(10, 6))\n",
    "plt.scatter(y_test, y_pred_gs, alpha=0.6, s=50, color='blue', label='Predicciones')\n",
    "plt.plot([y_test.min(), y_test.max()], [y_test.min(), y_test.max()], \n",
    "         'r--', lw=2, label='Línea perfecta')\n",
    "plt.xlabel('Valores Reales de Impact Score')\n",
    "plt.ylabel('Predicciones del Modelo')\n",
    "plt.title('Random Forest Optimizado: Predicciones vs Valores Reales')\n",
    "plt.legend()\n",
    "plt.grid(True, alpha=0.3)\n",
    "plt.tight_layout()\n",
    "plt.show()\n",
    "\n",
    "# Análisis de precisión\n",
    "error_margin = 0.1 * y_test.std()\n",
    "within_margin = np.abs(y_test - y_pred_gs) <= error_margin\n",
    "accuracy_within_margin = within_margin.mean()\n",
    "\n",
    "print(f\"\\n📊 Precisión: {accuracy_within_margin:.1%} de predicciones están dentro de ±{error_margin:.3f}\")\n",
    "print(f\"   del valor real (10% de la desviación estándar)\")     \n"
   ]
  },
  {
   "cell_type": "code",
   "execution_count": 11,
   "id": "0001d3fd",
   "metadata": {},
   "outputs": [
    {
     "name": "stdout",
     "output_type": "stream",
     "text": [
      "\n",
      "============================================================\n",
      "🎉 RESUMEN FINAL - RANDOM FOREST\n",
      "============================================================\n",
      "✅ Mejor R² obtenido: 0.7948\n",
      "✅ Error RMSE: 0.3540\n",
      "✅ Mejora con GridSearch: +0.0002\n",
      "✅ Característica más importante: nbkills\n",
      "============================================================\n"
     ]
    }
   ],
   "source": [
    "## 🎯 RESUMEN FINAL\n",
    "\n",
    "print(\"\\n\" + \"=\"*60)\n",
    "print(\"🎉 RESUMEN FINAL - RANDOM FOREST\")\n",
    "print(\"=\"*60)\n",
    "print(f\"✅ Mejor R² obtenido: {r2_gs:.4f}\")\n",
    "print(f\"✅ Error RMSE: {rmse_gs:.4f}\")\n",
    "print(f\"✅ Mejora con GridSearch: {r2_gs - r2:+.4f}\")\n",
    "print(f\"✅ Característica más importante: {feature_importance_df.iloc[0]['Característica']}\")\n",
    "print(\"=\"*60)"
   ]
  }
 ],
 "metadata": {
  "kernelspec": {
   "display_name": "venv",
   "language": "python",
   "name": "python3"
  },
  "language_info": {
   "codemirror_mode": {
    "name": "ipython",
    "version": 3
   },
   "file_extension": ".py",
   "mimetype": "text/x-python",
   "name": "python",
   "nbconvert_exporter": "python",
   "pygments_lexer": "ipython3",
   "version": "3.12.4"
  }
 },
 "nbformat": 4,
 "nbformat_minor": 5
}
