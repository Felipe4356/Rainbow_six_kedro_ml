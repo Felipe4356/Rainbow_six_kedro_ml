{
 "cells": [
  {
   "cell_type": "markdown",
   "id": "682605e6",
   "metadata": {},
   "source": [
    "# 🌲 Modelo 4: Regresión con Random Forest\n",
    "\n",
    "Este notebook implementa un modelo de regresión usando **Random Forest Regressor** para predecir el `impact_score` de los jugadores en Rainbow Six Siege.\n",
    "\n",
    "## Características del modelo:\n",
    "- **Algoritmo**: Random Forest Regressor\n",
    "- **Variable objetivo**: impact_score\n",
    "- **Ventajas**: Reduce overfitting, maneja datos categóricos y numéricos, robusto a outliers\n",
    "- **Desventajas**: Menos interpretable que un árbol individual, mayor complejidad computacional"
   ]
  },
  {
   "cell_type": "code",
   "execution_count": null,
   "id": "ac8e56bb",
   "metadata": {},
   "outputs": [],
   "source": [
    "# Importar librerías necesarias\n",
    "import pandas as pd\n",
    "import numpy as np\n",
    "from sklearn.model_selection import train_test_split\n",
    "from sklearn.ensemble import RandomForestRegressor\n",
    "from sklearn.metrics import r2_score, mean_squared_error, mean_absolute_error\n",
    "import matplotlib.pyplot as plt\n",
    "import seaborn as sns\n",
    "\n",
    "# Configurar estilo de gráficos\n",
    "plt.style.use('seaborn-v0_8')\n",
    "sns.set_palette(\"husl\")"
   ]
  },
  {
   "cell_type": "code",
   "execution_count": null,
   "id": "8a53a8ee",
   "metadata": {},
   "outputs": [],
   "source": [
    "# Cargar extensión de Kedro\n",
    "%load_ext kedro.ipython"
   ]
  },
  {
   "cell_type": "code",
   "execution_count": null,
   "id": "053bfb9f",
   "metadata": {},
   "outputs": [],
   "source": [
    "# Cargar los datos\n",
    "data = catalog.load(\"data_final\")\n",
    "\n",
    "print(\"📊 Información del dataset:\")\n",
    "print(f\"Shape: {data.shape}\")\n",
    "print(f\"Columnas disponibles: {len(data.columns)}\")\n",
    "print(\"\\n🎯 Variable objetivo: impact_score\")\n",
    "print(f\"Estadísticas del target:\")\n",
    "print(data['impact_score'].describe())"
   ]
  },
  {
   "cell_type": "markdown",
   "id": "694a1d00",
   "metadata": {},
   "source": [
    "## 🔧 Preparación de los datos\n",
    "\n",
    "Para Random Forest, utilizaremos las mismas características que en el árbol de decisión individual, pero el ensemble de múltiples árboles debería proporcionar mejor generalización y reducir el overfitting."
   ]
  },
  {
   "cell_type": "code",
   "execution_count": null,
   "id": "eb86923c",
   "metadata": {},
   "outputs": [],
   "source": [
    "# Preparar X e y (mismas variables que el árbol de decisión)\n",
    "X = data[[ \n",
    "    'gamemode',        # tipo de partida\n",
    "    'winrole',         # atacante o defensor\n",
    "    'endroundreason',  # cómo terminó la ronda\n",
    "    'roundduration',   # cuánto duró\n",
    "    'isdead',          # si el jugador murió\n",
    "    'nbkills',]]       # número de eliminaciones\n",
    "\n",
    "y = data['impact_score']\n",
    "\n",
    "X_train, X_test, y_train, y_test = train_test_split(X, y, test_size=0.2, random_state=42)\n",
    "\n",
    "# Crear y entrenar el modelo Random Forest\n",
    "model = RandomForestRegressor(\n",
    "    n_estimators=100,      # número de árboles en el bosque\n",
    "    max_depth=10,          # profundidad máxima de cada árbol\n",
    "    min_samples_split=20,  # mínimo de muestras para dividir un nodo\n",
    "    min_samples_leaf=10,   # mínimo de muestras en una hoja\n",
    "    random_state=42,       # para reproducibilidad\n",
    "    n_jobs=-1             # usar todos los procesadores disponibles\n",
    ")\n",
    "\n",
    "model.fit(X_train, y_train)\n",
    "\n",
    "# Realizar predicciones\n",
    "y_pred = model.predict(X_test)\n",
    "\n",
    "# Calcular métricas\n",
    "r2 = r2_score(y_test, y_pred)\n",
    "mae = mean_absolute_error(y_test, y_pred)\n",
    "mse = mean_squared_error(y_test, y_pred)\n",
    "rmse = mse ** 0.5\n",
    "\n",
    "# Mostrar resultados en formato simple\n",
    "print(\"MSE: \", mse)\n",
    "print(\"MAE: \", mae)\n",
    "print(\"RMSE: \", rmse)\n",
    "print(\"R^2: \", r2)\n"
   ]
  },
  {
   "cell_type": "code",
   "execution_count": null,
   "id": "32ba049f",
   "metadata": {},
   "outputs": [],
   "source": [
    "from sklearn.model_selection import GridSearchCV\n",
    "\n",
    "# Definir el espacio de hiperparámetros\n",
    "param_grid = {\n",
    "    'n_estimators': [50, 100],\n",
    "    'max_depth': [5, 10, None],\n",
    "    'min_samples_split': [10, 20],\n",
    "    'min_samples_leaf': [5, 10]\n",
    "}\n",
    "\n",
    "# Configurar el GridSearchCV\n",
    "grid_search = GridSearchCV(\n",
    "    estimator=RandomForestRegressor(random_state=42, n_jobs=-1),\n",
    "    param_grid=param_grid,\n",
    "    cv=3,\n",
    "    scoring='r2',\n",
    "    n_jobs=-1,\n",
    "    verbose=2\n",
    ")\n",
    "\n",
    "# Ejecutar la búsqueda en los datos de entrenamiento\n",
    "grid_search.fit(X_train, y_train)\n",
    "\n",
    "\n",
    "\n",
    "# Evaluar el mejor modelo encontrado por GridSearchCV en el conjunto de test\n",
    "best_model = grid_search.best_estimator_\n",
    "y_pred_gs = best_model.predict(X_test)\n",
    "\n",
    "\n",
    "mse_gs = mean_squared_error(y_test, y_pred_gs)\n",
    "mae_gs = mean_absolute_error(y_test, y_pred_gs)\n",
    "rmse_gs = mse_gs ** 0.5\n",
    "r2_gs = r2_score(y_test, y_pred_gs)\n",
    "\n",
    "# Mostrar que terminó el GridSearch y los resultados\n",
    "print(\"GridSearchCV completado.\")\n"
   ]
  },
  {
   "cell_type": "code",
   "execution_count": null,
   "id": "e148429d",
   "metadata": {},
   "outputs": [],
   "source": [
    "print(\"Mejores hiperparámetros encontrados:\")\n",
    "print(grid_search.best_params_)\n",
    "\n",
    "print(\"Resultados del mejor modelo tras GridSearchCV:\")\n",
    "print(\"MSE (test): \", mse_gs)\n",
    "print(\"MAE (test): \", mae_gs)\n",
    "print(\"RMSE (test): \", rmse_gs)\n",
    "print(\"R^2 (test): \", r2_gs)"
   ]
  }
 ],
 "metadata": {
  "kernelspec": {
   "display_name": "venv",
   "language": "python",
   "name": "python3"
  },
  "language_info": {
   "codemirror_mode": {
    "name": "ipython",
    "version": 3
   },
   "file_extension": ".py",
   "mimetype": "text/x-python",
   "name": "python",
   "nbconvert_exporter": "python",
   "pygments_lexer": "ipython3",
   "version": "3.12.10"
  }
 },
 "nbformat": 4,
 "nbformat_minor": 5
}
