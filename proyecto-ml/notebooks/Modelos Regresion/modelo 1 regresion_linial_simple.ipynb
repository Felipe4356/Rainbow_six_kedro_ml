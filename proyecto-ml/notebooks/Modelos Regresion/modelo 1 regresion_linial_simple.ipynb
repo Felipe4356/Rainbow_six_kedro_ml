{
 "cells": [
  {
   "cell_type": "code",
   "execution_count": 28,
   "id": "5240f542",
   "metadata": {},
   "outputs": [],
   "source": [
    "import pandas as pd\n",
    "from sklearn.model_selection import train_test_split\n",
    "from sklearn.linear_model import LinearRegression\n",
    "from sklearn.metrics import r2_score, mean_squared_error, mean_absolute_error"
   ]
  },
  {
   "cell_type": "code",
   "execution_count": 29,
   "id": "f00db9ed",
   "metadata": {},
   "outputs": [
    {
     "name": "stdout",
     "output_type": "stream",
     "text": [
      "The kedro.ipython extension is already loaded. To reload it, use:\n",
      "  %reload_ext kedro.ipython\n"
     ]
    }
   ],
   "source": [
    "%load_ext kedro.ipython\n",
    "\n",
    "\n"
   ]
  },
  {
   "cell_type": "code",
   "execution_count": 30,
   "id": "ccba9d73",
   "metadata": {},
   "outputs": [
    {
     "data": {
      "text/html": [
       "<pre style=\"white-space:pre;overflow-x:auto;line-height:normal;font-family:Menlo,'DejaVu Sans Mono',consolas,'Courier New',monospace\"><span style=\"color: #7fbfbf; text-decoration-color: #7fbfbf\">[10/13/25 21:14:21] </span><span style=\"color: #000080; text-decoration-color: #000080\">INFO    </span> Loading data from <span style=\"color: #ff8700; text-decoration-color: #ff8700\">data_final</span> <span style=\"font-weight: bold\">(</span>CSVDataset<span style=\"font-weight: bold\">)</span><span style=\"color: #808000; text-decoration-color: #808000\">...</span>                      <a href=\"file://c:\\Users\\droid\\Desktop\\Rainbow_six_kedro\\venv\\Lib\\site-packages\\kedro\\io\\data_catalog.py\" target=\"_blank\"><span style=\"color: #7f7f7f; text-decoration-color: #7f7f7f\">data_catalog.py</span></a><span style=\"color: #7f7f7f; text-decoration-color: #7f7f7f\">:</span><a href=\"file://c:\\Users\\droid\\Desktop\\Rainbow_six_kedro\\venv\\Lib\\site-packages\\kedro\\io\\data_catalog.py#1046\" target=\"_blank\"><span style=\"color: #7f7f7f; text-decoration-color: #7f7f7f\">1046</span></a>\n",
       "</pre>\n"
      ],
      "text/plain": [
       "\u001b[2;36m[10/13/25 21:14:21]\u001b[0m\u001b[2;36m \u001b[0m\u001b[34mINFO    \u001b[0m Loading data from \u001b[38;5;208mdata_final\u001b[0m \u001b[1m(\u001b[0mCSVDataset\u001b[1m)\u001b[0m\u001b[33m...\u001b[0m                      \u001b]8;id=26006;file://c:\\Users\\droid\\Desktop\\Rainbow_six_kedro\\venv\\Lib\\site-packages\\kedro\\io\\data_catalog.py\u001b\\\u001b[2mdata_catalog.py\u001b[0m\u001b]8;;\u001b\\\u001b[2m:\u001b[0m\u001b]8;id=170522;file://c:\\Users\\droid\\Desktop\\Rainbow_six_kedro\\venv\\Lib\\site-packages\\kedro\\io\\data_catalog.py#1046\u001b\\\u001b[2m1046\u001b[0m\u001b]8;;\u001b\\\n"
      ]
     },
     "metadata": {},
     "output_type": "display_data"
    }
   ],
   "source": [
    "data = catalog.load(\"data_final\")"
   ]
  },
  {
   "cell_type": "code",
   "execution_count": 31,
   "id": "dbe27a43",
   "metadata": {},
   "outputs": [
    {
     "name": "stdout",
     "output_type": "stream",
     "text": [
      "<class 'pandas.core.frame.DataFrame'>\n",
      "RangeIndex: 200873 entries, 0 to 200872\n",
      "Data columns (total 33 columns):\n",
      " #   Column                Non-Null Count   Dtype  \n",
      "---  ------                --------------   -----  \n",
      " 0   dateid                200873 non-null  int64  \n",
      " 1   platform              200873 non-null  int64  \n",
      " 2   gamemode              200873 non-null  int64  \n",
      " 3   mapname               200873 non-null  int64  \n",
      " 4   matchid               200873 non-null  int64  \n",
      " 5   roundnumber           200873 non-null  int64  \n",
      " 6   objectivelocation     200873 non-null  int64  \n",
      " 7   winrole               200873 non-null  int64  \n",
      " 8   endroundreason        200873 non-null  int64  \n",
      " 9   roundduration         200873 non-null  int64  \n",
      " 10  clearancelevel        200873 non-null  int64  \n",
      " 11  skillrank             200873 non-null  int64  \n",
      " 12  role                  200873 non-null  int64  \n",
      " 13  team                  200873 non-null  int64  \n",
      " 14  haswon                200873 non-null  int64  \n",
      " 15  operator              200873 non-null  int64  \n",
      " 16  nbkills               200873 non-null  int64  \n",
      " 17  isdead                200873 non-null  int64  \n",
      " 18  primaryweapon         200873 non-null  int64  \n",
      " 19  primaryweapontype     200873 non-null  int64  \n",
      " 20  primarysight          200873 non-null  int64  \n",
      " 21  primarygrip           200873 non-null  int64  \n",
      " 22  primaryunderbarrel    200873 non-null  int64  \n",
      " 23  primarybarrel         200873 non-null  int64  \n",
      " 24  secondaryweapon       200873 non-null  int64  \n",
      " 25  secondaryweapontype   200873 non-null  int64  \n",
      " 26  secondarysight        200873 non-null  int64  \n",
      " 27  secondarygrip         200873 non-null  int64  \n",
      " 28  secondaryunderbarrel  200873 non-null  int64  \n",
      " 29  secondarybarrel       200873 non-null  int64  \n",
      " 30  secondarygadget       200873 non-null  int64  \n",
      " 31  kill_death_ratio      200873 non-null  float64\n",
      " 32  impact_score          200873 non-null  int64  \n",
      "dtypes: float64(1), int64(32)\n",
      "memory usage: 50.6 MB\n"
     ]
    }
   ],
   "source": [
    "data.info()  # Ver información del DataFrame"
   ]
  },
  {
   "cell_type": "code",
   "execution_count": 35,
   "id": "f7a15351",
   "metadata": {},
   "outputs": [
    {
     "data": {
      "text/html": [
       "<pre style=\"white-space:pre;overflow-x:auto;line-height:normal;font-family:Menlo,'DejaVu Sans Mono',consolas,'Courier New',monospace\"></pre>\n"
      ],
      "text/plain": []
     },
     "metadata": {},
     "output_type": "display_data"
    },
    {
     "data": {
      "image/png": "[encoded data removed]",
      "text/plain": [
       "\u001b[1m<\u001b[0m\u001b[1;95mFigure\u001b[0m\u001b[39m size 120\u001b[0m\u001b[1;36m0x600\u001b[0m\u001b[39m with \u001b[0m\u001b[1;36m1\u001b[0m\u001b[39m Axes\u001b[0m\u001b[1m>\u001b[0m"
      ]
     },
     "metadata": {},
     "output_type": "display_data"
    }
   ],
   "source": [
    "import matplotlib.pyplot as plt\n",
    "\n",
    "# Histograma de impact_score\n",
    "plt.figure(figsize=(12, 6))\n",
    "plt.hist(data['impact_score'], bins=30, alpha=0.7, label='impact_score', color='blue')\n",
    "plt.xlabel('Impact Score')\n",
    "plt.ylabel('Frequency')\n",
    "plt.title('Histograma de Impact Score')\n",
    "plt.legend()\n",
    "plt.show()\n",
    "\n"
   ]
  },
  {
   "cell_type": "code",
   "execution_count": 34,
   "id": "22487acd",
   "metadata": {},
   "outputs": [
    {
     "name": "stdout",
     "output_type": "stream",
     "text": [
      "Valor máximo de la variable predictoria (impact_score): 6\n"
     ]
    }
   ],
   "source": [
    "print(\"Valor máximo de la variable predictoria (impact_score):\", data['impact_score'].max())"
   ]
  },
  {
   "cell_type": "code",
   "execution_count": null,
   "id": "166ce7ce",
   "metadata": {},
   "outputs": [
    {
     "name": "stdout",
     "output_type": "stream",
     "text": [
      "📊 Regresión Lineal Simple: impact_score ~ nbkills\n",
      "==================================================\n",
      "Mean Squared Error (MSE): 0.2238\n",
      "Mean Absolute Error (MAE): 0.2812\n",
      "Root Mean Squared Error (RMSE): 0.4731\n",
      "R² Score: 0.6334\n",
      "==================================================\n",
      "Ecuación: impact_score = 0.7305 * nbkills + -0.0469\n",
      "⚠️ Modelo con ajuste moderado (R² > 0.5)\n"
     ]
    }
   ],
   "source": [
    "\n",
    "\n",
    "X = data[['nbkills']]  # Dobles corchetes para obtener DataFrame (2D)\n",
    "y = data['impact_score']\n",
    "\n",
    "X_train, X_test, y_train, y_test = train_test_split(X, y, test_size=0.2, random_state=42)\n",
    "\n",
    "# Crear y entrenar el modelo\n",
    "model = LinearRegression()\n",
    "model.fit(X_train, y_train)\n",
    "\n",
    "# 🔹 Evaluación del modelo\n",
    "y_pred = model.predict(X_test)\n",
    "\n",
    "r2 = r2_score(y_test, y_pred)\n",
    "mse = mean_squared_error(y_test, y_pred)\n",
    "rmse = mse ** 0.5  # Calcular RMSE manualmente\n",
    "\n",
    "mae = mean_absolute_error(y_test, y_pred)\n",
    "\n",
    "print(f\"📊 Regresión Lineal Simple: impact_score ~ nbkills\")\n",
    "print(f\"=\" * 50)\n",
    "print(f\"Mean Squared Error (MSE): {mse:.4f}\")\n",
    "print(f\"Mean Absolute Error (MAE): {mae:.4f}\")\n",
    "print(f\"Root Mean Squared Error (RMSE): {rmse:.4f}\")\n",
    "print(f\"R² Score: {r2:.4f}\")\n",
    "print(f\"=\" * 50)\n",
    "\n",
    "# Mostrar la ecuación de la regresión\n",
    "coef = model.coef_[0]\n",
    "intercept = model.intercept_\n",
    "print(f\"Ecuación: impact_score = {coef:.4f} * nbkills + {intercept:.4f}\")\n",
    "\n",
    "# Interpretación del R²\n",
    "if r2 > 0.7:\n",
    "    print(\"✅ Modelo con buen ajuste (R² > 0.7)\")\n",
    "elif r2 > 0.5:\n",
    "    print(\"⚠️ Modelo con ajuste moderado (R² > 0.5)\")\n",
    "else:\n",
    "    print(\"❌ Modelo con ajuste pobre (R² < 0.5)\")"
   ]
  },
  {
   "cell_type": "code",
   "execution_count": null,
   "id": "f04e34e4",
   "metadata": {},
   "outputs": [],
   "source": [
    "from sklearn.model_selection import GridSearchCV\n",
    "\n",
    "# Definir el modelo base\n",
    "lr = LinearRegression()\n",
    "\n",
    "# Definir el espacio de hiperparámetros (para regresión lineal, solo 'fit_intercept' y 'normalize' suelen ser relevantes)\n",
    "param_grid = {\n",
    "    'fit_intercept': [True, False]\n",
    "}\n",
    "\n",
    "# Configurar GridSearchCV\n",
    "grid_search = GridSearchCV(estimator=lr, param_grid=param_grid, cv=5, scoring='neg_mean_squared_error')\n",
    "\n",
    "# Ajustar el GridSearchCV\n",
    "grid_search.fit(X_train, y_train)\n",
    "\n",
    "print(\"Mejores hiperparámetros encontrados:\", grid_search.best_params_)\n",
    "print(\"Mejor puntuación (neg MSE):\", grid_search.best_score_)"
   ]
  },
  {
   "cell_type": "markdown",
   "id": "511ff437",
   "metadata": {},
   "source": [
    "#### resultado: \n",
    "\n",
    "- Mean Squared Error (MSE): 0.2238\n",
    "- Mean Absolute Error (MAE): 0.2812\n",
    "- Root Mean Squared Error (RMSE): 0.4731\n",
    "- R² Score: 0.6334\n",
    "\n",
    "\n",
    "#### observacion:\n",
    "\n"
   ]
  }
 ],
 "metadata": {
  "kernelspec": {
   "display_name": "venv",
   "language": "python",
   "name": "python3"
  },
  "language_info": {
   "codemirror_mode": {
    "name": "ipython",
    "version": 3
   },
   "file_extension": ".py",
   "mimetype": "text/x-python",
   "name": "python",
   "nbconvert_exporter": "python",
   "pygments_lexer": "ipython3",
   "version": "3.12.10"
  }
 },
 "nbformat": 4,
 "nbformat_minor": 5
}
