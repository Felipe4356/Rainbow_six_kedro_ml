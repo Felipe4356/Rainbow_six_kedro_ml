{
 "cells": [
  {
   "cell_type": "markdown",
   "id": "1fda4a53",
   "metadata": {},
   "source": [
    "### _Contexto del Negocio_\n",
    "\n",
    "- El videojuego Rainbow Six Siege es un titulo competivo de disparos tactico desarollado por la empresa de videojuego de Ubisoft, donde el exito en cada partida depende de multiples factores: estrategia de equipo, eleccion de operadores, conocimiento del mapa,tiempo reacion y cordinacion de roles.\n",
    "\n",
    "- En el habito competitivo, los jugadores se enfrentan en partidas estructuradas con el objetivo de acceder en la clasificacion, Dado el nivel de complejidad y la variedad de variables que influyen en los resultados, comprender que factores se asocian a la victoria resulta un reto tanto para jugadores individuales como para equipos de alto rendimiento.\n",
    "\n",
    "- El dataset selecionado Rainbow Six Siege S5 Ranked Dataset (Kaggle) recopila informacion detallada sobre partidas de la temporadas 5 Este conjunto de datos ofrece la posibilidad de analizar y modelar los determinantes de la victoria a traves de tecnicas de machine learning\n",
    "\n"
   ]
  },
  {
   "cell_type": "markdown",
   "id": "ade3fde1",
   "metadata": {},
   "source": [
    "### Objetivo del proyecto\n",
    "\n",
    "- desarrollar un sistema de analisis y modelado de datos que permita identificar y predicir los factores mas influyente en el resultado de una partidas de Rainbow Sig Siege con el fin de generar insights estratégicos aplicables tanto en el ambito competivo como en la  optimizacion del rendimiento de jugadores.\n",
    "\n",
    "Objetivo especifico:\n",
    "\n",
    "- Identificar factores que correlacion con victorias de un equipo \n",
    "\n",
    "\n",
    "- Explorar el impacto de los mapas y condiciones de juegos sobre la probabilidad de victorias.\n",
    "\n",
    "\n",
    "- Diseñar un pipeline con kedro que permita procesar los datos generar variables relevantes y dejar preparado el dataset para el modelado \n",
    "\n",
    "\n",
    "- Establecer las bases para entrenar modelos de clasificacion y regresion\n",
    "\n",
    "\n",
    "\n",
    "### Evaluar la situacion actual\n",
    "\n",
    "Problema:\n",
    "\n",
    "- Los jugadores y equipos de R6S suelen basar sus decisiones estrategicos en intuicion o experiencia previa sin contar con evidencia cuantitativa clara que resplalde dichas decisiones, estos limita la optimizacion del rendimiento y reduce la capacidad de anticipar escenarios de juegos.\n",
    "\n",
    "Oportunidad:\n",
    "\n",
    " El analisis de los datos recopilados en partidas clasificatorias abre la posibilidad de convertir informacion cruda en conocimiento estrategico atraves de tecnicas de machine learning y analisis exploratorio se pueden identicar:\n",
    "\n",
    "- identificar patrones de uso de armas y operadores,vinculados con tasas de victorias en distintos mapas\n",
    "\n",
    "- Reconocer combinaciones de operadores mas efectivos \n",
    "\n",
    "- Cuantificar la influencia del contexto de juego (mapa, roles, duración de la partida) sobre los resultados finales.\n",
    "\n",
    "\n",
    "\n",
    "\n"
   ]
  },
  {
   "cell_type": "markdown",
   "id": "a3cf3bd5",
   "metadata": {},
   "source": [
    "### Objetivos de Machine Learning\n",
    "\n",
    "- Analizar y comprender los datos del dataset: realizar una exploración inicial (EDA) para identificar patrones, distribuciones, correlaciones y posibles problemas de calidad en la información de partidas de Rainbow Six Siege.\n",
    "\n",
    "- Realizar limpieza y preparación de datos: aplicar técnicas de tratamiento de valores faltantes, detección de outliers y normalización de variables, asegurando que el dataset final sea adecuado para el entrenamiento de modelos de Machine Learning.\n",
    "\n",
    "- Entrenar modelos de predicción dentro de Kedro: implementar pipelines reproducibles para entrenar modelos de clasificación o de regresion\n"
   ]
  },
  {
   "cell_type": "markdown",
   "id": "926f092e",
   "metadata": {},
   "source": [
    "### Plan del Proyecto (Metodología CRISP-DM)\n",
    "\n",
    "Fase 1: Comprensión del Negocio\n",
    "- Definir objetivos del proyecto\n",
    "- Evaluar la situación actual\n",
    "- Determinar objetivos de Machine Learning\n",
    "- Producir plan del proyecto\n",
    "\n",
    "\n",
    "Fase 2: Comprensión de los Datos\n",
    "- Recolectar datos iniciales (mínimo 3 datasets)\n",
    "- Describir los datos\n",
    "- Explorar los datos (EDA)\n",
    "- Verificar calidad de los datos\n",
    "\n",
    "\n",
    "Fase 3: Preparación de los Datos\n",
    "- Seleccionar los datos relevantes\n",
    "- Limpiar los datos (missing values, outliers)\n",
    "- Construir nuevas variables (feature engineering)\n",
    "- Integrar datos de múltiples fuentes\n",
    "- Formatear y transformar datos\n",
    "\n",
    "Fase 4 modelado de los datos\n",
    "\n",
    "- crear modelos de regresion y clasificacion con sus predicciones\n",
    "\n",
    "Fase 5 desarrollo de interfaz para las prediciones con disploy\n"
   ]
  },
  {
   "cell_type": "markdown",
   "id": "7f6a15c7",
   "metadata": {},
   "source": [
    "Pregunta de regresion:\n",
    "\n",
    "- ¿que factores influyen en la duracion de una ronda y como predecirla en funcion de operadores,mapas,armas y condiciones de juego?\n",
    "   \n",
    "\n",
    "varible objetiva: roundduration\n",
    "\n",
    "  \n",
    "Pregunta de clasificacion:\n",
    "\n",
    " - ¿que arma es la mas frecuentemente utilizada en los diferentes  mapas y operadores?\n",
    "\n",
    "variable objetiva: weapon \n",
    "\n",
    "\n"
   ]
  }
 ],
 "metadata": {
  "language_info": {
   "name": "python"
  }
 },
 "nbformat": 4,
 "nbformat_minor": 5
}
